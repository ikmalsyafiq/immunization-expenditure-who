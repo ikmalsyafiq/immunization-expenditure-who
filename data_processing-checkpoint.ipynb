{
 "cells": [
  {
   "cell_type": "code",
   "execution_count": 1,
   "metadata": {},
   "outputs": [],
   "source": [
    "import pandas as pd\n",
    "import glob\n",
    "import bamboolib\n",
    "import plotly.express as px\n",
    "import plotly.graph_objs as go"
   ]
  },
  {
   "cell_type": "markdown",
   "metadata": {},
   "source": [
    "## Read files"
   ]
  },
  {
   "cell_type": "code",
   "execution_count": 2,
   "metadata": {},
   "outputs": [],
   "source": [
    "def read_file_who(folder_path,type_name,page,skip_row):\n",
    "    # get a list of all xlsx files in the folder\n",
    "    df_all = []\n",
    "    for (path,name) in zip(folder_path,type_name):\n",
    "        file_list = glob.glob(path + '/*.xlsx')\n",
    "        df_list = []\n",
    "        # loop through each file and read the specified sheet\n",
    "        for file_name in file_list:\n",
    "            excel_file = pd.ExcelFile(file_name)\n",
    "            if page == None:\n",
    "                sheet_names = excel_file.sheet_names\n",
    "            else:\n",
    "                sheet_names = page\n",
    "            # read the file and the specified sheet\n",
    "            for sheet in sheet_names:\n",
    "                if skip_row == None:\n",
    "                    df = pd.read_excel(file_name, sheet_name=sheet)\n",
    "                else:\n",
    "                    df = pd.read_excel(file_name, sheet_name=sheet,skiprows=skip_row,header = 0)\n",
    "                df['Option'] = sheet\n",
    "                df_list.append(df)\n",
    "                output_df = pd.concat(df_list)\n",
    "        output_df['Type'] = name\n",
    "        df_all.append(output_df)\n",
    "    \n",
    "    all_data_df = pd.concat(df_all)\n",
    "    return all_data_df \n",
    "\n",
    "\n"
   ]
  },
  {
   "cell_type": "code",
   "execution_count": 3,
   "metadata": {},
   "outputs": [],
   "source": [
    "folder_path = ['raw/government_expenditure_on_routine_immunization',\n",
    "    'raw/government_expenditure_on_vaccine_used_in_routine_immunization',\n",
    "    'raw/total_expenditure_on_routine_immunization',\n",
    "    'raw/total_expenditure_on_vaccine_used_in_routine_immunization']\n",
    "type_name = ['gov_immunization','gov_vaccine','total_immunization','total_vaccine']\n",
    "\n",
    "expenditure_df = read_file_who(folder_path,type_name,None,None)\n",
    "\n",
    "coverage_df = read_file_who(['raw\\coverage'],['coverage'],['Data'],None)\n",
    "\n",
    "population_df = read_file_who(['raw\\population'],['population'],['Estimates'],16)\n",
    "\n",
    "gdp_df = read_file_who(['raw\\GDP'],['current GDP'],['Data'],3)\n",
    "\n",
    "land_df = read_file_who(['raw\\land'],['land'],['SYB65_145_202209_Land'],1)\n"
   ]
  },
  {
   "cell_type": "markdown",
   "metadata": {},
   "source": [
    "## Data Preparation"
   ]
  },
  {
   "cell_type": "code",
   "execution_count": 4,
   "metadata": {},
   "outputs": [],
   "source": [
    "#Standardize the country name\n",
    "def replace_country_names(df, replacements):\n",
    "    for original, replacement in replacements.items():\n",
    "        df.loc[df['Country'] == original, 'Country'] = replacement\n",
    "    return df\n",
    "\n",
    "replacements = {\n",
    "    'Bolivia (Plurinational State of)': 'Bolivia',\n",
    "    'Congo (The)': 'Congo',\n",
    "    #'Democratic Republic of the Congo': 'Congo',\n",
    "    'Czechia': 'Czech Republic',\n",
    "    'Iran (Islamic Republic of)': 'Iran',\n",
    "    'Lao People\\'s Democratic Republic': 'Laos',\n",
    "    'Lao People\\'s Democratic Republic (the)': 'Laos',\n",
    "    'North Macedonia': 'North Macedonia',\n",
    "    'Republic of Macedonia': 'North Macedonia',\n",
    "    'The former Yugoslav Republic of Macedonia': 'North Macedonia',\n",
    "    'Netherlands': 'The Netherlands',\n",
    "    'Saint Vincent and the Grenadines': 'Saint Vincent and the Grenadines',\n",
    "    'Saint Vincent and The Grenadines': 'Saint Vincent and the Grenadines',\n",
    "    'Sudan': 'Sudan',\n",
    "    'South Sudan': 'South Sudan',\n",
    "    'Syrian Arab Republic': 'Syria',\n",
    "    'Syria': 'Syria',\n",
    "    'Tanzania': 'Tanzania',\n",
    "    'United Republic of Tanzania': 'Tanzania',\n",
    "    'Turks and Caicos Islands': 'Turks and Caicos Islands',\n",
    "    'Turks and Caicos Islands, The': 'Turks and Caicos Islands',\n",
    "    'United Kingdom': 'United Kingdom',\n",
    "    'England': 'United Kingdom',\n",
    "    'Wales': 'United Kingdom',\n",
    "    'Scotland': 'United Kingdom',\n",
    "    'Northern Ireland': 'United Kingdom',\n",
    "    'Venezuela (Bolivarian Republic of)': 'Venezuela',\n",
    "    'Viet Nam': 'Vietnam',\n",
    "    'Bolivia (Plurin. State of)':'Bolivia',\n",
    "    'Côte d’Ivoire':\"Côte d'Ivoire\",\n",
    "    'Dem. Rep. of the Congo':'Democratic Republic of the Congo',\n",
    "    \"Lao People's Dem. Rep.\":'Laos',\n",
    "    \"Dem. People's Rep. Korea\":'Democratic Peoples Republic of Korea',\n",
    "    'State of Palestine' : 'West Bank and Gaza',\n",
    "    'Russian Federation' :\"Russia\",\n",
    "    'Türkiye':'Turkey',\n",
    "    'United Rep. of Tanzania':'Tanzania',\n",
    "    'Saint Vincent & Grenadines':'Saint Vincent and the Grenadines',\n",
    "    'Venezuela (Boliv. Rep. of)' : 'Venezuela'\n",
    "}\n",
    "\n"
   ]
  },
  {
   "cell_type": "code",
   "execution_count": 5,
   "metadata": {},
   "outputs": [],
   "source": [
    "def get_missing_value_percentage(expenditure_detail_df,columns_to_group=['Country'], columns_to_filter=['total_immunization in USD', 'total_vaccine in USD'], threshold=0.3,more_than = True):\n",
    "    # group the data by both 'Year' and 'Country'\n",
    "    grouped = expenditure_detail_df.groupby(columns_to_group)\n",
    "    \n",
    "    # calculate the percentage of missing values for each column within each group\n",
    "    nan_percentages = grouped.apply(lambda x: x.isna().mean())\n",
    "    \n",
    "    # filter the results to only show the specified columns\n",
    "    filtered = nan_percentages[columns_to_filter]\n",
    "    \n",
    "    # filter the results to only show percentages above the threshold value\n",
    "    if more_than == True:\n",
    "        filtered = filtered[filtered > threshold].dropna()\n",
    "    else:\n",
    "        filtered = filtered[filtered < threshold].dropna()\n",
    "    return filtered"
   ]
  },
  {
   "cell_type": "markdown",
   "metadata": {},
   "source": [
    "### Land"
   ]
  },
  {
   "cell_type": "code",
   "execution_count": 6,
   "metadata": {},
   "outputs": [],
   "source": [
    "land_df = land_df[land_df['Series'] == 'Land area (thousand hectares)']\n",
    "# Get the latest year\n",
    "latest_year = land_df['Year'].max()\n",
    "\n",
    "# Create a new dataframe with the latest values for each country/region\n",
    "country_area_df = land_df.loc[land_df['Year'] == latest_year, [\"Unnamed: 1\", 'Value']].copy()\n",
    "\n",
    "# Rename the 'Region/Country/Area' column to 'Country'\n",
    "country_area_df = country_area_df.rename(columns={\"Unnamed: 1\": 'Country','Value':'land_area'})\n",
    "country_area_df = replace_country_names(country_area_df, replacements)"
   ]
  },
  {
   "cell_type": "markdown",
   "metadata": {},
   "source": [
    "### Goverment expenditure on immunization"
   ]
  },
  {
   "cell_type": "code",
   "execution_count": 7,
   "metadata": {},
   "outputs": [],
   "source": [
    "#expenditure_df = read_file_who(folder_path,type_name,None,None)\n",
    "expenditure_df.columns = expenditure_df.columns.astype(str)\n",
    "value_vars = expenditure_df.columns.drop(['ISO', 'Country', 'Region', 'Gavi / Income status', 'Option', 'Type'])\n",
    "expenditure_melt_df = pd.melt(expenditure_df, id_vars=['ISO', 'Country', 'Region', 'Gavi / Income status', 'Option', 'Type'], \n",
    "                 value_vars=value_vars, \n",
    "                 var_name='Year', value_name='value')\n",
    "\n",
    "expenditure_melt_df['Year'] = pd.to_datetime(expenditure_melt_df['Year'], format='%Y').dt.year\n",
    "expenditure_df = expenditure_melt_df\n"
   ]
  },
  {
   "cell_type": "code",
   "execution_count": 8,
   "metadata": {},
   "outputs": [],
   "source": [
    "gov_type = ['gov_immunization', 'gov_vaccine']\n",
    "gov_list = ['in USD', 'in USD per capita', 'in USD per surviving infant', '% government expenditure']\n",
    "start = 0\n",
    "for j in gov_type:\n",
    "    for i in gov_list:\n",
    "        if start == 0:\n",
    "            expenditure_detail_df = expenditure_df[(expenditure_df['Type'] == j) & (expenditure_df['Option'] == i)][['ISO', 'Country', 'Region', 'Gavi / Income status', 'Year', 'value']]\n",
    "            expenditure_detail_df = expenditure_detail_df.rename(columns={'value': j + ' ' + i})\n",
    "        else:\n",
    "            df_2 = expenditure_df[(expenditure_df['Type'] == j) & (expenditure_df['Option'] == i)][['ISO', 'Country', 'Region', 'Gavi / Income status', 'Year', 'value']]\n",
    "            df_2 = df_2.rename(columns={'value': j + ' ' + i})\n",
    "            expenditure_detail_df = pd.merge(expenditure_detail_df, df_2, on=['ISO', 'Country', 'Region', 'Gavi / Income status', 'Year'], how='outer', suffixes=('', ''))\n",
    "        start += 1 \n",
    "\n",
    "total_type = ['total_immunization', 'total_vaccine']\n",
    "total_list = ['in USD', 'in USD per capita', 'in USD per surviving infant']\n",
    "for j in total_type:\n",
    "    for i in total_list:\n",
    "        df_2 = expenditure_df[(expenditure_df['Type'] == j) & (expenditure_df['Option'] == i)][['ISO', 'Country', 'Region', 'Gavi / Income status', 'Year', 'value']]\n",
    "        df_2 = df_2.rename(columns={'value': j + ' ' + i})\n",
    "        expenditure_detail_df = pd.merge(expenditure_detail_df, df_2, on=['ISO', 'Country', 'Region', 'Gavi / Income status', 'Year'], how='outer', suffixes=('', ''))"
   ]
  },
  {
   "cell_type": "code",
   "execution_count": 9,
   "metadata": {},
   "outputs": [],
   "source": [
    "expenditure_detail_df = replace_country_names(expenditure_detail_df, replacements)\n",
    "expenditure_detail_df['Year']= pd.to_datetime(expenditure_detail_df['Year'], format='%Y')"
   ]
  },
  {
   "cell_type": "code",
   "execution_count": 10,
   "metadata": {},
   "outputs": [],
   "source": [
    "#expenditure_detail_filt_df = expenditure_detail_df[['Country','Year','Region','Gavi / Income status','total_immunization in USD per surviving infant','total_vaccine in USD per surviving infant']]\n",
    "expenditure_detail_filt_df = expenditure_detail_df[['Country','Year','Region','Gavi / Income status','total_immunization in USD','total_vaccine in USD','total_immunization in USD per surviving infant','total_vaccine in USD per surviving infant']]"
   ]
  },
  {
   "cell_type": "code",
   "execution_count": 11,
   "metadata": {},
   "outputs": [],
   "source": [
    "#expenditure_detail_filt_df = expenditure_detail_filt_df.rename(columns = {'total_immunization in USD per surviving infant':'total_immunization in USD', 'total_vaccine in USD per surviving infant':'total_vaccine in USD'})"
   ]
  },
  {
   "cell_type": "markdown",
   "metadata": {},
   "source": [
    "### Immunization coverage"
   ]
  },
  {
   "cell_type": "code",
   "execution_count": 12,
   "metadata": {},
   "outputs": [],
   "source": [
    "coverage_df = coverage_df.rename(columns={'NAME': 'Country','YEAR':'Year'})\n",
    "coverage_df = coverage_df[coverage_df['COVERAGE_CATEGORY'].isin(['WUENIC'])]\n",
    "coverage_df = coverage_df[~coverage_df['ANTIGEN'].isin(['YFV'])]\n",
    "coverage_df = replace_country_names(coverage_df, replacements)\n",
    "coverage_df['Year'] = pd.to_datetime(coverage_df['Year'], format='%Y')"
   ]
  },
  {
   "cell_type": "code",
   "execution_count": 13,
   "metadata": {},
   "outputs": [],
   "source": [
    "# create a pivot table for each antigen\n",
    "antigen_pivot = pd.pivot_table(coverage_df, index=['Country', 'Year'], \n",
    "                               columns='ANTIGEN',\n",
    "                               values=['COVERAGE'], \n",
    "                               aggfunc='sum')\n",
    "\n",
    "# flatten the column index\n",
    "antigen_pivot.columns = [f'{col[1]}_{col[0]}' for col in antigen_pivot.columns]\n",
    "\n",
    "# reset the index to make Country and Year columns\n",
    "antigen_pivot = antigen_pivot.reset_index()\n",
    "\n",
    "#rename\n",
    "immunization_coverage_df = antigen_pivot"
   ]
  },
  {
   "cell_type": "markdown",
   "metadata": {},
   "source": [
    "### World Population"
   ]
  },
  {
   "cell_type": "code",
   "execution_count": 14,
   "metadata": {},
   "outputs": [],
   "source": [
    "#population_df = read_file_who(['raw\\population'],['population'],['Estimates'],16)\n",
    "population_df\n",
    "\n",
    "cols = [i for i in range(100)]\n",
    "total = population_df[cols].sum(axis=1)\n",
    "cols = [i for i in range(1,6)]\n",
    "total_below_5 = population_df[cols].sum(axis=1)\n",
    "cols = [i for i in range(6,11)]\n",
    "total_below_10 = population_df[cols].sum(axis=1)\n",
    "cols = [i for i in range(10,16)]\n",
    "total_below_15 = population_df[cols].sum(axis=1)\n",
    "cols = [i for i in range(16,21)]\n",
    "total_below_20 = population_df[cols].sum(axis=1)\n",
    "cols = [i for i in range(21,26)]\n",
    "total_below_25 = population_df[cols].sum(axis=1)\n",
    "cols = [i for i in range(0,1)]\n",
    "total_below_1 = population_df[cols].sum(axis=1)\n",
    "\n",
    "# add the 'total' column to the DataFrame\n",
    "population_df['total_population'] = total\n",
    "population_df['total_population_1-5'] = total_below_5\n",
    "population_df['total_population_6-10'] = total_below_10\n",
    "population_df['total_population_11-15'] = total_below_15\n",
    "population_df['total_population_16-20'] = total_below_20\n",
    "population_df['total_population_21-25'] = total_below_25\n",
    "population_df['total_population_0-1'] = total_below_1\n",
    "population_df['total_population'] = population_df['total_population'] + population_df['100+']\n",
    "population_df = population_df.rename(columns={'Region, subregion, country or area *': 'Country'})\n",
    "population_df['Year'] = pd.to_datetime(population_df['Year'], format='%Y')\n",
    "population_df = replace_country_names(population_df, replacements)\n",
    "population_df.columns = [str(column) for column in population_df.columns]"
   ]
  },
  {
   "cell_type": "code",
   "execution_count": 15,
   "metadata": {},
   "outputs": [],
   "source": [
    "list = ['total_population','total_population_0-1','total_population_1-5', 'total_population_6-10',\n",
    "       'total_population_11-15', 'total_population_16-20']\n",
    "for i in list:\n",
    "    population_df[i] = pd.to_numeric(population_df[i], downcast='float', errors='coerce')"
   ]
  },
  {
   "cell_type": "code",
   "execution_count": 16,
   "metadata": {},
   "outputs": [],
   "source": [
    "population_filt_df = population_df[['Country','Year','total_population','total_population_0-1','total_population_1-5','total_population_6-10',\n",
    "       'total_population_11-15', 'total_population_16-20']]"
   ]
  },
  {
   "cell_type": "markdown",
   "metadata": {},
   "source": [
    "### GDP"
   ]
  },
  {
   "cell_type": "code",
   "execution_count": 17,
   "metadata": {},
   "outputs": [],
   "source": [
    "#gdp_df = read_file_who(['raw\\GDP'],['current GDP'],['Data'],3)\n",
    "\n",
    "gdp_df.columns = gdp_df.columns.astype(str)\n",
    "value_vars = gdp_df.columns.drop(['Country Name', 'Country Code', 'Indicator Name', 'Indicator Code', 'Option', 'Type'])\n",
    "gdp_melt_df = pd.melt(gdp_df, id_vars=['Country Name', 'Country Code', 'Indicator Name', 'Indicator Code', 'Option', 'Type'], \n",
    "                 value_vars=value_vars, \n",
    "                 var_name='Year', value_name='GDP')\n",
    "gdp_df = gdp_melt_df.rename(columns={'Country Name':'Country'})\n",
    "gdp_df['GDP_Million'] = gdp_df['GDP']/1000000\n",
    "gdp_df['Year'] = pd.to_datetime(gdp_df['Year'], format='%Y')\n",
    "gdp_df = replace_country_names(gdp_df, replacements)\n",
    "\n",
    "#rename\n",
    "gdp_filt_df = gdp_df"
   ]
  },
  {
   "cell_type": "markdown",
   "metadata": {},
   "source": [
    "### Merge Data"
   ]
  },
  {
   "cell_type": "code",
   "execution_count": 95,
   "metadata": {},
   "outputs": [],
   "source": [
    "merged_df = pd.merge(expenditure_detail_filt_df[['Country', 'Region', 'Gavi / Income status', 'Year',\n",
    "       'total_vaccine in USD',  'total_immunization in USD','total_immunization in USD per surviving infant','total_vaccine in USD per surviving infant'\n",
    "     ]].drop_duplicates(),immunization_coverage_df.drop_duplicates(), on = ['Country','Year'], how = 'left')\n",
    "merged_df = pd.merge(merged_df.drop_duplicates(),gdp_filt_df[['Country','GDP_Million','Year']].drop_duplicates(), on = ['Country','Year'], how = 'left')\n",
    "merged_df = pd.merge(merged_df.drop_duplicates(),population_filt_df[['Country','Year','total_population','total_population_0-1','total_population_1-5', 'total_population_6-10',\n",
    "       'total_population_11-15', 'total_population_16-20']].drop_duplicates(),on = ['Country','Year'],how ='left')\n",
    "merged_df = pd.merge(merged_df.drop_duplicates(),country_area_df[['Country','land_area']].drop_duplicates(),on = ['Country'],how ='left')"
   ]
  },
  {
   "cell_type": "code",
   "execution_count": 96,
   "metadata": {},
   "outputs": [
    {
     "data": {
      "application/vnd.jupyter.widget-view+json": {
       "model_id": "e2a290bfdbcb43ec8323f446838f1e2d"
      },
      "text/plain": [
       "                   Country Region              Gavi / Income status  \\\n",
       "0              Afghanistan   EMRO         Gavi low income countries   \n",
       "1                   Angola   AFRO  non-Gavi middle income countries   \n",
       "2                  Albania   EURO  non-Gavi middle income countries   \n",
       "3                  Andorra   EURO             High income countries   \n",
       "4     United Arab Emirates   EMRO             High income countries   \n",
       "...                    ...    ...                               ...   \n",
       "3115                 Samoa   WPRO  non-Gavi middle income countries   \n",
       "3116                 Yemen   EMRO         Gavi low income countries   \n",
       "3117          South Africa   AFRO  non-Gavi middle income countries   \n",
       "3118                Zambia   AFRO  Gavi low-middle income countries   \n",
       "3119              Zimbabwe   AFRO  Gavi low-middle income countries   \n",
       "\n",
       "           Year  total_vaccine in USD  total_immunization in USD  \\\n",
       "0    2006-01-01                   NaN               4.000000e+07   \n",
       "1    2006-01-01          1.880597e+06               1.400000e+07   \n",
       "2    2006-01-01          4.687500e+05               3.789474e+06   \n",
       "3    2006-01-01                   NaN                        NaN   \n",
       "4    2006-01-01                   NaN                        NaN   \n",
       "...         ...                   ...                        ...   \n",
       "3115 2021-01-01                   NaN                        NaN   \n",
       "3116 2021-01-01          2.089266e+07                        NaN   \n",
       "3117 2021-01-01          1.956686e+08               1.956686e+08   \n",
       "3118 2021-01-01          1.473568e+07               2.163591e+07   \n",
       "3119 2021-01-01          1.398228e+07               2.079328e+07   \n",
       "\n",
       "      total_immunization in USD per surviving infant  \\\n",
       "0                                                NaN   \n",
       "1                                                NaN   \n",
       "2                                                NaN   \n",
       "3                                                NaN   \n",
       "4                                                NaN   \n",
       "...                                              ...   \n",
       "3115                                             NaN   \n",
       "3116                                             NaN   \n",
       "3117                                      170.256189   \n",
       "3118                                       33.322826   \n",
       "3119                                       43.907515   \n",
       "\n",
       "      total_vaccine in USD per surviving infant  BCG_COVERAGE  \\\n",
       "0                                           NaN          60.0   \n",
       "1                                           NaN          54.0   \n",
       "2                                           NaN          97.0   \n",
       "3                                           NaN           NaN   \n",
       "4                                           NaN          98.0   \n",
       "...                                         ...           ...   \n",
       "3115                                        NaN          92.0   \n",
       "3116                                  21.537164          70.0   \n",
       "3117                                 170.256189          86.0   \n",
       "3118                                  22.695349          92.0   \n",
       "3119                                  29.525274          88.0   \n",
       "\n",
       "      DTPCV1_COVERAGE  ...  RCV1_COVERAGE  ROTAC_COVERAGE    GDP_Million  \\\n",
       "0                75.0  ...            0.0             0.0    6971.379033   \n",
       "1                66.0  ...            0.0             0.0   52381.006892   \n",
       "2                98.0  ...           95.0             0.0    8896.072919   \n",
       "3                96.0  ...           91.0             0.0    3456.442103   \n",
       "4                97.0  ...           92.0             0.0  222116.541865   \n",
       "...               ...  ...            ...             ...            ...   \n",
       "3115             96.0  ...           62.0            30.0     843.842416   \n",
       "3116             82.0  ...           71.0            73.0            NaN   \n",
       "3117             91.0  ...            0.0            85.0  419015.018372   \n",
       "3118             94.0  ...           90.0            87.0   22147.634727   \n",
       "3119             93.0  ...           85.0            88.0   28371.238666   \n",
       "\n",
       "      total_population  total_population_0-1  total_population_1-5  \\\n",
       "0         25442.943359           1058.385498           4747.033203   \n",
       "1         20162.339844            863.051025           3562.746094   \n",
       "2          3003.386963             38.195999            208.690506   \n",
       "3            80.220497              0.774500              3.919500   \n",
       "4          4898.954590             64.778503            298.311005   \n",
       "...                ...                   ...                   ...   \n",
       "3115        218.764008              5.882500             29.088499   \n",
       "3116      32981.640625            969.879028           4653.895020   \n",
       "3117      59392.253906           1161.079956           5774.077148   \n",
       "3118      19473.125000            644.395996           3007.780518   \n",
       "3119      15993.524414            472.443512           2274.131592   \n",
       "\n",
       "      total_population_6-10  total_population_11-15  total_population_16-20  \\\n",
       "0               4038.694092             4022.616455             2561.222900   \n",
       "1               2845.658936             2945.945068             2068.162109   \n",
       "2                251.901993              355.090515              291.582489   \n",
       "3                  4.306500                4.667500                3.796000   \n",
       "4                281.511505              339.865997              418.968506   \n",
       "...                     ...                     ...                     ...   \n",
       "3115              27.981501               29.462500               20.113501   \n",
       "3116            4341.674316             4774.422363             3465.669434   \n",
       "3117            5699.713867             6530.402344             4581.419922   \n",
       "3118            2765.944092             3006.385986             2078.468994   \n",
       "3119            2226.095947             2362.457031             1767.578491   \n",
       "\n",
       "      land_area  \n",
       "0       65223.0  \n",
       "1      124670.0  \n",
       "2        2740.0  \n",
       "3          47.0  \n",
       "4        7102.0  \n",
       "...         ...  \n",
       "3115      283.0  \n",
       "3116    52797.0  \n",
       "3117   121309.0  \n",
       "3118    74339.0  \n",
       "3119    38685.0  \n",
       "\n",
       "[3120 rows x 30 columns]"
      ]
     },
     "metadata": {},
     "output_type": "display_data"
    }
   ],
   "source": [
    "merged_df"
   ]
  },
  {
   "cell_type": "markdown",
   "metadata": {},
   "source": [
    "### Clean data"
   ]
  },
  {
   "cell_type": "markdown",
   "metadata": {},
   "source": [
    "##### Exclude the rich country (high income)"
   ]
  },
  {
   "cell_type": "markdown",
   "metadata": {},
   "source": [
    "##### Create new column to calculate the cost of vaccine delivery"
   ]
  },
  {
   "cell_type": "code",
   "execution_count": 97,
   "metadata": {},
   "outputs": [],
   "source": [
    "merged_df['Year'] = pd.to_datetime(merged_df['Year'], format='%Y')\n",
    "merged_df['total_vaccine_delivery_cost in USD'] = merged_df['total_immunization in USD'] -merged_df['total_vaccine in USD']\n"
   ]
  },
  {
   "cell_type": "code",
   "execution_count": 98,
   "metadata": {},
   "outputs": [],
   "source": [
    "#change the data into Million format\n",
    "merged_df['Vaccine USD Mil'] = merged_df['total_vaccine in USD'] / 1000000\n",
    "merged_df['Immunization USD Mil'] = merged_df['total_immunization in USD'] / 1000000\n",
    "merged_df['Vaccine Delivery Cost USD Mil'] = merged_df['total_vaccine_delivery_cost in USD'] / 1000000"
   ]
  },
  {
   "cell_type": "code",
   "execution_count": 99,
   "metadata": {},
   "outputs": [],
   "source": [
    "# group the dataframe by country\n",
    "grouped_df = merged_df.groupby('Country')\n",
    "\n",
    "# Define a function to create the previous year columns in million\n",
    "def create_prev_year_cols_million(col):\n",
    "    return [f\"{col}_prev_{i}_year_million\" for i in range(1, 6)]\n",
    "\n",
    "# Create new columns for 'total_vaccine in USD', 'total_immunization in USD', and 'total_vaccine_delivery_cost in USD', \n",
    "# for the value for previous year up until last 5 years, in million\n",
    "for col in ['total_vaccine in USD', 'total_immunization in USD', 'total_vaccine_delivery_cost in USD']:\n",
    "    prev_year_cols = create_prev_year_cols_million(col)\n",
    "    for i, prev_year_col in enumerate(prev_year_cols):\n",
    "        merged_df[prev_year_col] = grouped_df[col].apply(lambda x: x.shift(i+1) / 1000000)\n",
    "        #merged_df[prev_year_col] = grouped_df[col].apply(lambda x: x.shift(i+1) )\n",
    "        # Calculate the percentage change between the current year and the previous year\n",
    "        curr_col = f\"{col}_prev_1_year_million\"\n",
    "        pct_col = f\"{col}_prev_{i+1}_year_pct_change\"\n",
    "        if curr_col in merged_df.columns and prev_year_col in merged_df.columns:\n",
    "            merged_df[pct_col] = (merged_df[curr_col] - merged_df[prev_year_col]) / merged_df[prev_year_col]\n",
    "        else:\n",
    "            merged_df[pct_col] = float('nan')\n"
   ]
  },
  {
   "cell_type": "code",
   "execution_count": 100,
   "metadata": {},
   "outputs": [],
   "source": [
    "# group the dataframe by country\n",
    "grouped_df = merged_df.groupby('Country')\n",
    "\n",
    "# Define a function to create the previous year columns in million\n",
    "def create_prev_year_cols_million(col):\n",
    "    return [f\"{col}_prev_{i}_year_million\" for i in range(1, 6)]\n",
    "\n",
    "# Create new columns for 'total_vaccine in USD', 'total_immunization in USD', and 'total_vaccine_delivery_cost in USD', \n",
    "# for the value for previous year up until last 5 years, in million\n",
    "for col in ['total_vaccine in USD', 'total_immunization in USD', 'total_vaccine_delivery_cost in USD']:\n",
    "    prev_year_cols = create_prev_year_cols_million(col)\n",
    "    for i, prev_year_col in enumerate(prev_year_cols):\n",
    "        merged_df[prev_year_col] = grouped_df[col].apply(lambda x: x.shift(i+1) / 1000000)\n",
    "        #merged_df[prev_year_col] = grouped_df[col].apply(lambda x: x.shift(i+1) )\n",
    "        # Calculate the percentage change between the current year and the previous year\n",
    "        curr_col = f\"{col}_prev_1_year_million\"\n",
    "        pct_col = f\"{col}_prev_{i+1}_year_pct_change\"\n",
    "        if curr_col in merged_df.columns and prev_year_col in merged_df.columns:\n",
    "            merged_df[pct_col] = (merged_df[curr_col] - merged_df[prev_year_col]) / merged_df[prev_year_col]\n",
    "        else:\n",
    "            merged_df[pct_col] = float('nan')\n"
   ]
  },
  {
   "cell_type": "code",
   "execution_count": 101,
   "metadata": {},
   "outputs": [],
   "source": [
    "merged_df['total_vaccine in USD_prev_1_year_pct_change'] = (merged_df['Vaccine USD Mil'] - merged_df['total_vaccine in USD_prev_1_year_million']) / merged_df['total_vaccine in USD_prev_1_year_million']\n",
    "merged_df['total_immunization in USD_prev_1_year_pct_change'] = (merged_df['Immunization USD Mil'] - merged_df['total_immunization in USD_prev_1_year_million']) / merged_df['total_immunization in USD_prev_1_year_million']\n",
    "merged_df['total_vaccine_delivery_cost in USD_prev_1_year_pct_change'] = (merged_df['Vaccine Delivery Cost USD Mil'] - merged_df['total_vaccine_delivery_cost in USD_prev_1_year_million']) / merged_df['total_vaccine_delivery_cost in USD_prev_1_year_million']"
   ]
  },
  {
   "cell_type": "code",
   "execution_count": 102,
   "metadata": {},
   "outputs": [
    {
     "data": {
      "application/vnd.jupyter.widget-view+json": {
       "model_id": "bf48afef23c34eae930176d4fc6822e7"
      },
      "text/plain": [
       "                   Country Region              Gavi / Income status  \\\n",
       "0              Afghanistan   EMRO         Gavi low income countries   \n",
       "1                   Angola   AFRO  non-Gavi middle income countries   \n",
       "2                  Albania   EURO  non-Gavi middle income countries   \n",
       "3                  Andorra   EURO             High income countries   \n",
       "4     United Arab Emirates   EMRO             High income countries   \n",
       "...                    ...    ...                               ...   \n",
       "3115                 Samoa   WPRO  non-Gavi middle income countries   \n",
       "3116                 Yemen   EMRO         Gavi low income countries   \n",
       "3117          South Africa   AFRO  non-Gavi middle income countries   \n",
       "3118                Zambia   AFRO  Gavi low-middle income countries   \n",
       "3119              Zimbabwe   AFRO  Gavi low-middle income countries   \n",
       "\n",
       "           Year  total_vaccine in USD  total_immunization in USD  \\\n",
       "0    2006-01-01                   NaN               4.000000e+07   \n",
       "1    2006-01-01          1.880597e+06               1.400000e+07   \n",
       "2    2006-01-01          4.687500e+05               3.789474e+06   \n",
       "3    2006-01-01                   NaN                        NaN   \n",
       "4    2006-01-01                   NaN                        NaN   \n",
       "...         ...                   ...                        ...   \n",
       "3115 2021-01-01                   NaN                        NaN   \n",
       "3116 2021-01-01          2.089266e+07                        NaN   \n",
       "3117 2021-01-01          1.956686e+08               1.956686e+08   \n",
       "3118 2021-01-01          1.473568e+07               2.163591e+07   \n",
       "3119 2021-01-01          1.398228e+07               2.079328e+07   \n",
       "\n",
       "      total_immunization in USD per surviving infant  \\\n",
       "0                                                NaN   \n",
       "1                                                NaN   \n",
       "2                                                NaN   \n",
       "3                                                NaN   \n",
       "4                                                NaN   \n",
       "...                                              ...   \n",
       "3115                                             NaN   \n",
       "3116                                             NaN   \n",
       "3117                                      170.256189   \n",
       "3118                                       33.322826   \n",
       "3119                                       43.907515   \n",
       "\n",
       "      total_vaccine in USD per surviving infant  BCG_COVERAGE  \\\n",
       "0                                           NaN          60.0   \n",
       "1                                           NaN          54.0   \n",
       "2                                           NaN          97.0   \n",
       "3                                           NaN           NaN   \n",
       "4                                           NaN          98.0   \n",
       "...                                         ...           ...   \n",
       "3115                                        NaN          92.0   \n",
       "3116                                  21.537164          70.0   \n",
       "3117                                 170.256189          86.0   \n",
       "3118                                  22.695349          92.0   \n",
       "3119                                  29.525274          88.0   \n",
       "\n",
       "      DTPCV1_COVERAGE  ...  \\\n",
       "0                75.0  ...   \n",
       "1                66.0  ...   \n",
       "2                98.0  ...   \n",
       "3                96.0  ...   \n",
       "4                97.0  ...   \n",
       "...               ...  ...   \n",
       "3115             96.0  ...   \n",
       "3116             82.0  ...   \n",
       "3117             91.0  ...   \n",
       "3118             94.0  ...   \n",
       "3119             93.0  ...   \n",
       "\n",
       "      total_vaccine_delivery_cost in USD_prev_1_year_million  \\\n",
       "0                                                   NaN        \n",
       "1                                                   NaN        \n",
       "2                                                   NaN        \n",
       "3                                                   NaN        \n",
       "4                                                   NaN        \n",
       "...                                                 ...        \n",
       "3115                                                NaN        \n",
       "3116                                           6.653834        \n",
       "3117                                                NaN        \n",
       "3118                                          10.548343        \n",
       "3119                                           5.615535        \n",
       "\n",
       "      total_vaccine_delivery_cost in USD_prev_1_year_pct_change  \\\n",
       "0                                                   NaN           \n",
       "1                                                   NaN           \n",
       "2                                                   NaN           \n",
       "3                                                   NaN           \n",
       "4                                                   NaN           \n",
       "...                                                 ...           \n",
       "3115                                                NaN           \n",
       "3116                                                NaN           \n",
       "3117                                                NaN           \n",
       "3118                                          -0.345847           \n",
       "3119                                           0.212885           \n",
       "\n",
       "      total_vaccine_delivery_cost in USD_prev_2_year_million  \\\n",
       "0                                                   NaN        \n",
       "1                                                   NaN        \n",
       "2                                                   NaN        \n",
       "3                                                   NaN        \n",
       "4                                                   NaN        \n",
       "...                                                 ...        \n",
       "3115                                                NaN        \n",
       "3116                                           2.861209        \n",
       "3117                                           0.000000        \n",
       "3118                                           7.620371        \n",
       "3119                                          10.600091        \n",
       "\n",
       "      total_vaccine_delivery_cost in USD_prev_2_year_pct_change  \\\n",
       "0                                                   NaN           \n",
       "1                                                   NaN           \n",
       "2                                                   NaN           \n",
       "3                                                   NaN           \n",
       "4                                                   NaN           \n",
       "...                                                 ...           \n",
       "3115                                                NaN           \n",
       "3116                                           1.325533           \n",
       "3117                                                NaN           \n",
       "3118                                           0.384230           \n",
       "3119                                          -0.470237           \n",
       "\n",
       "      total_vaccine_delivery_cost in USD_prev_3_year_million  \\\n",
       "0                                                   NaN        \n",
       "1                                                   NaN        \n",
       "2                                                   NaN        \n",
       "3                                                   NaN        \n",
       "4                                                   NaN        \n",
       "...                                                 ...        \n",
       "3115                                                NaN        \n",
       "3116                                           2.580046        \n",
       "3117                                                NaN        \n",
       "3118                                                NaN        \n",
       "3119                                          10.197247        \n",
       "\n",
       "      total_vaccine_delivery_cost in USD_prev_3_year_pct_change  \\\n",
       "0                                                   NaN           \n",
       "1                                                   NaN           \n",
       "2                                                   NaN           \n",
       "3                                                   NaN           \n",
       "4                                                   NaN           \n",
       "...                                                 ...           \n",
       "3115                                                NaN           \n",
       "3116                                           1.578959           \n",
       "3117                                                NaN           \n",
       "3118                                                NaN           \n",
       "3119                                          -0.449309           \n",
       "\n",
       "      total_vaccine_delivery_cost in USD_prev_4_year_million  \\\n",
       "0                                                   NaN        \n",
       "1                                                   NaN        \n",
       "2                                                   NaN        \n",
       "3                                                   NaN        \n",
       "4                                                   NaN        \n",
       "...                                                 ...        \n",
       "3115                                                NaN        \n",
       "3116                                           7.517980        \n",
       "3117                                          74.561321        \n",
       "3118                                          22.754879        \n",
       "3119                                          28.220689        \n",
       "\n",
       "      total_vaccine_delivery_cost in USD_prev_4_year_pct_change  \\\n",
       "0                                                   NaN           \n",
       "1                                                   NaN           \n",
       "2                                                   NaN           \n",
       "3                                                   NaN           \n",
       "4                                                   NaN           \n",
       "...                                                 ...           \n",
       "3115                                                NaN           \n",
       "3116                                          -0.114944           \n",
       "3117                                                NaN           \n",
       "3118                                          -0.536436           \n",
       "3119                                          -0.801014           \n",
       "\n",
       "      total_vaccine_delivery_cost in USD_prev_5_year_million  \\\n",
       "0                                                   NaN        \n",
       "1                                                   NaN        \n",
       "2                                                   NaN        \n",
       "3                                                   NaN        \n",
       "4                                                   NaN        \n",
       "...                                                 ...        \n",
       "3115                                                NaN        \n",
       "3116                                           6.879992        \n",
       "3117                                                NaN        \n",
       "3118                                          22.060796        \n",
       "3119                                          13.940204        \n",
       "\n",
       "      total_vaccine_delivery_cost in USD_prev_5_year_pct_change  \n",
       "0                                                   NaN          \n",
       "1                                                   NaN          \n",
       "2                                                   NaN          \n",
       "3                                                   NaN          \n",
       "4                                                   NaN          \n",
       "...                                                 ...          \n",
       "3115                                                NaN          \n",
       "3116                                          -0.032872          \n",
       "3117                                                NaN          \n",
       "3118                                          -0.521851          \n",
       "3119                                          -0.597170          \n",
       "\n",
       "[3120 rows x 64 columns]"
      ]
     },
     "metadata": {},
     "output_type": "display_data"
    }
   ],
   "source": [
    "merged_df"
   ]
  },
  {
   "cell_type": "code",
   "execution_count": 85,
   "metadata": {},
   "outputs": [
    {
     "data": {
      "application/vnd.plotly.v1+json": {
       "config": {
        "plotlyServerURL": "https://plot.ly"
       },
       "data": [
        {
         "type": "histogram",
         "x": [
          5.05555555555556,
          3.65279605263158,
          3.089916455554001,
          6.031657552381001,
          0.26652482000000005,
          1.44003714,
          0.9481354700460797,
          12,
          3.601489,
          0.0294019863829799,
          0.5486142999933995,
          0.49805623047552594,
          0.15653428571428604,
          0.005,
          0.6207586400000006,
          0.36145288209606996,
          5.01813125,
          31.5,
          69.253257304931,
          5.15,
          5.925429253586381,
          1,
          3.04892424242424,
          4.470513,
          9.568506713068608,
          2.98221220043036,
          4.25467566351777,
          1.9875662203766498,
          1.6002186604860016,
          0.5803268499999996,
          3.9283750470809795,
          1.8640618998474805,
          0.018181818181818,
          0.22550792266212602,
          2.1975837086417602,
          0.7652288576415,
          0.6609511939002983,
          5.0146197044334695,
          0.001099,
          4.272371077919841,
          0.196961,
          10.919956594207905,
          0.45405062,
          2.618539027804071,
          0.033678320000000005,
          64.03602058317,
          1.73301913793103,
          7.746973265514396,
          2.1854328978329,
          25.14083243273441,
          1.02814473098736,
          1.933117,
          0.5476656139831003,
          0.740369701987491,
          0.619224728487883,
          0.074893205128205,
          0.5535422683180999,
          0.09565620294219802,
          0.13403495476970076,
          20.6871822218953,
          90.6120023767084,
          3,
          6.08330262679319,
          1,
          2.8371272804508005,
          2.070707,
          0.33167495854063006,
          4.9262621658312495,
          2.9469818971060997,
          0.992082,
          1.0373236657604017,
          74.02801426785929,
          4.35992,
          0.5775853021454599,
          3.1525202326390103,
          0.29080108827404477,
          1.3655462184874005,
          0.21180871097765094,
          2.42657096885345,
          0.6228308486196,
          0.47038615917408977,
          8.38487557335516,
          1.142007465082001,
          8.052,
          0.007481879999999888,
          0.21782844011667,
          0.040541741296296306,
          5.725703896103879,
          0.041647692227411694,
          0.00014379999999999927,
          4.832650922710591,
          1.0717125248100199,
          9.55803697891705,
          8.163193333333298,
          0.483685,
          1.7251023604081999,
          0.03624203999999998,
          5.6304810864706,
          0.260983110993093,
          5.620459898271598,
          21.80080217817703,
          14.69841116160599,
          0.9564767378045299,
          2.9877809162048026,
          0.523699215302201,
          0.10242277777777985,
          0.09838847235238994,
          0.63272726657739,
          3.7047146892655007,
          27.458770010722002,
          67.6435857612254,
          6.241176,
          1,
          2.557474,
          0.3980099502487602,
          1.1966493817311004,
          0.0964,
          2.2105263157894703,
          3.309835251367001,
          4.42546533957845,
          0.992082,
          2.293235881607538,
          34.8334958896473,
          0.8630572513698004,
          41.9942677788804,
          0.191162,
          10.083563719999999,
          1.8661297199999998,
          0.3279441183222998,
          2.6009150644981003,
          1.5730256418160107,
          0.364663348484849,
          0.6095,
          1.91007795440656,
          3.861258832623899,
          2.53450025657939,
          0.4298540965207701,
          86.03828772946197,
          0.7290285563185998,
          1.6230637362637,
          4.026,
          0.009677399999999994,
          6.2897058823529,
          0.0357781375923842,
          6.792638396825371,
          1.9765300718635992,
          0.954417,
          1.200995335,
          1.334587,
          2.186338247184159,
          10.724148,
          0.293337,
          4.69851133,
          0.330361769782261,
          0.4497919740933601,
          3.4939465310288,
          29.981167608286977,
          3.2603276826686804,
          16.3479446576115,
          0.48961149393864023,
          0.906,
          1.044571596434202,
          1.5999999999985447e-7,
          0.122073,
          2.4423414200000018,
          2.2374189390381,
          0.029665,
          0.546938,
          0.60876631818182,
          3.066387699999999,
          16.854318992537795,
          68.84554715256601,
          8.218288,
          2.2892,
          0.2713439469320001,
          0.010029940000000003,
          0.154082,
          0.37832,
          0.541941,
          0.604761,
          1.4232320312037001,
          5.016768,
          33.1699602225841,
          3.3563492524346037,
          4.36786426615385,
          2.383116,
          1.8869787326058103,
          19.2032806561145,
          0.273483,
          0.472132,
          0.795,
          1.315946,
          1.839827,
          2.6576823714101985,
          0.713747,
          0.52934562633345,
          93.99937585171601,
          4.026,
          0.03899,
          0.005156439999999995,
          3.7059,
          3.015567976683799,
          0.10969465861329902,
          8.028874745486975,
          0.74339979426903,
          2.4784203203741106,
          10.067026,
          0.115076,
          5.855303,
          0.109751,
          0.08534880282670003,
          2.535478265514396,
          31.384869354381024,
          4.313142,
          4.977756248249702,
          0.768183,
          9.46439,
          0.83273,
          0.10758091000000015,
          0.6991199689663984,
          1.551469,
          16.726176254999995,
          0.08840081937806983,
          0.037783,
          0.41166047512139936,
          0.169124,
          3.274182,
          7.053520162909202,
          64.28044512579861,
          74.3019023142609,
          4,
          2.370235,
          1.963051,
          11.6474231260403,
          3.164735,
          2.202784,
          1.1111111198260914e-8,
          10.585337,
          59.36969925523141,
          6.40279,
          0.22648,
          5.761484,
          38.96790714504459,
          4.780613347743871,
          21.7973713333333,
          0.7094296999999993,
          28.080943738656998,
          7.8926501330769,
          2.135445256299,
          6.299143,
          1.151037,
          0.161432,
          0.418705,
          0.582,
          1.453858,
          7.225807,
          2.7686921639457123,
          1.709822,
          0.7266393779572901,
          38.5819183844948,
          2.54891,
          0.004332389999999999,
          2.7828326894293016,
          26.67515601,
          17.262937,
          9.754648,
          0.08572273396370804,
          2.343645,
          7.771126844476997,
          0.00017784953717980533,
          2.937104528706491,
          4.3321153695459,
          9.521042,
          0.059102,
          4.622497,
          0.063511,
          3.475956,
          1.57701,
          32.12694892206901,
          0.46807208426580205,
          1.52375443046652,
          12.474909,
          0.495976,
          0.9058,
          1.741956,
          0.305489,
          8.049232740000003,
          9.864215,
          0.045239,
          3.144285,
          1.59998,
          97.3113072932021,
          75.4998373140311,
          4,
          2.491932,
          0.5,
          2.79608,
          2,
          7.12714,
          0.41821585347519397,
          5.149213583146099,
          13.992922,
          0.025998799334109993,
          5.250953,
          5.723048,
          46.0245935886966,
          22.4326465299173,
          58.409628,
          35.90577004494859,
          2.4007482062726506,
          11.417437,
          3.976823,
          1.853481,
          3.679827,
          1.3675806099999999,
          0.193368,
          7.153208,
          0.642764,
          1.20501106101779,
          7.633867,
          4.057235267379806,
          0.89214,
          0.261573,
          0.9435250392000908,
          2.8453616000000017,
          0.5151255300000003,
          0.0007905,
          1.930558,
          11.42452,
          2.976275278655298,
          27.45993901,
          11.529174289999998,
          0.02700505888306105,
          0.6860241883248305,
          2.7341510727875997,
          5.268077,
          0.051185,
          2.195540231548491,
          0.04167208403758891,
          0.20226896607561967,
          2.208276,
          31.62125254182905,
          3.698859,
          21.130934,
          2.62693005627075,
          13.232561,
          0.411888,
          1.5010000399999992,
          1.166033,
          0.371161,
          0.8041435500000007,
          3.718367964029312e-7,
          0.46244,
          0.22087406687718,
          1.053376,
          7.336135,
          0.578754,
          0.030004,
          2.282377,
          1.242245,
          2.798052,
          28.4893354569961,
          48.064909967161995,
          69.18003437220221,
          4,
          2.060745,
          11.527754759999999,
          0.4686399173608199,
          3.729844,
          1.1999999999898135e-7,
          80,
          1.539905,
          0.04098378000000001,
          11.952794,
          7.296347,
          0.11639099459595978,
          6.195227,
          23.711854,
          0.0057048278215401805,
          5.650745,
          5.7366,
          47.5473913349527,
          3.7802818894647006,
          29.9572714420617,
          36.755564,
          2.2018017899999993,
          3.67119392719964,
          14.194224,
          2.8239655,
          2.5641330777877998,
          11.743784,
          1.04813061,
          0.29809,
          0.271315,
          0.674392,
          0.7254176743993103,
          7.206468,
          2.6976885705088005,
          1.31109259259259,
          0.466723,
          0.5939407022894304,
          4.213183,
          0.05988505999999959,
          5.7915,
          11.89,
          4.839157657406103,
          28.244722009999997,
          12.9249,
          0.09859225999999792,
          1.9038985167409797,
          32.317848750662,
          0.437886,
          0.6855038580949204,
          0.03317289000000002,
          10.067072642199992,
          2.010994,
          31.891046953185022,
          4.07828,
          2.1285855141934977,
          20.522427,
          1.7404930877906195,
          13.654624,
          0.423049,
          1.506389,
          0.03192690058479532,
          0.292925,
          0.4020717749999985,
          0.681425,
          36.33366540454531,
          1.992442,
          5.563243,
          2.74514623252575,
          0.578604,
          0.049908,
          0.771715,
          1.094398,
          4.060769,
          3.55911,
          25.240943846998295,
          11.451835674858003,
          68.96698355157369,
          12,
          0.964302,
          4.1963,
          0.8573442851237897,
          5.8935825,
          0.06633499170812965,
          0.044155,
          1.782713,
          0.7046462955211997,
          0.139038,
          1.1582963099999986,
          14.592772,
          4.269426,
          3.710597,
          0.81391,
          6.570179,
          47.83830652394921,
          3.046804759321591,
          34.71499033548769,
          34.6489977735728,
          1.800405,
          15.76747,
          2.96176091691653,
          14.194224,
          1.671108,
          2.99648,
          12.270668,
          0.6291465,
          0.18346,
          0.579029,
          0.6449800141662201,
          0.115849,
          2.091084,
          0.532,
          2.416884347896695,
          0.933779,
          0.62108,
          0.045519,
          0.5267372021216796,
          3.204676,
          0.04806571000000089,
          3.860203,
          11.5865,
          0.30904990846971897,
          5.249651,
          6.632028,
          0.046017276868193,
          3.641281,
          0.2,
          4.073092065087881,
          0.7123044362946991,
          3.968623547422398,
          14.885081,
          0.021796,
          0.171268,
          1.715249,
          13.673284941196918,
          0.325,
          2.453105,
          2.005639,
          36.291895267407,
          8.1236050043823,
          1.5756060106517902,
          15.840709,
          0.77411,
          0.7656945,
          13.578845,
          2.610317,
          0.001,
          0.303132,
          0.544312,
          37.312291,
          0.237498,
          0.09164,
          5.365479,
          2.372496,
          0.654457,
          1.2538921881899014,
          1.155662,
          6.130974,
          1.679031,
          28.746261810733795,
          59.1430362681077,
          2,
          1.277522,
          0.050759,
          6.392864,
          0.00097,
          181.34056344938796,
          1.782713,
          0.5533058516097888,
          6.309801340103149e-8,
          8.626525439825203,
          0.03987999564536987,
          2.888107,
          0.059382,
          63.102758,
          6.171024,
          57.7005231883981,
          3.5864435242529997,
          29.268688178790196,
          4.656025309126996,
          4.553925133526504,
          2.954390787491742,
          14.370055,
          1.216801,
          18.239121,
          0.805357,
          0.083948,
          0.357107,
          0.035369,
          0.44536324891000006,
          0.022935,
          1.6199133485501707,
          0.565009,
          0.901954,
          0.026,
          0.2825575150995096,
          19.362133,
          0.054611,
          6.137086,
          6.951869574561391,
          12.736576,
          17.207551,
          11.526669,
          0.04861333333333302,
          1.1320197826730012,
          20,
          2.2056521987074302,
          0.16803181605751066,
          5.152351751198098,
          24.520271,
          1.773488,
          14.326167288946985,
          0.2645,
          0.441209,
          2.383043,
          1.033077,
          46.821766107988,
          8.18423769822,
          0.7045187086772993,
          44.163791,
          1.6824292079551602,
          3.2758385768126996,
          0.450691,
          0.025,
          13.605069,
          3.567016,
          0.132885,
          0.070921,
          41.04352,
          0.06927930389032204,
          3.460307,
          0.168751,
          0.8834,
          0.057002,
          1.8258666286663972,
          4.364602,
          37.40196168556471,
          32.762704205479,
          59.7721918828129,
          1.264881,
          5.767725,
          265,
          7.9261855,
          0.0668,
          0.6131165137716197,
          0.10234350990594888,
          0.850873,
          19.453949,
          1.506788,
          4.720457,
          61.1022940729104,
          28.472222222222193,
          3.567358,
          3.425481508520305,
          0.5163040615119199,
          16.410935,
          2.179477,
          3.843124,
          11.976731,
          0.096623,
          0.0131,
          0.619083,
          0.010518,
          0.17790905668604,
          2.0141609308549,
          5.738106,
          36.3043224937166,
          0.39,
          0.63344,
          21.768776,
          22.379662,
          0.048913,
          2.70045,
          0.015,
          24.601285005,
          2.0035504216637983,
          0.6297970479704761,
          6.879992236676399,
          22.060796,
          13.940204,
          16.483019,
          0.05680205824552098,
          13.841075624669015,
          0.22271674779277995,
          6.681522,
          11.284122,
          1.3611835106382995,
          0.227686,
          0.265164,
          1.5654528219971025,
          18.34977679327011,
          0.274,
          0.04,
          0.342492,
          0.7407676465776097,
          1.126298,
          54.70583393099099,
          2.3603607311677934,
          0.2930795348558985,
          12.153034,
          1.2631783785142439,
          5.154462857932806,
          13.567474,
          4.2829545,
          41.864391,
          3.9441178403229973,
          5.039291,
          0.884397,
          0.36817,
          0.054822,
          0.054651517066601665,
          1.392819,
          6.279177,
          0.0883274626503028,
          40.91008419059229,
          60.40134749751789,
          2,
          1.405771,
          0.9347397051514201,
          5.063762,
          264.6,
          6.063498,
          6,
          0.0625,
          0.0739509389722501,
          11.207488784294009,
          0.16667412123571987,
          0.125469,
          0.719738,
          0.35321838217067064,
          0.43831895511550084,
          67.453683,
          5.292548,
          7.943862060001401,
          37.29107401370811,
          2.7555354451709015,
          12.031388,
          0.888596,
          3.1717798076923005,
          1.725401,
          3.706356,
          6.982075221207979,
          0.713797,
          2.456995,
          0.389816,
          0.20505420822079992,
          0.070963,
          11.627642,
          5.287444,
          0.398191,
          0.031486,
          0.32172933651591,
          7.924877,
          0.05421227267890051,
          0.3571977559198998,
          0.742440132380952,
          7.517980026990604,
          22.754879,
          21.15002,
          0.053009587419407964,
          0.2945224065853297,
          1.0748201737023102,
          1.6029332142491974,
          18.765615,
          0.08347751,
          0.2826,
          0.001428,
          1.9304241799999997,
          1.5637255302290898,
          0.340725,
          25.92515,
          0.49598234,
          34.30714398835309,
          42.701679219999995,
          0.027842907233808015,
          4.004525449999999,
          1.021737777777778,
          7.34873,
          0.11392846347440035,
          62.7960999067557,
          1.4375725400000001,
          4.7368190199999995,
          0.090591,
          396.3,
          0.07996046,
          0.11805297966313012,
          3.7777864700000006,
          15.690754037392798,
          0.2435407171716988,
          0.014202358955999837,
          5.9816610905238985,
          5.00172534,
          11.261401724465502,
          20.641973623981983,
          3.726658,
          0.5337730285811014,
          5.58418,
          7.978303030000001,
          3.3011506399999995,
          0.198384121919248,
          0.015026429999999993,
          2.627642,
          7.2999986086956525,
          0.977605,
          0.366093,
          8.2792861962299,
          12.497225,
          0.09667949000000002,
          2.580046170000002,
          10.19724668,
          12.021411039999998,
          34.96682041685802,
          0.22370588235295005,
          0.05491055590753816,
          1.10427,
          19.173419810000002,
          4.88223138297873,
          7.702814841288194,
          9.163458279999999,
          35.950364,
          1.61376058433796,
          26.095847840000005,
          0.7832338308457699,
          0.13066322379196993,
          32.75909617,
          0.030849394521340962,
          0.879527,
          5.080386719999999,
          75.01869984495198,
          0.9937931699999999,
          366.909691,
          0.20589509262453998,
          4.605043,
          30.38596,
          34.874107,
          2.244813,
          0.1506061077231355,
          1.4400407758511007,
          5.87885852,
          56.6149369429588,
          7.922085939354001,
          3.299999999999272e-7,
          38.68910584234799,
          6.868919,
          0.773870847202599,
          2.171739289999999,
          5.783615,
          0.5580340864564199,
          0.002675,
          2.627642,
          6.474588,
          1.232002,
          0.396011,
          2.630336,
          0.71785,
          12.591793,
          2.8612087719298005,
          10.600091,
          12.348475869999998,
          0.2294976470588236,
          17.829653909999998,
          3.1217074468085104,
          2.193784804630969,
          13.689767599999904,
          9.845637221174371,
          32.79284,
          1.081109,
          25.917602279999997,
          0.0022843922178987413,
          27.069703919999995,
          1.7579046965546432,
          8.53455741,
          101.29883770833179,
          0.4337505300000012,
          1.011735,
          0.4148199800000004,
          12.5935243697267,
          2.615001,
          1.2033117433343605,
          0.2617195999999996,
          19.368891,
          2.52,
          6.00037548330334,
          1.568311,
          10.548343370000001,
          5.615535,
          12.348476,
          1.9452095299999994,
          10.569751000000007,
          2.5640851063829793,
          3.38381366,
          0.27870612000000006,
          50.845703,
          1.153828,
          27.762215849999997,
          1.150849751243781,
          29.985731549999997,
          0.5854689291636007,
          3.523422879999999,
          58.57841458497429,
          1.296224,
          3.0869992100000085,
          8.030950823934548,
          2.383025033183094,
          3.606739,
          0.591556,
          0.008520399999999994,
          0.02010764552768017,
          2.04348,
          1.2704517260300108,
          6.900229629999999,
          6.810998
         ],
         "xbins": {
          "end": 420,
          "size": 40,
          "start": -60
         }
        }
       ],
       "layout": {
        "bargap": 0.05,
        "template": {
         "data": {
          "bar": [
           {
            "error_x": {
             "color": "#2a3f5f"
            },
            "error_y": {
             "color": "#2a3f5f"
            },
            "marker": {
             "line": {
              "color": "#E5ECF6",
              "width": 0.5
             },
             "pattern": {
              "fillmode": "overlay",
              "size": 10,
              "solidity": 0.2
             }
            },
            "type": "bar"
           }
          ],
          "barpolar": [
           {
            "marker": {
             "line": {
              "color": "#E5ECF6",
              "width": 0.5
             },
             "pattern": {
              "fillmode": "overlay",
              "size": 10,
              "solidity": 0.2
             }
            },
            "type": "barpolar"
           }
          ],
          "carpet": [
           {
            "aaxis": {
             "endlinecolor": "#2a3f5f",
             "gridcolor": "white",
             "linecolor": "white",
             "minorgridcolor": "white",
             "startlinecolor": "#2a3f5f"
            },
            "baxis": {
             "endlinecolor": "#2a3f5f",
             "gridcolor": "white",
             "linecolor": "white",
             "minorgridcolor": "white",
             "startlinecolor": "#2a3f5f"
            },
            "type": "carpet"
           }
          ],
          "choropleth": [
           {
            "colorbar": {
             "outlinewidth": 0,
             "ticks": ""
            },
            "type": "choropleth"
           }
          ],
          "contour": [
           {
            "colorbar": {
             "outlinewidth": 0,
             "ticks": ""
            },
            "colorscale": [
             [
              0,
              "#0d0887"
             ],
             [
              0.1111111111111111,
              "#46039f"
             ],
             [
              0.2222222222222222,
              "#7201a8"
             ],
             [
              0.3333333333333333,
              "#9c179e"
             ],
             [
              0.4444444444444444,
              "#bd3786"
             ],
             [
              0.5555555555555556,
              "#d8576b"
             ],
             [
              0.6666666666666666,
              "#ed7953"
             ],
             [
              0.7777777777777778,
              "#fb9f3a"
             ],
             [
              0.8888888888888888,
              "#fdca26"
             ],
             [
              1,
              "#f0f921"
             ]
            ],
            "type": "contour"
           }
          ],
          "contourcarpet": [
           {
            "colorbar": {
             "outlinewidth": 0,
             "ticks": ""
            },
            "type": "contourcarpet"
           }
          ],
          "heatmap": [
           {
            "colorbar": {
             "outlinewidth": 0,
             "ticks": ""
            },
            "colorscale": [
             [
              0,
              "#0d0887"
             ],
             [
              0.1111111111111111,
              "#46039f"
             ],
             [
              0.2222222222222222,
              "#7201a8"
             ],
             [
              0.3333333333333333,
              "#9c179e"
             ],
             [
              0.4444444444444444,
              "#bd3786"
             ],
             [
              0.5555555555555556,
              "#d8576b"
             ],
             [
              0.6666666666666666,
              "#ed7953"
             ],
             [
              0.7777777777777778,
              "#fb9f3a"
             ],
             [
              0.8888888888888888,
              "#fdca26"
             ],
             [
              1,
              "#f0f921"
             ]
            ],
            "type": "heatmap"
           }
          ],
          "heatmapgl": [
           {
            "colorbar": {
             "outlinewidth": 0,
             "ticks": ""
            },
            "colorscale": [
             [
              0,
              "#0d0887"
             ],
             [
              0.1111111111111111,
              "#46039f"
             ],
             [
              0.2222222222222222,
              "#7201a8"
             ],
             [
              0.3333333333333333,
              "#9c179e"
             ],
             [
              0.4444444444444444,
              "#bd3786"
             ],
             [
              0.5555555555555556,
              "#d8576b"
             ],
             [
              0.6666666666666666,
              "#ed7953"
             ],
             [
              0.7777777777777778,
              "#fb9f3a"
             ],
             [
              0.8888888888888888,
              "#fdca26"
             ],
             [
              1,
              "#f0f921"
             ]
            ],
            "type": "heatmapgl"
           }
          ],
          "histogram": [
           {
            "marker": {
             "pattern": {
              "fillmode": "overlay",
              "size": 10,
              "solidity": 0.2
             }
            },
            "type": "histogram"
           }
          ],
          "histogram2d": [
           {
            "colorbar": {
             "outlinewidth": 0,
             "ticks": ""
            },
            "colorscale": [
             [
              0,
              "#0d0887"
             ],
             [
              0.1111111111111111,
              "#46039f"
             ],
             [
              0.2222222222222222,
              "#7201a8"
             ],
             [
              0.3333333333333333,
              "#9c179e"
             ],
             [
              0.4444444444444444,
              "#bd3786"
             ],
             [
              0.5555555555555556,
              "#d8576b"
             ],
             [
              0.6666666666666666,
              "#ed7953"
             ],
             [
              0.7777777777777778,
              "#fb9f3a"
             ],
             [
              0.8888888888888888,
              "#fdca26"
             ],
             [
              1,
              "#f0f921"
             ]
            ],
            "type": "histogram2d"
           }
          ],
          "histogram2dcontour": [
           {
            "colorbar": {
             "outlinewidth": 0,
             "ticks": ""
            },
            "colorscale": [
             [
              0,
              "#0d0887"
             ],
             [
              0.1111111111111111,
              "#46039f"
             ],
             [
              0.2222222222222222,
              "#7201a8"
             ],
             [
              0.3333333333333333,
              "#9c179e"
             ],
             [
              0.4444444444444444,
              "#bd3786"
             ],
             [
              0.5555555555555556,
              "#d8576b"
             ],
             [
              0.6666666666666666,
              "#ed7953"
             ],
             [
              0.7777777777777778,
              "#fb9f3a"
             ],
             [
              0.8888888888888888,
              "#fdca26"
             ],
             [
              1,
              "#f0f921"
             ]
            ],
            "type": "histogram2dcontour"
           }
          ],
          "mesh3d": [
           {
            "colorbar": {
             "outlinewidth": 0,
             "ticks": ""
            },
            "type": "mesh3d"
           }
          ],
          "parcoords": [
           {
            "line": {
             "colorbar": {
              "outlinewidth": 0,
              "ticks": ""
             }
            },
            "type": "parcoords"
           }
          ],
          "pie": [
           {
            "automargin": true,
            "type": "pie"
           }
          ],
          "scatter": [
           {
            "fillpattern": {
             "fillmode": "overlay",
             "size": 10,
             "solidity": 0.2
            },
            "type": "scatter"
           }
          ],
          "scatter3d": [
           {
            "line": {
             "colorbar": {
              "outlinewidth": 0,
              "ticks": ""
             }
            },
            "marker": {
             "colorbar": {
              "outlinewidth": 0,
              "ticks": ""
             }
            },
            "type": "scatter3d"
           }
          ],
          "scattercarpet": [
           {
            "marker": {
             "colorbar": {
              "outlinewidth": 0,
              "ticks": ""
             }
            },
            "type": "scattercarpet"
           }
          ],
          "scattergeo": [
           {
            "marker": {
             "colorbar": {
              "outlinewidth": 0,
              "ticks": ""
             }
            },
            "type": "scattergeo"
           }
          ],
          "scattergl": [
           {
            "marker": {
             "colorbar": {
              "outlinewidth": 0,
              "ticks": ""
             }
            },
            "type": "scattergl"
           }
          ],
          "scattermapbox": [
           {
            "marker": {
             "colorbar": {
              "outlinewidth": 0,
              "ticks": ""
             }
            },
            "type": "scattermapbox"
           }
          ],
          "scatterpolar": [
           {
            "marker": {
             "colorbar": {
              "outlinewidth": 0,
              "ticks": ""
             }
            },
            "type": "scatterpolar"
           }
          ],
          "scatterpolargl": [
           {
            "marker": {
             "colorbar": {
              "outlinewidth": 0,
              "ticks": ""
             }
            },
            "type": "scatterpolargl"
           }
          ],
          "scatterternary": [
           {
            "marker": {
             "colorbar": {
              "outlinewidth": 0,
              "ticks": ""
             }
            },
            "type": "scatterternary"
           }
          ],
          "surface": [
           {
            "colorbar": {
             "outlinewidth": 0,
             "ticks": ""
            },
            "colorscale": [
             [
              0,
              "#0d0887"
             ],
             [
              0.1111111111111111,
              "#46039f"
             ],
             [
              0.2222222222222222,
              "#7201a8"
             ],
             [
              0.3333333333333333,
              "#9c179e"
             ],
             [
              0.4444444444444444,
              "#bd3786"
             ],
             [
              0.5555555555555556,
              "#d8576b"
             ],
             [
              0.6666666666666666,
              "#ed7953"
             ],
             [
              0.7777777777777778,
              "#fb9f3a"
             ],
             [
              0.8888888888888888,
              "#fdca26"
             ],
             [
              1,
              "#f0f921"
             ]
            ],
            "type": "surface"
           }
          ],
          "table": [
           {
            "cells": {
             "fill": {
              "color": "#EBF0F8"
             },
             "line": {
              "color": "white"
             }
            },
            "header": {
             "fill": {
              "color": "#C8D4E3"
             },
             "line": {
              "color": "white"
             }
            },
            "type": "table"
           }
          ]
         },
         "layout": {
          "annotationdefaults": {
           "arrowcolor": "#2a3f5f",
           "arrowhead": 0,
           "arrowwidth": 1
          },
          "autotypenumbers": "strict",
          "coloraxis": {
           "colorbar": {
            "outlinewidth": 0,
            "ticks": ""
           }
          },
          "colorscale": {
           "diverging": [
            [
             0,
             "#8e0152"
            ],
            [
             0.1,
             "#c51b7d"
            ],
            [
             0.2,
             "#de77ae"
            ],
            [
             0.3,
             "#f1b6da"
            ],
            [
             0.4,
             "#fde0ef"
            ],
            [
             0.5,
             "#f7f7f7"
            ],
            [
             0.6,
             "#e6f5d0"
            ],
            [
             0.7,
             "#b8e186"
            ],
            [
             0.8,
             "#7fbc41"
            ],
            [
             0.9,
             "#4d9221"
            ],
            [
             1,
             "#276419"
            ]
           ],
           "sequential": [
            [
             0,
             "#0d0887"
            ],
            [
             0.1111111111111111,
             "#46039f"
            ],
            [
             0.2222222222222222,
             "#7201a8"
            ],
            [
             0.3333333333333333,
             "#9c179e"
            ],
            [
             0.4444444444444444,
             "#bd3786"
            ],
            [
             0.5555555555555556,
             "#d8576b"
            ],
            [
             0.6666666666666666,
             "#ed7953"
            ],
            [
             0.7777777777777778,
             "#fb9f3a"
            ],
            [
             0.8888888888888888,
             "#fdca26"
            ],
            [
             1,
             "#f0f921"
            ]
           ],
           "sequentialminus": [
            [
             0,
             "#0d0887"
            ],
            [
             0.1111111111111111,
             "#46039f"
            ],
            [
             0.2222222222222222,
             "#7201a8"
            ],
            [
             0.3333333333333333,
             "#9c179e"
            ],
            [
             0.4444444444444444,
             "#bd3786"
            ],
            [
             0.5555555555555556,
             "#d8576b"
            ],
            [
             0.6666666666666666,
             "#ed7953"
            ],
            [
             0.7777777777777778,
             "#fb9f3a"
            ],
            [
             0.8888888888888888,
             "#fdca26"
            ],
            [
             1,
             "#f0f921"
            ]
           ]
          },
          "colorway": [
           "#636efa",
           "#EF553B",
           "#00cc96",
           "#ab63fa",
           "#FFA15A",
           "#19d3f3",
           "#FF6692",
           "#B6E880",
           "#FF97FF",
           "#FECB52"
          ],
          "font": {
           "color": "#2a3f5f"
          },
          "geo": {
           "bgcolor": "white",
           "lakecolor": "white",
           "landcolor": "#E5ECF6",
           "showlakes": true,
           "showland": true,
           "subunitcolor": "white"
          },
          "hoverlabel": {
           "align": "left"
          },
          "hovermode": "closest",
          "mapbox": {
           "style": "light"
          },
          "paper_bgcolor": "white",
          "plot_bgcolor": "#E5ECF6",
          "polar": {
           "angularaxis": {
            "gridcolor": "white",
            "linecolor": "white",
            "ticks": ""
           },
           "bgcolor": "#E5ECF6",
           "radialaxis": {
            "gridcolor": "white",
            "linecolor": "white",
            "ticks": ""
           }
          },
          "scene": {
           "xaxis": {
            "backgroundcolor": "#E5ECF6",
            "gridcolor": "white",
            "gridwidth": 2,
            "linecolor": "white",
            "showbackground": true,
            "ticks": "",
            "zerolinecolor": "white"
           },
           "yaxis": {
            "backgroundcolor": "#E5ECF6",
            "gridcolor": "white",
            "gridwidth": 2,
            "linecolor": "white",
            "showbackground": true,
            "ticks": "",
            "zerolinecolor": "white"
           },
           "zaxis": {
            "backgroundcolor": "#E5ECF6",
            "gridcolor": "white",
            "gridwidth": 2,
            "linecolor": "white",
            "showbackground": true,
            "ticks": "",
            "zerolinecolor": "white"
           }
          },
          "shapedefaults": {
           "line": {
            "color": "#2a3f5f"
           }
          },
          "ternary": {
           "aaxis": {
            "gridcolor": "white",
            "linecolor": "white",
            "ticks": ""
           },
           "baxis": {
            "gridcolor": "white",
            "linecolor": "white",
            "ticks": ""
           },
           "bgcolor": "#E5ECF6",
           "caxis": {
            "gridcolor": "white",
            "linecolor": "white",
            "ticks": ""
           }
          },
          "title": {
           "x": 0.05
          },
          "xaxis": {
           "automargin": true,
           "gridcolor": "white",
           "linecolor": "white",
           "ticks": "",
           "title": {
            "standoff": 15
           },
           "zerolinecolor": "white",
           "zerolinewidth": 2
          },
          "yaxis": {
           "automargin": true,
           "gridcolor": "white",
           "linecolor": "white",
           "ticks": "",
           "title": {
            "standoff": 15
           },
           "zerolinecolor": "white",
           "zerolinewidth": 2
          }
         }
        },
        "title": {
         "text": "Histogram of Vaccine Delivery Cost USD Mil"
        },
        "yaxis": {
         "title": {
          "text": "Count"
         }
        }
       }
      },
      "text/html": [
       "<div>                            <div id=\"7b0ef7e1-6639-44e2-8ba8-c78421fcf846\" class=\"plotly-graph-div\" style=\"height:525px; width:100%;\"></div>            <script type=\"text/javascript\">                require([\"plotly\"], function(Plotly) {                    window.PLOTLYENV=window.PLOTLYENV || {};                                    if (document.getElementById(\"7b0ef7e1-6639-44e2-8ba8-c78421fcf846\")) {                    Plotly.newPlot(                        \"7b0ef7e1-6639-44e2-8ba8-c78421fcf846\",                        [{\"x\":[5.05555555555556,3.65279605263158,3.089916455554001,6.031657552381001,0.26652482000000005,1.44003714,0.9481354700460797,12.0,3.601489,0.0294019863829799,0.5486142999933995,0.49805623047552594,0.15653428571428604,0.005,0.6207586400000006,0.36145288209606996,5.01813125,31.5,69.253257304931,5.15,5.925429253586381,1.0,3.04892424242424,4.470513,9.568506713068608,2.98221220043036,4.25467566351777,1.9875662203766498,1.6002186604860016,0.5803268499999996,3.9283750470809795,1.8640618998474805,0.018181818181818,0.22550792266212602,2.1975837086417602,0.7652288576415,0.6609511939002983,5.0146197044334695,0.001099,4.272371077919841,0.196961,10.919956594207905,0.45405062,2.618539027804071,0.033678320000000005,64.03602058317,1.73301913793103,7.746973265514396,2.1854328978329,25.14083243273441,1.02814473098736,1.933117,0.5476656139831003,0.740369701987491,0.619224728487883,0.074893205128205,0.5535422683180999,0.09565620294219802,0.13403495476970076,20.6871822218953,90.6120023767084,3.0,6.08330262679319,1.0,2.8371272804508005,2.070707,0.33167495854063006,4.9262621658312495,2.9469818971060997,0.992082,1.0373236657604017,74.02801426785929,4.35992,0.5775853021454599,3.1525202326390103,0.29080108827404477,1.3655462184874005,0.21180871097765094,2.42657096885345,0.6228308486196,0.47038615917408977,8.38487557335516,1.142007465082001,8.052,0.007481879999999888,0.21782844011667,0.040541741296296306,5.725703896103879,0.041647692227411694,0.00014379999999999927,4.832650922710591,1.0717125248100199,9.55803697891705,8.163193333333298,0.483685,1.7251023604081999,0.03624203999999998,5.6304810864706,0.260983110993093,5.620459898271598,21.80080217817703,14.69841116160599,0.9564767378045299,2.9877809162048026,0.523699215302201,0.10242277777777985,0.09838847235238994,0.63272726657739,3.7047146892655007,27.458770010722002,67.6435857612254,6.241176,1.0,2.557474,0.3980099502487602,1.1966493817311004,0.0964,2.2105263157894703,3.309835251367001,4.42546533957845,0.992082,2.293235881607538,34.8334958896473,0.8630572513698004,41.9942677788804,0.191162,10.083563719999999,1.8661297199999998,0.3279441183222998,2.6009150644981003,1.5730256418160107,0.364663348484849,0.6095,1.91007795440656,3.861258832623899,2.53450025657939,0.4298540965207701,86.03828772946197,0.7290285563185998,1.6230637362637,4.026,0.009677399999999994,6.2897058823529,0.0357781375923842,6.792638396825371,1.9765300718635992,0.954417,1.200995335,1.334587,2.186338247184159,10.724148,0.293337,4.69851133,0.330361769782261,0.4497919740933601,3.4939465310288,29.981167608286977,3.2603276826686804,16.3479446576115,0.48961149393864023,0.906,1.044571596434202,1.5999999999985447e-07,0.122073,2.4423414200000018,2.2374189390381,0.029665,0.546938,0.60876631818182,3.066387699999999,16.854318992537795,68.84554715256601,8.218288,2.2892,0.2713439469320001,0.010029940000000003,0.154082,0.37832,0.541941,0.604761,1.4232320312037001,5.016768,33.1699602225841,3.3563492524346037,4.36786426615385,2.383116,1.8869787326058103,19.2032806561145,0.273483,0.472132,0.795,1.315946,1.839827,2.6576823714101985,0.713747,0.52934562633345,93.99937585171601,4.026,0.03899,0.005156439999999995,3.7059,3.015567976683799,0.10969465861329902,8.028874745486975,0.74339979426903,2.4784203203741106,10.067026,0.115076,5.855303,0.109751,0.08534880282670003,2.535478265514396,31.384869354381024,4.313142,4.977756248249702,0.768183,9.46439,0.83273,0.10758091000000015,0.6991199689663984,1.551469,16.726176254999995,0.08840081937806983,0.037783,0.41166047512139936,0.169124,3.274182,7.053520162909202,64.28044512579861,74.3019023142609,4.0,2.370235,1.963051,11.6474231260403,3.164735,2.202784,1.1111111198260914e-08,10.585337,59.36969925523141,6.40279,0.22648,5.761484,38.96790714504459,4.780613347743871,21.7973713333333,0.7094296999999993,28.080943738656998,7.8926501330769,2.135445256299,6.299143,1.151037,0.161432,0.418705,0.582,1.453858,7.225807,2.7686921639457123,1.709822,0.7266393779572901,38.5819183844948,2.54891,0.004332389999999999,2.7828326894293016,26.67515601,17.262937,9.754648,0.08572273396370804,2.343645,7.771126844476997,0.00017784953717980533,2.937104528706491,4.3321153695459,9.521042,0.059102,4.622497,0.063511,3.475956,1.57701,32.12694892206901,0.46807208426580205,1.52375443046652,12.474909,0.495976,0.9058,1.741956,0.305489,8.049232740000003,9.864215,0.045239,3.144285,1.59998,97.3113072932021,75.4998373140311,4.0,2.491932,0.5,2.79608,2.0,7.12714,0.41821585347519397,5.149213583146099,13.992922,0.025998799334109993,5.250953,5.723048,46.0245935886966,22.4326465299173,58.409628,35.90577004494859,2.4007482062726506,11.417437,3.976823,1.853481,3.679827,1.3675806099999999,0.193368,7.153208,0.642764,1.20501106101779,7.633867,4.057235267379806,0.89214,0.261573,0.9435250392000908,2.8453616000000017,0.5151255300000003,0.0007905,1.930558,11.42452,2.976275278655298,27.45993901,11.529174289999998,0.02700505888306105,0.6860241883248305,2.7341510727875997,5.268077,0.051185,2.195540231548491,0.04167208403758891,0.20226896607561967,2.208276,31.62125254182905,3.698859,21.130934,2.62693005627075,13.232561,0.411888,1.5010000399999992,1.166033,0.371161,0.8041435500000007,3.718367964029312e-07,0.46244,0.22087406687718,1.053376,7.336135,0.578754,0.030004,2.282377,1.242245,2.798052,28.4893354569961,48.064909967161995,69.18003437220221,4.0,2.060745,11.527754759999999,0.4686399173608199,3.729844,1.1999999999898135e-07,80.0,1.539905,0.04098378000000001,11.952794,7.296347,0.11639099459595978,6.195227,23.711854,0.0057048278215401805,5.650745,5.7366,47.5473913349527,3.7802818894647006,29.9572714420617,36.755564,2.2018017899999993,3.67119392719964,14.194224,2.8239655,2.5641330777877998,11.743784,1.04813061,0.29809,0.271315,0.674392,0.7254176743993103,7.206468,2.6976885705088005,1.31109259259259,0.466723,0.5939407022894304,4.213183,0.05988505999999959,5.7915,11.89,4.839157657406103,28.244722009999997,12.9249,0.09859225999999792,1.9038985167409797,32.317848750662,0.437886,0.6855038580949204,0.03317289000000002,10.067072642199992,2.010994,31.891046953185022,4.07828,2.1285855141934977,20.522427,1.7404930877906195,13.654624,0.423049,1.506389,0.03192690058479532,0.292925,0.4020717749999985,0.681425,36.33366540454531,1.992442,5.563243,2.74514623252575,0.578604,0.049908,0.771715,1.094398,4.060769,3.55911,25.240943846998295,11.451835674858003,68.96698355157369,12.0,0.964302,4.1963,0.8573442851237897,5.8935825,0.06633499170812965,0.044155,1.782713,0.7046462955211997,0.139038,1.1582963099999986,14.592772,4.269426,3.710597,0.81391,6.570179,47.83830652394921,3.046804759321591,34.71499033548769,34.6489977735728,1.800405,15.76747,2.96176091691653,14.194224,1.671108,2.99648,12.270668,0.6291465,0.18346,0.579029,0.6449800141662201,0.115849,2.091084,0.532,2.416884347896695,0.933779,0.62108,0.045519,0.5267372021216796,3.204676,0.04806571000000089,3.860203,11.5865,0.30904990846971897,5.249651,6.632028,0.046017276868193,3.641281,0.2,4.073092065087881,0.7123044362946991,3.968623547422398,14.885081,0.021796,0.171268,1.715249,13.673284941196918,0.325,2.453105,2.005639,36.291895267407,8.1236050043823,1.5756060106517902,15.840709,0.77411,0.7656945,13.578845,2.610317,0.001,0.303132,0.544312,37.312291,0.237498,0.09164,5.365479,2.372496,0.654457,1.2538921881899014,1.155662,6.130974,1.679031,28.746261810733795,59.1430362681077,2.0,1.277522,0.050759,6.392864,0.00097,181.34056344938796,1.782713,0.5533058516097888,6.309801340103149e-08,8.626525439825203,0.03987999564536987,2.888107,0.059382,63.102758,6.171024,57.7005231883981,3.5864435242529997,29.268688178790196,4.656025309126996,4.553925133526504,2.954390787491742,14.370055,1.216801,18.239121,0.805357,0.083948,0.357107,0.035369,0.44536324891000006,0.022935,1.6199133485501707,0.565009,0.901954,0.026,0.2825575150995096,19.362133,0.054611,6.137086,6.951869574561391,12.736576,17.207551,11.526669,0.04861333333333302,1.1320197826730012,20.0,2.2056521987074302,0.16803181605751066,5.152351751198098,24.520271,1.773488,14.326167288946985,0.2645,0.441209,2.383043,1.033077,46.821766107988,8.18423769822,0.7045187086772993,44.163791,1.6824292079551602,3.2758385768126996,0.450691,0.025,13.605069,3.567016,0.132885,0.070921,41.04352,0.06927930389032204,3.460307,0.168751,0.8834,0.057002,1.8258666286663972,4.364602,37.40196168556471,32.762704205479,59.7721918828129,1.264881,5.767725,265.0,7.9261855,0.0668,0.6131165137716197,0.10234350990594888,0.850873,19.453949,1.506788,4.720457,61.1022940729104,28.472222222222193,3.567358,3.425481508520305,0.5163040615119199,16.410935,2.179477,3.843124,11.976731,0.096623,0.0131,0.619083,0.010518,0.17790905668604,2.0141609308549,5.738106,36.3043224937166,0.39,0.63344,21.768776,22.379662,0.048913,2.70045,0.015,24.601285005,2.0035504216637983,0.6297970479704761,6.879992236676399,22.060796,13.940204,16.483019,0.05680205824552098,13.841075624669015,0.22271674779277995,6.681522,11.284122,1.3611835106382995,0.227686,0.265164,1.5654528219971025,18.34977679327011,0.274,0.04,0.342492,0.7407676465776097,1.126298,54.70583393099099,2.3603607311677934,0.2930795348558985,12.153034,1.2631783785142439,5.154462857932806,13.567474,4.2829545,41.864391,3.9441178403229973,5.039291,0.884397,0.36817,0.054822,0.054651517066601665,1.392819,6.279177,0.0883274626503028,40.91008419059229,60.40134749751789,2.0,1.405771,0.9347397051514201,5.063762,264.6,6.063498,6.0,0.0625,0.0739509389722501,11.207488784294009,0.16667412123571987,0.125469,0.719738,0.35321838217067064,0.43831895511550084,67.453683,5.292548,7.943862060001401,37.29107401370811,2.7555354451709015,12.031388,0.888596,3.1717798076923005,1.725401,3.706356,6.982075221207979,0.713797,2.456995,0.389816,0.20505420822079992,0.070963,11.627642,5.287444,0.398191,0.031486,0.32172933651591,7.924877,0.05421227267890051,0.3571977559198998,0.742440132380952,7.517980026990604,22.754879,21.15002,0.053009587419407964,0.2945224065853297,1.0748201737023102,1.6029332142491974,18.765615,0.08347751,0.2826,0.001428,1.9304241799999997,1.5637255302290898,0.340725,25.92515,0.49598234,34.30714398835309,42.701679219999995,0.027842907233808015,4.004525449999999,1.021737777777778,7.34873,0.11392846347440035,62.7960999067557,1.4375725400000001,4.7368190199999995,0.090591,396.3,0.07996046,0.11805297966313012,3.7777864700000006,15.690754037392798,0.2435407171716988,0.014202358955999837,5.9816610905238985,5.00172534,11.261401724465502,20.641973623981983,3.726658,0.5337730285811014,5.58418,7.978303030000001,3.3011506399999995,0.198384121919248,0.015026429999999993,2.627642,7.2999986086956525,0.977605,0.366093,8.2792861962299,12.497225,0.09667949000000002,2.580046170000002,10.19724668,12.021411039999998,34.96682041685802,0.22370588235295005,0.05491055590753816,1.10427,19.173419810000002,4.88223138297873,7.702814841288194,9.163458279999999,35.950364,1.61376058433796,26.095847840000005,0.7832338308457699,0.13066322379196993,32.75909617,0.030849394521340962,0.879527,5.080386719999999,75.01869984495198,0.9937931699999999,366.909691,0.20589509262453998,4.605043,30.38596,34.874107,2.244813,0.1506061077231355,1.4400407758511007,5.87885852,56.6149369429588,7.922085939354001,3.299999999999272e-07,38.68910584234799,6.868919,0.773870847202599,2.171739289999999,5.783615,0.5580340864564199,0.002675,2.627642,6.474588,1.232002,0.396011,2.630336,0.71785,12.591793,2.8612087719298005,10.600091,12.348475869999998,0.2294976470588236,17.829653909999998,3.1217074468085104,2.193784804630969,13.689767599999904,9.845637221174371,32.79284,1.081109,25.917602279999997,0.0022843922178987413,27.069703919999995,1.7579046965546432,8.53455741,101.29883770833179,0.4337505300000012,1.011735,0.4148199800000004,12.5935243697267,2.615001,1.2033117433343605,0.2617195999999996,19.368891,2.52,6.00037548330334,1.568311,10.548343370000001,5.615535,12.348476,1.9452095299999994,10.569751000000007,2.5640851063829793,3.38381366,0.27870612000000006,50.845703,1.153828,27.762215849999997,1.150849751243781,29.985731549999997,0.5854689291636007,3.523422879999999,58.57841458497429,1.296224,3.0869992100000085,8.030950823934548,2.383025033183094,3.606739,0.591556,0.008520399999999994,0.02010764552768017,2.04348,1.2704517260300108,6.900229629999999,6.810998],\"xbins\":{\"end\":420.0,\"size\":40.0,\"start\":-60.0},\"type\":\"histogram\"}],                        {\"bargap\":0.05,\"title\":{\"text\":\"Histogram of Vaccine Delivery Cost USD Mil\"},\"yaxis\":{\"title\":{\"text\":\"Count\"}},\"template\":{\"data\":{\"histogram2dcontour\":[{\"type\":\"histogram2dcontour\",\"colorbar\":{\"outlinewidth\":0,\"ticks\":\"\"},\"colorscale\":[[0.0,\"#0d0887\"],[0.1111111111111111,\"#46039f\"],[0.2222222222222222,\"#7201a8\"],[0.3333333333333333,\"#9c179e\"],[0.4444444444444444,\"#bd3786\"],[0.5555555555555556,\"#d8576b\"],[0.6666666666666666,\"#ed7953\"],[0.7777777777777778,\"#fb9f3a\"],[0.8888888888888888,\"#fdca26\"],[1.0,\"#f0f921\"]]}],\"choropleth\":[{\"type\":\"choropleth\",\"colorbar\":{\"outlinewidth\":0,\"ticks\":\"\"}}],\"histogram2d\":[{\"type\":\"histogram2d\",\"colorbar\":{\"outlinewidth\":0,\"ticks\":\"\"},\"colorscale\":[[0.0,\"#0d0887\"],[0.1111111111111111,\"#46039f\"],[0.2222222222222222,\"#7201a8\"],[0.3333333333333333,\"#9c179e\"],[0.4444444444444444,\"#bd3786\"],[0.5555555555555556,\"#d8576b\"],[0.6666666666666666,\"#ed7953\"],[0.7777777777777778,\"#fb9f3a\"],[0.8888888888888888,\"#fdca26\"],[1.0,\"#f0f921\"]]}],\"heatmap\":[{\"type\":\"heatmap\",\"colorbar\":{\"outlinewidth\":0,\"ticks\":\"\"},\"colorscale\":[[0.0,\"#0d0887\"],[0.1111111111111111,\"#46039f\"],[0.2222222222222222,\"#7201a8\"],[0.3333333333333333,\"#9c179e\"],[0.4444444444444444,\"#bd3786\"],[0.5555555555555556,\"#d8576b\"],[0.6666666666666666,\"#ed7953\"],[0.7777777777777778,\"#fb9f3a\"],[0.8888888888888888,\"#fdca26\"],[1.0,\"#f0f921\"]]}],\"heatmapgl\":[{\"type\":\"heatmapgl\",\"colorbar\":{\"outlinewidth\":0,\"ticks\":\"\"},\"colorscale\":[[0.0,\"#0d0887\"],[0.1111111111111111,\"#46039f\"],[0.2222222222222222,\"#7201a8\"],[0.3333333333333333,\"#9c179e\"],[0.4444444444444444,\"#bd3786\"],[0.5555555555555556,\"#d8576b\"],[0.6666666666666666,\"#ed7953\"],[0.7777777777777778,\"#fb9f3a\"],[0.8888888888888888,\"#fdca26\"],[1.0,\"#f0f921\"]]}],\"contourcarpet\":[{\"type\":\"contourcarpet\",\"colorbar\":{\"outlinewidth\":0,\"ticks\":\"\"}}],\"contour\":[{\"type\":\"contour\",\"colorbar\":{\"outlinewidth\":0,\"ticks\":\"\"},\"colorscale\":[[0.0,\"#0d0887\"],[0.1111111111111111,\"#46039f\"],[0.2222222222222222,\"#7201a8\"],[0.3333333333333333,\"#9c179e\"],[0.4444444444444444,\"#bd3786\"],[0.5555555555555556,\"#d8576b\"],[0.6666666666666666,\"#ed7953\"],[0.7777777777777778,\"#fb9f3a\"],[0.8888888888888888,\"#fdca26\"],[1.0,\"#f0f921\"]]}],\"surface\":[{\"type\":\"surface\",\"colorbar\":{\"outlinewidth\":0,\"ticks\":\"\"},\"colorscale\":[[0.0,\"#0d0887\"],[0.1111111111111111,\"#46039f\"],[0.2222222222222222,\"#7201a8\"],[0.3333333333333333,\"#9c179e\"],[0.4444444444444444,\"#bd3786\"],[0.5555555555555556,\"#d8576b\"],[0.6666666666666666,\"#ed7953\"],[0.7777777777777778,\"#fb9f3a\"],[0.8888888888888888,\"#fdca26\"],[1.0,\"#f0f921\"]]}],\"mesh3d\":[{\"type\":\"mesh3d\",\"colorbar\":{\"outlinewidth\":0,\"ticks\":\"\"}}],\"scatter\":[{\"fillpattern\":{\"fillmode\":\"overlay\",\"size\":10,\"solidity\":0.2},\"type\":\"scatter\"}],\"parcoords\":[{\"type\":\"parcoords\",\"line\":{\"colorbar\":{\"outlinewidth\":0,\"ticks\":\"\"}}}],\"scatterpolargl\":[{\"type\":\"scatterpolargl\",\"marker\":{\"colorbar\":{\"outlinewidth\":0,\"ticks\":\"\"}}}],\"bar\":[{\"error_x\":{\"color\":\"#2a3f5f\"},\"error_y\":{\"color\":\"#2a3f5f\"},\"marker\":{\"line\":{\"color\":\"#E5ECF6\",\"width\":0.5},\"pattern\":{\"fillmode\":\"overlay\",\"size\":10,\"solidity\":0.2}},\"type\":\"bar\"}],\"scattergeo\":[{\"type\":\"scattergeo\",\"marker\":{\"colorbar\":{\"outlinewidth\":0,\"ticks\":\"\"}}}],\"scatterpolar\":[{\"type\":\"scatterpolar\",\"marker\":{\"colorbar\":{\"outlinewidth\":0,\"ticks\":\"\"}}}],\"histogram\":[{\"marker\":{\"pattern\":{\"fillmode\":\"overlay\",\"size\":10,\"solidity\":0.2}},\"type\":\"histogram\"}],\"scattergl\":[{\"type\":\"scattergl\",\"marker\":{\"colorbar\":{\"outlinewidth\":0,\"ticks\":\"\"}}}],\"scatter3d\":[{\"type\":\"scatter3d\",\"line\":{\"colorbar\":{\"outlinewidth\":0,\"ticks\":\"\"}},\"marker\":{\"colorbar\":{\"outlinewidth\":0,\"ticks\":\"\"}}}],\"scattermapbox\":[{\"type\":\"scattermapbox\",\"marker\":{\"colorbar\":{\"outlinewidth\":0,\"ticks\":\"\"}}}],\"scatterternary\":[{\"type\":\"scatterternary\",\"marker\":{\"colorbar\":{\"outlinewidth\":0,\"ticks\":\"\"}}}],\"scattercarpet\":[{\"type\":\"scattercarpet\",\"marker\":{\"colorbar\":{\"outlinewidth\":0,\"ticks\":\"\"}}}],\"carpet\":[{\"aaxis\":{\"endlinecolor\":\"#2a3f5f\",\"gridcolor\":\"white\",\"linecolor\":\"white\",\"minorgridcolor\":\"white\",\"startlinecolor\":\"#2a3f5f\"},\"baxis\":{\"endlinecolor\":\"#2a3f5f\",\"gridcolor\":\"white\",\"linecolor\":\"white\",\"minorgridcolor\":\"white\",\"startlinecolor\":\"#2a3f5f\"},\"type\":\"carpet\"}],\"table\":[{\"cells\":{\"fill\":{\"color\":\"#EBF0F8\"},\"line\":{\"color\":\"white\"}},\"header\":{\"fill\":{\"color\":\"#C8D4E3\"},\"line\":{\"color\":\"white\"}},\"type\":\"table\"}],\"barpolar\":[{\"marker\":{\"line\":{\"color\":\"#E5ECF6\",\"width\":0.5},\"pattern\":{\"fillmode\":\"overlay\",\"size\":10,\"solidity\":0.2}},\"type\":\"barpolar\"}],\"pie\":[{\"automargin\":true,\"type\":\"pie\"}]},\"layout\":{\"autotypenumbers\":\"strict\",\"colorway\":[\"#636efa\",\"#EF553B\",\"#00cc96\",\"#ab63fa\",\"#FFA15A\",\"#19d3f3\",\"#FF6692\",\"#B6E880\",\"#FF97FF\",\"#FECB52\"],\"font\":{\"color\":\"#2a3f5f\"},\"hovermode\":\"closest\",\"hoverlabel\":{\"align\":\"left\"},\"paper_bgcolor\":\"white\",\"plot_bgcolor\":\"#E5ECF6\",\"polar\":{\"bgcolor\":\"#E5ECF6\",\"angularaxis\":{\"gridcolor\":\"white\",\"linecolor\":\"white\",\"ticks\":\"\"},\"radialaxis\":{\"gridcolor\":\"white\",\"linecolor\":\"white\",\"ticks\":\"\"}},\"ternary\":{\"bgcolor\":\"#E5ECF6\",\"aaxis\":{\"gridcolor\":\"white\",\"linecolor\":\"white\",\"ticks\":\"\"},\"baxis\":{\"gridcolor\":\"white\",\"linecolor\":\"white\",\"ticks\":\"\"},\"caxis\":{\"gridcolor\":\"white\",\"linecolor\":\"white\",\"ticks\":\"\"}},\"coloraxis\":{\"colorbar\":{\"outlinewidth\":0,\"ticks\":\"\"}},\"colorscale\":{\"sequential\":[[0.0,\"#0d0887\"],[0.1111111111111111,\"#46039f\"],[0.2222222222222222,\"#7201a8\"],[0.3333333333333333,\"#9c179e\"],[0.4444444444444444,\"#bd3786\"],[0.5555555555555556,\"#d8576b\"],[0.6666666666666666,\"#ed7953\"],[0.7777777777777778,\"#fb9f3a\"],[0.8888888888888888,\"#fdca26\"],[1.0,\"#f0f921\"]],\"sequentialminus\":[[0.0,\"#0d0887\"],[0.1111111111111111,\"#46039f\"],[0.2222222222222222,\"#7201a8\"],[0.3333333333333333,\"#9c179e\"],[0.4444444444444444,\"#bd3786\"],[0.5555555555555556,\"#d8576b\"],[0.6666666666666666,\"#ed7953\"],[0.7777777777777778,\"#fb9f3a\"],[0.8888888888888888,\"#fdca26\"],[1.0,\"#f0f921\"]],\"diverging\":[[0,\"#8e0152\"],[0.1,\"#c51b7d\"],[0.2,\"#de77ae\"],[0.3,\"#f1b6da\"],[0.4,\"#fde0ef\"],[0.5,\"#f7f7f7\"],[0.6,\"#e6f5d0\"],[0.7,\"#b8e186\"],[0.8,\"#7fbc41\"],[0.9,\"#4d9221\"],[1,\"#276419\"]]},\"xaxis\":{\"gridcolor\":\"white\",\"linecolor\":\"white\",\"ticks\":\"\",\"title\":{\"standoff\":15},\"zerolinecolor\":\"white\",\"automargin\":true,\"zerolinewidth\":2},\"yaxis\":{\"gridcolor\":\"white\",\"linecolor\":\"white\",\"ticks\":\"\",\"title\":{\"standoff\":15},\"zerolinecolor\":\"white\",\"automargin\":true,\"zerolinewidth\":2},\"scene\":{\"xaxis\":{\"backgroundcolor\":\"#E5ECF6\",\"gridcolor\":\"white\",\"linecolor\":\"white\",\"showbackground\":true,\"ticks\":\"\",\"zerolinecolor\":\"white\",\"gridwidth\":2},\"yaxis\":{\"backgroundcolor\":\"#E5ECF6\",\"gridcolor\":\"white\",\"linecolor\":\"white\",\"showbackground\":true,\"ticks\":\"\",\"zerolinecolor\":\"white\",\"gridwidth\":2},\"zaxis\":{\"backgroundcolor\":\"#E5ECF6\",\"gridcolor\":\"white\",\"linecolor\":\"white\",\"showbackground\":true,\"ticks\":\"\",\"zerolinecolor\":\"white\",\"gridwidth\":2}},\"shapedefaults\":{\"line\":{\"color\":\"#2a3f5f\"}},\"annotationdefaults\":{\"arrowcolor\":\"#2a3f5f\",\"arrowhead\":0,\"arrowwidth\":1},\"geo\":{\"bgcolor\":\"white\",\"landcolor\":\"#E5ECF6\",\"subunitcolor\":\"white\",\"showland\":true,\"showlakes\":true,\"lakecolor\":\"white\"},\"title\":{\"x\":0.05},\"mapbox\":{\"style\":\"light\"}}}},                        {\"responsive\": true}                    ).then(function(){\n",
       "                            \n",
       "var gd = document.getElementById('7b0ef7e1-6639-44e2-8ba8-c78421fcf846');\n",
       "var x = new MutationObserver(function (mutations, observer) {{\n",
       "        var display = window.getComputedStyle(gd).display;\n",
       "        if (!display || display === 'none') {{\n",
       "            console.log([gd, 'removed!']);\n",
       "            Plotly.purge(gd);\n",
       "            observer.disconnect();\n",
       "        }}\n",
       "}});\n",
       "\n",
       "// Listen for the removal of the full notebook cells\n",
       "var notebookContainer = gd.closest('#notebook-container');\n",
       "if (notebookContainer) {{\n",
       "    x.observe(notebookContainer, {childList: true});\n",
       "}}\n",
       "\n",
       "// Listen for the clearing of the current output cell\n",
       "var outputEl = gd.closest('.output');\n",
       "if (outputEl) {{\n",
       "    x.observe(outputEl, {childList: true});\n",
       "}}\n",
       "\n",
       "                        })                };                });            </script>        </div>"
      ]
     },
     "metadata": {},
     "output_type": "display_data"
    }
   ],
   "source": [
    "\n",
    "go.Figure(\n",
    "    data=[go.Histogram(x=merged_df[\"Vaccine Delivery Cost USD Mil\"], xbins={\"start\": -60.0, \"end\": 420.0, \"size\": 40.0})],\n",
    "    layout=go.Layout(title=\"Histogram of Vaccine Delivery Cost USD Mil\", yaxis={\"title\": \"Count\"}, bargap=0.05),\n",
    "    )"
   ]
  },
  {
   "cell_type": "code",
   "execution_count": 86,
   "metadata": {},
   "outputs": [],
   "source": [
    "# Step: Keep rows where Vaccine Delivery Cost USD Mil > 0\n",
    "merged_df = merged_df.loc[merged_df['Vaccine Delivery Cost USD Mil'] > 0]"
   ]
  },
  {
   "cell_type": "code",
   "execution_count": 87,
   "metadata": {},
   "outputs": [
    {
     "data": {
      "application/vnd.plotly.v1+json": {
       "config": {
        "plotlyServerURL": "https://plot.ly"
       },
       "data": [
        {
         "alignmentgroup": "True",
         "bingroup": "x",
         "histfunc": "avg",
         "hovertemplate": "Year=%{x}<br>avg of total_vaccine in USD_prev_1_year_pct_change=%{y}<extra></extra>",
         "legendgroup": "",
         "marker": {
          "color": "#636efa",
          "pattern": {
           "shape": ""
          }
         },
         "name": "",
         "offsetgroup": "",
         "orientation": "v",
         "showlegend": false,
         "type": "histogram",
         "x": [
          "2008-01-01T00:00:00",
          "2008-01-01T00:00:00",
          "2008-01-01T00:00:00",
          "2008-01-01T00:00:00",
          "2008-01-01T00:00:00",
          "2008-01-01T00:00:00",
          "2008-01-01T00:00:00",
          "2008-01-01T00:00:00",
          "2008-01-01T00:00:00",
          "2008-01-01T00:00:00",
          "2008-01-01T00:00:00",
          "2008-01-01T00:00:00",
          "2008-01-01T00:00:00",
          "2008-01-01T00:00:00",
          "2008-01-01T00:00:00",
          "2008-01-01T00:00:00",
          "2008-01-01T00:00:00",
          "2008-01-01T00:00:00",
          "2008-01-01T00:00:00",
          "2008-01-01T00:00:00",
          "2008-01-01T00:00:00",
          "2008-01-01T00:00:00",
          "2008-01-01T00:00:00",
          "2008-01-01T00:00:00",
          "2008-01-01T00:00:00",
          "2008-01-01T00:00:00",
          "2008-01-01T00:00:00",
          "2008-01-01T00:00:00",
          "2009-01-01T00:00:00",
          "2009-01-01T00:00:00",
          "2009-01-01T00:00:00",
          "2009-01-01T00:00:00",
          "2009-01-01T00:00:00",
          "2009-01-01T00:00:00",
          "2009-01-01T00:00:00",
          "2009-01-01T00:00:00",
          "2009-01-01T00:00:00",
          "2009-01-01T00:00:00",
          "2009-01-01T00:00:00",
          "2009-01-01T00:00:00",
          "2009-01-01T00:00:00",
          "2009-01-01T00:00:00",
          "2009-01-01T00:00:00",
          "2009-01-01T00:00:00",
          "2009-01-01T00:00:00",
          "2009-01-01T00:00:00",
          "2009-01-01T00:00:00",
          "2009-01-01T00:00:00",
          "2009-01-01T00:00:00",
          "2009-01-01T00:00:00",
          "2009-01-01T00:00:00",
          "2009-01-01T00:00:00",
          "2009-01-01T00:00:00",
          "2009-01-01T00:00:00",
          "2009-01-01T00:00:00",
          "2009-01-01T00:00:00",
          "2009-01-01T00:00:00",
          "2009-01-01T00:00:00",
          "2009-01-01T00:00:00",
          "2009-01-01T00:00:00",
          "2009-01-01T00:00:00",
          "2009-01-01T00:00:00",
          "2009-01-01T00:00:00",
          "2009-01-01T00:00:00",
          "2009-01-01T00:00:00",
          "2009-01-01T00:00:00",
          "2009-01-01T00:00:00",
          "2009-01-01T00:00:00",
          "2009-01-01T00:00:00",
          "2009-01-01T00:00:00",
          "2010-01-01T00:00:00",
          "2010-01-01T00:00:00",
          "2010-01-01T00:00:00",
          "2010-01-01T00:00:00",
          "2010-01-01T00:00:00",
          "2010-01-01T00:00:00",
          "2010-01-01T00:00:00",
          "2010-01-01T00:00:00",
          "2010-01-01T00:00:00",
          "2010-01-01T00:00:00",
          "2010-01-01T00:00:00",
          "2010-01-01T00:00:00",
          "2010-01-01T00:00:00",
          "2010-01-01T00:00:00",
          "2010-01-01T00:00:00",
          "2010-01-01T00:00:00",
          "2010-01-01T00:00:00",
          "2010-01-01T00:00:00",
          "2010-01-01T00:00:00",
          "2010-01-01T00:00:00",
          "2010-01-01T00:00:00",
          "2010-01-01T00:00:00",
          "2010-01-01T00:00:00",
          "2010-01-01T00:00:00",
          "2010-01-01T00:00:00",
          "2010-01-01T00:00:00",
          "2010-01-01T00:00:00",
          "2010-01-01T00:00:00",
          "2010-01-01T00:00:00",
          "2010-01-01T00:00:00",
          "2010-01-01T00:00:00",
          "2010-01-01T00:00:00",
          "2010-01-01T00:00:00",
          "2010-01-01T00:00:00",
          "2010-01-01T00:00:00",
          "2010-01-01T00:00:00",
          "2010-01-01T00:00:00",
          "2010-01-01T00:00:00",
          "2010-01-01T00:00:00",
          "2010-01-01T00:00:00",
          "2010-01-01T00:00:00",
          "2010-01-01T00:00:00",
          "2010-01-01T00:00:00",
          "2010-01-01T00:00:00",
          "2010-01-01T00:00:00",
          "2010-01-01T00:00:00",
          "2011-01-01T00:00:00",
          "2011-01-01T00:00:00",
          "2011-01-01T00:00:00",
          "2011-01-01T00:00:00",
          "2011-01-01T00:00:00",
          "2011-01-01T00:00:00",
          "2011-01-01T00:00:00",
          "2011-01-01T00:00:00",
          "2011-01-01T00:00:00",
          "2011-01-01T00:00:00",
          "2011-01-01T00:00:00",
          "2011-01-01T00:00:00",
          "2011-01-01T00:00:00",
          "2011-01-01T00:00:00",
          "2011-01-01T00:00:00",
          "2011-01-01T00:00:00",
          "2011-01-01T00:00:00",
          "2011-01-01T00:00:00",
          "2011-01-01T00:00:00",
          "2011-01-01T00:00:00",
          "2011-01-01T00:00:00",
          "2011-01-01T00:00:00",
          "2011-01-01T00:00:00",
          "2011-01-01T00:00:00",
          "2011-01-01T00:00:00",
          "2011-01-01T00:00:00",
          "2011-01-01T00:00:00",
          "2011-01-01T00:00:00",
          "2011-01-01T00:00:00",
          "2011-01-01T00:00:00",
          "2011-01-01T00:00:00",
          "2011-01-01T00:00:00",
          "2011-01-01T00:00:00",
          "2011-01-01T00:00:00",
          "2011-01-01T00:00:00",
          "2011-01-01T00:00:00",
          "2011-01-01T00:00:00",
          "2011-01-01T00:00:00",
          "2011-01-01T00:00:00",
          "2011-01-01T00:00:00",
          "2011-01-01T00:00:00",
          "2011-01-01T00:00:00",
          "2011-01-01T00:00:00",
          "2011-01-01T00:00:00",
          "2011-01-01T00:00:00",
          "2011-01-01T00:00:00",
          "2011-01-01T00:00:00",
          "2011-01-01T00:00:00",
          "2011-01-01T00:00:00",
          "2012-01-01T00:00:00",
          "2012-01-01T00:00:00",
          "2012-01-01T00:00:00",
          "2012-01-01T00:00:00",
          "2012-01-01T00:00:00",
          "2012-01-01T00:00:00",
          "2012-01-01T00:00:00",
          "2012-01-01T00:00:00",
          "2012-01-01T00:00:00",
          "2012-01-01T00:00:00",
          "2012-01-01T00:00:00",
          "2012-01-01T00:00:00",
          "2012-01-01T00:00:00",
          "2012-01-01T00:00:00",
          "2012-01-01T00:00:00",
          "2012-01-01T00:00:00",
          "2012-01-01T00:00:00",
          "2012-01-01T00:00:00",
          "2012-01-01T00:00:00",
          "2012-01-01T00:00:00",
          "2012-01-01T00:00:00",
          "2012-01-01T00:00:00",
          "2012-01-01T00:00:00",
          "2012-01-01T00:00:00",
          "2012-01-01T00:00:00",
          "2012-01-01T00:00:00",
          "2012-01-01T00:00:00",
          "2012-01-01T00:00:00",
          "2012-01-01T00:00:00",
          "2012-01-01T00:00:00",
          "2012-01-01T00:00:00",
          "2012-01-01T00:00:00",
          "2012-01-01T00:00:00",
          "2012-01-01T00:00:00",
          "2012-01-01T00:00:00",
          "2012-01-01T00:00:00",
          "2012-01-01T00:00:00",
          "2012-01-01T00:00:00",
          "2012-01-01T00:00:00",
          "2012-01-01T00:00:00",
          "2012-01-01T00:00:00",
          "2012-01-01T00:00:00",
          "2012-01-01T00:00:00",
          "2012-01-01T00:00:00",
          "2012-01-01T00:00:00",
          "2012-01-01T00:00:00",
          "2012-01-01T00:00:00",
          "2012-01-01T00:00:00",
          "2012-01-01T00:00:00",
          "2012-01-01T00:00:00",
          "2012-01-01T00:00:00",
          "2012-01-01T00:00:00",
          "2012-01-01T00:00:00",
          "2012-01-01T00:00:00",
          "2012-01-01T00:00:00",
          "2012-01-01T00:00:00",
          "2012-01-01T00:00:00",
          "2012-01-01T00:00:00",
          "2012-01-01T00:00:00",
          "2013-01-01T00:00:00",
          "2013-01-01T00:00:00",
          "2013-01-01T00:00:00",
          "2013-01-01T00:00:00",
          "2013-01-01T00:00:00",
          "2013-01-01T00:00:00",
          "2013-01-01T00:00:00",
          "2013-01-01T00:00:00",
          "2013-01-01T00:00:00",
          "2013-01-01T00:00:00",
          "2013-01-01T00:00:00",
          "2013-01-01T00:00:00",
          "2013-01-01T00:00:00",
          "2013-01-01T00:00:00",
          "2013-01-01T00:00:00",
          "2013-01-01T00:00:00",
          "2013-01-01T00:00:00",
          "2013-01-01T00:00:00",
          "2013-01-01T00:00:00",
          "2013-01-01T00:00:00",
          "2013-01-01T00:00:00",
          "2013-01-01T00:00:00",
          "2013-01-01T00:00:00",
          "2013-01-01T00:00:00",
          "2013-01-01T00:00:00",
          "2013-01-01T00:00:00",
          "2013-01-01T00:00:00",
          "2013-01-01T00:00:00",
          "2013-01-01T00:00:00",
          "2013-01-01T00:00:00",
          "2013-01-01T00:00:00",
          "2013-01-01T00:00:00",
          "2013-01-01T00:00:00",
          "2013-01-01T00:00:00",
          "2013-01-01T00:00:00",
          "2013-01-01T00:00:00",
          "2013-01-01T00:00:00",
          "2013-01-01T00:00:00",
          "2013-01-01T00:00:00",
          "2013-01-01T00:00:00",
          "2013-01-01T00:00:00",
          "2013-01-01T00:00:00",
          "2013-01-01T00:00:00",
          "2013-01-01T00:00:00",
          "2013-01-01T00:00:00",
          "2013-01-01T00:00:00",
          "2013-01-01T00:00:00",
          "2013-01-01T00:00:00",
          "2013-01-01T00:00:00",
          "2013-01-01T00:00:00",
          "2013-01-01T00:00:00",
          "2013-01-01T00:00:00",
          "2013-01-01T00:00:00",
          "2013-01-01T00:00:00",
          "2013-01-01T00:00:00",
          "2013-01-01T00:00:00",
          "2013-01-01T00:00:00",
          "2013-01-01T00:00:00",
          "2013-01-01T00:00:00",
          "2013-01-01T00:00:00",
          "2013-01-01T00:00:00",
          "2013-01-01T00:00:00",
          "2013-01-01T00:00:00",
          "2013-01-01T00:00:00",
          "2013-01-01T00:00:00",
          "2013-01-01T00:00:00",
          "2013-01-01T00:00:00",
          "2014-01-01T00:00:00",
          "2014-01-01T00:00:00",
          "2014-01-01T00:00:00",
          "2014-01-01T00:00:00",
          "2014-01-01T00:00:00",
          "2014-01-01T00:00:00",
          "2014-01-01T00:00:00",
          "2014-01-01T00:00:00",
          "2014-01-01T00:00:00",
          "2014-01-01T00:00:00",
          "2014-01-01T00:00:00",
          "2014-01-01T00:00:00",
          "2014-01-01T00:00:00",
          "2014-01-01T00:00:00",
          "2014-01-01T00:00:00",
          "2014-01-01T00:00:00",
          "2014-01-01T00:00:00",
          "2014-01-01T00:00:00",
          "2014-01-01T00:00:00",
          "2014-01-01T00:00:00",
          "2014-01-01T00:00:00",
          "2014-01-01T00:00:00",
          "2014-01-01T00:00:00",
          "2014-01-01T00:00:00",
          "2014-01-01T00:00:00",
          "2014-01-01T00:00:00",
          "2014-01-01T00:00:00",
          "2014-01-01T00:00:00",
          "2014-01-01T00:00:00",
          "2014-01-01T00:00:00",
          "2014-01-01T00:00:00",
          "2014-01-01T00:00:00",
          "2014-01-01T00:00:00",
          "2014-01-01T00:00:00",
          "2014-01-01T00:00:00",
          "2014-01-01T00:00:00",
          "2014-01-01T00:00:00",
          "2014-01-01T00:00:00",
          "2014-01-01T00:00:00",
          "2014-01-01T00:00:00",
          "2014-01-01T00:00:00",
          "2014-01-01T00:00:00",
          "2014-01-01T00:00:00",
          "2014-01-01T00:00:00",
          "2014-01-01T00:00:00",
          "2014-01-01T00:00:00",
          "2014-01-01T00:00:00",
          "2014-01-01T00:00:00",
          "2014-01-01T00:00:00",
          "2014-01-01T00:00:00",
          "2014-01-01T00:00:00",
          "2014-01-01T00:00:00",
          "2014-01-01T00:00:00",
          "2014-01-01T00:00:00",
          "2014-01-01T00:00:00",
          "2014-01-01T00:00:00",
          "2014-01-01T00:00:00",
          "2014-01-01T00:00:00",
          "2014-01-01T00:00:00",
          "2014-01-01T00:00:00",
          "2014-01-01T00:00:00",
          "2014-01-01T00:00:00",
          "2014-01-01T00:00:00",
          "2014-01-01T00:00:00",
          "2014-01-01T00:00:00",
          "2014-01-01T00:00:00",
          "2014-01-01T00:00:00",
          "2014-01-01T00:00:00",
          "2014-01-01T00:00:00",
          "2014-01-01T00:00:00",
          "2014-01-01T00:00:00",
          "2014-01-01T00:00:00",
          "2014-01-01T00:00:00",
          "2015-01-01T00:00:00",
          "2015-01-01T00:00:00",
          "2015-01-01T00:00:00",
          "2015-01-01T00:00:00",
          "2015-01-01T00:00:00",
          "2015-01-01T00:00:00",
          "2015-01-01T00:00:00",
          "2015-01-01T00:00:00",
          "2015-01-01T00:00:00",
          "2015-01-01T00:00:00",
          "2015-01-01T00:00:00",
          "2015-01-01T00:00:00",
          "2015-01-01T00:00:00",
          "2015-01-01T00:00:00",
          "2015-01-01T00:00:00",
          "2015-01-01T00:00:00",
          "2015-01-01T00:00:00",
          "2015-01-01T00:00:00",
          "2015-01-01T00:00:00",
          "2015-01-01T00:00:00",
          "2015-01-01T00:00:00",
          "2015-01-01T00:00:00",
          "2015-01-01T00:00:00",
          "2015-01-01T00:00:00",
          "2015-01-01T00:00:00",
          "2015-01-01T00:00:00",
          "2015-01-01T00:00:00",
          "2015-01-01T00:00:00",
          "2015-01-01T00:00:00",
          "2015-01-01T00:00:00",
          "2015-01-01T00:00:00",
          "2015-01-01T00:00:00",
          "2015-01-01T00:00:00",
          "2015-01-01T00:00:00",
          "2015-01-01T00:00:00",
          "2015-01-01T00:00:00",
          "2015-01-01T00:00:00",
          "2015-01-01T00:00:00",
          "2015-01-01T00:00:00",
          "2015-01-01T00:00:00",
          "2015-01-01T00:00:00",
          "2015-01-01T00:00:00",
          "2015-01-01T00:00:00",
          "2015-01-01T00:00:00",
          "2015-01-01T00:00:00",
          "2015-01-01T00:00:00",
          "2015-01-01T00:00:00",
          "2015-01-01T00:00:00",
          "2015-01-01T00:00:00",
          "2015-01-01T00:00:00",
          "2015-01-01T00:00:00",
          "2015-01-01T00:00:00",
          "2015-01-01T00:00:00",
          "2015-01-01T00:00:00",
          "2015-01-01T00:00:00",
          "2015-01-01T00:00:00",
          "2015-01-01T00:00:00",
          "2015-01-01T00:00:00",
          "2015-01-01T00:00:00",
          "2015-01-01T00:00:00",
          "2015-01-01T00:00:00",
          "2015-01-01T00:00:00",
          "2015-01-01T00:00:00",
          "2015-01-01T00:00:00",
          "2015-01-01T00:00:00",
          "2015-01-01T00:00:00",
          "2015-01-01T00:00:00",
          "2015-01-01T00:00:00",
          "2015-01-01T00:00:00",
          "2015-01-01T00:00:00",
          "2015-01-01T00:00:00",
          "2015-01-01T00:00:00",
          "2015-01-01T00:00:00",
          "2015-01-01T00:00:00",
          "2015-01-01T00:00:00",
          "2015-01-01T00:00:00",
          "2015-01-01T00:00:00",
          "2016-01-01T00:00:00",
          "2016-01-01T00:00:00",
          "2016-01-01T00:00:00",
          "2016-01-01T00:00:00",
          "2016-01-01T00:00:00",
          "2016-01-01T00:00:00",
          "2016-01-01T00:00:00",
          "2016-01-01T00:00:00",
          "2016-01-01T00:00:00",
          "2016-01-01T00:00:00",
          "2016-01-01T00:00:00",
          "2016-01-01T00:00:00",
          "2016-01-01T00:00:00",
          "2016-01-01T00:00:00",
          "2016-01-01T00:00:00",
          "2016-01-01T00:00:00",
          "2016-01-01T00:00:00",
          "2016-01-01T00:00:00",
          "2016-01-01T00:00:00",
          "2016-01-01T00:00:00",
          "2016-01-01T00:00:00",
          "2016-01-01T00:00:00",
          "2016-01-01T00:00:00",
          "2016-01-01T00:00:00",
          "2016-01-01T00:00:00",
          "2016-01-01T00:00:00",
          "2016-01-01T00:00:00",
          "2016-01-01T00:00:00",
          "2016-01-01T00:00:00",
          "2016-01-01T00:00:00",
          "2016-01-01T00:00:00",
          "2016-01-01T00:00:00",
          "2016-01-01T00:00:00",
          "2016-01-01T00:00:00",
          "2016-01-01T00:00:00",
          "2016-01-01T00:00:00",
          "2016-01-01T00:00:00",
          "2016-01-01T00:00:00",
          "2016-01-01T00:00:00",
          "2016-01-01T00:00:00",
          "2016-01-01T00:00:00",
          "2016-01-01T00:00:00",
          "2016-01-01T00:00:00",
          "2016-01-01T00:00:00",
          "2016-01-01T00:00:00",
          "2016-01-01T00:00:00",
          "2016-01-01T00:00:00",
          "2016-01-01T00:00:00",
          "2016-01-01T00:00:00",
          "2016-01-01T00:00:00",
          "2016-01-01T00:00:00",
          "2016-01-01T00:00:00",
          "2016-01-01T00:00:00",
          "2016-01-01T00:00:00",
          "2016-01-01T00:00:00",
          "2016-01-01T00:00:00",
          "2016-01-01T00:00:00",
          "2016-01-01T00:00:00",
          "2016-01-01T00:00:00",
          "2016-01-01T00:00:00",
          "2016-01-01T00:00:00",
          "2016-01-01T00:00:00",
          "2016-01-01T00:00:00",
          "2016-01-01T00:00:00",
          "2016-01-01T00:00:00",
          "2016-01-01T00:00:00",
          "2016-01-01T00:00:00",
          "2016-01-01T00:00:00",
          "2016-01-01T00:00:00",
          "2016-01-01T00:00:00",
          "2016-01-01T00:00:00",
          "2016-01-01T00:00:00",
          "2016-01-01T00:00:00",
          "2016-01-01T00:00:00",
          "2016-01-01T00:00:00",
          "2016-01-01T00:00:00",
          "2017-01-01T00:00:00",
          "2017-01-01T00:00:00",
          "2017-01-01T00:00:00",
          "2017-01-01T00:00:00",
          "2017-01-01T00:00:00",
          "2017-01-01T00:00:00",
          "2017-01-01T00:00:00",
          "2017-01-01T00:00:00",
          "2017-01-01T00:00:00",
          "2017-01-01T00:00:00",
          "2017-01-01T00:00:00",
          "2017-01-01T00:00:00",
          "2017-01-01T00:00:00",
          "2017-01-01T00:00:00",
          "2017-01-01T00:00:00",
          "2017-01-01T00:00:00",
          "2017-01-01T00:00:00",
          "2017-01-01T00:00:00",
          "2017-01-01T00:00:00",
          "2017-01-01T00:00:00",
          "2017-01-01T00:00:00",
          "2017-01-01T00:00:00",
          "2017-01-01T00:00:00",
          "2017-01-01T00:00:00",
          "2017-01-01T00:00:00",
          "2017-01-01T00:00:00",
          "2017-01-01T00:00:00",
          "2017-01-01T00:00:00",
          "2017-01-01T00:00:00",
          "2017-01-01T00:00:00",
          "2017-01-01T00:00:00",
          "2017-01-01T00:00:00",
          "2017-01-01T00:00:00",
          "2017-01-01T00:00:00",
          "2017-01-01T00:00:00",
          "2017-01-01T00:00:00",
          "2017-01-01T00:00:00",
          "2017-01-01T00:00:00",
          "2017-01-01T00:00:00",
          "2017-01-01T00:00:00",
          "2017-01-01T00:00:00",
          "2017-01-01T00:00:00",
          "2017-01-01T00:00:00",
          "2017-01-01T00:00:00",
          "2017-01-01T00:00:00",
          "2017-01-01T00:00:00",
          "2017-01-01T00:00:00",
          "2017-01-01T00:00:00",
          "2017-01-01T00:00:00",
          "2017-01-01T00:00:00",
          "2017-01-01T00:00:00",
          "2017-01-01T00:00:00",
          "2017-01-01T00:00:00",
          "2017-01-01T00:00:00",
          "2017-01-01T00:00:00",
          "2017-01-01T00:00:00",
          "2017-01-01T00:00:00",
          "2017-01-01T00:00:00",
          "2017-01-01T00:00:00",
          "2017-01-01T00:00:00",
          "2017-01-01T00:00:00",
          "2017-01-01T00:00:00",
          "2017-01-01T00:00:00",
          "2017-01-01T00:00:00",
          "2017-01-01T00:00:00",
          "2017-01-01T00:00:00",
          "2017-01-01T00:00:00",
          "2017-01-01T00:00:00",
          "2017-01-01T00:00:00",
          "2017-01-01T00:00:00",
          "2017-01-01T00:00:00",
          "2018-01-01T00:00:00",
          "2018-01-01T00:00:00",
          "2018-01-01T00:00:00",
          "2018-01-01T00:00:00",
          "2018-01-01T00:00:00",
          "2018-01-01T00:00:00",
          "2018-01-01T00:00:00",
          "2018-01-01T00:00:00",
          "2018-01-01T00:00:00",
          "2018-01-01T00:00:00",
          "2018-01-01T00:00:00",
          "2018-01-01T00:00:00",
          "2018-01-01T00:00:00",
          "2018-01-01T00:00:00",
          "2018-01-01T00:00:00",
          "2018-01-01T00:00:00",
          "2018-01-01T00:00:00",
          "2018-01-01T00:00:00",
          "2018-01-01T00:00:00",
          "2018-01-01T00:00:00",
          "2018-01-01T00:00:00",
          "2018-01-01T00:00:00",
          "2018-01-01T00:00:00",
          "2018-01-01T00:00:00",
          "2018-01-01T00:00:00",
          "2018-01-01T00:00:00",
          "2018-01-01T00:00:00",
          "2018-01-01T00:00:00",
          "2018-01-01T00:00:00",
          "2018-01-01T00:00:00",
          "2018-01-01T00:00:00",
          "2018-01-01T00:00:00",
          "2018-01-01T00:00:00",
          "2018-01-01T00:00:00",
          "2018-01-01T00:00:00",
          "2018-01-01T00:00:00",
          "2018-01-01T00:00:00",
          "2018-01-01T00:00:00",
          "2018-01-01T00:00:00",
          "2018-01-01T00:00:00",
          "2018-01-01T00:00:00",
          "2018-01-01T00:00:00",
          "2018-01-01T00:00:00",
          "2018-01-01T00:00:00",
          "2018-01-01T00:00:00",
          "2018-01-01T00:00:00",
          "2018-01-01T00:00:00",
          "2018-01-01T00:00:00",
          "2018-01-01T00:00:00",
          "2019-01-01T00:00:00",
          "2019-01-01T00:00:00",
          "2019-01-01T00:00:00",
          "2019-01-01T00:00:00",
          "2019-01-01T00:00:00",
          "2019-01-01T00:00:00",
          "2019-01-01T00:00:00",
          "2019-01-01T00:00:00",
          "2019-01-01T00:00:00",
          "2019-01-01T00:00:00",
          "2019-01-01T00:00:00",
          "2019-01-01T00:00:00",
          "2019-01-01T00:00:00",
          "2019-01-01T00:00:00",
          "2019-01-01T00:00:00",
          "2019-01-01T00:00:00",
          "2019-01-01T00:00:00",
          "2019-01-01T00:00:00",
          "2019-01-01T00:00:00",
          "2019-01-01T00:00:00",
          "2019-01-01T00:00:00",
          "2019-01-01T00:00:00",
          "2019-01-01T00:00:00",
          "2019-01-01T00:00:00",
          "2019-01-01T00:00:00",
          "2019-01-01T00:00:00",
          "2019-01-01T00:00:00",
          "2019-01-01T00:00:00",
          "2019-01-01T00:00:00",
          "2019-01-01T00:00:00",
          "2019-01-01T00:00:00",
          "2019-01-01T00:00:00",
          "2019-01-01T00:00:00",
          "2019-01-01T00:00:00",
          "2019-01-01T00:00:00",
          "2019-01-01T00:00:00",
          "2019-01-01T00:00:00",
          "2019-01-01T00:00:00",
          "2019-01-01T00:00:00",
          "2019-01-01T00:00:00",
          "2019-01-01T00:00:00",
          "2019-01-01T00:00:00",
          "2019-01-01T00:00:00",
          "2019-01-01T00:00:00",
          "2019-01-01T00:00:00",
          "2020-01-01T00:00:00",
          "2020-01-01T00:00:00",
          "2020-01-01T00:00:00",
          "2020-01-01T00:00:00",
          "2020-01-01T00:00:00",
          "2020-01-01T00:00:00",
          "2020-01-01T00:00:00",
          "2020-01-01T00:00:00",
          "2020-01-01T00:00:00",
          "2020-01-01T00:00:00",
          "2020-01-01T00:00:00",
          "2020-01-01T00:00:00",
          "2020-01-01T00:00:00",
          "2020-01-01T00:00:00",
          "2020-01-01T00:00:00",
          "2020-01-01T00:00:00",
          "2020-01-01T00:00:00",
          "2020-01-01T00:00:00",
          "2020-01-01T00:00:00",
          "2020-01-01T00:00:00",
          "2020-01-01T00:00:00",
          "2020-01-01T00:00:00",
          "2020-01-01T00:00:00",
          "2020-01-01T00:00:00",
          "2020-01-01T00:00:00",
          "2020-01-01T00:00:00",
          "2020-01-01T00:00:00",
          "2020-01-01T00:00:00",
          "2021-01-01T00:00:00",
          "2021-01-01T00:00:00",
          "2021-01-01T00:00:00",
          "2021-01-01T00:00:00",
          "2021-01-01T00:00:00",
          "2021-01-01T00:00:00",
          "2021-01-01T00:00:00",
          "2021-01-01T00:00:00",
          "2021-01-01T00:00:00",
          "2021-01-01T00:00:00",
          "2021-01-01T00:00:00",
          "2021-01-01T00:00:00",
          "2021-01-01T00:00:00",
          "2021-01-01T00:00:00",
          "2021-01-01T00:00:00",
          "2021-01-01T00:00:00",
          "2021-01-01T00:00:00",
          "2021-01-01T00:00:00",
          "2021-01-01T00:00:00",
          "2021-01-01T00:00:00",
          "2021-01-01T00:00:00",
          "2021-01-01T00:00:00",
          "2021-01-01T00:00:00",
          "2021-01-01T00:00:00",
          "2021-01-01T00:00:00",
          "2021-01-01T00:00:00"
         ],
         "xaxis": "x",
         "y": [
          0.24006593939393941,
          0.0815457806578906,
          -0.7204954926958153,
          0.5734049113386748,
          0.3328104882040895,
          -0.20735086117035204,
          -0.007214179894180279,
          -0.043107971056206125,
          -0.32577207707663486,
          0.17738199440218486,
          0.10893122682254656,
          0.4295741723769393,
          0.16700201207243454,
          0.22731726165200195,
          0.1111111111111111,
          0.1395791274593669,
          1.4904203481309144,
          -0.10437244371478058,
          1.0624052161587474,
          0.2260172901164011,
          -0.22038912380018075,
          1.2969717071005142,
          1.1974657152227772,
          -0.16832711341879053,
          -0.1015382567261728,
          -0.11735788169726998,
          -0.23322174916311877,
          0.034553071404519374,
          -0.18413442692014603,
          1.2607075037115973,
          0.5971920220582241,
          0.6305077604629002,
          -0.18535064505975932,
          0.33039009358736715,
          0.5832094016091577,
          0.12485289212142298,
          0.2772505114528823,
          0,
          0.5455768668967409,
          0.018403068715551665,
          0.1244806994240761,
          0.24923645896961924,
          0.026789859976455596,
          0.1823077409452045,
          0.23506836198264416,
          0.16129359675065458,
          0.18521475151912753,
          0.4,
          0.25324742532474265,
          0.24444444444444163,
          -0.5499999999999996,
          0.12511344310883962,
          0.2606218181818182,
          1.0402684410395144,
          0.4714125662555973,
          2.783764182210709,
          -0.36256963168983347,
          0.00137557625071707,
          0.3863795323197717,
          0.8863668983617301,
          2.3824999999999967,
          0.5449303290274032,
          -0.0679413580246919,
          3.3319146549238674,
          -0.1130134449088351,
          -0.10204324079923216,
          0.5849299368413016,
          -0.05934434712467027,
          0.08496951761382908,
          0.02716491450765682,
          4.266351532557728,
          0.03261772369011645,
          0.09413970104659224,
          0.1783929132031176,
          0.24521569623719872,
          -0.687378692561391,
          0.11099486252460378,
          0.07987213417451844,
          -0.4774178086386819,
          1.301075751353487,
          5.7569444444444455,
          0.49580106871758706,
          -0.12213071281550807,
          4.2877159488255225,
          0.33705485412185776,
          1.1377349322356736,
          1.2801352816901397,
          0.09180216037578112,
          0.422600925342878,
          0.1475024035523304,
          -0.2715132512041232,
          0.4362688034516411,
          0.3539103571428581,
          -0.26702108695652166,
          -0.07438663528383661,
          17.297023516070748,
          6.8159296551600015,
          0.3823653081036978,
          -0.04775678193006786,
          -0.0796187269296895,
          1.6010228773883184e-8,
          -0.04172266417396956,
          0.7990982229934749,
          0.0031250000000000414,
          -0.024390243902439046,
          0.41007560439049884,
          -0.03334033607285873,
          -0.3117040492032436,
          -0.3105268168734302,
          0.2319396084953014,
          -0.14875577876084206,
          0,
          1.0232799220026236,
          -0.4392230413448551,
          3.1454949944382644,
          0.5917008693810498,
          -0.03857232696948371,
          0.07391663543158677,
          -0.04721600799723691,
          0.5995182781263401,
          -0.34806749440386653,
          0.5499620853080569,
          2.637355205318636,
          0.1679402465940409,
          0.0468194489432404,
          -0.11398899991274615,
          0.4697799087836038,
          -0.24596423432682427,
          0.9877134886465402,
          -0.5197761627906976,
          -0.04919800410630712,
          0.5165814740196385,
          -0.4873151922982464,
          0.04184991899422295,
          0.37628010972868403,
          0.05225397566444525,
          0.35930986481522736,
          -0.0446099759126143,
          0.006408264807241525,
          0.19784564756982592,
          1.3500084073480225,
          -0.02270799999999995,
          -0.1752603292098326,
          1.6320125,
          2.253615099042031,
          -0.3454817097827216,
          0.8457205314077617,
          -0.08427251733121911,
          -0.30863966194994163,
          0.7668745515346983,
          -0.4628040575754307,
          1.2435522222222224,
          1.1324365962265854,
          1.2678936212070893,
          0.22156832908028845,
          -0.02856351678781579,
          0,
          0.5118686270390121,
          0.7534970608653861,
          0.04176939792719163,
          1.3828179106067842,
          -0.2616811100836876,
          3.0862292393945685,
          -0.36258955783059876,
          0.6436468381860867,
          -0.43976700168169014,
          -0.07624269616697502,
          -0.034797276272411734,
          -0.06850222537302407,
          0.09170397656919499,
          -0.09268954498136671,
          -0.3232445462666787,
          -0.4526605569294383,
          0.44799439342608705,
          2.448029146234354,
          0.14379181390810855,
          0.023644500772307786,
          -0.016375150529022792,
          1.0923298148896623,
          -0.11622040570471075,
          0.512606161128834,
          -0.13550374159492648,
          1.1203106436391217,
          0.9386463073153656,
          -0.1596544722513489,
          -0.21477300155606224,
          0.8421355177121503,
          -0.16133288693790981,
          0.22272946614455313,
          -0.08144814356062303,
          0.6153846153846154,
          -0.11924294586786159,
          0.9337180656031061,
          0.019852599358292415,
          0.023235634794923063,
          -0.008713674422139068,
          0.8226753938102708,
          -0.45396352881231417,
          -0.23578010770133703,
          -0.47792082274951986,
          -0.10983387085181197,
          0.03598233616329939,
          0.26762134322604286,
          0.3927974436978974,
          0.5542780124970469,
          3.8401248989954704,
          0.5757449424395598,
          -0.25119974129708866,
          0.13992441481573084,
          -0.336037701783446,
          2.0637952167840137,
          -0.10745386278611091,
          0,
          0.4653941946245587,
          0.11087829999999899,
          2.733741492418074,
          -0.038550680840928775,
          0.1521234109495162,
          0.03974967603025334,
          0.42075873291409754,
          0.06800885478158206,
          0.39159679757995297,
          0.029419999976597527,
          0.2762038043594688,
          0.14091887451630183,
          -0.06759617255164474,
          0.28646923842989674,
          0.1983908204427037,
          0.13082241703546513,
          -0.17493162088927136,
          0.7099778845188504,
          0.14977723147960875,
          -0.5403753967610915,
          -0.032581401387334306,
          0.4248501552579502,
          0.16404812082736234,
          0.25724985454340193,
          0.10000080039059066,
          0.7803607406405257,
          -0.2230013359249856,
          2.0791941545704264,
          -0.2296352961833269,
          0.021221167957643297,
          2.413354318134058,
          -0.40484456523895496,
          -0.3318250965401568,
          0.5611316380427396,
          -0.14136708030457598,
          0.05373287599158955,
          -0.05082254084826387,
          0.3884035503389378,
          0.07698542790687694,
          0,
          0.3387225399918287,
          2.531855503330913,
          3.17126236378353,
          0.09177356662528834,
          0.23004749999999996,
          1.0099048047917873,
          -0.08546179914897128,
          1.0073603444716288,
          0.19181284557945796,
          0.5039742176089389,
          1.3717470605213797,
          -0.4567513766774762,
          0.03308660929989759,
          -0.2753533050066781,
          0.10711594172433628,
          2.646930972466037,
          -0.0828793902655797,
          -0.06411144723800927,
          -0.4423898723980915,
          -0.26671674475200563,
          -0.2577336978540182,
          3.877384201186813,
          -0.24868823863150052,
          0.10770468336501261,
          -0.1278411998399716,
          0.16215886301785806,
          -0.26456152457040083,
          -0.3350919055155213,
          -0.23675257676741016,
          0.13457024057146272,
          0.08144827153260109,
          1.9144722877417857,
          0.01928957573150547,
          -0.326398552226433,
          -0.19050420734307658,
          -0.028734360413838398,
          0.028579199915745236,
          0.8426518095988013,
          2.4401393846153847,
          -0.2022566557627723,
          1.7259674679939296,
          -0.0007584721337330093,
          1.1160722832394714,
          0.998195239448276,
          0.37832393550653387,
          0.008532059601360688,
          1.4670006794480381,
          0.01777040928552911,
          0.09406966725812604,
          0.042340366140120475,
          -0.1452579872547319,
          -0.2556191016713598,
          0.1530117668491226,
          -0.008658555363905748,
          -0.5316052997125437,
          0.3858007355224811,
          0.30750248609627645,
          -0.2326185901413587,
          -0.32035782573141464,
          7.092061904761905,
          0.03215371375408388,
          0.07659077641564511,
          0.2845964334893539,
          -0.17684977128471818,
          -0.1843900163756334,
          -0.043493871688998424,
          -0.1465794975067567,
          0.5711823913809485,
          -0.0728770264431776,
          0.896551724137931,
          -0.5031516442691575,
          0.23418458573566833,
          -0.33119019132823097,
          -0.048166343479417596,
          0.9783964384643496,
          -0.6580753869475349,
          0.008475540541758064,
          1.587412842813185,
          -0.34776871103255835,
          -0.4989342742500193,
          0.013002921658075095,
          2.8499974356647746,
          0.7108957842528109,
          -0.02245862813419746,
          -0.16937225135018497,
          0.01031260480123989,
          0.15963252364375216,
          -0.5325745821997424,
          0.005231032983994909,
          0.17987522849681584,
          0,
          -0.3637294904024541,
          0.4444883113049194,
          0.44381764422876574,
          0.035591953091621574,
          -0.10907699614037271,
          -0.003509688981816929,
          -0.11088461595549762,
          -0.4915755832533752,
          0.2255086870659241,
          0.7715334245771025,
          0.10556986584107339,
          -0.23822623259390097,
          -0.020894259242132292,
          0.9199964773889924,
          0.277252633281115,
          0.043429142539407266,
          0.1416433891992551,
          1.4741175852488388,
          -0.20674600169802276,
          0.4213557510250772,
          -0.27847846118617364,
          0.6422983334975106,
          0.5429626123799096,
          -0.3823845558213156,
          0.20986887738674018,
          0.9827637176572027,
          1.0444621673309924,
          0.0561607171018262,
          0.38825779157882734,
          0.8910053708460225,
          -0.20167056101481246,
          -0.06345365250676803,
          0.6851638107645058,
          0.16666360941684308,
          0.15780661188965084,
          -0.2808668570034511,
          -0.2917492266332499,
          -0.32145403142574036,
          -0.1660565479826984,
          0.140956887171006,
          -0.2894763096182906,
          0.4259930004115008,
          3.0670973599664726,
          0,
          0.21258661971830992,
          -0.00027769172698264205,
          -0.6603863314134735,
          0.3557124575402161,
          0.28511754334743344,
          -0.6832015855632769,
          0.0680964323065236,
          0.491404132669427,
          0,
          0.24732843479545924,
          0.7547206297206297,
          -0.05449149717843323,
          -0.24822733511523176,
          0.5714285714285714,
          -0.11046536523278601,
          0.13316671420325749,
          0.28383907269039627,
          -0.7893670900104174,
          1.4755244683432642,
          -0.028515682628073868,
          -0.13089877847660952,
          3.8148263110730265,
          0.024255984730274634,
          0.04421501945482904,
          0.012836015948297407,
          0.015130458912303014,
          0.014817894954792086,
          -0.16496801504652125,
          1.1284458795190917,
          0.16670377715411405,
          -0.2569650462526652,
          0.676388192112031,
          -0.6940949612523376,
          -0.05023742857142859,
          -0.05634604052014523,
          0.022879324359368385,
          1.3052585343820406,
          0.4903468381137025,
          -0.24405453290012472,
          -0.6129166666666667,
          1.626305025072053,
          -0.7039502835041869,
          2.3109580161769374,
          0.44731265982959717,
          -0.10160990461499636,
          0.3065856421833771,
          -0.02290304258048462,
          -0.3922281634160168,
          -0.10956181199515533,
          0.15973113127400024,
          -0.5920998410872225,
          0.9793525946929434,
          0.513927255260826,
          -0.2527212895577666,
          -0.023557106285718568,
          -0.5802748944394399,
          0.19190378480577522,
          -0.17569059921335595,
          -0.12559023249573112,
          0.08793956166903116,
          0.002185304298110483,
          0.06299562607615122,
          0.43478536796233486,
          -0.2930551728804384,
          -0.3691805243270602,
          -0.05428240673880825,
          0.2901438671911186,
          -0.14051179375954942,
          -0.37531705168181206,
          -0.004362435125773583,
          -0.5948314724240068,
          -0.23787877273383487,
          -0.0740143820804201,
          0.1235426936424455,
          0.005857040873073865,
          -0.18571428571428572,
          0.3630585783481479,
          0.48048491381187813,
          0.09999999588668664,
          -0.18986188701221998,
          -0.32899364945272075,
          0.8535319292796827,
          0.1839452097843286,
          0.15370711781079416,
          -0.240312734546356,
          -0.12359421389184112,
          0.12951804984228102,
          0.9358981244378054,
          0.13513827260247038,
          0.7600092955315053,
          0.15053358537506856,
          -0.15007909357967514,
          1.692257819311856,
          1.109782580256927,
          0.0658170625412754,
          -0.6364209039772775,
          0.5437443908044312,
          19.249902244712327,
          0.012673340744384452,
          0.3195410009730893,
          -0.09338988113232212,
          0.1580920564654316,
          0.9281504787392324,
          -0.019574209360514575,
          1.6251482847185355,
          -0.6139519380633175,
          0.6709086188181357,
          -0.36738362703199656,
          -0.09113275658119967,
          -0.3498136377422158,
          0.6692582207494266,
          -0.002958019375672856,
          -0.04167898561258116,
          0.6788383417303023,
          0.5317623056827293,
          -0.11832105296154878,
          0.2266770375014028,
          0.7018987710716953,
          0.22253549719238563,
          1.3877550220541865,
          0.12150469598565848,
          1.224514113041687,
          0.5316644499167172,
          -0.5122025303421736,
          -0.23485864278209703,
          1.860610265477657,
          1.1035308748186106,
          -0.36110092576353037,
          -0.23227329535437227,
          0.1055998837570392,
          0.1533305846035425,
          0.08050305202992661,
          0.2340507585555412,
          0.013953519032753988,
          -0.12007165143907038,
          0.007381347507953056,
          -0.10544703664276822,
          0.4344023497459724,
          0.2257032292585881,
          -0.08556149732620329,
          2.7286464735416245,
          -0.19649030063119827,
          -0.22882641332247702,
          0.0934418366985148,
          0.16838467401719578,
          1.5069855998591242,
          0.2736440753258305,
          0.08297076108180144,
          -0.2565634336991696,
          0.9768036091212235,
          0.0219117266474791,
          0,
          0.020000001745042042,
          0.9003206258582765,
          0.7185885736431611,
          0.002226771764355839,
          1.0814663951120165,
          -0.10061739760777631,
          0.7179310812114891,
          0.003102841692371242,
          0.10304644308404103,
          0.11905005395743193,
          0.3333333333333333,
          -0.2598500424408187,
          -0.3203994000431845,
          0.10556695197000783,
          0.3885931558935361,
          -0.27819697699453894,
          0.20600000000000054,
          -0.12113395669535454,
          0.5506486124443154,
          0.3810936025801365,
          -0.2998112748448939,
          0.01251473721532817,
          0.251707901592732,
          0.06344929520669415,
          0.2019849855555786,
          0.0837169519657951,
          0.3097352824326934,
          -0.2298945191119461,
          0.3932121135613258,
          0.3352968826494476,
          -0.2172508774572766,
          -0.2083582003360274,
          -0.14751438806830378,
          -0.4157578300854864,
          -0.09458380605912774,
          -0.29311632010723415,
          0.15257870315985908,
          3.3736507654646695,
          -0.32075075824945215,
          -0.17689808415001493,
          -0.45911898446381205,
          -0.0640404350956709,
          -0.6316576062957929,
          0.10834078218359261,
          -0.23686455601827763,
          -0.7194532591304347,
          0.5428849336164598,
          0.028000166508904516,
          -0.02642537221130772,
          -0.023095966130151885,
          -0.12807101348228148,
          -0.49937065437004474,
          -0.03552593427800024,
          -0.022635147475236733,
          -0.4102857167435632,
          -0.38613125406107857,
          -0.39174233080536386,
          0.09292882585767352,
          0.9220707384232673,
          0.009556962025316527,
          0.0004104920509660099,
          -0.42644730537996683,
          0.020000000000000042,
          0.07137472909848822,
          -0.5054919562417498,
          -0.5981025521996628,
          0.36310138457768293,
          0.38250176294827665,
          0.08565303153507828,
          -0.1783869385217023,
          -0.1001778231557685,
          -0.07447973713033951,
          0.12931945816283325,
          -0.19090522530537807,
          -0.6256700060392614,
          0.127611579799206,
          0.1210263316358056,
          -0.08729080305929526,
          -0.6255226232625941,
          -0.27070370139617755,
          0.05845569312423269,
          1.734664011907251,
          0.1749590627246323,
          -0.22582220991046753,
          0.0510797524981574,
          0.5682843169115922,
          0.7846097875245972,
          -0.6524042769768839,
          0.8868459461877644,
          -0.538909996911104,
          0.5702002062161939,
          0.1758226961263515,
          0.04472109740385413,
          0.041691017453841545,
          0.04983772652388816,
          0.10658194147950559,
          0.6574174081396678,
          0.7545581744134082,
          -0.18252700734507848,
          -0.05899057336998529,
          0.019665780486773594,
          2.0660721712913652,
          0.04503188639929513,
          -0.3663847336781774,
          0.030361701893048917,
          -0.5738323883234777,
          -0.10775542127718978,
          1.3611712055315885,
          0.009836662971273872,
          -0.1260573595955879,
          -0.39925046718038926,
          1.00274113593831,
          -0.07343979200560538,
          0.15634311369876322,
          0.3045130782988288,
          -0.3692245739644971,
          1.0939385302595788,
          0.25988939579002635,
          -0.11741389430373812,
          -0.10775314845785423,
          -0.252368693972471,
          -0.12129341081250478,
          0.37234632433793335,
          0.38168435315537824,
          0.37934814584310134,
          -0.02374614024730456,
          -0.3742155736182525,
          0.2964885071752205,
          -0.35203503336012465,
          -0.07072977046343883,
          -0.421407483641692,
          -0.10296644892614733,
          1.2386387338456017,
          0,
          -0.139174491884119,
          0.26571144829202203,
          0.08120782049362561,
          -0.06871555347968232,
          -0.05842919909086357,
          0.22128916941327847,
          -0.4174316215491129,
          -0.3357347113364047,
          0.06796927702576508,
          -0.4737032263524653,
          -0.005764049433576234,
          0.28912268490480453,
          -0.41669847296453016,
          0.344190409482289,
          -0.41302880431858907,
          -0.327247447018535,
          0.4604413516393955,
          -0.002443121998305452,
          -0.13773269691114032,
          0.31566171299827445,
          0.779370995002161,
          0.1459270210006174,
          -0.0796788732369569,
          0.23304930702411514,
          -0.24842717534247316,
          -0.3929096140290588,
          0.15791143885288553,
          0.2742629434676097,
          0.40775201539341016,
          -0.12850912111276253,
          0.7412790300103049,
          -0.1729111927293668,
          0.9598679147888864,
          -0.2736306233633957,
          0.19287875077397754,
          -0.29847404991753324,
          -2.4686002954371114e-8,
          -0.19772134847402195,
          -0.23738272945798186,
          -0.1200001411595107,
          0.33461888505841814,
          0.2581511181865139,
          0.58714667539267,
          -0.17721448348393462,
          -0.003487125115117697,
          -0.08215855292541188,
          0.02603303022247085,
          0.05318026865764931,
          0.2743718273806364,
          0.46040808353810553,
          0.35725085080941865,
          -0.2645934546876197,
          -0.15872203462295562,
          0.055633550254800414,
          -0.49665462669592936,
          0.553205575030397,
          -0.43945276231522307,
          0.9043426231136323,
          0.2198748763045739,
          2.600477354043402,
          -0.20474287997202203,
          0.28990739461157716
         ],
         "yaxis": "y"
        }
       ],
       "layout": {
        "barmode": "relative",
        "legend": {
         "tracegroupgap": 0
        },
        "margin": {
         "t": 60
        },
        "template": {
         "data": {
          "bar": [
           {
            "error_x": {
             "color": "#2a3f5f"
            },
            "error_y": {
             "color": "#2a3f5f"
            },
            "marker": {
             "line": {
              "color": "#E5ECF6",
              "width": 0.5
             },
             "pattern": {
              "fillmode": "overlay",
              "size": 10,
              "solidity": 0.2
             }
            },
            "type": "bar"
           }
          ],
          "barpolar": [
           {
            "marker": {
             "line": {
              "color": "#E5ECF6",
              "width": 0.5
             },
             "pattern": {
              "fillmode": "overlay",
              "size": 10,
              "solidity": 0.2
             }
            },
            "type": "barpolar"
           }
          ],
          "carpet": [
           {
            "aaxis": {
             "endlinecolor": "#2a3f5f",
             "gridcolor": "white",
             "linecolor": "white",
             "minorgridcolor": "white",
             "startlinecolor": "#2a3f5f"
            },
            "baxis": {
             "endlinecolor": "#2a3f5f",
             "gridcolor": "white",
             "linecolor": "white",
             "minorgridcolor": "white",
             "startlinecolor": "#2a3f5f"
            },
            "type": "carpet"
           }
          ],
          "choropleth": [
           {
            "colorbar": {
             "outlinewidth": 0,
             "ticks": ""
            },
            "type": "choropleth"
           }
          ],
          "contour": [
           {
            "colorbar": {
             "outlinewidth": 0,
             "ticks": ""
            },
            "colorscale": [
             [
              0,
              "#0d0887"
             ],
             [
              0.1111111111111111,
              "#46039f"
             ],
             [
              0.2222222222222222,
              "#7201a8"
             ],
             [
              0.3333333333333333,
              "#9c179e"
             ],
             [
              0.4444444444444444,
              "#bd3786"
             ],
             [
              0.5555555555555556,
              "#d8576b"
             ],
             [
              0.6666666666666666,
              "#ed7953"
             ],
             [
              0.7777777777777778,
              "#fb9f3a"
             ],
             [
              0.8888888888888888,
              "#fdca26"
             ],
             [
              1,
              "#f0f921"
             ]
            ],
            "type": "contour"
           }
          ],
          "contourcarpet": [
           {
            "colorbar": {
             "outlinewidth": 0,
             "ticks": ""
            },
            "type": "contourcarpet"
           }
          ],
          "heatmap": [
           {
            "colorbar": {
             "outlinewidth": 0,
             "ticks": ""
            },
            "colorscale": [
             [
              0,
              "#0d0887"
             ],
             [
              0.1111111111111111,
              "#46039f"
             ],
             [
              0.2222222222222222,
              "#7201a8"
             ],
             [
              0.3333333333333333,
              "#9c179e"
             ],
             [
              0.4444444444444444,
              "#bd3786"
             ],
             [
              0.5555555555555556,
              "#d8576b"
             ],
             [
              0.6666666666666666,
              "#ed7953"
             ],
             [
              0.7777777777777778,
              "#fb9f3a"
             ],
             [
              0.8888888888888888,
              "#fdca26"
             ],
             [
              1,
              "#f0f921"
             ]
            ],
            "type": "heatmap"
           }
          ],
          "heatmapgl": [
           {
            "colorbar": {
             "outlinewidth": 0,
             "ticks": ""
            },
            "colorscale": [
             [
              0,
              "#0d0887"
             ],
             [
              0.1111111111111111,
              "#46039f"
             ],
             [
              0.2222222222222222,
              "#7201a8"
             ],
             [
              0.3333333333333333,
              "#9c179e"
             ],
             [
              0.4444444444444444,
              "#bd3786"
             ],
             [
              0.5555555555555556,
              "#d8576b"
             ],
             [
              0.6666666666666666,
              "#ed7953"
             ],
             [
              0.7777777777777778,
              "#fb9f3a"
             ],
             [
              0.8888888888888888,
              "#fdca26"
             ],
             [
              1,
              "#f0f921"
             ]
            ],
            "type": "heatmapgl"
           }
          ],
          "histogram": [
           {
            "marker": {
             "pattern": {
              "fillmode": "overlay",
              "size": 10,
              "solidity": 0.2
             }
            },
            "type": "histogram"
           }
          ],
          "histogram2d": [
           {
            "colorbar": {
             "outlinewidth": 0,
             "ticks": ""
            },
            "colorscale": [
             [
              0,
              "#0d0887"
             ],
             [
              0.1111111111111111,
              "#46039f"
             ],
             [
              0.2222222222222222,
              "#7201a8"
             ],
             [
              0.3333333333333333,
              "#9c179e"
             ],
             [
              0.4444444444444444,
              "#bd3786"
             ],
             [
              0.5555555555555556,
              "#d8576b"
             ],
             [
              0.6666666666666666,
              "#ed7953"
             ],
             [
              0.7777777777777778,
              "#fb9f3a"
             ],
             [
              0.8888888888888888,
              "#fdca26"
             ],
             [
              1,
              "#f0f921"
             ]
            ],
            "type": "histogram2d"
           }
          ],
          "histogram2dcontour": [
           {
            "colorbar": {
             "outlinewidth": 0,
             "ticks": ""
            },
            "colorscale": [
             [
              0,
              "#0d0887"
             ],
             [
              0.1111111111111111,
              "#46039f"
             ],
             [
              0.2222222222222222,
              "#7201a8"
             ],
             [
              0.3333333333333333,
              "#9c179e"
             ],
             [
              0.4444444444444444,
              "#bd3786"
             ],
             [
              0.5555555555555556,
              "#d8576b"
             ],
             [
              0.6666666666666666,
              "#ed7953"
             ],
             [
              0.7777777777777778,
              "#fb9f3a"
             ],
             [
              0.8888888888888888,
              "#fdca26"
             ],
             [
              1,
              "#f0f921"
             ]
            ],
            "type": "histogram2dcontour"
           }
          ],
          "mesh3d": [
           {
            "colorbar": {
             "outlinewidth": 0,
             "ticks": ""
            },
            "type": "mesh3d"
           }
          ],
          "parcoords": [
           {
            "line": {
             "colorbar": {
              "outlinewidth": 0,
              "ticks": ""
             }
            },
            "type": "parcoords"
           }
          ],
          "pie": [
           {
            "automargin": true,
            "type": "pie"
           }
          ],
          "scatter": [
           {
            "fillpattern": {
             "fillmode": "overlay",
             "size": 10,
             "solidity": 0.2
            },
            "type": "scatter"
           }
          ],
          "scatter3d": [
           {
            "line": {
             "colorbar": {
              "outlinewidth": 0,
              "ticks": ""
             }
            },
            "marker": {
             "colorbar": {
              "outlinewidth": 0,
              "ticks": ""
             }
            },
            "type": "scatter3d"
           }
          ],
          "scattercarpet": [
           {
            "marker": {
             "colorbar": {
              "outlinewidth": 0,
              "ticks": ""
             }
            },
            "type": "scattercarpet"
           }
          ],
          "scattergeo": [
           {
            "marker": {
             "colorbar": {
              "outlinewidth": 0,
              "ticks": ""
             }
            },
            "type": "scattergeo"
           }
          ],
          "scattergl": [
           {
            "marker": {
             "colorbar": {
              "outlinewidth": 0,
              "ticks": ""
             }
            },
            "type": "scattergl"
           }
          ],
          "scattermapbox": [
           {
            "marker": {
             "colorbar": {
              "outlinewidth": 0,
              "ticks": ""
             }
            },
            "type": "scattermapbox"
           }
          ],
          "scatterpolar": [
           {
            "marker": {
             "colorbar": {
              "outlinewidth": 0,
              "ticks": ""
             }
            },
            "type": "scatterpolar"
           }
          ],
          "scatterpolargl": [
           {
            "marker": {
             "colorbar": {
              "outlinewidth": 0,
              "ticks": ""
             }
            },
            "type": "scatterpolargl"
           }
          ],
          "scatterternary": [
           {
            "marker": {
             "colorbar": {
              "outlinewidth": 0,
              "ticks": ""
             }
            },
            "type": "scatterternary"
           }
          ],
          "surface": [
           {
            "colorbar": {
             "outlinewidth": 0,
             "ticks": ""
            },
            "colorscale": [
             [
              0,
              "#0d0887"
             ],
             [
              0.1111111111111111,
              "#46039f"
             ],
             [
              0.2222222222222222,
              "#7201a8"
             ],
             [
              0.3333333333333333,
              "#9c179e"
             ],
             [
              0.4444444444444444,
              "#bd3786"
             ],
             [
              0.5555555555555556,
              "#d8576b"
             ],
             [
              0.6666666666666666,
              "#ed7953"
             ],
             [
              0.7777777777777778,
              "#fb9f3a"
             ],
             [
              0.8888888888888888,
              "#fdca26"
             ],
             [
              1,
              "#f0f921"
             ]
            ],
            "type": "surface"
           }
          ],
          "table": [
           {
            "cells": {
             "fill": {
              "color": "#EBF0F8"
             },
             "line": {
              "color": "white"
             }
            },
            "header": {
             "fill": {
              "color": "#C8D4E3"
             },
             "line": {
              "color": "white"
             }
            },
            "type": "table"
           }
          ]
         },
         "layout": {
          "annotationdefaults": {
           "arrowcolor": "#2a3f5f",
           "arrowhead": 0,
           "arrowwidth": 1
          },
          "autotypenumbers": "strict",
          "coloraxis": {
           "colorbar": {
            "outlinewidth": 0,
            "ticks": ""
           }
          },
          "colorscale": {
           "diverging": [
            [
             0,
             "#8e0152"
            ],
            [
             0.1,
             "#c51b7d"
            ],
            [
             0.2,
             "#de77ae"
            ],
            [
             0.3,
             "#f1b6da"
            ],
            [
             0.4,
             "#fde0ef"
            ],
            [
             0.5,
             "#f7f7f7"
            ],
            [
             0.6,
             "#e6f5d0"
            ],
            [
             0.7,
             "#b8e186"
            ],
            [
             0.8,
             "#7fbc41"
            ],
            [
             0.9,
             "#4d9221"
            ],
            [
             1,
             "#276419"
            ]
           ],
           "sequential": [
            [
             0,
             "#0d0887"
            ],
            [
             0.1111111111111111,
             "#46039f"
            ],
            [
             0.2222222222222222,
             "#7201a8"
            ],
            [
             0.3333333333333333,
             "#9c179e"
            ],
            [
             0.4444444444444444,
             "#bd3786"
            ],
            [
             0.5555555555555556,
             "#d8576b"
            ],
            [
             0.6666666666666666,
             "#ed7953"
            ],
            [
             0.7777777777777778,
             "#fb9f3a"
            ],
            [
             0.8888888888888888,
             "#fdca26"
            ],
            [
             1,
             "#f0f921"
            ]
           ],
           "sequentialminus": [
            [
             0,
             "#0d0887"
            ],
            [
             0.1111111111111111,
             "#46039f"
            ],
            [
             0.2222222222222222,
             "#7201a8"
            ],
            [
             0.3333333333333333,
             "#9c179e"
            ],
            [
             0.4444444444444444,
             "#bd3786"
            ],
            [
             0.5555555555555556,
             "#d8576b"
            ],
            [
             0.6666666666666666,
             "#ed7953"
            ],
            [
             0.7777777777777778,
             "#fb9f3a"
            ],
            [
             0.8888888888888888,
             "#fdca26"
            ],
            [
             1,
             "#f0f921"
            ]
           ]
          },
          "colorway": [
           "#636efa",
           "#EF553B",
           "#00cc96",
           "#ab63fa",
           "#FFA15A",
           "#19d3f3",
           "#FF6692",
           "#B6E880",
           "#FF97FF",
           "#FECB52"
          ],
          "font": {
           "color": "#2a3f5f"
          },
          "geo": {
           "bgcolor": "white",
           "lakecolor": "white",
           "landcolor": "#E5ECF6",
           "showlakes": true,
           "showland": true,
           "subunitcolor": "white"
          },
          "hoverlabel": {
           "align": "left"
          },
          "hovermode": "closest",
          "mapbox": {
           "style": "light"
          },
          "paper_bgcolor": "white",
          "plot_bgcolor": "#E5ECF6",
          "polar": {
           "angularaxis": {
            "gridcolor": "white",
            "linecolor": "white",
            "ticks": ""
           },
           "bgcolor": "#E5ECF6",
           "radialaxis": {
            "gridcolor": "white",
            "linecolor": "white",
            "ticks": ""
           }
          },
          "scene": {
           "xaxis": {
            "backgroundcolor": "#E5ECF6",
            "gridcolor": "white",
            "gridwidth": 2,
            "linecolor": "white",
            "showbackground": true,
            "ticks": "",
            "zerolinecolor": "white"
           },
           "yaxis": {
            "backgroundcolor": "#E5ECF6",
            "gridcolor": "white",
            "gridwidth": 2,
            "linecolor": "white",
            "showbackground": true,
            "ticks": "",
            "zerolinecolor": "white"
           },
           "zaxis": {
            "backgroundcolor": "#E5ECF6",
            "gridcolor": "white",
            "gridwidth": 2,
            "linecolor": "white",
            "showbackground": true,
            "ticks": "",
            "zerolinecolor": "white"
           }
          },
          "shapedefaults": {
           "line": {
            "color": "#2a3f5f"
           }
          },
          "ternary": {
           "aaxis": {
            "gridcolor": "white",
            "linecolor": "white",
            "ticks": ""
           },
           "baxis": {
            "gridcolor": "white",
            "linecolor": "white",
            "ticks": ""
           },
           "bgcolor": "#E5ECF6",
           "caxis": {
            "gridcolor": "white",
            "linecolor": "white",
            "ticks": ""
           }
          },
          "title": {
           "x": 0.05
          },
          "xaxis": {
           "automargin": true,
           "gridcolor": "white",
           "linecolor": "white",
           "ticks": "",
           "title": {
            "standoff": 15
           },
           "zerolinecolor": "white",
           "zerolinewidth": 2
          },
          "yaxis": {
           "automargin": true,
           "gridcolor": "white",
           "linecolor": "white",
           "ticks": "",
           "title": {
            "standoff": 15
           },
           "zerolinecolor": "white",
           "zerolinewidth": 2
          }
         }
        },
        "xaxis": {
         "anchor": "y",
         "domain": [
          0,
          1
         ],
         "title": {
          "text": "Year"
         }
        },
        "yaxis": {
         "anchor": "x",
         "domain": [
          0,
          1
         ],
         "title": {
          "text": "avg of total_vaccine in USD_prev_1_year_pct_change"
         }
        }
       }
      },
      "text/html": [
       "<div>                            <div id=\"5f89d5ab-f48a-400a-8c05-d34b2dbd00a3\" class=\"plotly-graph-div\" style=\"height:525px; width:100%;\"></div>            <script type=\"text/javascript\">                require([\"plotly\"], function(Plotly) {                    window.PLOTLYENV=window.PLOTLYENV || {};                                    if (document.getElementById(\"5f89d5ab-f48a-400a-8c05-d34b2dbd00a3\")) {                    Plotly.newPlot(                        \"5f89d5ab-f48a-400a-8c05-d34b2dbd00a3\",                        [{\"alignmentgroup\":\"True\",\"bingroup\":\"x\",\"histfunc\":\"avg\",\"hovertemplate\":\"Year=%{x}<br>avg of total_vaccine in USD_prev_1_year_pct_change=%{y}<extra></extra>\",\"legendgroup\":\"\",\"marker\":{\"color\":\"#636efa\",\"pattern\":{\"shape\":\"\"}},\"name\":\"\",\"offsetgroup\":\"\",\"orientation\":\"v\",\"showlegend\":false,\"x\":[\"2008-01-01T00:00:00\",\"2008-01-01T00:00:00\",\"2008-01-01T00:00:00\",\"2008-01-01T00:00:00\",\"2008-01-01T00:00:00\",\"2008-01-01T00:00:00\",\"2008-01-01T00:00:00\",\"2008-01-01T00:00:00\",\"2008-01-01T00:00:00\",\"2008-01-01T00:00:00\",\"2008-01-01T00:00:00\",\"2008-01-01T00:00:00\",\"2008-01-01T00:00:00\",\"2008-01-01T00:00:00\",\"2008-01-01T00:00:00\",\"2008-01-01T00:00:00\",\"2008-01-01T00:00:00\",\"2008-01-01T00:00:00\",\"2008-01-01T00:00:00\",\"2008-01-01T00:00:00\",\"2008-01-01T00:00:00\",\"2008-01-01T00:00:00\",\"2008-01-01T00:00:00\",\"2008-01-01T00:00:00\",\"2008-01-01T00:00:00\",\"2008-01-01T00:00:00\",\"2008-01-01T00:00:00\",\"2008-01-01T00:00:00\",\"2009-01-01T00:00:00\",\"2009-01-01T00:00:00\",\"2009-01-01T00:00:00\",\"2009-01-01T00:00:00\",\"2009-01-01T00:00:00\",\"2009-01-01T00:00:00\",\"2009-01-01T00:00:00\",\"2009-01-01T00:00:00\",\"2009-01-01T00:00:00\",\"2009-01-01T00:00:00\",\"2009-01-01T00:00:00\",\"2009-01-01T00:00:00\",\"2009-01-01T00:00:00\",\"2009-01-01T00:00:00\",\"2009-01-01T00:00:00\",\"2009-01-01T00:00:00\",\"2009-01-01T00:00:00\",\"2009-01-01T00:00:00\",\"2009-01-01T00:00:00\",\"2009-01-01T00:00:00\",\"2009-01-01T00:00:00\",\"2009-01-01T00:00:00\",\"2009-01-01T00:00:00\",\"2009-01-01T00:00:00\",\"2009-01-01T00:00:00\",\"2009-01-01T00:00:00\",\"2009-01-01T00:00:00\",\"2009-01-01T00:00:00\",\"2009-01-01T00:00:00\",\"2009-01-01T00:00:00\",\"2009-01-01T00:00:00\",\"2009-01-01T00:00:00\",\"2009-01-01T00:00:00\",\"2009-01-01T00:00:00\",\"2009-01-01T00:00:00\",\"2009-01-01T00:00:00\",\"2009-01-01T00:00:00\",\"2009-01-01T00:00:00\",\"2009-01-01T00:00:00\",\"2009-01-01T00:00:00\",\"2009-01-01T00:00:00\",\"2009-01-01T00:00:00\",\"2010-01-01T00:00:00\",\"2010-01-01T00:00:00\",\"2010-01-01T00:00:00\",\"2010-01-01T00:00:00\",\"2010-01-01T00:00:00\",\"2010-01-01T00:00:00\",\"2010-01-01T00:00:00\",\"2010-01-01T00:00:00\",\"2010-01-01T00:00:00\",\"2010-01-01T00:00:00\",\"2010-01-01T00:00:00\",\"2010-01-01T00:00:00\",\"2010-01-01T00:00:00\",\"2010-01-01T00:00:00\",\"2010-01-01T00:00:00\",\"2010-01-01T00:00:00\",\"2010-01-01T00:00:00\",\"2010-01-01T00:00:00\",\"2010-01-01T00:00:00\",\"2010-01-01T00:00:00\",\"2010-01-01T00:00:00\",\"2010-01-01T00:00:00\",\"2010-01-01T00:00:00\",\"2010-01-01T00:00:00\",\"2010-01-01T00:00:00\",\"2010-01-01T00:00:00\",\"2010-01-01T00:00:00\",\"2010-01-01T00:00:00\",\"2010-01-01T00:00:00\",\"2010-01-01T00:00:00\",\"2010-01-01T00:00:00\",\"2010-01-01T00:00:00\",\"2010-01-01T00:00:00\",\"2010-01-01T00:00:00\",\"2010-01-01T00:00:00\",\"2010-01-01T00:00:00\",\"2010-01-01T00:00:00\",\"2010-01-01T00:00:00\",\"2010-01-01T00:00:00\",\"2010-01-01T00:00:00\",\"2010-01-01T00:00:00\",\"2010-01-01T00:00:00\",\"2010-01-01T00:00:00\",\"2010-01-01T00:00:00\",\"2010-01-01T00:00:00\",\"2010-01-01T00:00:00\",\"2011-01-01T00:00:00\",\"2011-01-01T00:00:00\",\"2011-01-01T00:00:00\",\"2011-01-01T00:00:00\",\"2011-01-01T00:00:00\",\"2011-01-01T00:00:00\",\"2011-01-01T00:00:00\",\"2011-01-01T00:00:00\",\"2011-01-01T00:00:00\",\"2011-01-01T00:00:00\",\"2011-01-01T00:00:00\",\"2011-01-01T00:00:00\",\"2011-01-01T00:00:00\",\"2011-01-01T00:00:00\",\"2011-01-01T00:00:00\",\"2011-01-01T00:00:00\",\"2011-01-01T00:00:00\",\"2011-01-01T00:00:00\",\"2011-01-01T00:00:00\",\"2011-01-01T00:00:00\",\"2011-01-01T00:00:00\",\"2011-01-01T00:00:00\",\"2011-01-01T00:00:00\",\"2011-01-01T00:00:00\",\"2011-01-01T00:00:00\",\"2011-01-01T00:00:00\",\"2011-01-01T00:00:00\",\"2011-01-01T00:00:00\",\"2011-01-01T00:00:00\",\"2011-01-01T00:00:00\",\"2011-01-01T00:00:00\",\"2011-01-01T00:00:00\",\"2011-01-01T00:00:00\",\"2011-01-01T00:00:00\",\"2011-01-01T00:00:00\",\"2011-01-01T00:00:00\",\"2011-01-01T00:00:00\",\"2011-01-01T00:00:00\",\"2011-01-01T00:00:00\",\"2011-01-01T00:00:00\",\"2011-01-01T00:00:00\",\"2011-01-01T00:00:00\",\"2011-01-01T00:00:00\",\"2011-01-01T00:00:00\",\"2011-01-01T00:00:00\",\"2011-01-01T00:00:00\",\"2011-01-01T00:00:00\",\"2011-01-01T00:00:00\",\"2011-01-01T00:00:00\",\"2012-01-01T00:00:00\",\"2012-01-01T00:00:00\",\"2012-01-01T00:00:00\",\"2012-01-01T00:00:00\",\"2012-01-01T00:00:00\",\"2012-01-01T00:00:00\",\"2012-01-01T00:00:00\",\"2012-01-01T00:00:00\",\"2012-01-01T00:00:00\",\"2012-01-01T00:00:00\",\"2012-01-01T00:00:00\",\"2012-01-01T00:00:00\",\"2012-01-01T00:00:00\",\"2012-01-01T00:00:00\",\"2012-01-01T00:00:00\",\"2012-01-01T00:00:00\",\"2012-01-01T00:00:00\",\"2012-01-01T00:00:00\",\"2012-01-01T00:00:00\",\"2012-01-01T00:00:00\",\"2012-01-01T00:00:00\",\"2012-01-01T00:00:00\",\"2012-01-01T00:00:00\",\"2012-01-01T00:00:00\",\"2012-01-01T00:00:00\",\"2012-01-01T00:00:00\",\"2012-01-01T00:00:00\",\"2012-01-01T00:00:00\",\"2012-01-01T00:00:00\",\"2012-01-01T00:00:00\",\"2012-01-01T00:00:00\",\"2012-01-01T00:00:00\",\"2012-01-01T00:00:00\",\"2012-01-01T00:00:00\",\"2012-01-01T00:00:00\",\"2012-01-01T00:00:00\",\"2012-01-01T00:00:00\",\"2012-01-01T00:00:00\",\"2012-01-01T00:00:00\",\"2012-01-01T00:00:00\",\"2012-01-01T00:00:00\",\"2012-01-01T00:00:00\",\"2012-01-01T00:00:00\",\"2012-01-01T00:00:00\",\"2012-01-01T00:00:00\",\"2012-01-01T00:00:00\",\"2012-01-01T00:00:00\",\"2012-01-01T00:00:00\",\"2012-01-01T00:00:00\",\"2012-01-01T00:00:00\",\"2012-01-01T00:00:00\",\"2012-01-01T00:00:00\",\"2012-01-01T00:00:00\",\"2012-01-01T00:00:00\",\"2012-01-01T00:00:00\",\"2012-01-01T00:00:00\",\"2012-01-01T00:00:00\",\"2012-01-01T00:00:00\",\"2012-01-01T00:00:00\",\"2013-01-01T00:00:00\",\"2013-01-01T00:00:00\",\"2013-01-01T00:00:00\",\"2013-01-01T00:00:00\",\"2013-01-01T00:00:00\",\"2013-01-01T00:00:00\",\"2013-01-01T00:00:00\",\"2013-01-01T00:00:00\",\"2013-01-01T00:00:00\",\"2013-01-01T00:00:00\",\"2013-01-01T00:00:00\",\"2013-01-01T00:00:00\",\"2013-01-01T00:00:00\",\"2013-01-01T00:00:00\",\"2013-01-01T00:00:00\",\"2013-01-01T00:00:00\",\"2013-01-01T00:00:00\",\"2013-01-01T00:00:00\",\"2013-01-01T00:00:00\",\"2013-01-01T00:00:00\",\"2013-01-01T00:00:00\",\"2013-01-01T00:00:00\",\"2013-01-01T00:00:00\",\"2013-01-01T00:00:00\",\"2013-01-01T00:00:00\",\"2013-01-01T00:00:00\",\"2013-01-01T00:00:00\",\"2013-01-01T00:00:00\",\"2013-01-01T00:00:00\",\"2013-01-01T00:00:00\",\"2013-01-01T00:00:00\",\"2013-01-01T00:00:00\",\"2013-01-01T00:00:00\",\"2013-01-01T00:00:00\",\"2013-01-01T00:00:00\",\"2013-01-01T00:00:00\",\"2013-01-01T00:00:00\",\"2013-01-01T00:00:00\",\"2013-01-01T00:00:00\",\"2013-01-01T00:00:00\",\"2013-01-01T00:00:00\",\"2013-01-01T00:00:00\",\"2013-01-01T00:00:00\",\"2013-01-01T00:00:00\",\"2013-01-01T00:00:00\",\"2013-01-01T00:00:00\",\"2013-01-01T00:00:00\",\"2013-01-01T00:00:00\",\"2013-01-01T00:00:00\",\"2013-01-01T00:00:00\",\"2013-01-01T00:00:00\",\"2013-01-01T00:00:00\",\"2013-01-01T00:00:00\",\"2013-01-01T00:00:00\",\"2013-01-01T00:00:00\",\"2013-01-01T00:00:00\",\"2013-01-01T00:00:00\",\"2013-01-01T00:00:00\",\"2013-01-01T00:00:00\",\"2013-01-01T00:00:00\",\"2013-01-01T00:00:00\",\"2013-01-01T00:00:00\",\"2013-01-01T00:00:00\",\"2013-01-01T00:00:00\",\"2013-01-01T00:00:00\",\"2013-01-01T00:00:00\",\"2013-01-01T00:00:00\",\"2014-01-01T00:00:00\",\"2014-01-01T00:00:00\",\"2014-01-01T00:00:00\",\"2014-01-01T00:00:00\",\"2014-01-01T00:00:00\",\"2014-01-01T00:00:00\",\"2014-01-01T00:00:00\",\"2014-01-01T00:00:00\",\"2014-01-01T00:00:00\",\"2014-01-01T00:00:00\",\"2014-01-01T00:00:00\",\"2014-01-01T00:00:00\",\"2014-01-01T00:00:00\",\"2014-01-01T00:00:00\",\"2014-01-01T00:00:00\",\"2014-01-01T00:00:00\",\"2014-01-01T00:00:00\",\"2014-01-01T00:00:00\",\"2014-01-01T00:00:00\",\"2014-01-01T00:00:00\",\"2014-01-01T00:00:00\",\"2014-01-01T00:00:00\",\"2014-01-01T00:00:00\",\"2014-01-01T00:00:00\",\"2014-01-01T00:00:00\",\"2014-01-01T00:00:00\",\"2014-01-01T00:00:00\",\"2014-01-01T00:00:00\",\"2014-01-01T00:00:00\",\"2014-01-01T00:00:00\",\"2014-01-01T00:00:00\",\"2014-01-01T00:00:00\",\"2014-01-01T00:00:00\",\"2014-01-01T00:00:00\",\"2014-01-01T00:00:00\",\"2014-01-01T00:00:00\",\"2014-01-01T00:00:00\",\"2014-01-01T00:00:00\",\"2014-01-01T00:00:00\",\"2014-01-01T00:00:00\",\"2014-01-01T00:00:00\",\"2014-01-01T00:00:00\",\"2014-01-01T00:00:00\",\"2014-01-01T00:00:00\",\"2014-01-01T00:00:00\",\"2014-01-01T00:00:00\",\"2014-01-01T00:00:00\",\"2014-01-01T00:00:00\",\"2014-01-01T00:00:00\",\"2014-01-01T00:00:00\",\"2014-01-01T00:00:00\",\"2014-01-01T00:00:00\",\"2014-01-01T00:00:00\",\"2014-01-01T00:00:00\",\"2014-01-01T00:00:00\",\"2014-01-01T00:00:00\",\"2014-01-01T00:00:00\",\"2014-01-01T00:00:00\",\"2014-01-01T00:00:00\",\"2014-01-01T00:00:00\",\"2014-01-01T00:00:00\",\"2014-01-01T00:00:00\",\"2014-01-01T00:00:00\",\"2014-01-01T00:00:00\",\"2014-01-01T00:00:00\",\"2014-01-01T00:00:00\",\"2014-01-01T00:00:00\",\"2014-01-01T00:00:00\",\"2014-01-01T00:00:00\",\"2014-01-01T00:00:00\",\"2014-01-01T00:00:00\",\"2014-01-01T00:00:00\",\"2014-01-01T00:00:00\",\"2015-01-01T00:00:00\",\"2015-01-01T00:00:00\",\"2015-01-01T00:00:00\",\"2015-01-01T00:00:00\",\"2015-01-01T00:00:00\",\"2015-01-01T00:00:00\",\"2015-01-01T00:00:00\",\"2015-01-01T00:00:00\",\"2015-01-01T00:00:00\",\"2015-01-01T00:00:00\",\"2015-01-01T00:00:00\",\"2015-01-01T00:00:00\",\"2015-01-01T00:00:00\",\"2015-01-01T00:00:00\",\"2015-01-01T00:00:00\",\"2015-01-01T00:00:00\",\"2015-01-01T00:00:00\",\"2015-01-01T00:00:00\",\"2015-01-01T00:00:00\",\"2015-01-01T00:00:00\",\"2015-01-01T00:00:00\",\"2015-01-01T00:00:00\",\"2015-01-01T00:00:00\",\"2015-01-01T00:00:00\",\"2015-01-01T00:00:00\",\"2015-01-01T00:00:00\",\"2015-01-01T00:00:00\",\"2015-01-01T00:00:00\",\"2015-01-01T00:00:00\",\"2015-01-01T00:00:00\",\"2015-01-01T00:00:00\",\"2015-01-01T00:00:00\",\"2015-01-01T00:00:00\",\"2015-01-01T00:00:00\",\"2015-01-01T00:00:00\",\"2015-01-01T00:00:00\",\"2015-01-01T00:00:00\",\"2015-01-01T00:00:00\",\"2015-01-01T00:00:00\",\"2015-01-01T00:00:00\",\"2015-01-01T00:00:00\",\"2015-01-01T00:00:00\",\"2015-01-01T00:00:00\",\"2015-01-01T00:00:00\",\"2015-01-01T00:00:00\",\"2015-01-01T00:00:00\",\"2015-01-01T00:00:00\",\"2015-01-01T00:00:00\",\"2015-01-01T00:00:00\",\"2015-01-01T00:00:00\",\"2015-01-01T00:00:00\",\"2015-01-01T00:00:00\",\"2015-01-01T00:00:00\",\"2015-01-01T00:00:00\",\"2015-01-01T00:00:00\",\"2015-01-01T00:00:00\",\"2015-01-01T00:00:00\",\"2015-01-01T00:00:00\",\"2015-01-01T00:00:00\",\"2015-01-01T00:00:00\",\"2015-01-01T00:00:00\",\"2015-01-01T00:00:00\",\"2015-01-01T00:00:00\",\"2015-01-01T00:00:00\",\"2015-01-01T00:00:00\",\"2015-01-01T00:00:00\",\"2015-01-01T00:00:00\",\"2015-01-01T00:00:00\",\"2015-01-01T00:00:00\",\"2015-01-01T00:00:00\",\"2015-01-01T00:00:00\",\"2015-01-01T00:00:00\",\"2015-01-01T00:00:00\",\"2015-01-01T00:00:00\",\"2015-01-01T00:00:00\",\"2015-01-01T00:00:00\",\"2015-01-01T00:00:00\",\"2016-01-01T00:00:00\",\"2016-01-01T00:00:00\",\"2016-01-01T00:00:00\",\"2016-01-01T00:00:00\",\"2016-01-01T00:00:00\",\"2016-01-01T00:00:00\",\"2016-01-01T00:00:00\",\"2016-01-01T00:00:00\",\"2016-01-01T00:00:00\",\"2016-01-01T00:00:00\",\"2016-01-01T00:00:00\",\"2016-01-01T00:00:00\",\"2016-01-01T00:00:00\",\"2016-01-01T00:00:00\",\"2016-01-01T00:00:00\",\"2016-01-01T00:00:00\",\"2016-01-01T00:00:00\",\"2016-01-01T00:00:00\",\"2016-01-01T00:00:00\",\"2016-01-01T00:00:00\",\"2016-01-01T00:00:00\",\"2016-01-01T00:00:00\",\"2016-01-01T00:00:00\",\"2016-01-01T00:00:00\",\"2016-01-01T00:00:00\",\"2016-01-01T00:00:00\",\"2016-01-01T00:00:00\",\"2016-01-01T00:00:00\",\"2016-01-01T00:00:00\",\"2016-01-01T00:00:00\",\"2016-01-01T00:00:00\",\"2016-01-01T00:00:00\",\"2016-01-01T00:00:00\",\"2016-01-01T00:00:00\",\"2016-01-01T00:00:00\",\"2016-01-01T00:00:00\",\"2016-01-01T00:00:00\",\"2016-01-01T00:00:00\",\"2016-01-01T00:00:00\",\"2016-01-01T00:00:00\",\"2016-01-01T00:00:00\",\"2016-01-01T00:00:00\",\"2016-01-01T00:00:00\",\"2016-01-01T00:00:00\",\"2016-01-01T00:00:00\",\"2016-01-01T00:00:00\",\"2016-01-01T00:00:00\",\"2016-01-01T00:00:00\",\"2016-01-01T00:00:00\",\"2016-01-01T00:00:00\",\"2016-01-01T00:00:00\",\"2016-01-01T00:00:00\",\"2016-01-01T00:00:00\",\"2016-01-01T00:00:00\",\"2016-01-01T00:00:00\",\"2016-01-01T00:00:00\",\"2016-01-01T00:00:00\",\"2016-01-01T00:00:00\",\"2016-01-01T00:00:00\",\"2016-01-01T00:00:00\",\"2016-01-01T00:00:00\",\"2016-01-01T00:00:00\",\"2016-01-01T00:00:00\",\"2016-01-01T00:00:00\",\"2016-01-01T00:00:00\",\"2016-01-01T00:00:00\",\"2016-01-01T00:00:00\",\"2016-01-01T00:00:00\",\"2016-01-01T00:00:00\",\"2016-01-01T00:00:00\",\"2016-01-01T00:00:00\",\"2016-01-01T00:00:00\",\"2016-01-01T00:00:00\",\"2016-01-01T00:00:00\",\"2016-01-01T00:00:00\",\"2016-01-01T00:00:00\",\"2017-01-01T00:00:00\",\"2017-01-01T00:00:00\",\"2017-01-01T00:00:00\",\"2017-01-01T00:00:00\",\"2017-01-01T00:00:00\",\"2017-01-01T00:00:00\",\"2017-01-01T00:00:00\",\"2017-01-01T00:00:00\",\"2017-01-01T00:00:00\",\"2017-01-01T00:00:00\",\"2017-01-01T00:00:00\",\"2017-01-01T00:00:00\",\"2017-01-01T00:00:00\",\"2017-01-01T00:00:00\",\"2017-01-01T00:00:00\",\"2017-01-01T00:00:00\",\"2017-01-01T00:00:00\",\"2017-01-01T00:00:00\",\"2017-01-01T00:00:00\",\"2017-01-01T00:00:00\",\"2017-01-01T00:00:00\",\"2017-01-01T00:00:00\",\"2017-01-01T00:00:00\",\"2017-01-01T00:00:00\",\"2017-01-01T00:00:00\",\"2017-01-01T00:00:00\",\"2017-01-01T00:00:00\",\"2017-01-01T00:00:00\",\"2017-01-01T00:00:00\",\"2017-01-01T00:00:00\",\"2017-01-01T00:00:00\",\"2017-01-01T00:00:00\",\"2017-01-01T00:00:00\",\"2017-01-01T00:00:00\",\"2017-01-01T00:00:00\",\"2017-01-01T00:00:00\",\"2017-01-01T00:00:00\",\"2017-01-01T00:00:00\",\"2017-01-01T00:00:00\",\"2017-01-01T00:00:00\",\"2017-01-01T00:00:00\",\"2017-01-01T00:00:00\",\"2017-01-01T00:00:00\",\"2017-01-01T00:00:00\",\"2017-01-01T00:00:00\",\"2017-01-01T00:00:00\",\"2017-01-01T00:00:00\",\"2017-01-01T00:00:00\",\"2017-01-01T00:00:00\",\"2017-01-01T00:00:00\",\"2017-01-01T00:00:00\",\"2017-01-01T00:00:00\",\"2017-01-01T00:00:00\",\"2017-01-01T00:00:00\",\"2017-01-01T00:00:00\",\"2017-01-01T00:00:00\",\"2017-01-01T00:00:00\",\"2017-01-01T00:00:00\",\"2017-01-01T00:00:00\",\"2017-01-01T00:00:00\",\"2017-01-01T00:00:00\",\"2017-01-01T00:00:00\",\"2017-01-01T00:00:00\",\"2017-01-01T00:00:00\",\"2017-01-01T00:00:00\",\"2017-01-01T00:00:00\",\"2017-01-01T00:00:00\",\"2017-01-01T00:00:00\",\"2017-01-01T00:00:00\",\"2017-01-01T00:00:00\",\"2017-01-01T00:00:00\",\"2018-01-01T00:00:00\",\"2018-01-01T00:00:00\",\"2018-01-01T00:00:00\",\"2018-01-01T00:00:00\",\"2018-01-01T00:00:00\",\"2018-01-01T00:00:00\",\"2018-01-01T00:00:00\",\"2018-01-01T00:00:00\",\"2018-01-01T00:00:00\",\"2018-01-01T00:00:00\",\"2018-01-01T00:00:00\",\"2018-01-01T00:00:00\",\"2018-01-01T00:00:00\",\"2018-01-01T00:00:00\",\"2018-01-01T00:00:00\",\"2018-01-01T00:00:00\",\"2018-01-01T00:00:00\",\"2018-01-01T00:00:00\",\"2018-01-01T00:00:00\",\"2018-01-01T00:00:00\",\"2018-01-01T00:00:00\",\"2018-01-01T00:00:00\",\"2018-01-01T00:00:00\",\"2018-01-01T00:00:00\",\"2018-01-01T00:00:00\",\"2018-01-01T00:00:00\",\"2018-01-01T00:00:00\",\"2018-01-01T00:00:00\",\"2018-01-01T00:00:00\",\"2018-01-01T00:00:00\",\"2018-01-01T00:00:00\",\"2018-01-01T00:00:00\",\"2018-01-01T00:00:00\",\"2018-01-01T00:00:00\",\"2018-01-01T00:00:00\",\"2018-01-01T00:00:00\",\"2018-01-01T00:00:00\",\"2018-01-01T00:00:00\",\"2018-01-01T00:00:00\",\"2018-01-01T00:00:00\",\"2018-01-01T00:00:00\",\"2018-01-01T00:00:00\",\"2018-01-01T00:00:00\",\"2018-01-01T00:00:00\",\"2018-01-01T00:00:00\",\"2018-01-01T00:00:00\",\"2018-01-01T00:00:00\",\"2018-01-01T00:00:00\",\"2018-01-01T00:00:00\",\"2019-01-01T00:00:00\",\"2019-01-01T00:00:00\",\"2019-01-01T00:00:00\",\"2019-01-01T00:00:00\",\"2019-01-01T00:00:00\",\"2019-01-01T00:00:00\",\"2019-01-01T00:00:00\",\"2019-01-01T00:00:00\",\"2019-01-01T00:00:00\",\"2019-01-01T00:00:00\",\"2019-01-01T00:00:00\",\"2019-01-01T00:00:00\",\"2019-01-01T00:00:00\",\"2019-01-01T00:00:00\",\"2019-01-01T00:00:00\",\"2019-01-01T00:00:00\",\"2019-01-01T00:00:00\",\"2019-01-01T00:00:00\",\"2019-01-01T00:00:00\",\"2019-01-01T00:00:00\",\"2019-01-01T00:00:00\",\"2019-01-01T00:00:00\",\"2019-01-01T00:00:00\",\"2019-01-01T00:00:00\",\"2019-01-01T00:00:00\",\"2019-01-01T00:00:00\",\"2019-01-01T00:00:00\",\"2019-01-01T00:00:00\",\"2019-01-01T00:00:00\",\"2019-01-01T00:00:00\",\"2019-01-01T00:00:00\",\"2019-01-01T00:00:00\",\"2019-01-01T00:00:00\",\"2019-01-01T00:00:00\",\"2019-01-01T00:00:00\",\"2019-01-01T00:00:00\",\"2019-01-01T00:00:00\",\"2019-01-01T00:00:00\",\"2019-01-01T00:00:00\",\"2019-01-01T00:00:00\",\"2019-01-01T00:00:00\",\"2019-01-01T00:00:00\",\"2019-01-01T00:00:00\",\"2019-01-01T00:00:00\",\"2019-01-01T00:00:00\",\"2020-01-01T00:00:00\",\"2020-01-01T00:00:00\",\"2020-01-01T00:00:00\",\"2020-01-01T00:00:00\",\"2020-01-01T00:00:00\",\"2020-01-01T00:00:00\",\"2020-01-01T00:00:00\",\"2020-01-01T00:00:00\",\"2020-01-01T00:00:00\",\"2020-01-01T00:00:00\",\"2020-01-01T00:00:00\",\"2020-01-01T00:00:00\",\"2020-01-01T00:00:00\",\"2020-01-01T00:00:00\",\"2020-01-01T00:00:00\",\"2020-01-01T00:00:00\",\"2020-01-01T00:00:00\",\"2020-01-01T00:00:00\",\"2020-01-01T00:00:00\",\"2020-01-01T00:00:00\",\"2020-01-01T00:00:00\",\"2020-01-01T00:00:00\",\"2020-01-01T00:00:00\",\"2020-01-01T00:00:00\",\"2020-01-01T00:00:00\",\"2020-01-01T00:00:00\",\"2020-01-01T00:00:00\",\"2020-01-01T00:00:00\",\"2021-01-01T00:00:00\",\"2021-01-01T00:00:00\",\"2021-01-01T00:00:00\",\"2021-01-01T00:00:00\",\"2021-01-01T00:00:00\",\"2021-01-01T00:00:00\",\"2021-01-01T00:00:00\",\"2021-01-01T00:00:00\",\"2021-01-01T00:00:00\",\"2021-01-01T00:00:00\",\"2021-01-01T00:00:00\",\"2021-01-01T00:00:00\",\"2021-01-01T00:00:00\",\"2021-01-01T00:00:00\",\"2021-01-01T00:00:00\",\"2021-01-01T00:00:00\",\"2021-01-01T00:00:00\",\"2021-01-01T00:00:00\",\"2021-01-01T00:00:00\",\"2021-01-01T00:00:00\",\"2021-01-01T00:00:00\",\"2021-01-01T00:00:00\",\"2021-01-01T00:00:00\",\"2021-01-01T00:00:00\",\"2021-01-01T00:00:00\",\"2021-01-01T00:00:00\"],\"xaxis\":\"x\",\"y\":[0.24006593939393941,0.0815457806578906,-0.7204954926958153,0.5734049113386748,0.3328104882040895,-0.20735086117035204,-0.007214179894180279,-0.043107971056206125,-0.32577207707663486,0.17738199440218486,0.10893122682254656,0.4295741723769393,0.16700201207243454,0.22731726165200195,0.1111111111111111,0.1395791274593669,1.4904203481309144,-0.10437244371478058,1.0624052161587474,0.2260172901164011,-0.22038912380018075,1.2969717071005142,1.1974657152227772,-0.16832711341879053,-0.1015382567261728,-0.11735788169726998,-0.23322174916311877,0.034553071404519374,-0.18413442692014603,1.2607075037115973,0.5971920220582241,0.6305077604629002,-0.18535064505975932,0.33039009358736715,0.5832094016091577,0.12485289212142298,0.2772505114528823,0.0,0.5455768668967409,0.018403068715551665,0.1244806994240761,0.24923645896961924,0.026789859976455596,0.1823077409452045,0.23506836198264416,0.16129359675065458,0.18521475151912753,0.4,0.25324742532474265,0.24444444444444163,-0.5499999999999996,0.12511344310883962,0.2606218181818182,1.0402684410395144,0.4714125662555973,2.783764182210709,-0.36256963168983347,0.00137557625071707,0.3863795323197717,0.8863668983617301,2.3824999999999967,0.5449303290274032,-0.0679413580246919,3.3319146549238674,-0.1130134449088351,-0.10204324079923216,0.5849299368413016,-0.05934434712467027,0.08496951761382908,0.02716491450765682,4.266351532557728,0.03261772369011645,0.09413970104659224,0.1783929132031176,0.24521569623719872,-0.687378692561391,0.11099486252460378,0.07987213417451844,-0.4774178086386819,1.301075751353487,5.7569444444444455,0.49580106871758706,-0.12213071281550807,4.2877159488255225,0.33705485412185776,1.1377349322356736,1.2801352816901397,0.09180216037578112,0.422600925342878,0.1475024035523304,-0.2715132512041232,0.4362688034516411,0.3539103571428581,-0.26702108695652166,-0.07438663528383661,17.297023516070748,6.8159296551600015,0.3823653081036978,-0.04775678193006786,-0.0796187269296895,1.6010228773883184e-08,-0.04172266417396956,0.7990982229934749,0.0031250000000000414,-0.024390243902439046,0.41007560439049884,-0.03334033607285873,-0.3117040492032436,-0.3105268168734302,0.2319396084953014,-0.14875577876084206,0.0,1.0232799220026236,-0.4392230413448551,3.1454949944382644,0.5917008693810498,-0.03857232696948371,0.07391663543158677,-0.04721600799723691,0.5995182781263401,-0.34806749440386653,0.5499620853080569,2.637355205318636,0.1679402465940409,0.0468194489432404,-0.11398899991274615,0.4697799087836038,-0.24596423432682427,0.9877134886465402,-0.5197761627906976,-0.04919800410630712,0.5165814740196385,-0.4873151922982464,0.04184991899422295,0.37628010972868403,0.05225397566444525,0.35930986481522736,-0.0446099759126143,0.006408264807241525,0.19784564756982592,1.3500084073480225,-0.02270799999999995,-0.1752603292098326,1.6320125,2.253615099042031,-0.3454817097827216,0.8457205314077617,-0.08427251733121911,-0.30863966194994163,0.7668745515346983,-0.4628040575754307,1.2435522222222224,1.1324365962265854,1.2678936212070893,0.22156832908028845,-0.02856351678781579,0.0,0.5118686270390121,0.7534970608653861,0.04176939792719163,1.3828179106067842,-0.2616811100836876,3.0862292393945685,-0.36258955783059876,0.6436468381860867,-0.43976700168169014,-0.07624269616697502,-0.034797276272411734,-0.06850222537302407,0.09170397656919499,-0.09268954498136671,-0.3232445462666787,-0.4526605569294383,0.44799439342608705,2.448029146234354,0.14379181390810855,0.023644500772307786,-0.016375150529022792,1.0923298148896623,-0.11622040570471075,0.512606161128834,-0.13550374159492648,1.1203106436391217,0.9386463073153656,-0.1596544722513489,-0.21477300155606224,0.8421355177121503,-0.16133288693790981,0.22272946614455313,-0.08144814356062303,0.6153846153846154,-0.11924294586786159,0.9337180656031061,0.019852599358292415,0.023235634794923063,-0.008713674422139068,0.8226753938102708,-0.45396352881231417,-0.23578010770133703,-0.47792082274951986,-0.10983387085181197,0.03598233616329939,0.26762134322604286,0.3927974436978974,0.5542780124970469,3.8401248989954704,0.5757449424395598,-0.25119974129708866,0.13992441481573084,-0.336037701783446,2.0637952167840137,-0.10745386278611091,0.0,0.4653941946245587,0.11087829999999899,2.733741492418074,-0.038550680840928775,0.1521234109495162,0.03974967603025334,0.42075873291409754,0.06800885478158206,0.39159679757995297,0.029419999976597527,0.2762038043594688,0.14091887451630183,-0.06759617255164474,0.28646923842989674,0.1983908204427037,0.13082241703546513,-0.17493162088927136,0.7099778845188504,0.14977723147960875,-0.5403753967610915,-0.032581401387334306,0.4248501552579502,0.16404812082736234,0.25724985454340193,0.10000080039059066,0.7803607406405257,-0.2230013359249856,2.0791941545704264,-0.2296352961833269,0.021221167957643297,2.413354318134058,-0.40484456523895496,-0.3318250965401568,0.5611316380427396,-0.14136708030457598,0.05373287599158955,-0.05082254084826387,0.3884035503389378,0.07698542790687694,0.0,0.3387225399918287,2.531855503330913,3.17126236378353,0.09177356662528834,0.23004749999999996,1.0099048047917873,-0.08546179914897128,1.0073603444716288,0.19181284557945796,0.5039742176089389,1.3717470605213797,-0.4567513766774762,0.03308660929989759,-0.2753533050066781,0.10711594172433628,2.646930972466037,-0.0828793902655797,-0.06411144723800927,-0.4423898723980915,-0.26671674475200563,-0.2577336978540182,3.877384201186813,-0.24868823863150052,0.10770468336501261,-0.1278411998399716,0.16215886301785806,-0.26456152457040083,-0.3350919055155213,-0.23675257676741016,0.13457024057146272,0.08144827153260109,1.9144722877417857,0.01928957573150547,-0.326398552226433,-0.19050420734307658,-0.028734360413838398,0.028579199915745236,0.8426518095988013,2.4401393846153847,-0.2022566557627723,1.7259674679939296,-0.0007584721337330093,1.1160722832394714,0.998195239448276,0.37832393550653387,0.008532059601360688,1.4670006794480381,0.01777040928552911,0.09406966725812604,0.042340366140120475,-0.1452579872547319,-0.2556191016713598,0.1530117668491226,-0.008658555363905748,-0.5316052997125437,0.3858007355224811,0.30750248609627645,-0.2326185901413587,-0.32035782573141464,7.092061904761905,0.03215371375408388,0.07659077641564511,0.2845964334893539,-0.17684977128471818,-0.1843900163756334,-0.043493871688998424,-0.1465794975067567,0.5711823913809485,-0.0728770264431776,0.896551724137931,-0.5031516442691575,0.23418458573566833,-0.33119019132823097,-0.048166343479417596,0.9783964384643496,-0.6580753869475349,0.008475540541758064,1.587412842813185,-0.34776871103255835,-0.4989342742500193,0.013002921658075095,2.8499974356647746,0.7108957842528109,-0.02245862813419746,-0.16937225135018497,0.01031260480123989,0.15963252364375216,-0.5325745821997424,0.005231032983994909,0.17987522849681584,0.0,-0.3637294904024541,0.4444883113049194,0.44381764422876574,0.035591953091621574,-0.10907699614037271,-0.003509688981816929,-0.11088461595549762,-0.4915755832533752,0.2255086870659241,0.7715334245771025,0.10556986584107339,-0.23822623259390097,-0.020894259242132292,0.9199964773889924,0.277252633281115,0.043429142539407266,0.1416433891992551,1.4741175852488388,-0.20674600169802276,0.4213557510250772,-0.27847846118617364,0.6422983334975106,0.5429626123799096,-0.3823845558213156,0.20986887738674018,0.9827637176572027,1.0444621673309924,0.0561607171018262,0.38825779157882734,0.8910053708460225,-0.20167056101481246,-0.06345365250676803,0.6851638107645058,0.16666360941684308,0.15780661188965084,-0.2808668570034511,-0.2917492266332499,-0.32145403142574036,-0.1660565479826984,0.140956887171006,-0.2894763096182906,0.4259930004115008,3.0670973599664726,0.0,0.21258661971830992,-0.00027769172698264205,-0.6603863314134735,0.3557124575402161,0.28511754334743344,-0.6832015855632769,0.0680964323065236,0.491404132669427,0.0,0.24732843479545924,0.7547206297206297,-0.05449149717843323,-0.24822733511523176,0.5714285714285714,-0.11046536523278601,0.13316671420325749,0.28383907269039627,-0.7893670900104174,1.4755244683432642,-0.028515682628073868,-0.13089877847660952,3.8148263110730265,0.024255984730274634,0.04421501945482904,0.012836015948297407,0.015130458912303014,0.014817894954792086,-0.16496801504652125,1.1284458795190917,0.16670377715411405,-0.2569650462526652,0.676388192112031,-0.6940949612523376,-0.05023742857142859,-0.05634604052014523,0.022879324359368385,1.3052585343820406,0.4903468381137025,-0.24405453290012472,-0.6129166666666667,1.626305025072053,-0.7039502835041869,2.3109580161769374,0.44731265982959717,-0.10160990461499636,0.3065856421833771,-0.02290304258048462,-0.3922281634160168,-0.10956181199515533,0.15973113127400024,-0.5920998410872225,0.9793525946929434,0.513927255260826,-0.2527212895577666,-0.023557106285718568,-0.5802748944394399,0.19190378480577522,-0.17569059921335595,-0.12559023249573112,0.08793956166903116,0.002185304298110483,0.06299562607615122,0.43478536796233486,-0.2930551728804384,-0.3691805243270602,-0.05428240673880825,0.2901438671911186,-0.14051179375954942,-0.37531705168181206,-0.004362435125773583,-0.5948314724240068,-0.23787877273383487,-0.0740143820804201,0.1235426936424455,0.005857040873073865,-0.18571428571428572,0.3630585783481479,0.48048491381187813,0.09999999588668664,-0.18986188701221998,-0.32899364945272075,0.8535319292796827,0.1839452097843286,0.15370711781079416,-0.240312734546356,-0.12359421389184112,0.12951804984228102,0.9358981244378054,0.13513827260247038,0.7600092955315053,0.15053358537506856,-0.15007909357967514,1.692257819311856,1.109782580256927,0.0658170625412754,-0.6364209039772775,0.5437443908044312,19.249902244712327,0.012673340744384452,0.3195410009730893,-0.09338988113232212,0.1580920564654316,0.9281504787392324,-0.019574209360514575,1.6251482847185355,-0.6139519380633175,0.6709086188181357,-0.36738362703199656,-0.09113275658119967,-0.3498136377422158,0.6692582207494266,-0.002958019375672856,-0.04167898561258116,0.6788383417303023,0.5317623056827293,-0.11832105296154878,0.2266770375014028,0.7018987710716953,0.22253549719238563,1.3877550220541865,0.12150469598565848,1.224514113041687,0.5316644499167172,-0.5122025303421736,-0.23485864278209703,1.860610265477657,1.1035308748186106,-0.36110092576353037,-0.23227329535437227,0.1055998837570392,0.1533305846035425,0.08050305202992661,0.2340507585555412,0.013953519032753988,-0.12007165143907038,0.007381347507953056,-0.10544703664276822,0.4344023497459724,0.2257032292585881,-0.08556149732620329,2.7286464735416245,-0.19649030063119827,-0.22882641332247702,0.0934418366985148,0.16838467401719578,1.5069855998591242,0.2736440753258305,0.08297076108180144,-0.2565634336991696,0.9768036091212235,0.0219117266474791,0.0,0.020000001745042042,0.9003206258582765,0.7185885736431611,0.002226771764355839,1.0814663951120165,-0.10061739760777631,0.7179310812114891,0.003102841692371242,0.10304644308404103,0.11905005395743193,0.3333333333333333,-0.2598500424408187,-0.3203994000431845,0.10556695197000783,0.3885931558935361,-0.27819697699453894,0.20600000000000054,-0.12113395669535454,0.5506486124443154,0.3810936025801365,-0.2998112748448939,0.01251473721532817,0.251707901592732,0.06344929520669415,0.2019849855555786,0.0837169519657951,0.3097352824326934,-0.2298945191119461,0.3932121135613258,0.3352968826494476,-0.2172508774572766,-0.2083582003360274,-0.14751438806830378,-0.4157578300854864,-0.09458380605912774,-0.29311632010723415,0.15257870315985908,3.3736507654646695,-0.32075075824945215,-0.17689808415001493,-0.45911898446381205,-0.0640404350956709,-0.6316576062957929,0.10834078218359261,-0.23686455601827763,-0.7194532591304347,0.5428849336164598,0.028000166508904516,-0.02642537221130772,-0.023095966130151885,-0.12807101348228148,-0.49937065437004474,-0.03552593427800024,-0.022635147475236733,-0.4102857167435632,-0.38613125406107857,-0.39174233080536386,0.09292882585767352,0.9220707384232673,0.009556962025316527,0.0004104920509660099,-0.42644730537996683,0.020000000000000042,0.07137472909848822,-0.5054919562417498,-0.5981025521996628,0.36310138457768293,0.38250176294827665,0.08565303153507828,-0.1783869385217023,-0.1001778231557685,-0.07447973713033951,0.12931945816283325,-0.19090522530537807,-0.6256700060392614,0.127611579799206,0.1210263316358056,-0.08729080305929526,-0.6255226232625941,-0.27070370139617755,0.05845569312423269,1.734664011907251,0.1749590627246323,-0.22582220991046753,0.0510797524981574,0.5682843169115922,0.7846097875245972,-0.6524042769768839,0.8868459461877644,-0.538909996911104,0.5702002062161939,0.1758226961263515,0.04472109740385413,0.041691017453841545,0.04983772652388816,0.10658194147950559,0.6574174081396678,0.7545581744134082,-0.18252700734507848,-0.05899057336998529,0.019665780486773594,2.0660721712913652,0.04503188639929513,-0.3663847336781774,0.030361701893048917,-0.5738323883234777,-0.10775542127718978,1.3611712055315885,0.009836662971273872,-0.1260573595955879,-0.39925046718038926,1.00274113593831,-0.07343979200560538,0.15634311369876322,0.3045130782988288,-0.3692245739644971,1.0939385302595788,0.25988939579002635,-0.11741389430373812,-0.10775314845785423,-0.252368693972471,-0.12129341081250478,0.37234632433793335,0.38168435315537824,0.37934814584310134,-0.02374614024730456,-0.3742155736182525,0.2964885071752205,-0.35203503336012465,-0.07072977046343883,-0.421407483641692,-0.10296644892614733,1.2386387338456017,0.0,-0.139174491884119,0.26571144829202203,0.08120782049362561,-0.06871555347968232,-0.05842919909086357,0.22128916941327847,-0.4174316215491129,-0.3357347113364047,0.06796927702576508,-0.4737032263524653,-0.005764049433576234,0.28912268490480453,-0.41669847296453016,0.344190409482289,-0.41302880431858907,-0.327247447018535,0.4604413516393955,-0.002443121998305452,-0.13773269691114032,0.31566171299827445,0.779370995002161,0.1459270210006174,-0.0796788732369569,0.23304930702411514,-0.24842717534247316,-0.3929096140290588,0.15791143885288553,0.2742629434676097,0.40775201539341016,-0.12850912111276253,0.7412790300103049,-0.1729111927293668,0.9598679147888864,-0.2736306233633957,0.19287875077397754,-0.29847404991753324,-2.4686002954371114e-08,-0.19772134847402195,-0.23738272945798186,-0.1200001411595107,0.33461888505841814,0.2581511181865139,0.58714667539267,-0.17721448348393462,-0.003487125115117697,-0.08215855292541188,0.02603303022247085,0.05318026865764931,0.2743718273806364,0.46040808353810553,0.35725085080941865,-0.2645934546876197,-0.15872203462295562,0.055633550254800414,-0.49665462669592936,0.553205575030397,-0.43945276231522307,0.9043426231136323,0.2198748763045739,2.600477354043402,-0.20474287997202203,0.28990739461157716],\"yaxis\":\"y\",\"type\":\"histogram\"}],                        {\"template\":{\"data\":{\"histogram2dcontour\":[{\"type\":\"histogram2dcontour\",\"colorbar\":{\"outlinewidth\":0,\"ticks\":\"\"},\"colorscale\":[[0.0,\"#0d0887\"],[0.1111111111111111,\"#46039f\"],[0.2222222222222222,\"#7201a8\"],[0.3333333333333333,\"#9c179e\"],[0.4444444444444444,\"#bd3786\"],[0.5555555555555556,\"#d8576b\"],[0.6666666666666666,\"#ed7953\"],[0.7777777777777778,\"#fb9f3a\"],[0.8888888888888888,\"#fdca26\"],[1.0,\"#f0f921\"]]}],\"choropleth\":[{\"type\":\"choropleth\",\"colorbar\":{\"outlinewidth\":0,\"ticks\":\"\"}}],\"histogram2d\":[{\"type\":\"histogram2d\",\"colorbar\":{\"outlinewidth\":0,\"ticks\":\"\"},\"colorscale\":[[0.0,\"#0d0887\"],[0.1111111111111111,\"#46039f\"],[0.2222222222222222,\"#7201a8\"],[0.3333333333333333,\"#9c179e\"],[0.4444444444444444,\"#bd3786\"],[0.5555555555555556,\"#d8576b\"],[0.6666666666666666,\"#ed7953\"],[0.7777777777777778,\"#fb9f3a\"],[0.8888888888888888,\"#fdca26\"],[1.0,\"#f0f921\"]]}],\"heatmap\":[{\"type\":\"heatmap\",\"colorbar\":{\"outlinewidth\":0,\"ticks\":\"\"},\"colorscale\":[[0.0,\"#0d0887\"],[0.1111111111111111,\"#46039f\"],[0.2222222222222222,\"#7201a8\"],[0.3333333333333333,\"#9c179e\"],[0.4444444444444444,\"#bd3786\"],[0.5555555555555556,\"#d8576b\"],[0.6666666666666666,\"#ed7953\"],[0.7777777777777778,\"#fb9f3a\"],[0.8888888888888888,\"#fdca26\"],[1.0,\"#f0f921\"]]}],\"heatmapgl\":[{\"type\":\"heatmapgl\",\"colorbar\":{\"outlinewidth\":0,\"ticks\":\"\"},\"colorscale\":[[0.0,\"#0d0887\"],[0.1111111111111111,\"#46039f\"],[0.2222222222222222,\"#7201a8\"],[0.3333333333333333,\"#9c179e\"],[0.4444444444444444,\"#bd3786\"],[0.5555555555555556,\"#d8576b\"],[0.6666666666666666,\"#ed7953\"],[0.7777777777777778,\"#fb9f3a\"],[0.8888888888888888,\"#fdca26\"],[1.0,\"#f0f921\"]]}],\"contourcarpet\":[{\"type\":\"contourcarpet\",\"colorbar\":{\"outlinewidth\":0,\"ticks\":\"\"}}],\"contour\":[{\"type\":\"contour\",\"colorbar\":{\"outlinewidth\":0,\"ticks\":\"\"},\"colorscale\":[[0.0,\"#0d0887\"],[0.1111111111111111,\"#46039f\"],[0.2222222222222222,\"#7201a8\"],[0.3333333333333333,\"#9c179e\"],[0.4444444444444444,\"#bd3786\"],[0.5555555555555556,\"#d8576b\"],[0.6666666666666666,\"#ed7953\"],[0.7777777777777778,\"#fb9f3a\"],[0.8888888888888888,\"#fdca26\"],[1.0,\"#f0f921\"]]}],\"surface\":[{\"type\":\"surface\",\"colorbar\":{\"outlinewidth\":0,\"ticks\":\"\"},\"colorscale\":[[0.0,\"#0d0887\"],[0.1111111111111111,\"#46039f\"],[0.2222222222222222,\"#7201a8\"],[0.3333333333333333,\"#9c179e\"],[0.4444444444444444,\"#bd3786\"],[0.5555555555555556,\"#d8576b\"],[0.6666666666666666,\"#ed7953\"],[0.7777777777777778,\"#fb9f3a\"],[0.8888888888888888,\"#fdca26\"],[1.0,\"#f0f921\"]]}],\"mesh3d\":[{\"type\":\"mesh3d\",\"colorbar\":{\"outlinewidth\":0,\"ticks\":\"\"}}],\"scatter\":[{\"fillpattern\":{\"fillmode\":\"overlay\",\"size\":10,\"solidity\":0.2},\"type\":\"scatter\"}],\"parcoords\":[{\"type\":\"parcoords\",\"line\":{\"colorbar\":{\"outlinewidth\":0,\"ticks\":\"\"}}}],\"scatterpolargl\":[{\"type\":\"scatterpolargl\",\"marker\":{\"colorbar\":{\"outlinewidth\":0,\"ticks\":\"\"}}}],\"bar\":[{\"error_x\":{\"color\":\"#2a3f5f\"},\"error_y\":{\"color\":\"#2a3f5f\"},\"marker\":{\"line\":{\"color\":\"#E5ECF6\",\"width\":0.5},\"pattern\":{\"fillmode\":\"overlay\",\"size\":10,\"solidity\":0.2}},\"type\":\"bar\"}],\"scattergeo\":[{\"type\":\"scattergeo\",\"marker\":{\"colorbar\":{\"outlinewidth\":0,\"ticks\":\"\"}}}],\"scatterpolar\":[{\"type\":\"scatterpolar\",\"marker\":{\"colorbar\":{\"outlinewidth\":0,\"ticks\":\"\"}}}],\"histogram\":[{\"marker\":{\"pattern\":{\"fillmode\":\"overlay\",\"size\":10,\"solidity\":0.2}},\"type\":\"histogram\"}],\"scattergl\":[{\"type\":\"scattergl\",\"marker\":{\"colorbar\":{\"outlinewidth\":0,\"ticks\":\"\"}}}],\"scatter3d\":[{\"type\":\"scatter3d\",\"line\":{\"colorbar\":{\"outlinewidth\":0,\"ticks\":\"\"}},\"marker\":{\"colorbar\":{\"outlinewidth\":0,\"ticks\":\"\"}}}],\"scattermapbox\":[{\"type\":\"scattermapbox\",\"marker\":{\"colorbar\":{\"outlinewidth\":0,\"ticks\":\"\"}}}],\"scatterternary\":[{\"type\":\"scatterternary\",\"marker\":{\"colorbar\":{\"outlinewidth\":0,\"ticks\":\"\"}}}],\"scattercarpet\":[{\"type\":\"scattercarpet\",\"marker\":{\"colorbar\":{\"outlinewidth\":0,\"ticks\":\"\"}}}],\"carpet\":[{\"aaxis\":{\"endlinecolor\":\"#2a3f5f\",\"gridcolor\":\"white\",\"linecolor\":\"white\",\"minorgridcolor\":\"white\",\"startlinecolor\":\"#2a3f5f\"},\"baxis\":{\"endlinecolor\":\"#2a3f5f\",\"gridcolor\":\"white\",\"linecolor\":\"white\",\"minorgridcolor\":\"white\",\"startlinecolor\":\"#2a3f5f\"},\"type\":\"carpet\"}],\"table\":[{\"cells\":{\"fill\":{\"color\":\"#EBF0F8\"},\"line\":{\"color\":\"white\"}},\"header\":{\"fill\":{\"color\":\"#C8D4E3\"},\"line\":{\"color\":\"white\"}},\"type\":\"table\"}],\"barpolar\":[{\"marker\":{\"line\":{\"color\":\"#E5ECF6\",\"width\":0.5},\"pattern\":{\"fillmode\":\"overlay\",\"size\":10,\"solidity\":0.2}},\"type\":\"barpolar\"}],\"pie\":[{\"automargin\":true,\"type\":\"pie\"}]},\"layout\":{\"autotypenumbers\":\"strict\",\"colorway\":[\"#636efa\",\"#EF553B\",\"#00cc96\",\"#ab63fa\",\"#FFA15A\",\"#19d3f3\",\"#FF6692\",\"#B6E880\",\"#FF97FF\",\"#FECB52\"],\"font\":{\"color\":\"#2a3f5f\"},\"hovermode\":\"closest\",\"hoverlabel\":{\"align\":\"left\"},\"paper_bgcolor\":\"white\",\"plot_bgcolor\":\"#E5ECF6\",\"polar\":{\"bgcolor\":\"#E5ECF6\",\"angularaxis\":{\"gridcolor\":\"white\",\"linecolor\":\"white\",\"ticks\":\"\"},\"radialaxis\":{\"gridcolor\":\"white\",\"linecolor\":\"white\",\"ticks\":\"\"}},\"ternary\":{\"bgcolor\":\"#E5ECF6\",\"aaxis\":{\"gridcolor\":\"white\",\"linecolor\":\"white\",\"ticks\":\"\"},\"baxis\":{\"gridcolor\":\"white\",\"linecolor\":\"white\",\"ticks\":\"\"},\"caxis\":{\"gridcolor\":\"white\",\"linecolor\":\"white\",\"ticks\":\"\"}},\"coloraxis\":{\"colorbar\":{\"outlinewidth\":0,\"ticks\":\"\"}},\"colorscale\":{\"sequential\":[[0.0,\"#0d0887\"],[0.1111111111111111,\"#46039f\"],[0.2222222222222222,\"#7201a8\"],[0.3333333333333333,\"#9c179e\"],[0.4444444444444444,\"#bd3786\"],[0.5555555555555556,\"#d8576b\"],[0.6666666666666666,\"#ed7953\"],[0.7777777777777778,\"#fb9f3a\"],[0.8888888888888888,\"#fdca26\"],[1.0,\"#f0f921\"]],\"sequentialminus\":[[0.0,\"#0d0887\"],[0.1111111111111111,\"#46039f\"],[0.2222222222222222,\"#7201a8\"],[0.3333333333333333,\"#9c179e\"],[0.4444444444444444,\"#bd3786\"],[0.5555555555555556,\"#d8576b\"],[0.6666666666666666,\"#ed7953\"],[0.7777777777777778,\"#fb9f3a\"],[0.8888888888888888,\"#fdca26\"],[1.0,\"#f0f921\"]],\"diverging\":[[0,\"#8e0152\"],[0.1,\"#c51b7d\"],[0.2,\"#de77ae\"],[0.3,\"#f1b6da\"],[0.4,\"#fde0ef\"],[0.5,\"#f7f7f7\"],[0.6,\"#e6f5d0\"],[0.7,\"#b8e186\"],[0.8,\"#7fbc41\"],[0.9,\"#4d9221\"],[1,\"#276419\"]]},\"xaxis\":{\"gridcolor\":\"white\",\"linecolor\":\"white\",\"ticks\":\"\",\"title\":{\"standoff\":15},\"zerolinecolor\":\"white\",\"automargin\":true,\"zerolinewidth\":2},\"yaxis\":{\"gridcolor\":\"white\",\"linecolor\":\"white\",\"ticks\":\"\",\"title\":{\"standoff\":15},\"zerolinecolor\":\"white\",\"automargin\":true,\"zerolinewidth\":2},\"scene\":{\"xaxis\":{\"backgroundcolor\":\"#E5ECF6\",\"gridcolor\":\"white\",\"linecolor\":\"white\",\"showbackground\":true,\"ticks\":\"\",\"zerolinecolor\":\"white\",\"gridwidth\":2},\"yaxis\":{\"backgroundcolor\":\"#E5ECF6\",\"gridcolor\":\"white\",\"linecolor\":\"white\",\"showbackground\":true,\"ticks\":\"\",\"zerolinecolor\":\"white\",\"gridwidth\":2},\"zaxis\":{\"backgroundcolor\":\"#E5ECF6\",\"gridcolor\":\"white\",\"linecolor\":\"white\",\"showbackground\":true,\"ticks\":\"\",\"zerolinecolor\":\"white\",\"gridwidth\":2}},\"shapedefaults\":{\"line\":{\"color\":\"#2a3f5f\"}},\"annotationdefaults\":{\"arrowcolor\":\"#2a3f5f\",\"arrowhead\":0,\"arrowwidth\":1},\"geo\":{\"bgcolor\":\"white\",\"landcolor\":\"#E5ECF6\",\"subunitcolor\":\"white\",\"showland\":true,\"showlakes\":true,\"lakecolor\":\"white\"},\"title\":{\"x\":0.05},\"mapbox\":{\"style\":\"light\"}}},\"xaxis\":{\"anchor\":\"y\",\"domain\":[0.0,1.0],\"title\":{\"text\":\"Year\"}},\"yaxis\":{\"anchor\":\"x\",\"domain\":[0.0,1.0],\"title\":{\"text\":\"avg of total_vaccine in USD_prev_1_year_pct_change\"}},\"legend\":{\"tracegroupgap\":0},\"margin\":{\"t\":60},\"barmode\":\"relative\"},                        {\"responsive\": true}                    ).then(function(){\n",
       "                            \n",
       "var gd = document.getElementById('5f89d5ab-f48a-400a-8c05-d34b2dbd00a3');\n",
       "var x = new MutationObserver(function (mutations, observer) {{\n",
       "        var display = window.getComputedStyle(gd).display;\n",
       "        if (!display || display === 'none') {{\n",
       "            console.log([gd, 'removed!']);\n",
       "            Plotly.purge(gd);\n",
       "            observer.disconnect();\n",
       "        }}\n",
       "}});\n",
       "\n",
       "// Listen for the removal of the full notebook cells\n",
       "var notebookContainer = gd.closest('#notebook-container');\n",
       "if (notebookContainer) {{\n",
       "    x.observe(notebookContainer, {childList: true});\n",
       "}}\n",
       "\n",
       "// Listen for the clearing of the current output cell\n",
       "var outputEl = gd.closest('.output');\n",
       "if (outputEl) {{\n",
       "    x.observe(outputEl, {childList: true});\n",
       "}}\n",
       "\n",
       "                        })                };                });            </script>        </div>"
      ]
     },
     "metadata": {},
     "output_type": "display_data"
    }
   ],
   "source": [
    "fig = px.histogram(merged_df.dropna(subset=['total_vaccine in USD_prev_1_year_pct_change']), x='Year', histfunc='avg', y='total_vaccine in USD_prev_1_year_pct_change')\n",
    "fig"
   ]
  },
  {
   "cell_type": "code",
   "execution_count": 88,
   "metadata": {},
   "outputs": [
    {
     "data": {
      "application/vnd.plotly.v1+json": {
       "config": {
        "plotlyServerURL": "https://plot.ly"
       },
       "data": [
        {
         "alignmentgroup": "True",
         "bingroup": "x",
         "histfunc": "avg",
         "hovertemplate": "Year=%{x}<br>avg of total_immunization in USD_prev_1_year_pct_change=%{y}<extra></extra>",
         "legendgroup": "",
         "marker": {
          "color": "#636efa",
          "pattern": {
           "shape": ""
          }
         },
         "name": "",
         "offsetgroup": "",
         "orientation": "v",
         "showlegend": false,
         "type": "histogram",
         "x": [
          "2008-01-01T00:00:00",
          "2008-01-01T00:00:00",
          "2008-01-01T00:00:00",
          "2008-01-01T00:00:00",
          "2008-01-01T00:00:00",
          "2008-01-01T00:00:00",
          "2008-01-01T00:00:00",
          "2008-01-01T00:00:00",
          "2008-01-01T00:00:00",
          "2008-01-01T00:00:00",
          "2008-01-01T00:00:00",
          "2008-01-01T00:00:00",
          "2008-01-01T00:00:00",
          "2008-01-01T00:00:00",
          "2008-01-01T00:00:00",
          "2008-01-01T00:00:00",
          "2008-01-01T00:00:00",
          "2008-01-01T00:00:00",
          "2008-01-01T00:00:00",
          "2008-01-01T00:00:00",
          "2008-01-01T00:00:00",
          "2008-01-01T00:00:00",
          "2008-01-01T00:00:00",
          "2008-01-01T00:00:00",
          "2008-01-01T00:00:00",
          "2008-01-01T00:00:00",
          "2008-01-01T00:00:00",
          "2008-01-01T00:00:00",
          "2009-01-01T00:00:00",
          "2009-01-01T00:00:00",
          "2009-01-01T00:00:00",
          "2009-01-01T00:00:00",
          "2009-01-01T00:00:00",
          "2009-01-01T00:00:00",
          "2009-01-01T00:00:00",
          "2009-01-01T00:00:00",
          "2009-01-01T00:00:00",
          "2009-01-01T00:00:00",
          "2009-01-01T00:00:00",
          "2009-01-01T00:00:00",
          "2009-01-01T00:00:00",
          "2009-01-01T00:00:00",
          "2009-01-01T00:00:00",
          "2009-01-01T00:00:00",
          "2009-01-01T00:00:00",
          "2009-01-01T00:00:00",
          "2009-01-01T00:00:00",
          "2009-01-01T00:00:00",
          "2009-01-01T00:00:00",
          "2009-01-01T00:00:00",
          "2009-01-01T00:00:00",
          "2009-01-01T00:00:00",
          "2009-01-01T00:00:00",
          "2009-01-01T00:00:00",
          "2009-01-01T00:00:00",
          "2009-01-01T00:00:00",
          "2009-01-01T00:00:00",
          "2009-01-01T00:00:00",
          "2009-01-01T00:00:00",
          "2009-01-01T00:00:00",
          "2009-01-01T00:00:00",
          "2009-01-01T00:00:00",
          "2009-01-01T00:00:00",
          "2009-01-01T00:00:00",
          "2009-01-01T00:00:00",
          "2009-01-01T00:00:00",
          "2009-01-01T00:00:00",
          "2009-01-01T00:00:00",
          "2009-01-01T00:00:00",
          "2009-01-01T00:00:00",
          "2010-01-01T00:00:00",
          "2010-01-01T00:00:00",
          "2010-01-01T00:00:00",
          "2010-01-01T00:00:00",
          "2010-01-01T00:00:00",
          "2010-01-01T00:00:00",
          "2010-01-01T00:00:00",
          "2010-01-01T00:00:00",
          "2010-01-01T00:00:00",
          "2010-01-01T00:00:00",
          "2010-01-01T00:00:00",
          "2010-01-01T00:00:00",
          "2010-01-01T00:00:00",
          "2010-01-01T00:00:00",
          "2010-01-01T00:00:00",
          "2010-01-01T00:00:00",
          "2010-01-01T00:00:00",
          "2010-01-01T00:00:00",
          "2010-01-01T00:00:00",
          "2010-01-01T00:00:00",
          "2010-01-01T00:00:00",
          "2010-01-01T00:00:00",
          "2010-01-01T00:00:00",
          "2010-01-01T00:00:00",
          "2010-01-01T00:00:00",
          "2010-01-01T00:00:00",
          "2010-01-01T00:00:00",
          "2010-01-01T00:00:00",
          "2010-01-01T00:00:00",
          "2010-01-01T00:00:00",
          "2010-01-01T00:00:00",
          "2010-01-01T00:00:00",
          "2010-01-01T00:00:00",
          "2010-01-01T00:00:00",
          "2010-01-01T00:00:00",
          "2010-01-01T00:00:00",
          "2010-01-01T00:00:00",
          "2010-01-01T00:00:00",
          "2010-01-01T00:00:00",
          "2010-01-01T00:00:00",
          "2010-01-01T00:00:00",
          "2010-01-01T00:00:00",
          "2010-01-01T00:00:00",
          "2010-01-01T00:00:00",
          "2010-01-01T00:00:00",
          "2010-01-01T00:00:00",
          "2011-01-01T00:00:00",
          "2011-01-01T00:00:00",
          "2011-01-01T00:00:00",
          "2011-01-01T00:00:00",
          "2011-01-01T00:00:00",
          "2011-01-01T00:00:00",
          "2011-01-01T00:00:00",
          "2011-01-01T00:00:00",
          "2011-01-01T00:00:00",
          "2011-01-01T00:00:00",
          "2011-01-01T00:00:00",
          "2011-01-01T00:00:00",
          "2011-01-01T00:00:00",
          "2011-01-01T00:00:00",
          "2011-01-01T00:00:00",
          "2011-01-01T00:00:00",
          "2011-01-01T00:00:00",
          "2011-01-01T00:00:00",
          "2011-01-01T00:00:00",
          "2011-01-01T00:00:00",
          "2011-01-01T00:00:00",
          "2011-01-01T00:00:00",
          "2011-01-01T00:00:00",
          "2011-01-01T00:00:00",
          "2011-01-01T00:00:00",
          "2011-01-01T00:00:00",
          "2011-01-01T00:00:00",
          "2011-01-01T00:00:00",
          "2011-01-01T00:00:00",
          "2011-01-01T00:00:00",
          "2011-01-01T00:00:00",
          "2011-01-01T00:00:00",
          "2011-01-01T00:00:00",
          "2011-01-01T00:00:00",
          "2011-01-01T00:00:00",
          "2011-01-01T00:00:00",
          "2011-01-01T00:00:00",
          "2011-01-01T00:00:00",
          "2011-01-01T00:00:00",
          "2011-01-01T00:00:00",
          "2011-01-01T00:00:00",
          "2011-01-01T00:00:00",
          "2011-01-01T00:00:00",
          "2011-01-01T00:00:00",
          "2011-01-01T00:00:00",
          "2011-01-01T00:00:00",
          "2011-01-01T00:00:00",
          "2011-01-01T00:00:00",
          "2011-01-01T00:00:00",
          "2012-01-01T00:00:00",
          "2012-01-01T00:00:00",
          "2012-01-01T00:00:00",
          "2012-01-01T00:00:00",
          "2012-01-01T00:00:00",
          "2012-01-01T00:00:00",
          "2012-01-01T00:00:00",
          "2012-01-01T00:00:00",
          "2012-01-01T00:00:00",
          "2012-01-01T00:00:00",
          "2012-01-01T00:00:00",
          "2012-01-01T00:00:00",
          "2012-01-01T00:00:00",
          "2012-01-01T00:00:00",
          "2012-01-01T00:00:00",
          "2012-01-01T00:00:00",
          "2012-01-01T00:00:00",
          "2012-01-01T00:00:00",
          "2012-01-01T00:00:00",
          "2012-01-01T00:00:00",
          "2012-01-01T00:00:00",
          "2012-01-01T00:00:00",
          "2012-01-01T00:00:00",
          "2012-01-01T00:00:00",
          "2012-01-01T00:00:00",
          "2012-01-01T00:00:00",
          "2012-01-01T00:00:00",
          "2012-01-01T00:00:00",
          "2012-01-01T00:00:00",
          "2012-01-01T00:00:00",
          "2012-01-01T00:00:00",
          "2012-01-01T00:00:00",
          "2012-01-01T00:00:00",
          "2012-01-01T00:00:00",
          "2012-01-01T00:00:00",
          "2012-01-01T00:00:00",
          "2012-01-01T00:00:00",
          "2012-01-01T00:00:00",
          "2012-01-01T00:00:00",
          "2012-01-01T00:00:00",
          "2012-01-01T00:00:00",
          "2012-01-01T00:00:00",
          "2012-01-01T00:00:00",
          "2012-01-01T00:00:00",
          "2012-01-01T00:00:00",
          "2012-01-01T00:00:00",
          "2012-01-01T00:00:00",
          "2012-01-01T00:00:00",
          "2012-01-01T00:00:00",
          "2012-01-01T00:00:00",
          "2012-01-01T00:00:00",
          "2012-01-01T00:00:00",
          "2012-01-01T00:00:00",
          "2012-01-01T00:00:00",
          "2012-01-01T00:00:00",
          "2012-01-01T00:00:00",
          "2012-01-01T00:00:00",
          "2012-01-01T00:00:00",
          "2012-01-01T00:00:00",
          "2013-01-01T00:00:00",
          "2013-01-01T00:00:00",
          "2013-01-01T00:00:00",
          "2013-01-01T00:00:00",
          "2013-01-01T00:00:00",
          "2013-01-01T00:00:00",
          "2013-01-01T00:00:00",
          "2013-01-01T00:00:00",
          "2013-01-01T00:00:00",
          "2013-01-01T00:00:00",
          "2013-01-01T00:00:00",
          "2013-01-01T00:00:00",
          "2013-01-01T00:00:00",
          "2013-01-01T00:00:00",
          "2013-01-01T00:00:00",
          "2013-01-01T00:00:00",
          "2013-01-01T00:00:00",
          "2013-01-01T00:00:00",
          "2013-01-01T00:00:00",
          "2013-01-01T00:00:00",
          "2013-01-01T00:00:00",
          "2013-01-01T00:00:00",
          "2013-01-01T00:00:00",
          "2013-01-01T00:00:00",
          "2013-01-01T00:00:00",
          "2013-01-01T00:00:00",
          "2013-01-01T00:00:00",
          "2013-01-01T00:00:00",
          "2013-01-01T00:00:00",
          "2013-01-01T00:00:00",
          "2013-01-01T00:00:00",
          "2013-01-01T00:00:00",
          "2013-01-01T00:00:00",
          "2013-01-01T00:00:00",
          "2013-01-01T00:00:00",
          "2013-01-01T00:00:00",
          "2013-01-01T00:00:00",
          "2013-01-01T00:00:00",
          "2013-01-01T00:00:00",
          "2013-01-01T00:00:00",
          "2013-01-01T00:00:00",
          "2013-01-01T00:00:00",
          "2013-01-01T00:00:00",
          "2013-01-01T00:00:00",
          "2013-01-01T00:00:00",
          "2013-01-01T00:00:00",
          "2013-01-01T00:00:00",
          "2013-01-01T00:00:00",
          "2013-01-01T00:00:00",
          "2013-01-01T00:00:00",
          "2013-01-01T00:00:00",
          "2013-01-01T00:00:00",
          "2013-01-01T00:00:00",
          "2013-01-01T00:00:00",
          "2013-01-01T00:00:00",
          "2013-01-01T00:00:00",
          "2013-01-01T00:00:00",
          "2013-01-01T00:00:00",
          "2013-01-01T00:00:00",
          "2013-01-01T00:00:00",
          "2013-01-01T00:00:00",
          "2013-01-01T00:00:00",
          "2013-01-01T00:00:00",
          "2013-01-01T00:00:00",
          "2013-01-01T00:00:00",
          "2013-01-01T00:00:00",
          "2013-01-01T00:00:00",
          "2014-01-01T00:00:00",
          "2014-01-01T00:00:00",
          "2014-01-01T00:00:00",
          "2014-01-01T00:00:00",
          "2014-01-01T00:00:00",
          "2014-01-01T00:00:00",
          "2014-01-01T00:00:00",
          "2014-01-01T00:00:00",
          "2014-01-01T00:00:00",
          "2014-01-01T00:00:00",
          "2014-01-01T00:00:00",
          "2014-01-01T00:00:00",
          "2014-01-01T00:00:00",
          "2014-01-01T00:00:00",
          "2014-01-01T00:00:00",
          "2014-01-01T00:00:00",
          "2014-01-01T00:00:00",
          "2014-01-01T00:00:00",
          "2014-01-01T00:00:00",
          "2014-01-01T00:00:00",
          "2014-01-01T00:00:00",
          "2014-01-01T00:00:00",
          "2014-01-01T00:00:00",
          "2014-01-01T00:00:00",
          "2014-01-01T00:00:00",
          "2014-01-01T00:00:00",
          "2014-01-01T00:00:00",
          "2014-01-01T00:00:00",
          "2014-01-01T00:00:00",
          "2014-01-01T00:00:00",
          "2014-01-01T00:00:00",
          "2014-01-01T00:00:00",
          "2014-01-01T00:00:00",
          "2014-01-01T00:00:00",
          "2014-01-01T00:00:00",
          "2014-01-01T00:00:00",
          "2014-01-01T00:00:00",
          "2014-01-01T00:00:00",
          "2014-01-01T00:00:00",
          "2014-01-01T00:00:00",
          "2014-01-01T00:00:00",
          "2014-01-01T00:00:00",
          "2014-01-01T00:00:00",
          "2014-01-01T00:00:00",
          "2014-01-01T00:00:00",
          "2014-01-01T00:00:00",
          "2014-01-01T00:00:00",
          "2014-01-01T00:00:00",
          "2014-01-01T00:00:00",
          "2014-01-01T00:00:00",
          "2014-01-01T00:00:00",
          "2014-01-01T00:00:00",
          "2014-01-01T00:00:00",
          "2014-01-01T00:00:00",
          "2014-01-01T00:00:00",
          "2014-01-01T00:00:00",
          "2014-01-01T00:00:00",
          "2014-01-01T00:00:00",
          "2014-01-01T00:00:00",
          "2014-01-01T00:00:00",
          "2014-01-01T00:00:00",
          "2014-01-01T00:00:00",
          "2014-01-01T00:00:00",
          "2014-01-01T00:00:00",
          "2014-01-01T00:00:00",
          "2014-01-01T00:00:00",
          "2014-01-01T00:00:00",
          "2014-01-01T00:00:00",
          "2014-01-01T00:00:00",
          "2014-01-01T00:00:00",
          "2014-01-01T00:00:00",
          "2014-01-01T00:00:00",
          "2014-01-01T00:00:00",
          "2015-01-01T00:00:00",
          "2015-01-01T00:00:00",
          "2015-01-01T00:00:00",
          "2015-01-01T00:00:00",
          "2015-01-01T00:00:00",
          "2015-01-01T00:00:00",
          "2015-01-01T00:00:00",
          "2015-01-01T00:00:00",
          "2015-01-01T00:00:00",
          "2015-01-01T00:00:00",
          "2015-01-01T00:00:00",
          "2015-01-01T00:00:00",
          "2015-01-01T00:00:00",
          "2015-01-01T00:00:00",
          "2015-01-01T00:00:00",
          "2015-01-01T00:00:00",
          "2015-01-01T00:00:00",
          "2015-01-01T00:00:00",
          "2015-01-01T00:00:00",
          "2015-01-01T00:00:00",
          "2015-01-01T00:00:00",
          "2015-01-01T00:00:00",
          "2015-01-01T00:00:00",
          "2015-01-01T00:00:00",
          "2015-01-01T00:00:00",
          "2015-01-01T00:00:00",
          "2015-01-01T00:00:00",
          "2015-01-01T00:00:00",
          "2015-01-01T00:00:00",
          "2015-01-01T00:00:00",
          "2015-01-01T00:00:00",
          "2015-01-01T00:00:00",
          "2015-01-01T00:00:00",
          "2015-01-01T00:00:00",
          "2015-01-01T00:00:00",
          "2015-01-01T00:00:00",
          "2015-01-01T00:00:00",
          "2015-01-01T00:00:00",
          "2015-01-01T00:00:00",
          "2015-01-01T00:00:00",
          "2015-01-01T00:00:00",
          "2015-01-01T00:00:00",
          "2015-01-01T00:00:00",
          "2015-01-01T00:00:00",
          "2015-01-01T00:00:00",
          "2015-01-01T00:00:00",
          "2015-01-01T00:00:00",
          "2015-01-01T00:00:00",
          "2015-01-01T00:00:00",
          "2015-01-01T00:00:00",
          "2015-01-01T00:00:00",
          "2015-01-01T00:00:00",
          "2015-01-01T00:00:00",
          "2015-01-01T00:00:00",
          "2015-01-01T00:00:00",
          "2015-01-01T00:00:00",
          "2015-01-01T00:00:00",
          "2015-01-01T00:00:00",
          "2015-01-01T00:00:00",
          "2015-01-01T00:00:00",
          "2015-01-01T00:00:00",
          "2015-01-01T00:00:00",
          "2015-01-01T00:00:00",
          "2015-01-01T00:00:00",
          "2015-01-01T00:00:00",
          "2015-01-01T00:00:00",
          "2015-01-01T00:00:00",
          "2015-01-01T00:00:00",
          "2015-01-01T00:00:00",
          "2015-01-01T00:00:00",
          "2015-01-01T00:00:00",
          "2015-01-01T00:00:00",
          "2015-01-01T00:00:00",
          "2015-01-01T00:00:00",
          "2015-01-01T00:00:00",
          "2015-01-01T00:00:00",
          "2015-01-01T00:00:00",
          "2016-01-01T00:00:00",
          "2016-01-01T00:00:00",
          "2016-01-01T00:00:00",
          "2016-01-01T00:00:00",
          "2016-01-01T00:00:00",
          "2016-01-01T00:00:00",
          "2016-01-01T00:00:00",
          "2016-01-01T00:00:00",
          "2016-01-01T00:00:00",
          "2016-01-01T00:00:00",
          "2016-01-01T00:00:00",
          "2016-01-01T00:00:00",
          "2016-01-01T00:00:00",
          "2016-01-01T00:00:00",
          "2016-01-01T00:00:00",
          "2016-01-01T00:00:00",
          "2016-01-01T00:00:00",
          "2016-01-01T00:00:00",
          "2016-01-01T00:00:00",
          "2016-01-01T00:00:00",
          "2016-01-01T00:00:00",
          "2016-01-01T00:00:00",
          "2016-01-01T00:00:00",
          "2016-01-01T00:00:00",
          "2016-01-01T00:00:00",
          "2016-01-01T00:00:00",
          "2016-01-01T00:00:00",
          "2016-01-01T00:00:00",
          "2016-01-01T00:00:00",
          "2016-01-01T00:00:00",
          "2016-01-01T00:00:00",
          "2016-01-01T00:00:00",
          "2016-01-01T00:00:00",
          "2016-01-01T00:00:00",
          "2016-01-01T00:00:00",
          "2016-01-01T00:00:00",
          "2016-01-01T00:00:00",
          "2016-01-01T00:00:00",
          "2016-01-01T00:00:00",
          "2016-01-01T00:00:00",
          "2016-01-01T00:00:00",
          "2016-01-01T00:00:00",
          "2016-01-01T00:00:00",
          "2016-01-01T00:00:00",
          "2016-01-01T00:00:00",
          "2016-01-01T00:00:00",
          "2016-01-01T00:00:00",
          "2016-01-01T00:00:00",
          "2016-01-01T00:00:00",
          "2016-01-01T00:00:00",
          "2016-01-01T00:00:00",
          "2016-01-01T00:00:00",
          "2016-01-01T00:00:00",
          "2016-01-01T00:00:00",
          "2016-01-01T00:00:00",
          "2016-01-01T00:00:00",
          "2016-01-01T00:00:00",
          "2016-01-01T00:00:00",
          "2016-01-01T00:00:00",
          "2016-01-01T00:00:00",
          "2016-01-01T00:00:00",
          "2016-01-01T00:00:00",
          "2016-01-01T00:00:00",
          "2016-01-01T00:00:00",
          "2016-01-01T00:00:00",
          "2016-01-01T00:00:00",
          "2016-01-01T00:00:00",
          "2016-01-01T00:00:00",
          "2016-01-01T00:00:00",
          "2016-01-01T00:00:00",
          "2016-01-01T00:00:00",
          "2016-01-01T00:00:00",
          "2016-01-01T00:00:00",
          "2016-01-01T00:00:00",
          "2016-01-01T00:00:00",
          "2016-01-01T00:00:00",
          "2017-01-01T00:00:00",
          "2017-01-01T00:00:00",
          "2017-01-01T00:00:00",
          "2017-01-01T00:00:00",
          "2017-01-01T00:00:00",
          "2017-01-01T00:00:00",
          "2017-01-01T00:00:00",
          "2017-01-01T00:00:00",
          "2017-01-01T00:00:00",
          "2017-01-01T00:00:00",
          "2017-01-01T00:00:00",
          "2017-01-01T00:00:00",
          "2017-01-01T00:00:00",
          "2017-01-01T00:00:00",
          "2017-01-01T00:00:00",
          "2017-01-01T00:00:00",
          "2017-01-01T00:00:00",
          "2017-01-01T00:00:00",
          "2017-01-01T00:00:00",
          "2017-01-01T00:00:00",
          "2017-01-01T00:00:00",
          "2017-01-01T00:00:00",
          "2017-01-01T00:00:00",
          "2017-01-01T00:00:00",
          "2017-01-01T00:00:00",
          "2017-01-01T00:00:00",
          "2017-01-01T00:00:00",
          "2017-01-01T00:00:00",
          "2017-01-01T00:00:00",
          "2017-01-01T00:00:00",
          "2017-01-01T00:00:00",
          "2017-01-01T00:00:00",
          "2017-01-01T00:00:00",
          "2017-01-01T00:00:00",
          "2017-01-01T00:00:00",
          "2017-01-01T00:00:00",
          "2017-01-01T00:00:00",
          "2017-01-01T00:00:00",
          "2017-01-01T00:00:00",
          "2017-01-01T00:00:00",
          "2017-01-01T00:00:00",
          "2017-01-01T00:00:00",
          "2017-01-01T00:00:00",
          "2017-01-01T00:00:00",
          "2017-01-01T00:00:00",
          "2017-01-01T00:00:00",
          "2017-01-01T00:00:00",
          "2017-01-01T00:00:00",
          "2017-01-01T00:00:00",
          "2017-01-01T00:00:00",
          "2017-01-01T00:00:00",
          "2017-01-01T00:00:00",
          "2017-01-01T00:00:00",
          "2017-01-01T00:00:00",
          "2017-01-01T00:00:00",
          "2017-01-01T00:00:00",
          "2017-01-01T00:00:00",
          "2017-01-01T00:00:00",
          "2017-01-01T00:00:00",
          "2017-01-01T00:00:00",
          "2017-01-01T00:00:00",
          "2017-01-01T00:00:00",
          "2017-01-01T00:00:00",
          "2017-01-01T00:00:00",
          "2017-01-01T00:00:00",
          "2017-01-01T00:00:00",
          "2017-01-01T00:00:00",
          "2017-01-01T00:00:00",
          "2017-01-01T00:00:00",
          "2017-01-01T00:00:00",
          "2017-01-01T00:00:00",
          "2018-01-01T00:00:00",
          "2018-01-01T00:00:00",
          "2018-01-01T00:00:00",
          "2018-01-01T00:00:00",
          "2018-01-01T00:00:00",
          "2018-01-01T00:00:00",
          "2018-01-01T00:00:00",
          "2018-01-01T00:00:00",
          "2018-01-01T00:00:00",
          "2018-01-01T00:00:00",
          "2018-01-01T00:00:00",
          "2018-01-01T00:00:00",
          "2018-01-01T00:00:00",
          "2018-01-01T00:00:00",
          "2018-01-01T00:00:00",
          "2018-01-01T00:00:00",
          "2018-01-01T00:00:00",
          "2018-01-01T00:00:00",
          "2018-01-01T00:00:00",
          "2018-01-01T00:00:00",
          "2018-01-01T00:00:00",
          "2018-01-01T00:00:00",
          "2018-01-01T00:00:00",
          "2018-01-01T00:00:00",
          "2018-01-01T00:00:00",
          "2018-01-01T00:00:00",
          "2018-01-01T00:00:00",
          "2018-01-01T00:00:00",
          "2018-01-01T00:00:00",
          "2018-01-01T00:00:00",
          "2018-01-01T00:00:00",
          "2018-01-01T00:00:00",
          "2018-01-01T00:00:00",
          "2018-01-01T00:00:00",
          "2018-01-01T00:00:00",
          "2018-01-01T00:00:00",
          "2018-01-01T00:00:00",
          "2018-01-01T00:00:00",
          "2018-01-01T00:00:00",
          "2018-01-01T00:00:00",
          "2018-01-01T00:00:00",
          "2018-01-01T00:00:00",
          "2018-01-01T00:00:00",
          "2018-01-01T00:00:00",
          "2018-01-01T00:00:00",
          "2018-01-01T00:00:00",
          "2018-01-01T00:00:00",
          "2018-01-01T00:00:00",
          "2018-01-01T00:00:00",
          "2019-01-01T00:00:00",
          "2019-01-01T00:00:00",
          "2019-01-01T00:00:00",
          "2019-01-01T00:00:00",
          "2019-01-01T00:00:00",
          "2019-01-01T00:00:00",
          "2019-01-01T00:00:00",
          "2019-01-01T00:00:00",
          "2019-01-01T00:00:00",
          "2019-01-01T00:00:00",
          "2019-01-01T00:00:00",
          "2019-01-01T00:00:00",
          "2019-01-01T00:00:00",
          "2019-01-01T00:00:00",
          "2019-01-01T00:00:00",
          "2019-01-01T00:00:00",
          "2019-01-01T00:00:00",
          "2019-01-01T00:00:00",
          "2019-01-01T00:00:00",
          "2019-01-01T00:00:00",
          "2019-01-01T00:00:00",
          "2019-01-01T00:00:00",
          "2019-01-01T00:00:00",
          "2019-01-01T00:00:00",
          "2019-01-01T00:00:00",
          "2019-01-01T00:00:00",
          "2019-01-01T00:00:00",
          "2019-01-01T00:00:00",
          "2019-01-01T00:00:00",
          "2019-01-01T00:00:00",
          "2019-01-01T00:00:00",
          "2019-01-01T00:00:00",
          "2019-01-01T00:00:00",
          "2019-01-01T00:00:00",
          "2019-01-01T00:00:00",
          "2019-01-01T00:00:00",
          "2019-01-01T00:00:00",
          "2019-01-01T00:00:00",
          "2019-01-01T00:00:00",
          "2019-01-01T00:00:00",
          "2019-01-01T00:00:00",
          "2019-01-01T00:00:00",
          "2019-01-01T00:00:00",
          "2019-01-01T00:00:00",
          "2019-01-01T00:00:00",
          "2020-01-01T00:00:00",
          "2020-01-01T00:00:00",
          "2020-01-01T00:00:00",
          "2020-01-01T00:00:00",
          "2020-01-01T00:00:00",
          "2020-01-01T00:00:00",
          "2020-01-01T00:00:00",
          "2020-01-01T00:00:00",
          "2020-01-01T00:00:00",
          "2020-01-01T00:00:00",
          "2020-01-01T00:00:00",
          "2020-01-01T00:00:00",
          "2020-01-01T00:00:00",
          "2020-01-01T00:00:00",
          "2020-01-01T00:00:00",
          "2020-01-01T00:00:00",
          "2020-01-01T00:00:00",
          "2020-01-01T00:00:00",
          "2020-01-01T00:00:00",
          "2020-01-01T00:00:00",
          "2020-01-01T00:00:00",
          "2020-01-01T00:00:00",
          "2020-01-01T00:00:00",
          "2020-01-01T00:00:00",
          "2020-01-01T00:00:00",
          "2020-01-01T00:00:00",
          "2020-01-01T00:00:00",
          "2020-01-01T00:00:00",
          "2021-01-01T00:00:00",
          "2021-01-01T00:00:00",
          "2021-01-01T00:00:00",
          "2021-01-01T00:00:00",
          "2021-01-01T00:00:00",
          "2021-01-01T00:00:00",
          "2021-01-01T00:00:00",
          "2021-01-01T00:00:00",
          "2021-01-01T00:00:00",
          "2021-01-01T00:00:00",
          "2021-01-01T00:00:00",
          "2021-01-01T00:00:00",
          "2021-01-01T00:00:00",
          "2021-01-01T00:00:00",
          "2021-01-01T00:00:00",
          "2021-01-01T00:00:00",
          "2021-01-01T00:00:00",
          "2021-01-01T00:00:00",
          "2021-01-01T00:00:00",
          "2021-01-01T00:00:00",
          "2021-01-01T00:00:00",
          "2021-01-01T00:00:00",
          "2021-01-01T00:00:00",
          "2021-01-01T00:00:00",
          "2021-01-01T00:00:00",
          "2021-01-01T00:00:00"
         ],
         "xaxis": "x",
         "y": [
          -0.7993556818181818,
          0.24178473995783045,
          -0.3713444678892708,
          0.6411988680816045,
          0.12664167338072244,
          -0.22989796945904664,
          0.08384273592477924,
          -0.11145740169504897,
          -0.31077577298069836,
          -0.2718060044807011,
          -0.11276762801037034,
          0.34127224722565747,
          0.06666666666666667,
          0.05337840078053821,
          0.1,
          0.006862167181199391,
          -0.3528506201457208,
          -0.3551180549616124,
          0.2770789021775117,
          0.17331779859199253,
          -0.012492890146895074,
          0.6867822247962383,
          0.45941209304497377,
          -0.22177578775621623,
          -0.07436202348844922,
          0.007260273972604285,
          -0.25515250407932727,
          0.06800205208712157,
          0.3217856435679721,
          0.7757251381215478,
          0.24378109452736313,
          0.3325723775092181,
          -0.16229002433301573,
          0.938657621578888,
          -0.6924981689309132,
          0.056203172833430896,
          -0.3022763867376027,
          -0.05162861737900636,
          0.5455768668967402,
          0.016102247377360192,
          0.14730149357703493,
          -0.2054151708308287,
          0.03716147472369228,
          0.02937322114528751,
          0.268551327823807,
          -0.13359273736744662,
          0.05067352884868985,
          0.36363636363636365,
          0.241419528081116,
          0.23636363636363636,
          -0.5506714177592211,
          0.2280772839347813,
          0.19152706969008162,
          0.6411042644476863,
          -0.18078933147080398,
          2.9093071059564526,
          -0.21841279266906985,
          -0.172345126299374,
          0.03978464923982811,
          0.3273664793662504,
          5.1225,
          0.15787384017386555,
          -0.07148775894538464,
          0.9224755666825957,
          -0.08033596867827007,
          -0.16466729929447502,
          -0.02299628613466233,
          0.026695786433705883,
          0,
          0.16595770360991485,
          2.2445080662038195,
          -0.38529462162650363,
          0.12376737190082647,
          -0.14705882352941177,
          0.07913745961343151,
          -0.2716847985397257,
          0.05321246354776123,
          0.10357370992799912,
          -0.34335617840942656,
          0.46754632893011694,
          1.2196453686008957,
          0.5131750706848643,
          -0.11290830935511277,
          2.479095328290741,
          0.6857238229626598,
          1.0125454850305797,
          2.0105658260122286,
          0.02656494199226569,
          0.9590149075223305,
          0.06803060457403466,
          0.21377282761998775,
          0.08588139001526847,
          0.23529411764705468,
          -0.5888322717622081,
          -0.35527068884758917,
          5.682599987673714,
          0.000056046738799436876,
          0.6671082230462813,
          -0.04775678193006296,
          -0.4994373245107565,
          0.06372998930089525,
          -0.11371946912308613,
          0.49448264279863124,
          0.24662855696231545,
          0.139240506329114,
          1.6119914905276072,
          -0.034534410165042946,
          -0.3117042161974132,
          -0.46531165715407663,
          0.23184664999999915,
          -0.07606915996594668,
          0,
          1.0297682326656197,
          -0.4423060676997501,
          1.071442674811833,
          0.08421146804574746,
          -0.060183745874116686,
          0.08546152197149816,
          -0.049433615609924625,
          0.7780358377484544,
          -0.16225678819613348,
          -0.3730305822955849,
          0.9326781806127595,
          0.13711636084795686,
          0.04681944894323746,
          0.023302762001909644,
          -0.14941775300390903,
          -0.10941967635453763,
          1.060179570756515,
          -0.2016584,
          -0.06212323983648627,
          -0.5076106607293787,
          -0.28412885572587115,
          0.029638029959064578,
          -0.039029594082093666,
          0.055343222947722794,
          0.09875099332241431,
          0.4815252905413314,
          0.04893255768642039,
          -0.6160143885644146,
          0.6256520004087778,
          -0.030735801548074274,
          -0.28204642730099666,
          2.7642234750000023,
          2.965677250699293,
          -0.4121243197891956,
          0.6789597820234151,
          -0.010673758910112017,
          0.010162850891688481,
          0.7916525799999999,
          -0.28214305554000085,
          0.9343882449794648,
          0.8790499257520777,
          0.21466915675173526,
          0.20780369061540968,
          -0.10193678045841238,
          -0.1526881720430108,
          0.2695610794927674,
          3.131027798394411,
          0.041769397927191525,
          1.189444359815403,
          1.0778916325667167,
          3.6656486991161574,
          -0.34121425827729146,
          0.5131426804106939,
          -0.09636223941138623,
          -0.10081273329112092,
          -0.03473529913812123,
          -0.1598876851543045,
          0.30573616268455256,
          0.07714399813795528,
          -0.28134060981319636,
          -0.4594885878145779,
          0.1416950920049978,
          2.316766628456081,
          0.12058252397820417,
          0.023644500772306367,
          -0.18559048799048414,
          1.0602292284158203,
          -0.07520978999420111,
          -0.2525966328198355,
          -0.12137777618672194,
          0.28349097641382665,
          0.96089809342807,
          -0.040040959020474845,
          9.856395174667515,
          0.5358211582467876,
          -0.13681763786448112,
          0.3974051041652011,
          -0.022844754918756427,
          0.47058823529411764,
          -0.004581295665847685,
          -0.7992614793792626,
          -0.03503898662755875,
          -0.037852795326273725,
          -0.22108561846211855,
          1.3452493903399028,
          -0.013313627789847895,
          -0.2155442245928517,
          -0.4008285742996022,
          -0.011690980959372889,
          0.03324723303679836,
          1.5544967324733192,
          0.3572051180762558,
          0.4830406964085908,
          2.9642820017746883,
          0.46781616268138165,
          -0.27533669426878093,
          0.17771956779873901,
          -0.33034872301153634,
          0.7545181000149325,
          -0.14045532535092797,
          0.0382887591349363,
          0.46539455015817077,
          0.13867359752544986,
          -0.5936826086956523,
          0.001901558806212662,
          -0.5529180316728938,
          0.10335213209339213,
          0.25428504933904306,
          0.4022353278215212,
          0.35603351491310603,
          0.029419997399933496,
          -0.19267526210071773,
          0.01697845368060739,
          -0.29490481634014704,
          0.07161902054999622,
          0.06615106995661758,
          0.07992037237624046,
          -0.28753029130995905,
          0.6985000080262295,
          -0.5075543872844849,
          -0.5171526830435287,
          -0.030897317911954245,
          0.19440054018176414,
          0.323184243048099,
          0.23080166432489643,
          -0.07923802781777672,
          0.9947380871888526,
          -0.3019760478032866,
          1.9853065160944643,
          -0.34176863618716397,
          0.10341858192488304,
          3.0214507767041154,
          -0.2662063538271318,
          -0.33365534179287765,
          0.6840884957198853,
          0.5676280389994971,
          0.017000695736443295,
          0.2751161835834443,
          -0.1930046851704059,
          -0.023378838760533874,
          0,
          -0.024585059285384524,
          3.0000294240194187,
          2.5373967171622267,
          0.1810469446152811,
          0,
          1.7468165780956548,
          0.35476678728480865,
          0.8554708080880827,
          -0.14994732766949953,
          0.4853688212455005,
          0.8812805185897417,
          -0.332234785687721,
          0.03308660929990058,
          -0.251515345353906,
          0.1980796947192848,
          1.0072976111330998,
          -0.025161013079890805,
          0.20569492885705565,
          0,
          -0.2694111866552063,
          -0.19992108470774736,
          8.078174117647059,
          -0.23674393546424985,
          0.11333527130006316,
          0.004834877338450755,
          -0.11763712045415964,
          -0.12067023475495363,
          -0.3350919055155197,
          -0.08177054336080375,
          0.3618904690058104,
          0.011143837051000905,
          1.7598451888641653,
          -0.037212364825191344,
          -0.0213539783323339,
          -0.1061679931080445,
          0.02827605122870858,
          0.02857919748425474,
          0.38256868430199864,
          0.9697252297640463,
          -0.12474362918275728,
          1.0998314319315872,
          -0.0007584721337328127,
          0.3056593103448276,
          0.7542099446434101,
          0.3448414927643313,
          0.008532059601358796,
          1.0690235507032089,
          0.09529398601476413,
          0.05948808802250336,
          -0.09828956126555109,
          -0.1247100900877242,
          -0.08605701604941497,
          0.13460437583390933,
          1.9807944587290762,
          -0.525029512998117,
          0.36331550062434004,
          0.35708888716676984,
          -0.022427816612970625,
          -0.05134588868103105,
          -0.20787708922991277,
          0.02399428290196643,
          0.29289628228124925,
          0.18840960830628206,
          -0.14723074018158025,
          -0.059693836202073726,
          1.0938087755402937,
          -0.13570057624246715,
          0.04089319753404819,
          -0.031976057282063396,
          1.09375,
          -0.5205519061475657,
          -0.02134980281828358,
          -0.2709154353583454,
          0.2134168183383483,
          0.8095238095238121,
          -0.4607691135963544,
          -0.6056583448116613,
          1.3739750745914083,
          -0.444725674397909,
          -0.39690009780185337,
          -0.042747127625190944,
          4.750202327519555,
          0.5586536952791699,
          0.04584014577555968,
          -0.09862263148156655,
          -0.06753405797722546,
          0.15927028472536425,
          -0.45162094505337286,
          -0.010529909096308607,
          -0.0353279080963305,
          0,
          -0.3687589814327755,
          0.4014756878874908,
          0.6672996280893927,
          -0.31017629137116576,
          -0.11423537328233459,
          -0.11140968564974192,
          -0.11088461595549391,
          -0.2739675965660094,
          -0.6274616606818756,
          0.6839708234805775,
          -0.03256129038657959,
          0.022574549540259045,
          -0.02982831357201739,
          0.9251446627530883,
          0.2736668913644793,
          0.08174743636993197,
          0.07065624999999999,
          3.465795166872266,
          -0.16659621608716968,
          -0.4930414452540553,
          -0.23280526218870518,
          0.6409795494738355,
          -0.05936164555635071,
          0.2575853638527081,
          0.2290595330715135,
          0.8801833099611163,
          1.127558479576451,
          0.04217396310808228,
          0.6900943069448585,
          0.6530640617611089,
          -0.19502070006743075,
          -0.0345803246605333,
          1.4282495544922724,
          0.15845448765234374,
          0.15579460323586794,
          -0.08302943720754083,
          -0.238145473795264,
          -0.25560573171176243,
          0.5051907579653757,
          0.07201856891655198,
          0.4004906750929716,
          0.9978749715586579,
          0.37351135463427504,
          0.0011867467582177228,
          0.07840394018344707,
          0.00876920013037851,
          -0.5677033329251379,
          -0.22398130790049098,
          0.22061072078115962,
          -0.4385915666921314,
          0.08358008744249204,
          0.4952615074468402,
          0.029617998213173777,
          0.3267967716150491,
          -0.46784789235900825,
          0.011739973997089053,
          -0.18438844735401416,
          0.4,
          0.14523241682429147,
          -0.00678298133025014,
          0.1758808804303544,
          -0.7557748917748918,
          1.3940542536209561,
          -0.02080795249632199,
          -0.13638487687688003,
          0.9846856959253942,
          0.11174904820892592,
          0.05693816393593095,
          -0.044656045292547936,
          -0.4164582272510002,
          -0.018873128918147044,
          0.0020383819441764832,
          0.8151853311664758,
          0.02305785995436224,
          -0.43518799035829814,
          0.28786847487262235,
          -0.3604965133358278,
          0,
          -0.07917467773387732,
          0.13245204199555013,
          0.5967277369007314,
          0.4714076516016305,
          -0.3493063934023806,
          -0.7735879864636209,
          0.966613632009732,
          -0.7336815304624515,
          0.935480299509208,
          0.22957833590160864,
          0.2287711769581633,
          0.2903774976370114,
          -0.061912981418703966,
          -0.1614808132683098,
          -0.10839187575996868,
          -0.08378235978434448,
          -0.4278505476842321,
          0.9583336383101385,
          0.41953496,
          0.0028094958552700934,
          -0.01529985724130025,
          -0.5818084940021089,
          0.1291085123966957,
          -0.3196036486574352,
          -0.16449840966832943,
          0.11929249214855525,
          0.09333474752997238,
          0.06005282072052445,
          0.4270291941847882,
          -0.2709411072619126,
          -0.2481243812830601,
          -0.07225623244206833,
          0.2901438671911199,
          -0.09054754926339915,
          -0.4020989533455129,
          0.2939766237187711,
          -0.38060477449457114,
          -0.35622052552259464,
          -0.3557045914268385,
          0.0671803371739526,
          0.00382672158004905,
          0.24973408891051826,
          0.33050711349198486,
          0.1561845127383685,
          0.09999999637175684,
          -0.3523249781617613,
          -0.3331399658307715,
          -0.3724801315556009,
          0.22650058800470396,
          0.14822205750993026,
          -0.21843015884374575,
          -0.1802724312893578,
          0.19567582756961,
          1.0201339109214613,
          0.056139799460074274,
          0.23682340387731257,
          0.026339819446950002,
          0.0758360017121609,
          2.637348875,
          0.7898174225502574,
          0.06833144829860398,
          -0.6184861680079922,
          0.4982930808761845,
          2.02646417773677,
          -0.04674342164673311,
          0.08284079897592235,
          -0.01086939416505476,
          0.0903014205871272,
          0.9318501763877197,
          -0.27956732821540314,
          -0.2184877326124875,
          0,
          0.6809804485088997,
          -0.28288779809701237,
          -0.16938968876605148,
          -0.3469576250420594,
          0.715370182708419,
          -0.09542670737130027,
          -0.10854820514191371,
          0.5843151214793217,
          1.889933735737459,
          0.6339300716955448,
          0.15843440065711012,
          -0.0028264220435905577,
          0.1913814937787609,
          1.8332841752286473,
          0.12013453745750169,
          0.4455343482252144,
          0.8728078932049237,
          -0.07621843173412798,
          -0.33287501611697956,
          1.3463844766681963,
          0.6414300652809997,
          0.02154584530323213,
          -0.2117170541541295,
          0.1887909995404075,
          0.15500495053403185,
          0.05717276549560361,
          -0.22487601956413875,
          0.06285601240029681,
          -0.20942427685990234,
          0.21592052913002707,
          0.09407730706649117,
          0.3798747565531111,
          0.22651474661210183,
          -0.0386720175118571,
          1.3775286161772882,
          -0.19821507723954512,
          -0.44019973716640803,
          0.09336755299754235,
          0.16838467401719595,
          0.6771456796219464,
          0.2303516292364565,
          -0.2636338553334141,
          -0.25245597322711366,
          0.949194123173375,
          0.009174556631833424,
          0.17305673944698305,
          0.02000000610204531,
          1.0927694608623557,
          0.6782718680571586,
          0.0019167074437092422,
          0.5532474841101694,
          -0.15151307397974723,
          0.43971412419191874,
          0.13342220857887202,
          0.0991649949933521,
          0.05315565182637005,
          0.3142857142857143,
          -0.05790043871853431,
          -0.18263281804458104,
          0.005494716999397535,
          0.19280303030303023,
          -0.2546665598581054,
          1.3802631578947364,
          -0.09541637840990805,
          0.47372685456631447,
          0.4370022659913453,
          -0.2505748622475619,
          -0.04903550912544607,
          0.23368991767533945,
          0.06459825027617572,
          0.17762694292641962,
          0.3252811485320412,
          0.3097352824326879,
          -0.22972891022623593,
          -0.21899475331611037,
          0.25250891239409917,
          -0.29486300422963996,
          -0.3266335694768488,
          -0.30454682933794924,
          -0.24839047009693643,
          0.3193759958147861,
          -0.34903822869837126,
          0.15257870870083423,
          3.0853049834931614,
          -0.18807754697721765,
          -0.16189661516142245,
          -0.4525812382739212,
          -0.053780814072996105,
          -0.635058263054175,
          0.10834078218358811,
          -0.30081345871319687,
          -0.23183630476190248,
          0.4302878175272258,
          0.030054909057168275,
          0.06907154091359356,
          -0.027989706958316624,
          -0.10430239977284612,
          -0.3843698299360181,
          -0.18837735021698643,
          0.062328541473893814,
          -0.5290238979900668,
          -0.21246907020872863,
          -0.4269922673430689,
          0.10727880053801386,
          0.5391039998001298,
          -0.17817907608293865,
          0.464807230961731,
          7.113677001050181,
          0.020000003233728258,
          -0.023115427248312517,
          -0.4654549113393984,
          -0.38555282633660837,
          0.2898921989061911,
          0.3821855271800235,
          0.05884971220725285,
          -0.04939081108323363,
          -0.0865069118834362,
          0.1659256906954589,
          0.1996350753542776,
          -0.15504830206380713,
          -0.5137045047798839,
          0.3333565326340144,
          0.1257823326179933,
          -0.15019002522577818,
          -0.6854644817159166,
          -0.20877217676010315,
          0.1866384471140437,
          1.8530047243569543,
          -0.57831672493764,
          -0.23086239663296626,
          0.1024366369875213,
          0.34679054766696515,
          0.6291562016147207,
          -0.6755892935308068,
          0,
          -0.000042992561352758606,
          -0.2909842493485923,
          0.15214232755383905,
          0.04472109740383457,
          0.5541898362221683,
          1.1189516512549538,
          -0.03930190260361284,
          0.19602168087941751,
          0.9646344886666666,
          -0.11534085347932135,
          -0.07312576188537225,
          0.007744891576658994,
          1.5066125401953294,
          0.04051194297187079,
          0.09341259910883844,
          0.17399178855614036,
          -0.0474732224258093,
          0.2235043149525408,
          0.762725392458487,
          0.007672481203223696,
          0.14921657543569644,
          -0.34292904688909986,
          0.9507866608264277,
          -0.15449527892113596,
          0.17825027970329888,
          -0.12581704811138775,
          -0.20997986517772016,
          1.0638342865997525,
          0.2496028942412363,
          0.3105040122335067,
          0.25336034272460123,
          0.18660509962915742,
          -0.14482588125704077,
          0.43641262342663206,
          0.3109478609872858,
          0.11677436548057425,
          -0.1400488612748954,
          -0.2390593986916569,
          0.6461064701683095,
          -0.33384119860433564,
          -0.021962082260666985,
          -0.08031478703088758,
          -0.005146532922921106,
          1.009082819397173,
          0,
          -0.12305647879627221,
          0.26482199346950935,
          0.08124574023923492,
          1.5306880712370856,
          -0.33034193487383456,
          0.13034216482492345,
          -0.3814966525292094,
          -0.2213719399724369,
          0.051341186998667354,
          -0.4418107514521511,
          -0.01801615562119219,
          -0.04271594042899872,
          -0.36497673941050685,
          0.33499959047142386,
          -0.28944323599109845,
          -0.23443008581696503,
          1.6268933601207431,
          -0.00535931756105614,
          -0.16552189649279092,
          0.12230038513562352,
          1.235912980119617,
          0.34130984890263905,
          0.2003785146125184,
          -0.046288670600181284,
          -0.36197842543648534,
          -0.5578347779639354,
          0.3085000723368866,
          -0.365594938938989,
          0.41501971465411475,
          -0.27158842267241423,
          1.0443699178122234,
          -0.38963756148427614,
          0.31471889605237413,
          -0.18534169519835175,
          -0.2405560052290684,
          -0.3683619496805131,
          -1.0651167941423673e-8,
          -0.004557083436201161,
          -0.26801171642594523,
          -0.14000024994906551,
          0.36361675471690086,
          0.11002185872402122,
          0.5702246311036436,
          0.023922731312934545,
          0.04606486435979008,
          0.061299340746494485,
          0.049800000003267286,
          0.6443337788814036,
          0.0029226012968938016,
          0.16737686157103665,
          0.3369728906733576,
          -0.27756262179494245,
          -0.24498074782138074,
          0.10581468273279958,
          -0.6629424614833686,
          0.0320118290194673,
          -0.4286110847195774,
          0.9597439168997073,
          0.24085027601494352,
          2.6216968412141552,
          -0.2559302322022379,
          0.26362271398023723
         ],
         "yaxis": "y"
        }
       ],
       "layout": {
        "barmode": "relative",
        "legend": {
         "tracegroupgap": 0
        },
        "margin": {
         "t": 60
        },
        "template": {
         "data": {
          "bar": [
           {
            "error_x": {
             "color": "#2a3f5f"
            },
            "error_y": {
             "color": "#2a3f5f"
            },
            "marker": {
             "line": {
              "color": "#E5ECF6",
              "width": 0.5
             },
             "pattern": {
              "fillmode": "overlay",
              "size": 10,
              "solidity": 0.2
             }
            },
            "type": "bar"
           }
          ],
          "barpolar": [
           {
            "marker": {
             "line": {
              "color": "#E5ECF6",
              "width": 0.5
             },
             "pattern": {
              "fillmode": "overlay",
              "size": 10,
              "solidity": 0.2
             }
            },
            "type": "barpolar"
           }
          ],
          "carpet": [
           {
            "aaxis": {
             "endlinecolor": "#2a3f5f",
             "gridcolor": "white",
             "linecolor": "white",
             "minorgridcolor": "white",
             "startlinecolor": "#2a3f5f"
            },
            "baxis": {
             "endlinecolor": "#2a3f5f",
             "gridcolor": "white",
             "linecolor": "white",
             "minorgridcolor": "white",
             "startlinecolor": "#2a3f5f"
            },
            "type": "carpet"
           }
          ],
          "choropleth": [
           {
            "colorbar": {
             "outlinewidth": 0,
             "ticks": ""
            },
            "type": "choropleth"
           }
          ],
          "contour": [
           {
            "colorbar": {
             "outlinewidth": 0,
             "ticks": ""
            },
            "colorscale": [
             [
              0,
              "#0d0887"
             ],
             [
              0.1111111111111111,
              "#46039f"
             ],
             [
              0.2222222222222222,
              "#7201a8"
             ],
             [
              0.3333333333333333,
              "#9c179e"
             ],
             [
              0.4444444444444444,
              "#bd3786"
             ],
             [
              0.5555555555555556,
              "#d8576b"
             ],
             [
              0.6666666666666666,
              "#ed7953"
             ],
             [
              0.7777777777777778,
              "#fb9f3a"
             ],
             [
              0.8888888888888888,
              "#fdca26"
             ],
             [
              1,
              "#f0f921"
             ]
            ],
            "type": "contour"
           }
          ],
          "contourcarpet": [
           {
            "colorbar": {
             "outlinewidth": 0,
             "ticks": ""
            },
            "type": "contourcarpet"
           }
          ],
          "heatmap": [
           {
            "colorbar": {
             "outlinewidth": 0,
             "ticks": ""
            },
            "colorscale": [
             [
              0,
              "#0d0887"
             ],
             [
              0.1111111111111111,
              "#46039f"
             ],
             [
              0.2222222222222222,
              "#7201a8"
             ],
             [
              0.3333333333333333,
              "#9c179e"
             ],
             [
              0.4444444444444444,
              "#bd3786"
             ],
             [
              0.5555555555555556,
              "#d8576b"
             ],
             [
              0.6666666666666666,
              "#ed7953"
             ],
             [
              0.7777777777777778,
              "#fb9f3a"
             ],
             [
              0.8888888888888888,
              "#fdca26"
             ],
             [
              1,
              "#f0f921"
             ]
            ],
            "type": "heatmap"
           }
          ],
          "heatmapgl": [
           {
            "colorbar": {
             "outlinewidth": 0,
             "ticks": ""
            },
            "colorscale": [
             [
              0,
              "#0d0887"
             ],
             [
              0.1111111111111111,
              "#46039f"
             ],
             [
              0.2222222222222222,
              "#7201a8"
             ],
             [
              0.3333333333333333,
              "#9c179e"
             ],
             [
              0.4444444444444444,
              "#bd3786"
             ],
             [
              0.5555555555555556,
              "#d8576b"
             ],
             [
              0.6666666666666666,
              "#ed7953"
             ],
             [
              0.7777777777777778,
              "#fb9f3a"
             ],
             [
              0.8888888888888888,
              "#fdca26"
             ],
             [
              1,
              "#f0f921"
             ]
            ],
            "type": "heatmapgl"
           }
          ],
          "histogram": [
           {
            "marker": {
             "pattern": {
              "fillmode": "overlay",
              "size": 10,
              "solidity": 0.2
             }
            },
            "type": "histogram"
           }
          ],
          "histogram2d": [
           {
            "colorbar": {
             "outlinewidth": 0,
             "ticks": ""
            },
            "colorscale": [
             [
              0,
              "#0d0887"
             ],
             [
              0.1111111111111111,
              "#46039f"
             ],
             [
              0.2222222222222222,
              "#7201a8"
             ],
             [
              0.3333333333333333,
              "#9c179e"
             ],
             [
              0.4444444444444444,
              "#bd3786"
             ],
             [
              0.5555555555555556,
              "#d8576b"
             ],
             [
              0.6666666666666666,
              "#ed7953"
             ],
             [
              0.7777777777777778,
              "#fb9f3a"
             ],
             [
              0.8888888888888888,
              "#fdca26"
             ],
             [
              1,
              "#f0f921"
             ]
            ],
            "type": "histogram2d"
           }
          ],
          "histogram2dcontour": [
           {
            "colorbar": {
             "outlinewidth": 0,
             "ticks": ""
            },
            "colorscale": [
             [
              0,
              "#0d0887"
             ],
             [
              0.1111111111111111,
              "#46039f"
             ],
             [
              0.2222222222222222,
              "#7201a8"
             ],
             [
              0.3333333333333333,
              "#9c179e"
             ],
             [
              0.4444444444444444,
              "#bd3786"
             ],
             [
              0.5555555555555556,
              "#d8576b"
             ],
             [
              0.6666666666666666,
              "#ed7953"
             ],
             [
              0.7777777777777778,
              "#fb9f3a"
             ],
             [
              0.8888888888888888,
              "#fdca26"
             ],
             [
              1,
              "#f0f921"
             ]
            ],
            "type": "histogram2dcontour"
           }
          ],
          "mesh3d": [
           {
            "colorbar": {
             "outlinewidth": 0,
             "ticks": ""
            },
            "type": "mesh3d"
           }
          ],
          "parcoords": [
           {
            "line": {
             "colorbar": {
              "outlinewidth": 0,
              "ticks": ""
             }
            },
            "type": "parcoords"
           }
          ],
          "pie": [
           {
            "automargin": true,
            "type": "pie"
           }
          ],
          "scatter": [
           {
            "fillpattern": {
             "fillmode": "overlay",
             "size": 10,
             "solidity": 0.2
            },
            "type": "scatter"
           }
          ],
          "scatter3d": [
           {
            "line": {
             "colorbar": {
              "outlinewidth": 0,
              "ticks": ""
             }
            },
            "marker": {
             "colorbar": {
              "outlinewidth": 0,
              "ticks": ""
             }
            },
            "type": "scatter3d"
           }
          ],
          "scattercarpet": [
           {
            "marker": {
             "colorbar": {
              "outlinewidth": 0,
              "ticks": ""
             }
            },
            "type": "scattercarpet"
           }
          ],
          "scattergeo": [
           {
            "marker": {
             "colorbar": {
              "outlinewidth": 0,
              "ticks": ""
             }
            },
            "type": "scattergeo"
           }
          ],
          "scattergl": [
           {
            "marker": {
             "colorbar": {
              "outlinewidth": 0,
              "ticks": ""
             }
            },
            "type": "scattergl"
           }
          ],
          "scattermapbox": [
           {
            "marker": {
             "colorbar": {
              "outlinewidth": 0,
              "ticks": ""
             }
            },
            "type": "scattermapbox"
           }
          ],
          "scatterpolar": [
           {
            "marker": {
             "colorbar": {
              "outlinewidth": 0,
              "ticks": ""
             }
            },
            "type": "scatterpolar"
           }
          ],
          "scatterpolargl": [
           {
            "marker": {
             "colorbar": {
              "outlinewidth": 0,
              "ticks": ""
             }
            },
            "type": "scatterpolargl"
           }
          ],
          "scatterternary": [
           {
            "marker": {
             "colorbar": {
              "outlinewidth": 0,
              "ticks": ""
             }
            },
            "type": "scatterternary"
           }
          ],
          "surface": [
           {
            "colorbar": {
             "outlinewidth": 0,
             "ticks": ""
            },
            "colorscale": [
             [
              0,
              "#0d0887"
             ],
             [
              0.1111111111111111,
              "#46039f"
             ],
             [
              0.2222222222222222,
              "#7201a8"
             ],
             [
              0.3333333333333333,
              "#9c179e"
             ],
             [
              0.4444444444444444,
              "#bd3786"
             ],
             [
              0.5555555555555556,
              "#d8576b"
             ],
             [
              0.6666666666666666,
              "#ed7953"
             ],
             [
              0.7777777777777778,
              "#fb9f3a"
             ],
             [
              0.8888888888888888,
              "#fdca26"
             ],
             [
              1,
              "#f0f921"
             ]
            ],
            "type": "surface"
           }
          ],
          "table": [
           {
            "cells": {
             "fill": {
              "color": "#EBF0F8"
             },
             "line": {
              "color": "white"
             }
            },
            "header": {
             "fill": {
              "color": "#C8D4E3"
             },
             "line": {
              "color": "white"
             }
            },
            "type": "table"
           }
          ]
         },
         "layout": {
          "annotationdefaults": {
           "arrowcolor": "#2a3f5f",
           "arrowhead": 0,
           "arrowwidth": 1
          },
          "autotypenumbers": "strict",
          "coloraxis": {
           "colorbar": {
            "outlinewidth": 0,
            "ticks": ""
           }
          },
          "colorscale": {
           "diverging": [
            [
             0,
             "#8e0152"
            ],
            [
             0.1,
             "#c51b7d"
            ],
            [
             0.2,
             "#de77ae"
            ],
            [
             0.3,
             "#f1b6da"
            ],
            [
             0.4,
             "#fde0ef"
            ],
            [
             0.5,
             "#f7f7f7"
            ],
            [
             0.6,
             "#e6f5d0"
            ],
            [
             0.7,
             "#b8e186"
            ],
            [
             0.8,
             "#7fbc41"
            ],
            [
             0.9,
             "#4d9221"
            ],
            [
             1,
             "#276419"
            ]
           ],
           "sequential": [
            [
             0,
             "#0d0887"
            ],
            [
             0.1111111111111111,
             "#46039f"
            ],
            [
             0.2222222222222222,
             "#7201a8"
            ],
            [
             0.3333333333333333,
             "#9c179e"
            ],
            [
             0.4444444444444444,
             "#bd3786"
            ],
            [
             0.5555555555555556,
             "#d8576b"
            ],
            [
             0.6666666666666666,
             "#ed7953"
            ],
            [
             0.7777777777777778,
             "#fb9f3a"
            ],
            [
             0.8888888888888888,
             "#fdca26"
            ],
            [
             1,
             "#f0f921"
            ]
           ],
           "sequentialminus": [
            [
             0,
             "#0d0887"
            ],
            [
             0.1111111111111111,
             "#46039f"
            ],
            [
             0.2222222222222222,
             "#7201a8"
            ],
            [
             0.3333333333333333,
             "#9c179e"
            ],
            [
             0.4444444444444444,
             "#bd3786"
            ],
            [
             0.5555555555555556,
             "#d8576b"
            ],
            [
             0.6666666666666666,
             "#ed7953"
            ],
            [
             0.7777777777777778,
             "#fb9f3a"
            ],
            [
             0.8888888888888888,
             "#fdca26"
            ],
            [
             1,
             "#f0f921"
            ]
           ]
          },
          "colorway": [
           "#636efa",
           "#EF553B",
           "#00cc96",
           "#ab63fa",
           "#FFA15A",
           "#19d3f3",
           "#FF6692",
           "#B6E880",
           "#FF97FF",
           "#FECB52"
          ],
          "font": {
           "color": "#2a3f5f"
          },
          "geo": {
           "bgcolor": "white",
           "lakecolor": "white",
           "landcolor": "#E5ECF6",
           "showlakes": true,
           "showland": true,
           "subunitcolor": "white"
          },
          "hoverlabel": {
           "align": "left"
          },
          "hovermode": "closest",
          "mapbox": {
           "style": "light"
          },
          "paper_bgcolor": "white",
          "plot_bgcolor": "#E5ECF6",
          "polar": {
           "angularaxis": {
            "gridcolor": "white",
            "linecolor": "white",
            "ticks": ""
           },
           "bgcolor": "#E5ECF6",
           "radialaxis": {
            "gridcolor": "white",
            "linecolor": "white",
            "ticks": ""
           }
          },
          "scene": {
           "xaxis": {
            "backgroundcolor": "#E5ECF6",
            "gridcolor": "white",
            "gridwidth": 2,
            "linecolor": "white",
            "showbackground": true,
            "ticks": "",
            "zerolinecolor": "white"
           },
           "yaxis": {
            "backgroundcolor": "#E5ECF6",
            "gridcolor": "white",
            "gridwidth": 2,
            "linecolor": "white",
            "showbackground": true,
            "ticks": "",
            "zerolinecolor": "white"
           },
           "zaxis": {
            "backgroundcolor": "#E5ECF6",
            "gridcolor": "white",
            "gridwidth": 2,
            "linecolor": "white",
            "showbackground": true,
            "ticks": "",
            "zerolinecolor": "white"
           }
          },
          "shapedefaults": {
           "line": {
            "color": "#2a3f5f"
           }
          },
          "ternary": {
           "aaxis": {
            "gridcolor": "white",
            "linecolor": "white",
            "ticks": ""
           },
           "baxis": {
            "gridcolor": "white",
            "linecolor": "white",
            "ticks": ""
           },
           "bgcolor": "#E5ECF6",
           "caxis": {
            "gridcolor": "white",
            "linecolor": "white",
            "ticks": ""
           }
          },
          "title": {
           "x": 0.05
          },
          "xaxis": {
           "automargin": true,
           "gridcolor": "white",
           "linecolor": "white",
           "ticks": "",
           "title": {
            "standoff": 15
           },
           "zerolinecolor": "white",
           "zerolinewidth": 2
          },
          "yaxis": {
           "automargin": true,
           "gridcolor": "white",
           "linecolor": "white",
           "ticks": "",
           "title": {
            "standoff": 15
           },
           "zerolinecolor": "white",
           "zerolinewidth": 2
          }
         }
        },
        "xaxis": {
         "anchor": "y",
         "domain": [
          0,
          1
         ],
         "title": {
          "text": "Year"
         }
        },
        "yaxis": {
         "anchor": "x",
         "domain": [
          0,
          1
         ],
         "title": {
          "text": "avg of total_immunization in USD_prev_1_year_pct_change"
         }
        }
       }
      },
      "text/html": [
       "<div>                            <div id=\"799c2892-c1b5-4f7f-8a42-8a85212f94e1\" class=\"plotly-graph-div\" style=\"height:525px; width:100%;\"></div>            <script type=\"text/javascript\">                require([\"plotly\"], function(Plotly) {                    window.PLOTLYENV=window.PLOTLYENV || {};                                    if (document.getElementById(\"799c2892-c1b5-4f7f-8a42-8a85212f94e1\")) {                    Plotly.newPlot(                        \"799c2892-c1b5-4f7f-8a42-8a85212f94e1\",                        [{\"alignmentgroup\":\"True\",\"bingroup\":\"x\",\"histfunc\":\"avg\",\"hovertemplate\":\"Year=%{x}<br>avg of total_immunization in USD_prev_1_year_pct_change=%{y}<extra></extra>\",\"legendgroup\":\"\",\"marker\":{\"color\":\"#636efa\",\"pattern\":{\"shape\":\"\"}},\"name\":\"\",\"offsetgroup\":\"\",\"orientation\":\"v\",\"showlegend\":false,\"x\":[\"2008-01-01T00:00:00\",\"2008-01-01T00:00:00\",\"2008-01-01T00:00:00\",\"2008-01-01T00:00:00\",\"2008-01-01T00:00:00\",\"2008-01-01T00:00:00\",\"2008-01-01T00:00:00\",\"2008-01-01T00:00:00\",\"2008-01-01T00:00:00\",\"2008-01-01T00:00:00\",\"2008-01-01T00:00:00\",\"2008-01-01T00:00:00\",\"2008-01-01T00:00:00\",\"2008-01-01T00:00:00\",\"2008-01-01T00:00:00\",\"2008-01-01T00:00:00\",\"2008-01-01T00:00:00\",\"2008-01-01T00:00:00\",\"2008-01-01T00:00:00\",\"2008-01-01T00:00:00\",\"2008-01-01T00:00:00\",\"2008-01-01T00:00:00\",\"2008-01-01T00:00:00\",\"2008-01-01T00:00:00\",\"2008-01-01T00:00:00\",\"2008-01-01T00:00:00\",\"2008-01-01T00:00:00\",\"2008-01-01T00:00:00\",\"2009-01-01T00:00:00\",\"2009-01-01T00:00:00\",\"2009-01-01T00:00:00\",\"2009-01-01T00:00:00\",\"2009-01-01T00:00:00\",\"2009-01-01T00:00:00\",\"2009-01-01T00:00:00\",\"2009-01-01T00:00:00\",\"2009-01-01T00:00:00\",\"2009-01-01T00:00:00\",\"2009-01-01T00:00:00\",\"2009-01-01T00:00:00\",\"2009-01-01T00:00:00\",\"2009-01-01T00:00:00\",\"2009-01-01T00:00:00\",\"2009-01-01T00:00:00\",\"2009-01-01T00:00:00\",\"2009-01-01T00:00:00\",\"2009-01-01T00:00:00\",\"2009-01-01T00:00:00\",\"2009-01-01T00:00:00\",\"2009-01-01T00:00:00\",\"2009-01-01T00:00:00\",\"2009-01-01T00:00:00\",\"2009-01-01T00:00:00\",\"2009-01-01T00:00:00\",\"2009-01-01T00:00:00\",\"2009-01-01T00:00:00\",\"2009-01-01T00:00:00\",\"2009-01-01T00:00:00\",\"2009-01-01T00:00:00\",\"2009-01-01T00:00:00\",\"2009-01-01T00:00:00\",\"2009-01-01T00:00:00\",\"2009-01-01T00:00:00\",\"2009-01-01T00:00:00\",\"2009-01-01T00:00:00\",\"2009-01-01T00:00:00\",\"2009-01-01T00:00:00\",\"2009-01-01T00:00:00\",\"2009-01-01T00:00:00\",\"2009-01-01T00:00:00\",\"2010-01-01T00:00:00\",\"2010-01-01T00:00:00\",\"2010-01-01T00:00:00\",\"2010-01-01T00:00:00\",\"2010-01-01T00:00:00\",\"2010-01-01T00:00:00\",\"2010-01-01T00:00:00\",\"2010-01-01T00:00:00\",\"2010-01-01T00:00:00\",\"2010-01-01T00:00:00\",\"2010-01-01T00:00:00\",\"2010-01-01T00:00:00\",\"2010-01-01T00:00:00\",\"2010-01-01T00:00:00\",\"2010-01-01T00:00:00\",\"2010-01-01T00:00:00\",\"2010-01-01T00:00:00\",\"2010-01-01T00:00:00\",\"2010-01-01T00:00:00\",\"2010-01-01T00:00:00\",\"2010-01-01T00:00:00\",\"2010-01-01T00:00:00\",\"2010-01-01T00:00:00\",\"2010-01-01T00:00:00\",\"2010-01-01T00:00:00\",\"2010-01-01T00:00:00\",\"2010-01-01T00:00:00\",\"2010-01-01T00:00:00\",\"2010-01-01T00:00:00\",\"2010-01-01T00:00:00\",\"2010-01-01T00:00:00\",\"2010-01-01T00:00:00\",\"2010-01-01T00:00:00\",\"2010-01-01T00:00:00\",\"2010-01-01T00:00:00\",\"2010-01-01T00:00:00\",\"2010-01-01T00:00:00\",\"2010-01-01T00:00:00\",\"2010-01-01T00:00:00\",\"2010-01-01T00:00:00\",\"2010-01-01T00:00:00\",\"2010-01-01T00:00:00\",\"2010-01-01T00:00:00\",\"2010-01-01T00:00:00\",\"2010-01-01T00:00:00\",\"2010-01-01T00:00:00\",\"2011-01-01T00:00:00\",\"2011-01-01T00:00:00\",\"2011-01-01T00:00:00\",\"2011-01-01T00:00:00\",\"2011-01-01T00:00:00\",\"2011-01-01T00:00:00\",\"2011-01-01T00:00:00\",\"2011-01-01T00:00:00\",\"2011-01-01T00:00:00\",\"2011-01-01T00:00:00\",\"2011-01-01T00:00:00\",\"2011-01-01T00:00:00\",\"2011-01-01T00:00:00\",\"2011-01-01T00:00:00\",\"2011-01-01T00:00:00\",\"2011-01-01T00:00:00\",\"2011-01-01T00:00:00\",\"2011-01-01T00:00:00\",\"2011-01-01T00:00:00\",\"2011-01-01T00:00:00\",\"2011-01-01T00:00:00\",\"2011-01-01T00:00:00\",\"2011-01-01T00:00:00\",\"2011-01-01T00:00:00\",\"2011-01-01T00:00:00\",\"2011-01-01T00:00:00\",\"2011-01-01T00:00:00\",\"2011-01-01T00:00:00\",\"2011-01-01T00:00:00\",\"2011-01-01T00:00:00\",\"2011-01-01T00:00:00\",\"2011-01-01T00:00:00\",\"2011-01-01T00:00:00\",\"2011-01-01T00:00:00\",\"2011-01-01T00:00:00\",\"2011-01-01T00:00:00\",\"2011-01-01T00:00:00\",\"2011-01-01T00:00:00\",\"2011-01-01T00:00:00\",\"2011-01-01T00:00:00\",\"2011-01-01T00:00:00\",\"2011-01-01T00:00:00\",\"2011-01-01T00:00:00\",\"2011-01-01T00:00:00\",\"2011-01-01T00:00:00\",\"2011-01-01T00:00:00\",\"2011-01-01T00:00:00\",\"2011-01-01T00:00:00\",\"2011-01-01T00:00:00\",\"2012-01-01T00:00:00\",\"2012-01-01T00:00:00\",\"2012-01-01T00:00:00\",\"2012-01-01T00:00:00\",\"2012-01-01T00:00:00\",\"2012-01-01T00:00:00\",\"2012-01-01T00:00:00\",\"2012-01-01T00:00:00\",\"2012-01-01T00:00:00\",\"2012-01-01T00:00:00\",\"2012-01-01T00:00:00\",\"2012-01-01T00:00:00\",\"2012-01-01T00:00:00\",\"2012-01-01T00:00:00\",\"2012-01-01T00:00:00\",\"2012-01-01T00:00:00\",\"2012-01-01T00:00:00\",\"2012-01-01T00:00:00\",\"2012-01-01T00:00:00\",\"2012-01-01T00:00:00\",\"2012-01-01T00:00:00\",\"2012-01-01T00:00:00\",\"2012-01-01T00:00:00\",\"2012-01-01T00:00:00\",\"2012-01-01T00:00:00\",\"2012-01-01T00:00:00\",\"2012-01-01T00:00:00\",\"2012-01-01T00:00:00\",\"2012-01-01T00:00:00\",\"2012-01-01T00:00:00\",\"2012-01-01T00:00:00\",\"2012-01-01T00:00:00\",\"2012-01-01T00:00:00\",\"2012-01-01T00:00:00\",\"2012-01-01T00:00:00\",\"2012-01-01T00:00:00\",\"2012-01-01T00:00:00\",\"2012-01-01T00:00:00\",\"2012-01-01T00:00:00\",\"2012-01-01T00:00:00\",\"2012-01-01T00:00:00\",\"2012-01-01T00:00:00\",\"2012-01-01T00:00:00\",\"2012-01-01T00:00:00\",\"2012-01-01T00:00:00\",\"2012-01-01T00:00:00\",\"2012-01-01T00:00:00\",\"2012-01-01T00:00:00\",\"2012-01-01T00:00:00\",\"2012-01-01T00:00:00\",\"2012-01-01T00:00:00\",\"2012-01-01T00:00:00\",\"2012-01-01T00:00:00\",\"2012-01-01T00:00:00\",\"2012-01-01T00:00:00\",\"2012-01-01T00:00:00\",\"2012-01-01T00:00:00\",\"2012-01-01T00:00:00\",\"2012-01-01T00:00:00\",\"2013-01-01T00:00:00\",\"2013-01-01T00:00:00\",\"2013-01-01T00:00:00\",\"2013-01-01T00:00:00\",\"2013-01-01T00:00:00\",\"2013-01-01T00:00:00\",\"2013-01-01T00:00:00\",\"2013-01-01T00:00:00\",\"2013-01-01T00:00:00\",\"2013-01-01T00:00:00\",\"2013-01-01T00:00:00\",\"2013-01-01T00:00:00\",\"2013-01-01T00:00:00\",\"2013-01-01T00:00:00\",\"2013-01-01T00:00:00\",\"2013-01-01T00:00:00\",\"2013-01-01T00:00:00\",\"2013-01-01T00:00:00\",\"2013-01-01T00:00:00\",\"2013-01-01T00:00:00\",\"2013-01-01T00:00:00\",\"2013-01-01T00:00:00\",\"2013-01-01T00:00:00\",\"2013-01-01T00:00:00\",\"2013-01-01T00:00:00\",\"2013-01-01T00:00:00\",\"2013-01-01T00:00:00\",\"2013-01-01T00:00:00\",\"2013-01-01T00:00:00\",\"2013-01-01T00:00:00\",\"2013-01-01T00:00:00\",\"2013-01-01T00:00:00\",\"2013-01-01T00:00:00\",\"2013-01-01T00:00:00\",\"2013-01-01T00:00:00\",\"2013-01-01T00:00:00\",\"2013-01-01T00:00:00\",\"2013-01-01T00:00:00\",\"2013-01-01T00:00:00\",\"2013-01-01T00:00:00\",\"2013-01-01T00:00:00\",\"2013-01-01T00:00:00\",\"2013-01-01T00:00:00\",\"2013-01-01T00:00:00\",\"2013-01-01T00:00:00\",\"2013-01-01T00:00:00\",\"2013-01-01T00:00:00\",\"2013-01-01T00:00:00\",\"2013-01-01T00:00:00\",\"2013-01-01T00:00:00\",\"2013-01-01T00:00:00\",\"2013-01-01T00:00:00\",\"2013-01-01T00:00:00\",\"2013-01-01T00:00:00\",\"2013-01-01T00:00:00\",\"2013-01-01T00:00:00\",\"2013-01-01T00:00:00\",\"2013-01-01T00:00:00\",\"2013-01-01T00:00:00\",\"2013-01-01T00:00:00\",\"2013-01-01T00:00:00\",\"2013-01-01T00:00:00\",\"2013-01-01T00:00:00\",\"2013-01-01T00:00:00\",\"2013-01-01T00:00:00\",\"2013-01-01T00:00:00\",\"2013-01-01T00:00:00\",\"2014-01-01T00:00:00\",\"2014-01-01T00:00:00\",\"2014-01-01T00:00:00\",\"2014-01-01T00:00:00\",\"2014-01-01T00:00:00\",\"2014-01-01T00:00:00\",\"2014-01-01T00:00:00\",\"2014-01-01T00:00:00\",\"2014-01-01T00:00:00\",\"2014-01-01T00:00:00\",\"2014-01-01T00:00:00\",\"2014-01-01T00:00:00\",\"2014-01-01T00:00:00\",\"2014-01-01T00:00:00\",\"2014-01-01T00:00:00\",\"2014-01-01T00:00:00\",\"2014-01-01T00:00:00\",\"2014-01-01T00:00:00\",\"2014-01-01T00:00:00\",\"2014-01-01T00:00:00\",\"2014-01-01T00:00:00\",\"2014-01-01T00:00:00\",\"2014-01-01T00:00:00\",\"2014-01-01T00:00:00\",\"2014-01-01T00:00:00\",\"2014-01-01T00:00:00\",\"2014-01-01T00:00:00\",\"2014-01-01T00:00:00\",\"2014-01-01T00:00:00\",\"2014-01-01T00:00:00\",\"2014-01-01T00:00:00\",\"2014-01-01T00:00:00\",\"2014-01-01T00:00:00\",\"2014-01-01T00:00:00\",\"2014-01-01T00:00:00\",\"2014-01-01T00:00:00\",\"2014-01-01T00:00:00\",\"2014-01-01T00:00:00\",\"2014-01-01T00:00:00\",\"2014-01-01T00:00:00\",\"2014-01-01T00:00:00\",\"2014-01-01T00:00:00\",\"2014-01-01T00:00:00\",\"2014-01-01T00:00:00\",\"2014-01-01T00:00:00\",\"2014-01-01T00:00:00\",\"2014-01-01T00:00:00\",\"2014-01-01T00:00:00\",\"2014-01-01T00:00:00\",\"2014-01-01T00:00:00\",\"2014-01-01T00:00:00\",\"2014-01-01T00:00:00\",\"2014-01-01T00:00:00\",\"2014-01-01T00:00:00\",\"2014-01-01T00:00:00\",\"2014-01-01T00:00:00\",\"2014-01-01T00:00:00\",\"2014-01-01T00:00:00\",\"2014-01-01T00:00:00\",\"2014-01-01T00:00:00\",\"2014-01-01T00:00:00\",\"2014-01-01T00:00:00\",\"2014-01-01T00:00:00\",\"2014-01-01T00:00:00\",\"2014-01-01T00:00:00\",\"2014-01-01T00:00:00\",\"2014-01-01T00:00:00\",\"2014-01-01T00:00:00\",\"2014-01-01T00:00:00\",\"2014-01-01T00:00:00\",\"2014-01-01T00:00:00\",\"2014-01-01T00:00:00\",\"2014-01-01T00:00:00\",\"2015-01-01T00:00:00\",\"2015-01-01T00:00:00\",\"2015-01-01T00:00:00\",\"2015-01-01T00:00:00\",\"2015-01-01T00:00:00\",\"2015-01-01T00:00:00\",\"2015-01-01T00:00:00\",\"2015-01-01T00:00:00\",\"2015-01-01T00:00:00\",\"2015-01-01T00:00:00\",\"2015-01-01T00:00:00\",\"2015-01-01T00:00:00\",\"2015-01-01T00:00:00\",\"2015-01-01T00:00:00\",\"2015-01-01T00:00:00\",\"2015-01-01T00:00:00\",\"2015-01-01T00:00:00\",\"2015-01-01T00:00:00\",\"2015-01-01T00:00:00\",\"2015-01-01T00:00:00\",\"2015-01-01T00:00:00\",\"2015-01-01T00:00:00\",\"2015-01-01T00:00:00\",\"2015-01-01T00:00:00\",\"2015-01-01T00:00:00\",\"2015-01-01T00:00:00\",\"2015-01-01T00:00:00\",\"2015-01-01T00:00:00\",\"2015-01-01T00:00:00\",\"2015-01-01T00:00:00\",\"2015-01-01T00:00:00\",\"2015-01-01T00:00:00\",\"2015-01-01T00:00:00\",\"2015-01-01T00:00:00\",\"2015-01-01T00:00:00\",\"2015-01-01T00:00:00\",\"2015-01-01T00:00:00\",\"2015-01-01T00:00:00\",\"2015-01-01T00:00:00\",\"2015-01-01T00:00:00\",\"2015-01-01T00:00:00\",\"2015-01-01T00:00:00\",\"2015-01-01T00:00:00\",\"2015-01-01T00:00:00\",\"2015-01-01T00:00:00\",\"2015-01-01T00:00:00\",\"2015-01-01T00:00:00\",\"2015-01-01T00:00:00\",\"2015-01-01T00:00:00\",\"2015-01-01T00:00:00\",\"2015-01-01T00:00:00\",\"2015-01-01T00:00:00\",\"2015-01-01T00:00:00\",\"2015-01-01T00:00:00\",\"2015-01-01T00:00:00\",\"2015-01-01T00:00:00\",\"2015-01-01T00:00:00\",\"2015-01-01T00:00:00\",\"2015-01-01T00:00:00\",\"2015-01-01T00:00:00\",\"2015-01-01T00:00:00\",\"2015-01-01T00:00:00\",\"2015-01-01T00:00:00\",\"2015-01-01T00:00:00\",\"2015-01-01T00:00:00\",\"2015-01-01T00:00:00\",\"2015-01-01T00:00:00\",\"2015-01-01T00:00:00\",\"2015-01-01T00:00:00\",\"2015-01-01T00:00:00\",\"2015-01-01T00:00:00\",\"2015-01-01T00:00:00\",\"2015-01-01T00:00:00\",\"2015-01-01T00:00:00\",\"2015-01-01T00:00:00\",\"2015-01-01T00:00:00\",\"2015-01-01T00:00:00\",\"2016-01-01T00:00:00\",\"2016-01-01T00:00:00\",\"2016-01-01T00:00:00\",\"2016-01-01T00:00:00\",\"2016-01-01T00:00:00\",\"2016-01-01T00:00:00\",\"2016-01-01T00:00:00\",\"2016-01-01T00:00:00\",\"2016-01-01T00:00:00\",\"2016-01-01T00:00:00\",\"2016-01-01T00:00:00\",\"2016-01-01T00:00:00\",\"2016-01-01T00:00:00\",\"2016-01-01T00:00:00\",\"2016-01-01T00:00:00\",\"2016-01-01T00:00:00\",\"2016-01-01T00:00:00\",\"2016-01-01T00:00:00\",\"2016-01-01T00:00:00\",\"2016-01-01T00:00:00\",\"2016-01-01T00:00:00\",\"2016-01-01T00:00:00\",\"2016-01-01T00:00:00\",\"2016-01-01T00:00:00\",\"2016-01-01T00:00:00\",\"2016-01-01T00:00:00\",\"2016-01-01T00:00:00\",\"2016-01-01T00:00:00\",\"2016-01-01T00:00:00\",\"2016-01-01T00:00:00\",\"2016-01-01T00:00:00\",\"2016-01-01T00:00:00\",\"2016-01-01T00:00:00\",\"2016-01-01T00:00:00\",\"2016-01-01T00:00:00\",\"2016-01-01T00:00:00\",\"2016-01-01T00:00:00\",\"2016-01-01T00:00:00\",\"2016-01-01T00:00:00\",\"2016-01-01T00:00:00\",\"2016-01-01T00:00:00\",\"2016-01-01T00:00:00\",\"2016-01-01T00:00:00\",\"2016-01-01T00:00:00\",\"2016-01-01T00:00:00\",\"2016-01-01T00:00:00\",\"2016-01-01T00:00:00\",\"2016-01-01T00:00:00\",\"2016-01-01T00:00:00\",\"2016-01-01T00:00:00\",\"2016-01-01T00:00:00\",\"2016-01-01T00:00:00\",\"2016-01-01T00:00:00\",\"2016-01-01T00:00:00\",\"2016-01-01T00:00:00\",\"2016-01-01T00:00:00\",\"2016-01-01T00:00:00\",\"2016-01-01T00:00:00\",\"2016-01-01T00:00:00\",\"2016-01-01T00:00:00\",\"2016-01-01T00:00:00\",\"2016-01-01T00:00:00\",\"2016-01-01T00:00:00\",\"2016-01-01T00:00:00\",\"2016-01-01T00:00:00\",\"2016-01-01T00:00:00\",\"2016-01-01T00:00:00\",\"2016-01-01T00:00:00\",\"2016-01-01T00:00:00\",\"2016-01-01T00:00:00\",\"2016-01-01T00:00:00\",\"2016-01-01T00:00:00\",\"2016-01-01T00:00:00\",\"2016-01-01T00:00:00\",\"2016-01-01T00:00:00\",\"2016-01-01T00:00:00\",\"2017-01-01T00:00:00\",\"2017-01-01T00:00:00\",\"2017-01-01T00:00:00\",\"2017-01-01T00:00:00\",\"2017-01-01T00:00:00\",\"2017-01-01T00:00:00\",\"2017-01-01T00:00:00\",\"2017-01-01T00:00:00\",\"2017-01-01T00:00:00\",\"2017-01-01T00:00:00\",\"2017-01-01T00:00:00\",\"2017-01-01T00:00:00\",\"2017-01-01T00:00:00\",\"2017-01-01T00:00:00\",\"2017-01-01T00:00:00\",\"2017-01-01T00:00:00\",\"2017-01-01T00:00:00\",\"2017-01-01T00:00:00\",\"2017-01-01T00:00:00\",\"2017-01-01T00:00:00\",\"2017-01-01T00:00:00\",\"2017-01-01T00:00:00\",\"2017-01-01T00:00:00\",\"2017-01-01T00:00:00\",\"2017-01-01T00:00:00\",\"2017-01-01T00:00:00\",\"2017-01-01T00:00:00\",\"2017-01-01T00:00:00\",\"2017-01-01T00:00:00\",\"2017-01-01T00:00:00\",\"2017-01-01T00:00:00\",\"2017-01-01T00:00:00\",\"2017-01-01T00:00:00\",\"2017-01-01T00:00:00\",\"2017-01-01T00:00:00\",\"2017-01-01T00:00:00\",\"2017-01-01T00:00:00\",\"2017-01-01T00:00:00\",\"2017-01-01T00:00:00\",\"2017-01-01T00:00:00\",\"2017-01-01T00:00:00\",\"2017-01-01T00:00:00\",\"2017-01-01T00:00:00\",\"2017-01-01T00:00:00\",\"2017-01-01T00:00:00\",\"2017-01-01T00:00:00\",\"2017-01-01T00:00:00\",\"2017-01-01T00:00:00\",\"2017-01-01T00:00:00\",\"2017-01-01T00:00:00\",\"2017-01-01T00:00:00\",\"2017-01-01T00:00:00\",\"2017-01-01T00:00:00\",\"2017-01-01T00:00:00\",\"2017-01-01T00:00:00\",\"2017-01-01T00:00:00\",\"2017-01-01T00:00:00\",\"2017-01-01T00:00:00\",\"2017-01-01T00:00:00\",\"2017-01-01T00:00:00\",\"2017-01-01T00:00:00\",\"2017-01-01T00:00:00\",\"2017-01-01T00:00:00\",\"2017-01-01T00:00:00\",\"2017-01-01T00:00:00\",\"2017-01-01T00:00:00\",\"2017-01-01T00:00:00\",\"2017-01-01T00:00:00\",\"2017-01-01T00:00:00\",\"2017-01-01T00:00:00\",\"2017-01-01T00:00:00\",\"2018-01-01T00:00:00\",\"2018-01-01T00:00:00\",\"2018-01-01T00:00:00\",\"2018-01-01T00:00:00\",\"2018-01-01T00:00:00\",\"2018-01-01T00:00:00\",\"2018-01-01T00:00:00\",\"2018-01-01T00:00:00\",\"2018-01-01T00:00:00\",\"2018-01-01T00:00:00\",\"2018-01-01T00:00:00\",\"2018-01-01T00:00:00\",\"2018-01-01T00:00:00\",\"2018-01-01T00:00:00\",\"2018-01-01T00:00:00\",\"2018-01-01T00:00:00\",\"2018-01-01T00:00:00\",\"2018-01-01T00:00:00\",\"2018-01-01T00:00:00\",\"2018-01-01T00:00:00\",\"2018-01-01T00:00:00\",\"2018-01-01T00:00:00\",\"2018-01-01T00:00:00\",\"2018-01-01T00:00:00\",\"2018-01-01T00:00:00\",\"2018-01-01T00:00:00\",\"2018-01-01T00:00:00\",\"2018-01-01T00:00:00\",\"2018-01-01T00:00:00\",\"2018-01-01T00:00:00\",\"2018-01-01T00:00:00\",\"2018-01-01T00:00:00\",\"2018-01-01T00:00:00\",\"2018-01-01T00:00:00\",\"2018-01-01T00:00:00\",\"2018-01-01T00:00:00\",\"2018-01-01T00:00:00\",\"2018-01-01T00:00:00\",\"2018-01-01T00:00:00\",\"2018-01-01T00:00:00\",\"2018-01-01T00:00:00\",\"2018-01-01T00:00:00\",\"2018-01-01T00:00:00\",\"2018-01-01T00:00:00\",\"2018-01-01T00:00:00\",\"2018-01-01T00:00:00\",\"2018-01-01T00:00:00\",\"2018-01-01T00:00:00\",\"2018-01-01T00:00:00\",\"2019-01-01T00:00:00\",\"2019-01-01T00:00:00\",\"2019-01-01T00:00:00\",\"2019-01-01T00:00:00\",\"2019-01-01T00:00:00\",\"2019-01-01T00:00:00\",\"2019-01-01T00:00:00\",\"2019-01-01T00:00:00\",\"2019-01-01T00:00:00\",\"2019-01-01T00:00:00\",\"2019-01-01T00:00:00\",\"2019-01-01T00:00:00\",\"2019-01-01T00:00:00\",\"2019-01-01T00:00:00\",\"2019-01-01T00:00:00\",\"2019-01-01T00:00:00\",\"2019-01-01T00:00:00\",\"2019-01-01T00:00:00\",\"2019-01-01T00:00:00\",\"2019-01-01T00:00:00\",\"2019-01-01T00:00:00\",\"2019-01-01T00:00:00\",\"2019-01-01T00:00:00\",\"2019-01-01T00:00:00\",\"2019-01-01T00:00:00\",\"2019-01-01T00:00:00\",\"2019-01-01T00:00:00\",\"2019-01-01T00:00:00\",\"2019-01-01T00:00:00\",\"2019-01-01T00:00:00\",\"2019-01-01T00:00:00\",\"2019-01-01T00:00:00\",\"2019-01-01T00:00:00\",\"2019-01-01T00:00:00\",\"2019-01-01T00:00:00\",\"2019-01-01T00:00:00\",\"2019-01-01T00:00:00\",\"2019-01-01T00:00:00\",\"2019-01-01T00:00:00\",\"2019-01-01T00:00:00\",\"2019-01-01T00:00:00\",\"2019-01-01T00:00:00\",\"2019-01-01T00:00:00\",\"2019-01-01T00:00:00\",\"2019-01-01T00:00:00\",\"2020-01-01T00:00:00\",\"2020-01-01T00:00:00\",\"2020-01-01T00:00:00\",\"2020-01-01T00:00:00\",\"2020-01-01T00:00:00\",\"2020-01-01T00:00:00\",\"2020-01-01T00:00:00\",\"2020-01-01T00:00:00\",\"2020-01-01T00:00:00\",\"2020-01-01T00:00:00\",\"2020-01-01T00:00:00\",\"2020-01-01T00:00:00\",\"2020-01-01T00:00:00\",\"2020-01-01T00:00:00\",\"2020-01-01T00:00:00\",\"2020-01-01T00:00:00\",\"2020-01-01T00:00:00\",\"2020-01-01T00:00:00\",\"2020-01-01T00:00:00\",\"2020-01-01T00:00:00\",\"2020-01-01T00:00:00\",\"2020-01-01T00:00:00\",\"2020-01-01T00:00:00\",\"2020-01-01T00:00:00\",\"2020-01-01T00:00:00\",\"2020-01-01T00:00:00\",\"2020-01-01T00:00:00\",\"2020-01-01T00:00:00\",\"2021-01-01T00:00:00\",\"2021-01-01T00:00:00\",\"2021-01-01T00:00:00\",\"2021-01-01T00:00:00\",\"2021-01-01T00:00:00\",\"2021-01-01T00:00:00\",\"2021-01-01T00:00:00\",\"2021-01-01T00:00:00\",\"2021-01-01T00:00:00\",\"2021-01-01T00:00:00\",\"2021-01-01T00:00:00\",\"2021-01-01T00:00:00\",\"2021-01-01T00:00:00\",\"2021-01-01T00:00:00\",\"2021-01-01T00:00:00\",\"2021-01-01T00:00:00\",\"2021-01-01T00:00:00\",\"2021-01-01T00:00:00\",\"2021-01-01T00:00:00\",\"2021-01-01T00:00:00\",\"2021-01-01T00:00:00\",\"2021-01-01T00:00:00\",\"2021-01-01T00:00:00\",\"2021-01-01T00:00:00\",\"2021-01-01T00:00:00\",\"2021-01-01T00:00:00\"],\"xaxis\":\"x\",\"y\":[-0.7993556818181818,0.24178473995783045,-0.3713444678892708,0.6411988680816045,0.12664167338072244,-0.22989796945904664,0.08384273592477924,-0.11145740169504897,-0.31077577298069836,-0.2718060044807011,-0.11276762801037034,0.34127224722565747,0.06666666666666667,0.05337840078053821,0.1,0.006862167181199391,-0.3528506201457208,-0.3551180549616124,0.2770789021775117,0.17331779859199253,-0.012492890146895074,0.6867822247962383,0.45941209304497377,-0.22177578775621623,-0.07436202348844922,0.007260273972604285,-0.25515250407932727,0.06800205208712157,0.3217856435679721,0.7757251381215478,0.24378109452736313,0.3325723775092181,-0.16229002433301573,0.938657621578888,-0.6924981689309132,0.056203172833430896,-0.3022763867376027,-0.05162861737900636,0.5455768668967402,0.016102247377360192,0.14730149357703493,-0.2054151708308287,0.03716147472369228,0.02937322114528751,0.268551327823807,-0.13359273736744662,0.05067352884868985,0.36363636363636365,0.241419528081116,0.23636363636363636,-0.5506714177592211,0.2280772839347813,0.19152706969008162,0.6411042644476863,-0.18078933147080398,2.9093071059564526,-0.21841279266906985,-0.172345126299374,0.03978464923982811,0.3273664793662504,5.1225,0.15787384017386555,-0.07148775894538464,0.9224755666825957,-0.08033596867827007,-0.16466729929447502,-0.02299628613466233,0.026695786433705883,0.0,0.16595770360991485,2.2445080662038195,-0.38529462162650363,0.12376737190082647,-0.14705882352941177,0.07913745961343151,-0.2716847985397257,0.05321246354776123,0.10357370992799912,-0.34335617840942656,0.46754632893011694,1.2196453686008957,0.5131750706848643,-0.11290830935511277,2.479095328290741,0.6857238229626598,1.0125454850305797,2.0105658260122286,0.02656494199226569,0.9590149075223305,0.06803060457403466,0.21377282761998775,0.08588139001526847,0.23529411764705468,-0.5888322717622081,-0.35527068884758917,5.682599987673714,5.6046738799436876e-05,0.6671082230462813,-0.04775678193006296,-0.4994373245107565,0.06372998930089525,-0.11371946912308613,0.49448264279863124,0.24662855696231545,0.139240506329114,1.6119914905276072,-0.034534410165042946,-0.3117042161974132,-0.46531165715407663,0.23184664999999915,-0.07606915996594668,0.0,1.0297682326656197,-0.4423060676997501,1.071442674811833,0.08421146804574746,-0.060183745874116686,0.08546152197149816,-0.049433615609924625,0.7780358377484544,-0.16225678819613348,-0.3730305822955849,0.9326781806127595,0.13711636084795686,0.04681944894323746,0.023302762001909644,-0.14941775300390903,-0.10941967635453763,1.060179570756515,-0.2016584,-0.06212323983648627,-0.5076106607293787,-0.28412885572587115,0.029638029959064578,-0.039029594082093666,0.055343222947722794,0.09875099332241431,0.4815252905413314,0.04893255768642039,-0.6160143885644146,0.6256520004087778,-0.030735801548074274,-0.28204642730099666,2.7642234750000023,2.965677250699293,-0.4121243197891956,0.6789597820234151,-0.010673758910112017,0.010162850891688481,0.7916525799999999,-0.28214305554000085,0.9343882449794648,0.8790499257520777,0.21466915675173526,0.20780369061540968,-0.10193678045841238,-0.1526881720430108,0.2695610794927674,3.131027798394411,0.041769397927191525,1.189444359815403,1.0778916325667167,3.6656486991161574,-0.34121425827729146,0.5131426804106939,-0.09636223941138623,-0.10081273329112092,-0.03473529913812123,-0.1598876851543045,0.30573616268455256,0.07714399813795528,-0.28134060981319636,-0.4594885878145779,0.1416950920049978,2.316766628456081,0.12058252397820417,0.023644500772306367,-0.18559048799048414,1.0602292284158203,-0.07520978999420111,-0.2525966328198355,-0.12137777618672194,0.28349097641382665,0.96089809342807,-0.040040959020474845,9.856395174667515,0.5358211582467876,-0.13681763786448112,0.3974051041652011,-0.022844754918756427,0.47058823529411764,-0.004581295665847685,-0.7992614793792626,-0.03503898662755875,-0.037852795326273725,-0.22108561846211855,1.3452493903399028,-0.013313627789847895,-0.2155442245928517,-0.4008285742996022,-0.011690980959372889,0.03324723303679836,1.5544967324733192,0.3572051180762558,0.4830406964085908,2.9642820017746883,0.46781616268138165,-0.27533669426878093,0.17771956779873901,-0.33034872301153634,0.7545181000149325,-0.14045532535092797,0.0382887591349363,0.46539455015817077,0.13867359752544986,-0.5936826086956523,0.001901558806212662,-0.5529180316728938,0.10335213209339213,0.25428504933904306,0.4022353278215212,0.35603351491310603,0.029419997399933496,-0.19267526210071773,0.01697845368060739,-0.29490481634014704,0.07161902054999622,0.06615106995661758,0.07992037237624046,-0.28753029130995905,0.6985000080262295,-0.5075543872844849,-0.5171526830435287,-0.030897317911954245,0.19440054018176414,0.323184243048099,0.23080166432489643,-0.07923802781777672,0.9947380871888526,-0.3019760478032866,1.9853065160944643,-0.34176863618716397,0.10341858192488304,3.0214507767041154,-0.2662063538271318,-0.33365534179287765,0.6840884957198853,0.5676280389994971,0.017000695736443295,0.2751161835834443,-0.1930046851704059,-0.023378838760533874,0.0,-0.024585059285384524,3.0000294240194187,2.5373967171622267,0.1810469446152811,0.0,1.7468165780956548,0.35476678728480865,0.8554708080880827,-0.14994732766949953,0.4853688212455005,0.8812805185897417,-0.332234785687721,0.03308660929990058,-0.251515345353906,0.1980796947192848,1.0072976111330998,-0.025161013079890805,0.20569492885705565,0.0,-0.2694111866552063,-0.19992108470774736,8.078174117647059,-0.23674393546424985,0.11333527130006316,0.004834877338450755,-0.11763712045415964,-0.12067023475495363,-0.3350919055155197,-0.08177054336080375,0.3618904690058104,0.011143837051000905,1.7598451888641653,-0.037212364825191344,-0.0213539783323339,-0.1061679931080445,0.02827605122870858,0.02857919748425474,0.38256868430199864,0.9697252297640463,-0.12474362918275728,1.0998314319315872,-0.0007584721337328127,0.3056593103448276,0.7542099446434101,0.3448414927643313,0.008532059601358796,1.0690235507032089,0.09529398601476413,0.05948808802250336,-0.09828956126555109,-0.1247100900877242,-0.08605701604941497,0.13460437583390933,1.9807944587290762,-0.525029512998117,0.36331550062434004,0.35708888716676984,-0.022427816612970625,-0.05134588868103105,-0.20787708922991277,0.02399428290196643,0.29289628228124925,0.18840960830628206,-0.14723074018158025,-0.059693836202073726,1.0938087755402937,-0.13570057624246715,0.04089319753404819,-0.031976057282063396,1.09375,-0.5205519061475657,-0.02134980281828358,-0.2709154353583454,0.2134168183383483,0.8095238095238121,-0.4607691135963544,-0.6056583448116613,1.3739750745914083,-0.444725674397909,-0.39690009780185337,-0.042747127625190944,4.750202327519555,0.5586536952791699,0.04584014577555968,-0.09862263148156655,-0.06753405797722546,0.15927028472536425,-0.45162094505337286,-0.010529909096308607,-0.0353279080963305,0.0,-0.3687589814327755,0.4014756878874908,0.6672996280893927,-0.31017629137116576,-0.11423537328233459,-0.11140968564974192,-0.11088461595549391,-0.2739675965660094,-0.6274616606818756,0.6839708234805775,-0.03256129038657959,0.022574549540259045,-0.02982831357201739,0.9251446627530883,0.2736668913644793,0.08174743636993197,0.07065624999999999,3.465795166872266,-0.16659621608716968,-0.4930414452540553,-0.23280526218870518,0.6409795494738355,-0.05936164555635071,0.2575853638527081,0.2290595330715135,0.8801833099611163,1.127558479576451,0.04217396310808228,0.6900943069448585,0.6530640617611089,-0.19502070006743075,-0.0345803246605333,1.4282495544922724,0.15845448765234374,0.15579460323586794,-0.08302943720754083,-0.238145473795264,-0.25560573171176243,0.5051907579653757,0.07201856891655198,0.4004906750929716,0.9978749715586579,0.37351135463427504,0.0011867467582177228,0.07840394018344707,0.00876920013037851,-0.5677033329251379,-0.22398130790049098,0.22061072078115962,-0.4385915666921314,0.08358008744249204,0.4952615074468402,0.029617998213173777,0.3267967716150491,-0.46784789235900825,0.011739973997089053,-0.18438844735401416,0.4,0.14523241682429147,-0.00678298133025014,0.1758808804303544,-0.7557748917748918,1.3940542536209561,-0.02080795249632199,-0.13638487687688003,0.9846856959253942,0.11174904820892592,0.05693816393593095,-0.044656045292547936,-0.4164582272510002,-0.018873128918147044,0.0020383819441764832,0.8151853311664758,0.02305785995436224,-0.43518799035829814,0.28786847487262235,-0.3604965133358278,0.0,-0.07917467773387732,0.13245204199555013,0.5967277369007314,0.4714076516016305,-0.3493063934023806,-0.7735879864636209,0.966613632009732,-0.7336815304624515,0.935480299509208,0.22957833590160864,0.2287711769581633,0.2903774976370114,-0.061912981418703966,-0.1614808132683098,-0.10839187575996868,-0.08378235978434448,-0.4278505476842321,0.9583336383101385,0.41953496,0.0028094958552700934,-0.01529985724130025,-0.5818084940021089,0.1291085123966957,-0.3196036486574352,-0.16449840966832943,0.11929249214855525,0.09333474752997238,0.06005282072052445,0.4270291941847882,-0.2709411072619126,-0.2481243812830601,-0.07225623244206833,0.2901438671911199,-0.09054754926339915,-0.4020989533455129,0.2939766237187711,-0.38060477449457114,-0.35622052552259464,-0.3557045914268385,0.0671803371739526,0.00382672158004905,0.24973408891051826,0.33050711349198486,0.1561845127383685,0.09999999637175684,-0.3523249781617613,-0.3331399658307715,-0.3724801315556009,0.22650058800470396,0.14822205750993026,-0.21843015884374575,-0.1802724312893578,0.19567582756961,1.0201339109214613,0.056139799460074274,0.23682340387731257,0.026339819446950002,0.0758360017121609,2.637348875,0.7898174225502574,0.06833144829860398,-0.6184861680079922,0.4982930808761845,2.02646417773677,-0.04674342164673311,0.08284079897592235,-0.01086939416505476,0.0903014205871272,0.9318501763877197,-0.27956732821540314,-0.2184877326124875,0.0,0.6809804485088997,-0.28288779809701237,-0.16938968876605148,-0.3469576250420594,0.715370182708419,-0.09542670737130027,-0.10854820514191371,0.5843151214793217,1.889933735737459,0.6339300716955448,0.15843440065711012,-0.0028264220435905577,0.1913814937787609,1.8332841752286473,0.12013453745750169,0.4455343482252144,0.8728078932049237,-0.07621843173412798,-0.33287501611697956,1.3463844766681963,0.6414300652809997,0.02154584530323213,-0.2117170541541295,0.1887909995404075,0.15500495053403185,0.05717276549560361,-0.22487601956413875,0.06285601240029681,-0.20942427685990234,0.21592052913002707,0.09407730706649117,0.3798747565531111,0.22651474661210183,-0.0386720175118571,1.3775286161772882,-0.19821507723954512,-0.44019973716640803,0.09336755299754235,0.16838467401719595,0.6771456796219464,0.2303516292364565,-0.2636338553334141,-0.25245597322711366,0.949194123173375,0.009174556631833424,0.17305673944698305,0.02000000610204531,1.0927694608623557,0.6782718680571586,0.0019167074437092422,0.5532474841101694,-0.15151307397974723,0.43971412419191874,0.13342220857887202,0.0991649949933521,0.05315565182637005,0.3142857142857143,-0.05790043871853431,-0.18263281804458104,0.005494716999397535,0.19280303030303023,-0.2546665598581054,1.3802631578947364,-0.09541637840990805,0.47372685456631447,0.4370022659913453,-0.2505748622475619,-0.04903550912544607,0.23368991767533945,0.06459825027617572,0.17762694292641962,0.3252811485320412,0.3097352824326879,-0.22972891022623593,-0.21899475331611037,0.25250891239409917,-0.29486300422963996,-0.3266335694768488,-0.30454682933794924,-0.24839047009693643,0.3193759958147861,-0.34903822869837126,0.15257870870083423,3.0853049834931614,-0.18807754697721765,-0.16189661516142245,-0.4525812382739212,-0.053780814072996105,-0.635058263054175,0.10834078218358811,-0.30081345871319687,-0.23183630476190248,0.4302878175272258,0.030054909057168275,0.06907154091359356,-0.027989706958316624,-0.10430239977284612,-0.3843698299360181,-0.18837735021698643,0.062328541473893814,-0.5290238979900668,-0.21246907020872863,-0.4269922673430689,0.10727880053801386,0.5391039998001298,-0.17817907608293865,0.464807230961731,7.113677001050181,0.020000003233728258,-0.023115427248312517,-0.4654549113393984,-0.38555282633660837,0.2898921989061911,0.3821855271800235,0.05884971220725285,-0.04939081108323363,-0.0865069118834362,0.1659256906954589,0.1996350753542776,-0.15504830206380713,-0.5137045047798839,0.3333565326340144,0.1257823326179933,-0.15019002522577818,-0.6854644817159166,-0.20877217676010315,0.1866384471140437,1.8530047243569543,-0.57831672493764,-0.23086239663296626,0.1024366369875213,0.34679054766696515,0.6291562016147207,-0.6755892935308068,0.0,-4.2992561352758606e-05,-0.2909842493485923,0.15214232755383905,0.04472109740383457,0.5541898362221683,1.1189516512549538,-0.03930190260361284,0.19602168087941751,0.9646344886666666,-0.11534085347932135,-0.07312576188537225,0.007744891576658994,1.5066125401953294,0.04051194297187079,0.09341259910883844,0.17399178855614036,-0.0474732224258093,0.2235043149525408,0.762725392458487,0.007672481203223696,0.14921657543569644,-0.34292904688909986,0.9507866608264277,-0.15449527892113596,0.17825027970329888,-0.12581704811138775,-0.20997986517772016,1.0638342865997525,0.2496028942412363,0.3105040122335067,0.25336034272460123,0.18660509962915742,-0.14482588125704077,0.43641262342663206,0.3109478609872858,0.11677436548057425,-0.1400488612748954,-0.2390593986916569,0.6461064701683095,-0.33384119860433564,-0.021962082260666985,-0.08031478703088758,-0.005146532922921106,1.009082819397173,0.0,-0.12305647879627221,0.26482199346950935,0.08124574023923492,1.5306880712370856,-0.33034193487383456,0.13034216482492345,-0.3814966525292094,-0.2213719399724369,0.051341186998667354,-0.4418107514521511,-0.01801615562119219,-0.04271594042899872,-0.36497673941050685,0.33499959047142386,-0.28944323599109845,-0.23443008581696503,1.6268933601207431,-0.00535931756105614,-0.16552189649279092,0.12230038513562352,1.235912980119617,0.34130984890263905,0.2003785146125184,-0.046288670600181284,-0.36197842543648534,-0.5578347779639354,0.3085000723368866,-0.365594938938989,0.41501971465411475,-0.27158842267241423,1.0443699178122234,-0.38963756148427614,0.31471889605237413,-0.18534169519835175,-0.2405560052290684,-0.3683619496805131,-1.0651167941423673e-08,-0.004557083436201161,-0.26801171642594523,-0.14000024994906551,0.36361675471690086,0.11002185872402122,0.5702246311036436,0.023922731312934545,0.04606486435979008,0.061299340746494485,0.049800000003267286,0.6443337788814036,0.0029226012968938016,0.16737686157103665,0.3369728906733576,-0.27756262179494245,-0.24498074782138074,0.10581468273279958,-0.6629424614833686,0.0320118290194673,-0.4286110847195774,0.9597439168997073,0.24085027601494352,2.6216968412141552,-0.2559302322022379,0.26362271398023723],\"yaxis\":\"y\",\"type\":\"histogram\"}],                        {\"template\":{\"data\":{\"histogram2dcontour\":[{\"type\":\"histogram2dcontour\",\"colorbar\":{\"outlinewidth\":0,\"ticks\":\"\"},\"colorscale\":[[0.0,\"#0d0887\"],[0.1111111111111111,\"#46039f\"],[0.2222222222222222,\"#7201a8\"],[0.3333333333333333,\"#9c179e\"],[0.4444444444444444,\"#bd3786\"],[0.5555555555555556,\"#d8576b\"],[0.6666666666666666,\"#ed7953\"],[0.7777777777777778,\"#fb9f3a\"],[0.8888888888888888,\"#fdca26\"],[1.0,\"#f0f921\"]]}],\"choropleth\":[{\"type\":\"choropleth\",\"colorbar\":{\"outlinewidth\":0,\"ticks\":\"\"}}],\"histogram2d\":[{\"type\":\"histogram2d\",\"colorbar\":{\"outlinewidth\":0,\"ticks\":\"\"},\"colorscale\":[[0.0,\"#0d0887\"],[0.1111111111111111,\"#46039f\"],[0.2222222222222222,\"#7201a8\"],[0.3333333333333333,\"#9c179e\"],[0.4444444444444444,\"#bd3786\"],[0.5555555555555556,\"#d8576b\"],[0.6666666666666666,\"#ed7953\"],[0.7777777777777778,\"#fb9f3a\"],[0.8888888888888888,\"#fdca26\"],[1.0,\"#f0f921\"]]}],\"heatmap\":[{\"type\":\"heatmap\",\"colorbar\":{\"outlinewidth\":0,\"ticks\":\"\"},\"colorscale\":[[0.0,\"#0d0887\"],[0.1111111111111111,\"#46039f\"],[0.2222222222222222,\"#7201a8\"],[0.3333333333333333,\"#9c179e\"],[0.4444444444444444,\"#bd3786\"],[0.5555555555555556,\"#d8576b\"],[0.6666666666666666,\"#ed7953\"],[0.7777777777777778,\"#fb9f3a\"],[0.8888888888888888,\"#fdca26\"],[1.0,\"#f0f921\"]]}],\"heatmapgl\":[{\"type\":\"heatmapgl\",\"colorbar\":{\"outlinewidth\":0,\"ticks\":\"\"},\"colorscale\":[[0.0,\"#0d0887\"],[0.1111111111111111,\"#46039f\"],[0.2222222222222222,\"#7201a8\"],[0.3333333333333333,\"#9c179e\"],[0.4444444444444444,\"#bd3786\"],[0.5555555555555556,\"#d8576b\"],[0.6666666666666666,\"#ed7953\"],[0.7777777777777778,\"#fb9f3a\"],[0.8888888888888888,\"#fdca26\"],[1.0,\"#f0f921\"]]}],\"contourcarpet\":[{\"type\":\"contourcarpet\",\"colorbar\":{\"outlinewidth\":0,\"ticks\":\"\"}}],\"contour\":[{\"type\":\"contour\",\"colorbar\":{\"outlinewidth\":0,\"ticks\":\"\"},\"colorscale\":[[0.0,\"#0d0887\"],[0.1111111111111111,\"#46039f\"],[0.2222222222222222,\"#7201a8\"],[0.3333333333333333,\"#9c179e\"],[0.4444444444444444,\"#bd3786\"],[0.5555555555555556,\"#d8576b\"],[0.6666666666666666,\"#ed7953\"],[0.7777777777777778,\"#fb9f3a\"],[0.8888888888888888,\"#fdca26\"],[1.0,\"#f0f921\"]]}],\"surface\":[{\"type\":\"surface\",\"colorbar\":{\"outlinewidth\":0,\"ticks\":\"\"},\"colorscale\":[[0.0,\"#0d0887\"],[0.1111111111111111,\"#46039f\"],[0.2222222222222222,\"#7201a8\"],[0.3333333333333333,\"#9c179e\"],[0.4444444444444444,\"#bd3786\"],[0.5555555555555556,\"#d8576b\"],[0.6666666666666666,\"#ed7953\"],[0.7777777777777778,\"#fb9f3a\"],[0.8888888888888888,\"#fdca26\"],[1.0,\"#f0f921\"]]}],\"mesh3d\":[{\"type\":\"mesh3d\",\"colorbar\":{\"outlinewidth\":0,\"ticks\":\"\"}}],\"scatter\":[{\"fillpattern\":{\"fillmode\":\"overlay\",\"size\":10,\"solidity\":0.2},\"type\":\"scatter\"}],\"parcoords\":[{\"type\":\"parcoords\",\"line\":{\"colorbar\":{\"outlinewidth\":0,\"ticks\":\"\"}}}],\"scatterpolargl\":[{\"type\":\"scatterpolargl\",\"marker\":{\"colorbar\":{\"outlinewidth\":0,\"ticks\":\"\"}}}],\"bar\":[{\"error_x\":{\"color\":\"#2a3f5f\"},\"error_y\":{\"color\":\"#2a3f5f\"},\"marker\":{\"line\":{\"color\":\"#E5ECF6\",\"width\":0.5},\"pattern\":{\"fillmode\":\"overlay\",\"size\":10,\"solidity\":0.2}},\"type\":\"bar\"}],\"scattergeo\":[{\"type\":\"scattergeo\",\"marker\":{\"colorbar\":{\"outlinewidth\":0,\"ticks\":\"\"}}}],\"scatterpolar\":[{\"type\":\"scatterpolar\",\"marker\":{\"colorbar\":{\"outlinewidth\":0,\"ticks\":\"\"}}}],\"histogram\":[{\"marker\":{\"pattern\":{\"fillmode\":\"overlay\",\"size\":10,\"solidity\":0.2}},\"type\":\"histogram\"}],\"scattergl\":[{\"type\":\"scattergl\",\"marker\":{\"colorbar\":{\"outlinewidth\":0,\"ticks\":\"\"}}}],\"scatter3d\":[{\"type\":\"scatter3d\",\"line\":{\"colorbar\":{\"outlinewidth\":0,\"ticks\":\"\"}},\"marker\":{\"colorbar\":{\"outlinewidth\":0,\"ticks\":\"\"}}}],\"scattermapbox\":[{\"type\":\"scattermapbox\",\"marker\":{\"colorbar\":{\"outlinewidth\":0,\"ticks\":\"\"}}}],\"scatterternary\":[{\"type\":\"scatterternary\",\"marker\":{\"colorbar\":{\"outlinewidth\":0,\"ticks\":\"\"}}}],\"scattercarpet\":[{\"type\":\"scattercarpet\",\"marker\":{\"colorbar\":{\"outlinewidth\":0,\"ticks\":\"\"}}}],\"carpet\":[{\"aaxis\":{\"endlinecolor\":\"#2a3f5f\",\"gridcolor\":\"white\",\"linecolor\":\"white\",\"minorgridcolor\":\"white\",\"startlinecolor\":\"#2a3f5f\"},\"baxis\":{\"endlinecolor\":\"#2a3f5f\",\"gridcolor\":\"white\",\"linecolor\":\"white\",\"minorgridcolor\":\"white\",\"startlinecolor\":\"#2a3f5f\"},\"type\":\"carpet\"}],\"table\":[{\"cells\":{\"fill\":{\"color\":\"#EBF0F8\"},\"line\":{\"color\":\"white\"}},\"header\":{\"fill\":{\"color\":\"#C8D4E3\"},\"line\":{\"color\":\"white\"}},\"type\":\"table\"}],\"barpolar\":[{\"marker\":{\"line\":{\"color\":\"#E5ECF6\",\"width\":0.5},\"pattern\":{\"fillmode\":\"overlay\",\"size\":10,\"solidity\":0.2}},\"type\":\"barpolar\"}],\"pie\":[{\"automargin\":true,\"type\":\"pie\"}]},\"layout\":{\"autotypenumbers\":\"strict\",\"colorway\":[\"#636efa\",\"#EF553B\",\"#00cc96\",\"#ab63fa\",\"#FFA15A\",\"#19d3f3\",\"#FF6692\",\"#B6E880\",\"#FF97FF\",\"#FECB52\"],\"font\":{\"color\":\"#2a3f5f\"},\"hovermode\":\"closest\",\"hoverlabel\":{\"align\":\"left\"},\"paper_bgcolor\":\"white\",\"plot_bgcolor\":\"#E5ECF6\",\"polar\":{\"bgcolor\":\"#E5ECF6\",\"angularaxis\":{\"gridcolor\":\"white\",\"linecolor\":\"white\",\"ticks\":\"\"},\"radialaxis\":{\"gridcolor\":\"white\",\"linecolor\":\"white\",\"ticks\":\"\"}},\"ternary\":{\"bgcolor\":\"#E5ECF6\",\"aaxis\":{\"gridcolor\":\"white\",\"linecolor\":\"white\",\"ticks\":\"\"},\"baxis\":{\"gridcolor\":\"white\",\"linecolor\":\"white\",\"ticks\":\"\"},\"caxis\":{\"gridcolor\":\"white\",\"linecolor\":\"white\",\"ticks\":\"\"}},\"coloraxis\":{\"colorbar\":{\"outlinewidth\":0,\"ticks\":\"\"}},\"colorscale\":{\"sequential\":[[0.0,\"#0d0887\"],[0.1111111111111111,\"#46039f\"],[0.2222222222222222,\"#7201a8\"],[0.3333333333333333,\"#9c179e\"],[0.4444444444444444,\"#bd3786\"],[0.5555555555555556,\"#d8576b\"],[0.6666666666666666,\"#ed7953\"],[0.7777777777777778,\"#fb9f3a\"],[0.8888888888888888,\"#fdca26\"],[1.0,\"#f0f921\"]],\"sequentialminus\":[[0.0,\"#0d0887\"],[0.1111111111111111,\"#46039f\"],[0.2222222222222222,\"#7201a8\"],[0.3333333333333333,\"#9c179e\"],[0.4444444444444444,\"#bd3786\"],[0.5555555555555556,\"#d8576b\"],[0.6666666666666666,\"#ed7953\"],[0.7777777777777778,\"#fb9f3a\"],[0.8888888888888888,\"#fdca26\"],[1.0,\"#f0f921\"]],\"diverging\":[[0,\"#8e0152\"],[0.1,\"#c51b7d\"],[0.2,\"#de77ae\"],[0.3,\"#f1b6da\"],[0.4,\"#fde0ef\"],[0.5,\"#f7f7f7\"],[0.6,\"#e6f5d0\"],[0.7,\"#b8e186\"],[0.8,\"#7fbc41\"],[0.9,\"#4d9221\"],[1,\"#276419\"]]},\"xaxis\":{\"gridcolor\":\"white\",\"linecolor\":\"white\",\"ticks\":\"\",\"title\":{\"standoff\":15},\"zerolinecolor\":\"white\",\"automargin\":true,\"zerolinewidth\":2},\"yaxis\":{\"gridcolor\":\"white\",\"linecolor\":\"white\",\"ticks\":\"\",\"title\":{\"standoff\":15},\"zerolinecolor\":\"white\",\"automargin\":true,\"zerolinewidth\":2},\"scene\":{\"xaxis\":{\"backgroundcolor\":\"#E5ECF6\",\"gridcolor\":\"white\",\"linecolor\":\"white\",\"showbackground\":true,\"ticks\":\"\",\"zerolinecolor\":\"white\",\"gridwidth\":2},\"yaxis\":{\"backgroundcolor\":\"#E5ECF6\",\"gridcolor\":\"white\",\"linecolor\":\"white\",\"showbackground\":true,\"ticks\":\"\",\"zerolinecolor\":\"white\",\"gridwidth\":2},\"zaxis\":{\"backgroundcolor\":\"#E5ECF6\",\"gridcolor\":\"white\",\"linecolor\":\"white\",\"showbackground\":true,\"ticks\":\"\",\"zerolinecolor\":\"white\",\"gridwidth\":2}},\"shapedefaults\":{\"line\":{\"color\":\"#2a3f5f\"}},\"annotationdefaults\":{\"arrowcolor\":\"#2a3f5f\",\"arrowhead\":0,\"arrowwidth\":1},\"geo\":{\"bgcolor\":\"white\",\"landcolor\":\"#E5ECF6\",\"subunitcolor\":\"white\",\"showland\":true,\"showlakes\":true,\"lakecolor\":\"white\"},\"title\":{\"x\":0.05},\"mapbox\":{\"style\":\"light\"}}},\"xaxis\":{\"anchor\":\"y\",\"domain\":[0.0,1.0],\"title\":{\"text\":\"Year\"}},\"yaxis\":{\"anchor\":\"x\",\"domain\":[0.0,1.0],\"title\":{\"text\":\"avg of total_immunization in USD_prev_1_year_pct_change\"}},\"legend\":{\"tracegroupgap\":0},\"margin\":{\"t\":60},\"barmode\":\"relative\"},                        {\"responsive\": true}                    ).then(function(){\n",
       "                            \n",
       "var gd = document.getElementById('799c2892-c1b5-4f7f-8a42-8a85212f94e1');\n",
       "var x = new MutationObserver(function (mutations, observer) {{\n",
       "        var display = window.getComputedStyle(gd).display;\n",
       "        if (!display || display === 'none') {{\n",
       "            console.log([gd, 'removed!']);\n",
       "            Plotly.purge(gd);\n",
       "            observer.disconnect();\n",
       "        }}\n",
       "}});\n",
       "\n",
       "// Listen for the removal of the full notebook cells\n",
       "var notebookContainer = gd.closest('#notebook-container');\n",
       "if (notebookContainer) {{\n",
       "    x.observe(notebookContainer, {childList: true});\n",
       "}}\n",
       "\n",
       "// Listen for the clearing of the current output cell\n",
       "var outputEl = gd.closest('.output');\n",
       "if (outputEl) {{\n",
       "    x.observe(outputEl, {childList: true});\n",
       "}}\n",
       "\n",
       "                        })                };                });            </script>        </div>"
      ]
     },
     "metadata": {},
     "output_type": "display_data"
    }
   ],
   "source": [
    "fig = px.histogram(merged_df.dropna(subset=['total_immunization in USD_prev_1_year_pct_change']), x='Year', histfunc='avg', y='total_immunization in USD_prev_1_year_pct_change')\n",
    "fig"
   ]
  },
  {
   "cell_type": "code",
   "execution_count": 89,
   "metadata": {},
   "outputs": [
    {
     "data": {
      "application/vnd.plotly.v1+json": {
       "config": {
        "plotlyServerURL": "https://plot.ly"
       },
       "data": [
        {
         "alignmentgroup": "True",
         "bingroup": "x",
         "histfunc": "avg",
         "hovertemplate": "Year=%{x}<br>avg of total_immunization in USD_prev_1_year_pct_change=%{y}<extra></extra>",
         "legendgroup": "",
         "marker": {
          "color": "#636efa",
          "pattern": {
           "shape": ""
          }
         },
         "name": "",
         "offsetgroup": "",
         "orientation": "v",
         "showlegend": false,
         "type": "histogram",
         "x": [
          "2008-01-01T00:00:00",
          "2008-01-01T00:00:00",
          "2008-01-01T00:00:00",
          "2008-01-01T00:00:00",
          "2008-01-01T00:00:00",
          "2008-01-01T00:00:00",
          "2008-01-01T00:00:00",
          "2008-01-01T00:00:00",
          "2008-01-01T00:00:00",
          "2008-01-01T00:00:00",
          "2008-01-01T00:00:00",
          "2008-01-01T00:00:00",
          "2008-01-01T00:00:00",
          "2008-01-01T00:00:00",
          "2008-01-01T00:00:00",
          "2008-01-01T00:00:00",
          "2008-01-01T00:00:00",
          "2008-01-01T00:00:00",
          "2008-01-01T00:00:00",
          "2008-01-01T00:00:00",
          "2008-01-01T00:00:00",
          "2008-01-01T00:00:00",
          "2008-01-01T00:00:00",
          "2008-01-01T00:00:00",
          "2008-01-01T00:00:00",
          "2008-01-01T00:00:00",
          "2008-01-01T00:00:00",
          "2008-01-01T00:00:00",
          "2009-01-01T00:00:00",
          "2009-01-01T00:00:00",
          "2009-01-01T00:00:00",
          "2009-01-01T00:00:00",
          "2009-01-01T00:00:00",
          "2009-01-01T00:00:00",
          "2009-01-01T00:00:00",
          "2009-01-01T00:00:00",
          "2009-01-01T00:00:00",
          "2009-01-01T00:00:00",
          "2009-01-01T00:00:00",
          "2009-01-01T00:00:00",
          "2009-01-01T00:00:00",
          "2009-01-01T00:00:00",
          "2009-01-01T00:00:00",
          "2009-01-01T00:00:00",
          "2009-01-01T00:00:00",
          "2009-01-01T00:00:00",
          "2009-01-01T00:00:00",
          "2009-01-01T00:00:00",
          "2009-01-01T00:00:00",
          "2009-01-01T00:00:00",
          "2009-01-01T00:00:00",
          "2009-01-01T00:00:00",
          "2009-01-01T00:00:00",
          "2009-01-01T00:00:00",
          "2009-01-01T00:00:00",
          "2009-01-01T00:00:00",
          "2009-01-01T00:00:00",
          "2009-01-01T00:00:00",
          "2009-01-01T00:00:00",
          "2009-01-01T00:00:00",
          "2009-01-01T00:00:00",
          "2009-01-01T00:00:00",
          "2009-01-01T00:00:00",
          "2009-01-01T00:00:00",
          "2009-01-01T00:00:00",
          "2009-01-01T00:00:00",
          "2009-01-01T00:00:00",
          "2009-01-01T00:00:00",
          "2009-01-01T00:00:00",
          "2009-01-01T00:00:00",
          "2010-01-01T00:00:00",
          "2010-01-01T00:00:00",
          "2010-01-01T00:00:00",
          "2010-01-01T00:00:00",
          "2010-01-01T00:00:00",
          "2010-01-01T00:00:00",
          "2010-01-01T00:00:00",
          "2010-01-01T00:00:00",
          "2010-01-01T00:00:00",
          "2010-01-01T00:00:00",
          "2010-01-01T00:00:00",
          "2010-01-01T00:00:00",
          "2010-01-01T00:00:00",
          "2010-01-01T00:00:00",
          "2010-01-01T00:00:00",
          "2010-01-01T00:00:00",
          "2010-01-01T00:00:00",
          "2010-01-01T00:00:00",
          "2010-01-01T00:00:00",
          "2010-01-01T00:00:00",
          "2010-01-01T00:00:00",
          "2010-01-01T00:00:00",
          "2010-01-01T00:00:00",
          "2010-01-01T00:00:00",
          "2010-01-01T00:00:00",
          "2010-01-01T00:00:00",
          "2010-01-01T00:00:00",
          "2010-01-01T00:00:00",
          "2010-01-01T00:00:00",
          "2010-01-01T00:00:00",
          "2010-01-01T00:00:00",
          "2010-01-01T00:00:00",
          "2010-01-01T00:00:00",
          "2010-01-01T00:00:00",
          "2010-01-01T00:00:00",
          "2010-01-01T00:00:00",
          "2010-01-01T00:00:00",
          "2010-01-01T00:00:00",
          "2010-01-01T00:00:00",
          "2010-01-01T00:00:00",
          "2010-01-01T00:00:00",
          "2010-01-01T00:00:00",
          "2010-01-01T00:00:00",
          "2010-01-01T00:00:00",
          "2010-01-01T00:00:00",
          "2010-01-01T00:00:00",
          "2011-01-01T00:00:00",
          "2011-01-01T00:00:00",
          "2011-01-01T00:00:00",
          "2011-01-01T00:00:00",
          "2011-01-01T00:00:00",
          "2011-01-01T00:00:00",
          "2011-01-01T00:00:00",
          "2011-01-01T00:00:00",
          "2011-01-01T00:00:00",
          "2011-01-01T00:00:00",
          "2011-01-01T00:00:00",
          "2011-01-01T00:00:00",
          "2011-01-01T00:00:00",
          "2011-01-01T00:00:00",
          "2011-01-01T00:00:00",
          "2011-01-01T00:00:00",
          "2011-01-01T00:00:00",
          "2011-01-01T00:00:00",
          "2011-01-01T00:00:00",
          "2011-01-01T00:00:00",
          "2011-01-01T00:00:00",
          "2011-01-01T00:00:00",
          "2011-01-01T00:00:00",
          "2011-01-01T00:00:00",
          "2011-01-01T00:00:00",
          "2011-01-01T00:00:00",
          "2011-01-01T00:00:00",
          "2011-01-01T00:00:00",
          "2011-01-01T00:00:00",
          "2011-01-01T00:00:00",
          "2011-01-01T00:00:00",
          "2011-01-01T00:00:00",
          "2011-01-01T00:00:00",
          "2011-01-01T00:00:00",
          "2011-01-01T00:00:00",
          "2011-01-01T00:00:00",
          "2011-01-01T00:00:00",
          "2011-01-01T00:00:00",
          "2011-01-01T00:00:00",
          "2011-01-01T00:00:00",
          "2011-01-01T00:00:00",
          "2011-01-01T00:00:00",
          "2011-01-01T00:00:00",
          "2011-01-01T00:00:00",
          "2011-01-01T00:00:00",
          "2011-01-01T00:00:00",
          "2011-01-01T00:00:00",
          "2011-01-01T00:00:00",
          "2011-01-01T00:00:00",
          "2012-01-01T00:00:00",
          "2012-01-01T00:00:00",
          "2012-01-01T00:00:00",
          "2012-01-01T00:00:00",
          "2012-01-01T00:00:00",
          "2012-01-01T00:00:00",
          "2012-01-01T00:00:00",
          "2012-01-01T00:00:00",
          "2012-01-01T00:00:00",
          "2012-01-01T00:00:00",
          "2012-01-01T00:00:00",
          "2012-01-01T00:00:00",
          "2012-01-01T00:00:00",
          "2012-01-01T00:00:00",
          "2012-01-01T00:00:00",
          "2012-01-01T00:00:00",
          "2012-01-01T00:00:00",
          "2012-01-01T00:00:00",
          "2012-01-01T00:00:00",
          "2012-01-01T00:00:00",
          "2012-01-01T00:00:00",
          "2012-01-01T00:00:00",
          "2012-01-01T00:00:00",
          "2012-01-01T00:00:00",
          "2012-01-01T00:00:00",
          "2012-01-01T00:00:00",
          "2012-01-01T00:00:00",
          "2012-01-01T00:00:00",
          "2012-01-01T00:00:00",
          "2012-01-01T00:00:00",
          "2012-01-01T00:00:00",
          "2012-01-01T00:00:00",
          "2012-01-01T00:00:00",
          "2012-01-01T00:00:00",
          "2012-01-01T00:00:00",
          "2012-01-01T00:00:00",
          "2012-01-01T00:00:00",
          "2012-01-01T00:00:00",
          "2012-01-01T00:00:00",
          "2012-01-01T00:00:00",
          "2012-01-01T00:00:00",
          "2012-01-01T00:00:00",
          "2012-01-01T00:00:00",
          "2012-01-01T00:00:00",
          "2012-01-01T00:00:00",
          "2012-01-01T00:00:00",
          "2012-01-01T00:00:00",
          "2012-01-01T00:00:00",
          "2012-01-01T00:00:00",
          "2012-01-01T00:00:00",
          "2012-01-01T00:00:00",
          "2012-01-01T00:00:00",
          "2012-01-01T00:00:00",
          "2012-01-01T00:00:00",
          "2012-01-01T00:00:00",
          "2012-01-01T00:00:00",
          "2012-01-01T00:00:00",
          "2012-01-01T00:00:00",
          "2012-01-01T00:00:00",
          "2013-01-01T00:00:00",
          "2013-01-01T00:00:00",
          "2013-01-01T00:00:00",
          "2013-01-01T00:00:00",
          "2013-01-01T00:00:00",
          "2013-01-01T00:00:00",
          "2013-01-01T00:00:00",
          "2013-01-01T00:00:00",
          "2013-01-01T00:00:00",
          "2013-01-01T00:00:00",
          "2013-01-01T00:00:00",
          "2013-01-01T00:00:00",
          "2013-01-01T00:00:00",
          "2013-01-01T00:00:00",
          "2013-01-01T00:00:00",
          "2013-01-01T00:00:00",
          "2013-01-01T00:00:00",
          "2013-01-01T00:00:00",
          "2013-01-01T00:00:00",
          "2013-01-01T00:00:00",
          "2013-01-01T00:00:00",
          "2013-01-01T00:00:00",
          "2013-01-01T00:00:00",
          "2013-01-01T00:00:00",
          "2013-01-01T00:00:00",
          "2013-01-01T00:00:00",
          "2013-01-01T00:00:00",
          "2013-01-01T00:00:00",
          "2013-01-01T00:00:00",
          "2013-01-01T00:00:00",
          "2013-01-01T00:00:00",
          "2013-01-01T00:00:00",
          "2013-01-01T00:00:00",
          "2013-01-01T00:00:00",
          "2013-01-01T00:00:00",
          "2013-01-01T00:00:00",
          "2013-01-01T00:00:00",
          "2013-01-01T00:00:00",
          "2013-01-01T00:00:00",
          "2013-01-01T00:00:00",
          "2013-01-01T00:00:00",
          "2013-01-01T00:00:00",
          "2013-01-01T00:00:00",
          "2013-01-01T00:00:00",
          "2013-01-01T00:00:00",
          "2013-01-01T00:00:00",
          "2013-01-01T00:00:00",
          "2013-01-01T00:00:00",
          "2013-01-01T00:00:00",
          "2013-01-01T00:00:00",
          "2013-01-01T00:00:00",
          "2013-01-01T00:00:00",
          "2013-01-01T00:00:00",
          "2013-01-01T00:00:00",
          "2013-01-01T00:00:00",
          "2013-01-01T00:00:00",
          "2013-01-01T00:00:00",
          "2013-01-01T00:00:00",
          "2013-01-01T00:00:00",
          "2013-01-01T00:00:00",
          "2013-01-01T00:00:00",
          "2013-01-01T00:00:00",
          "2013-01-01T00:00:00",
          "2013-01-01T00:00:00",
          "2013-01-01T00:00:00",
          "2013-01-01T00:00:00",
          "2013-01-01T00:00:00",
          "2014-01-01T00:00:00",
          "2014-01-01T00:00:00",
          "2014-01-01T00:00:00",
          "2014-01-01T00:00:00",
          "2014-01-01T00:00:00",
          "2014-01-01T00:00:00",
          "2014-01-01T00:00:00",
          "2014-01-01T00:00:00",
          "2014-01-01T00:00:00",
          "2014-01-01T00:00:00",
          "2014-01-01T00:00:00",
          "2014-01-01T00:00:00",
          "2014-01-01T00:00:00",
          "2014-01-01T00:00:00",
          "2014-01-01T00:00:00",
          "2014-01-01T00:00:00",
          "2014-01-01T00:00:00",
          "2014-01-01T00:00:00",
          "2014-01-01T00:00:00",
          "2014-01-01T00:00:00",
          "2014-01-01T00:00:00",
          "2014-01-01T00:00:00",
          "2014-01-01T00:00:00",
          "2014-01-01T00:00:00",
          "2014-01-01T00:00:00",
          "2014-01-01T00:00:00",
          "2014-01-01T00:00:00",
          "2014-01-01T00:00:00",
          "2014-01-01T00:00:00",
          "2014-01-01T00:00:00",
          "2014-01-01T00:00:00",
          "2014-01-01T00:00:00",
          "2014-01-01T00:00:00",
          "2014-01-01T00:00:00",
          "2014-01-01T00:00:00",
          "2014-01-01T00:00:00",
          "2014-01-01T00:00:00",
          "2014-01-01T00:00:00",
          "2014-01-01T00:00:00",
          "2014-01-01T00:00:00",
          "2014-01-01T00:00:00",
          "2014-01-01T00:00:00",
          "2014-01-01T00:00:00",
          "2014-01-01T00:00:00",
          "2014-01-01T00:00:00",
          "2014-01-01T00:00:00",
          "2014-01-01T00:00:00",
          "2014-01-01T00:00:00",
          "2014-01-01T00:00:00",
          "2014-01-01T00:00:00",
          "2014-01-01T00:00:00",
          "2014-01-01T00:00:00",
          "2014-01-01T00:00:00",
          "2014-01-01T00:00:00",
          "2014-01-01T00:00:00",
          "2014-01-01T00:00:00",
          "2014-01-01T00:00:00",
          "2014-01-01T00:00:00",
          "2014-01-01T00:00:00",
          "2014-01-01T00:00:00",
          "2014-01-01T00:00:00",
          "2014-01-01T00:00:00",
          "2014-01-01T00:00:00",
          "2014-01-01T00:00:00",
          "2014-01-01T00:00:00",
          "2014-01-01T00:00:00",
          "2014-01-01T00:00:00",
          "2014-01-01T00:00:00",
          "2014-01-01T00:00:00",
          "2014-01-01T00:00:00",
          "2014-01-01T00:00:00",
          "2014-01-01T00:00:00",
          "2014-01-01T00:00:00",
          "2015-01-01T00:00:00",
          "2015-01-01T00:00:00",
          "2015-01-01T00:00:00",
          "2015-01-01T00:00:00",
          "2015-01-01T00:00:00",
          "2015-01-01T00:00:00",
          "2015-01-01T00:00:00",
          "2015-01-01T00:00:00",
          "2015-01-01T00:00:00",
          "2015-01-01T00:00:00",
          "2015-01-01T00:00:00",
          "2015-01-01T00:00:00",
          "2015-01-01T00:00:00",
          "2015-01-01T00:00:00",
          "2015-01-01T00:00:00",
          "2015-01-01T00:00:00",
          "2015-01-01T00:00:00",
          "2015-01-01T00:00:00",
          "2015-01-01T00:00:00",
          "2015-01-01T00:00:00",
          "2015-01-01T00:00:00",
          "2015-01-01T00:00:00",
          "2015-01-01T00:00:00",
          "2015-01-01T00:00:00",
          "2015-01-01T00:00:00",
          "2015-01-01T00:00:00",
          "2015-01-01T00:00:00",
          "2015-01-01T00:00:00",
          "2015-01-01T00:00:00",
          "2015-01-01T00:00:00",
          "2015-01-01T00:00:00",
          "2015-01-01T00:00:00",
          "2015-01-01T00:00:00",
          "2015-01-01T00:00:00",
          "2015-01-01T00:00:00",
          "2015-01-01T00:00:00",
          "2015-01-01T00:00:00",
          "2015-01-01T00:00:00",
          "2015-01-01T00:00:00",
          "2015-01-01T00:00:00",
          "2015-01-01T00:00:00",
          "2015-01-01T00:00:00",
          "2015-01-01T00:00:00",
          "2015-01-01T00:00:00",
          "2015-01-01T00:00:00",
          "2015-01-01T00:00:00",
          "2015-01-01T00:00:00",
          "2015-01-01T00:00:00",
          "2015-01-01T00:00:00",
          "2015-01-01T00:00:00",
          "2015-01-01T00:00:00",
          "2015-01-01T00:00:00",
          "2015-01-01T00:00:00",
          "2015-01-01T00:00:00",
          "2015-01-01T00:00:00",
          "2015-01-01T00:00:00",
          "2015-01-01T00:00:00",
          "2015-01-01T00:00:00",
          "2015-01-01T00:00:00",
          "2015-01-01T00:00:00",
          "2015-01-01T00:00:00",
          "2015-01-01T00:00:00",
          "2015-01-01T00:00:00",
          "2015-01-01T00:00:00",
          "2015-01-01T00:00:00",
          "2015-01-01T00:00:00",
          "2015-01-01T00:00:00",
          "2015-01-01T00:00:00",
          "2015-01-01T00:00:00",
          "2015-01-01T00:00:00",
          "2015-01-01T00:00:00",
          "2015-01-01T00:00:00",
          "2015-01-01T00:00:00",
          "2015-01-01T00:00:00",
          "2015-01-01T00:00:00",
          "2015-01-01T00:00:00",
          "2015-01-01T00:00:00",
          "2016-01-01T00:00:00",
          "2016-01-01T00:00:00",
          "2016-01-01T00:00:00",
          "2016-01-01T00:00:00",
          "2016-01-01T00:00:00",
          "2016-01-01T00:00:00",
          "2016-01-01T00:00:00",
          "2016-01-01T00:00:00",
          "2016-01-01T00:00:00",
          "2016-01-01T00:00:00",
          "2016-01-01T00:00:00",
          "2016-01-01T00:00:00",
          "2016-01-01T00:00:00",
          "2016-01-01T00:00:00",
          "2016-01-01T00:00:00",
          "2016-01-01T00:00:00",
          "2016-01-01T00:00:00",
          "2016-01-01T00:00:00",
          "2016-01-01T00:00:00",
          "2016-01-01T00:00:00",
          "2016-01-01T00:00:00",
          "2016-01-01T00:00:00",
          "2016-01-01T00:00:00",
          "2016-01-01T00:00:00",
          "2016-01-01T00:00:00",
          "2016-01-01T00:00:00",
          "2016-01-01T00:00:00",
          "2016-01-01T00:00:00",
          "2016-01-01T00:00:00",
          "2016-01-01T00:00:00",
          "2016-01-01T00:00:00",
          "2016-01-01T00:00:00",
          "2016-01-01T00:00:00",
          "2016-01-01T00:00:00",
          "2016-01-01T00:00:00",
          "2016-01-01T00:00:00",
          "2016-01-01T00:00:00",
          "2016-01-01T00:00:00",
          "2016-01-01T00:00:00",
          "2016-01-01T00:00:00",
          "2016-01-01T00:00:00",
          "2016-01-01T00:00:00",
          "2016-01-01T00:00:00",
          "2016-01-01T00:00:00",
          "2016-01-01T00:00:00",
          "2016-01-01T00:00:00",
          "2016-01-01T00:00:00",
          "2016-01-01T00:00:00",
          "2016-01-01T00:00:00",
          "2016-01-01T00:00:00",
          "2016-01-01T00:00:00",
          "2016-01-01T00:00:00",
          "2016-01-01T00:00:00",
          "2016-01-01T00:00:00",
          "2016-01-01T00:00:00",
          "2016-01-01T00:00:00",
          "2016-01-01T00:00:00",
          "2016-01-01T00:00:00",
          "2016-01-01T00:00:00",
          "2016-01-01T00:00:00",
          "2016-01-01T00:00:00",
          "2016-01-01T00:00:00",
          "2016-01-01T00:00:00",
          "2016-01-01T00:00:00",
          "2016-01-01T00:00:00",
          "2016-01-01T00:00:00",
          "2016-01-01T00:00:00",
          "2016-01-01T00:00:00",
          "2016-01-01T00:00:00",
          "2016-01-01T00:00:00",
          "2016-01-01T00:00:00",
          "2016-01-01T00:00:00",
          "2016-01-01T00:00:00",
          "2016-01-01T00:00:00",
          "2016-01-01T00:00:00",
          "2016-01-01T00:00:00",
          "2017-01-01T00:00:00",
          "2017-01-01T00:00:00",
          "2017-01-01T00:00:00",
          "2017-01-01T00:00:00",
          "2017-01-01T00:00:00",
          "2017-01-01T00:00:00",
          "2017-01-01T00:00:00",
          "2017-01-01T00:00:00",
          "2017-01-01T00:00:00",
          "2017-01-01T00:00:00",
          "2017-01-01T00:00:00",
          "2017-01-01T00:00:00",
          "2017-01-01T00:00:00",
          "2017-01-01T00:00:00",
          "2017-01-01T00:00:00",
          "2017-01-01T00:00:00",
          "2017-01-01T00:00:00",
          "2017-01-01T00:00:00",
          "2017-01-01T00:00:00",
          "2017-01-01T00:00:00",
          "2017-01-01T00:00:00",
          "2017-01-01T00:00:00",
          "2017-01-01T00:00:00",
          "2017-01-01T00:00:00",
          "2017-01-01T00:00:00",
          "2017-01-01T00:00:00",
          "2017-01-01T00:00:00",
          "2017-01-01T00:00:00",
          "2017-01-01T00:00:00",
          "2017-01-01T00:00:00",
          "2017-01-01T00:00:00",
          "2017-01-01T00:00:00",
          "2017-01-01T00:00:00",
          "2017-01-01T00:00:00",
          "2017-01-01T00:00:00",
          "2017-01-01T00:00:00",
          "2017-01-01T00:00:00",
          "2017-01-01T00:00:00",
          "2017-01-01T00:00:00",
          "2017-01-01T00:00:00",
          "2017-01-01T00:00:00",
          "2017-01-01T00:00:00",
          "2017-01-01T00:00:00",
          "2017-01-01T00:00:00",
          "2017-01-01T00:00:00",
          "2017-01-01T00:00:00",
          "2017-01-01T00:00:00",
          "2017-01-01T00:00:00",
          "2017-01-01T00:00:00",
          "2017-01-01T00:00:00",
          "2017-01-01T00:00:00",
          "2017-01-01T00:00:00",
          "2017-01-01T00:00:00",
          "2017-01-01T00:00:00",
          "2017-01-01T00:00:00",
          "2017-01-01T00:00:00",
          "2017-01-01T00:00:00",
          "2017-01-01T00:00:00",
          "2017-01-01T00:00:00",
          "2017-01-01T00:00:00",
          "2017-01-01T00:00:00",
          "2017-01-01T00:00:00",
          "2017-01-01T00:00:00",
          "2017-01-01T00:00:00",
          "2017-01-01T00:00:00",
          "2017-01-01T00:00:00",
          "2017-01-01T00:00:00",
          "2017-01-01T00:00:00",
          "2017-01-01T00:00:00",
          "2017-01-01T00:00:00",
          "2017-01-01T00:00:00",
          "2018-01-01T00:00:00",
          "2018-01-01T00:00:00",
          "2018-01-01T00:00:00",
          "2018-01-01T00:00:00",
          "2018-01-01T00:00:00",
          "2018-01-01T00:00:00",
          "2018-01-01T00:00:00",
          "2018-01-01T00:00:00",
          "2018-01-01T00:00:00",
          "2018-01-01T00:00:00",
          "2018-01-01T00:00:00",
          "2018-01-01T00:00:00",
          "2018-01-01T00:00:00",
          "2018-01-01T00:00:00",
          "2018-01-01T00:00:00",
          "2018-01-01T00:00:00",
          "2018-01-01T00:00:00",
          "2018-01-01T00:00:00",
          "2018-01-01T00:00:00",
          "2018-01-01T00:00:00",
          "2018-01-01T00:00:00",
          "2018-01-01T00:00:00",
          "2018-01-01T00:00:00",
          "2018-01-01T00:00:00",
          "2018-01-01T00:00:00",
          "2018-01-01T00:00:00",
          "2018-01-01T00:00:00",
          "2018-01-01T00:00:00",
          "2018-01-01T00:00:00",
          "2018-01-01T00:00:00",
          "2018-01-01T00:00:00",
          "2018-01-01T00:00:00",
          "2018-01-01T00:00:00",
          "2018-01-01T00:00:00",
          "2018-01-01T00:00:00",
          "2018-01-01T00:00:00",
          "2018-01-01T00:00:00",
          "2018-01-01T00:00:00",
          "2018-01-01T00:00:00",
          "2018-01-01T00:00:00",
          "2018-01-01T00:00:00",
          "2018-01-01T00:00:00",
          "2018-01-01T00:00:00",
          "2018-01-01T00:00:00",
          "2018-01-01T00:00:00",
          "2018-01-01T00:00:00",
          "2018-01-01T00:00:00",
          "2018-01-01T00:00:00",
          "2018-01-01T00:00:00",
          "2019-01-01T00:00:00",
          "2019-01-01T00:00:00",
          "2019-01-01T00:00:00",
          "2019-01-01T00:00:00",
          "2019-01-01T00:00:00",
          "2019-01-01T00:00:00",
          "2019-01-01T00:00:00",
          "2019-01-01T00:00:00",
          "2019-01-01T00:00:00",
          "2019-01-01T00:00:00",
          "2019-01-01T00:00:00",
          "2019-01-01T00:00:00",
          "2019-01-01T00:00:00",
          "2019-01-01T00:00:00",
          "2019-01-01T00:00:00",
          "2019-01-01T00:00:00",
          "2019-01-01T00:00:00",
          "2019-01-01T00:00:00",
          "2019-01-01T00:00:00",
          "2019-01-01T00:00:00",
          "2019-01-01T00:00:00",
          "2019-01-01T00:00:00",
          "2019-01-01T00:00:00",
          "2019-01-01T00:00:00",
          "2019-01-01T00:00:00",
          "2019-01-01T00:00:00",
          "2019-01-01T00:00:00",
          "2019-01-01T00:00:00",
          "2019-01-01T00:00:00",
          "2019-01-01T00:00:00",
          "2019-01-01T00:00:00",
          "2019-01-01T00:00:00",
          "2019-01-01T00:00:00",
          "2019-01-01T00:00:00",
          "2019-01-01T00:00:00",
          "2019-01-01T00:00:00",
          "2019-01-01T00:00:00",
          "2019-01-01T00:00:00",
          "2019-01-01T00:00:00",
          "2019-01-01T00:00:00",
          "2019-01-01T00:00:00",
          "2019-01-01T00:00:00",
          "2019-01-01T00:00:00",
          "2019-01-01T00:00:00",
          "2019-01-01T00:00:00",
          "2020-01-01T00:00:00",
          "2020-01-01T00:00:00",
          "2020-01-01T00:00:00",
          "2020-01-01T00:00:00",
          "2020-01-01T00:00:00",
          "2020-01-01T00:00:00",
          "2020-01-01T00:00:00",
          "2020-01-01T00:00:00",
          "2020-01-01T00:00:00",
          "2020-01-01T00:00:00",
          "2020-01-01T00:00:00",
          "2020-01-01T00:00:00",
          "2020-01-01T00:00:00",
          "2020-01-01T00:00:00",
          "2020-01-01T00:00:00",
          "2020-01-01T00:00:00",
          "2020-01-01T00:00:00",
          "2020-01-01T00:00:00",
          "2020-01-01T00:00:00",
          "2020-01-01T00:00:00",
          "2020-01-01T00:00:00",
          "2020-01-01T00:00:00",
          "2020-01-01T00:00:00",
          "2020-01-01T00:00:00",
          "2020-01-01T00:00:00",
          "2020-01-01T00:00:00",
          "2020-01-01T00:00:00",
          "2020-01-01T00:00:00",
          "2021-01-01T00:00:00",
          "2021-01-01T00:00:00",
          "2021-01-01T00:00:00",
          "2021-01-01T00:00:00",
          "2021-01-01T00:00:00",
          "2021-01-01T00:00:00",
          "2021-01-01T00:00:00",
          "2021-01-01T00:00:00",
          "2021-01-01T00:00:00",
          "2021-01-01T00:00:00",
          "2021-01-01T00:00:00",
          "2021-01-01T00:00:00",
          "2021-01-01T00:00:00",
          "2021-01-01T00:00:00",
          "2021-01-01T00:00:00",
          "2021-01-01T00:00:00",
          "2021-01-01T00:00:00",
          "2021-01-01T00:00:00",
          "2021-01-01T00:00:00",
          "2021-01-01T00:00:00",
          "2021-01-01T00:00:00",
          "2021-01-01T00:00:00",
          "2021-01-01T00:00:00",
          "2021-01-01T00:00:00",
          "2021-01-01T00:00:00",
          "2021-01-01T00:00:00"
         ],
         "xaxis": "x",
         "y": [
          -0.7993556818181818,
          0.24178473995783045,
          -0.3713444678892708,
          0.6411988680816045,
          0.12664167338072244,
          -0.22989796945904664,
          0.08384273592477924,
          -0.11145740169504897,
          -0.31077577298069836,
          -0.2718060044807011,
          -0.11276762801037034,
          0.34127224722565747,
          0.06666666666666667,
          0.05337840078053821,
          0.1,
          0.006862167181199391,
          -0.3528506201457208,
          -0.3551180549616124,
          0.2770789021775117,
          0.17331779859199253,
          -0.012492890146895074,
          0.6867822247962383,
          0.45941209304497377,
          -0.22177578775621623,
          -0.07436202348844922,
          0.007260273972604285,
          -0.25515250407932727,
          0.06800205208712157,
          0.3217856435679721,
          0.7757251381215478,
          0.24378109452736313,
          0.3325723775092181,
          -0.16229002433301573,
          0.938657621578888,
          -0.6924981689309132,
          0.056203172833430896,
          -0.3022763867376027,
          -0.05162861737900636,
          0.5455768668967402,
          0.016102247377360192,
          0.14730149357703493,
          -0.2054151708308287,
          0.03716147472369228,
          0.02937322114528751,
          0.268551327823807,
          -0.13359273736744662,
          0.05067352884868985,
          0.36363636363636365,
          0.241419528081116,
          0.23636363636363636,
          -0.5506714177592211,
          0.2280772839347813,
          0.19152706969008162,
          0.6411042644476863,
          -0.18078933147080398,
          2.9093071059564526,
          -0.21841279266906985,
          -0.172345126299374,
          0.03978464923982811,
          0.3273664793662504,
          5.1225,
          0.15787384017386555,
          -0.07148775894538464,
          0.9224755666825957,
          -0.08033596867827007,
          -0.16466729929447502,
          -0.02299628613466233,
          0.026695786433705883,
          0,
          0.16595770360991485,
          2.2445080662038195,
          -0.38529462162650363,
          0.12376737190082647,
          -0.14705882352941177,
          0.07913745961343151,
          -0.2716847985397257,
          0.05321246354776123,
          0.10357370992799912,
          -0.34335617840942656,
          0.46754632893011694,
          1.2196453686008957,
          0.5131750706848643,
          -0.11290830935511277,
          2.479095328290741,
          0.6857238229626598,
          1.0125454850305797,
          2.0105658260122286,
          0.02656494199226569,
          0.9590149075223305,
          0.06803060457403466,
          0.21377282761998775,
          0.08588139001526847,
          0.23529411764705468,
          -0.5888322717622081,
          -0.35527068884758917,
          5.682599987673714,
          0.000056046738799436876,
          0.6671082230462813,
          -0.04775678193006296,
          -0.4994373245107565,
          0.06372998930089525,
          -0.11371946912308613,
          0.49448264279863124,
          0.24662855696231545,
          0.139240506329114,
          1.6119914905276072,
          -0.034534410165042946,
          -0.3117042161974132,
          -0.46531165715407663,
          0.23184664999999915,
          -0.07606915996594668,
          0,
          1.0297682326656197,
          -0.4423060676997501,
          1.071442674811833,
          0.08421146804574746,
          -0.060183745874116686,
          0.08546152197149816,
          -0.049433615609924625,
          0.7780358377484544,
          -0.16225678819613348,
          -0.3730305822955849,
          0.9326781806127595,
          0.13711636084795686,
          0.04681944894323746,
          0.023302762001909644,
          -0.14941775300390903,
          -0.10941967635453763,
          1.060179570756515,
          -0.2016584,
          -0.06212323983648627,
          -0.5076106607293787,
          -0.28412885572587115,
          0.029638029959064578,
          -0.039029594082093666,
          0.055343222947722794,
          0.09875099332241431,
          0.4815252905413314,
          0.04893255768642039,
          -0.6160143885644146,
          0.6256520004087778,
          -0.030735801548074274,
          -0.28204642730099666,
          2.7642234750000023,
          2.965677250699293,
          -0.4121243197891956,
          0.6789597820234151,
          -0.010673758910112017,
          0.010162850891688481,
          0.7916525799999999,
          -0.28214305554000085,
          0.9343882449794648,
          0.8790499257520777,
          0.21466915675173526,
          0.20780369061540968,
          -0.10193678045841238,
          -0.1526881720430108,
          0.2695610794927674,
          3.131027798394411,
          0.041769397927191525,
          1.189444359815403,
          1.0778916325667167,
          3.6656486991161574,
          -0.34121425827729146,
          0.5131426804106939,
          -0.09636223941138623,
          -0.10081273329112092,
          -0.03473529913812123,
          -0.1598876851543045,
          0.30573616268455256,
          0.07714399813795528,
          -0.28134060981319636,
          -0.4594885878145779,
          0.1416950920049978,
          2.316766628456081,
          0.12058252397820417,
          0.023644500772306367,
          -0.18559048799048414,
          1.0602292284158203,
          -0.07520978999420111,
          -0.2525966328198355,
          -0.12137777618672194,
          0.28349097641382665,
          0.96089809342807,
          -0.040040959020474845,
          9.856395174667515,
          0.5358211582467876,
          -0.13681763786448112,
          0.3974051041652011,
          -0.022844754918756427,
          0.47058823529411764,
          -0.004581295665847685,
          -0.7992614793792626,
          -0.03503898662755875,
          -0.037852795326273725,
          -0.22108561846211855,
          1.3452493903399028,
          -0.013313627789847895,
          -0.2155442245928517,
          -0.4008285742996022,
          -0.011690980959372889,
          0.03324723303679836,
          1.5544967324733192,
          0.3572051180762558,
          0.4830406964085908,
          2.9642820017746883,
          0.46781616268138165,
          -0.27533669426878093,
          0.17771956779873901,
          -0.33034872301153634,
          0.7545181000149325,
          -0.14045532535092797,
          0.0382887591349363,
          0.46539455015817077,
          0.13867359752544986,
          -0.5936826086956523,
          0.001901558806212662,
          -0.5529180316728938,
          0.10335213209339213,
          0.25428504933904306,
          0.4022353278215212,
          0.35603351491310603,
          0.029419997399933496,
          -0.19267526210071773,
          0.01697845368060739,
          -0.29490481634014704,
          0.07161902054999622,
          0.06615106995661758,
          0.07992037237624046,
          -0.28753029130995905,
          0.6985000080262295,
          -0.5075543872844849,
          -0.5171526830435287,
          -0.030897317911954245,
          0.19440054018176414,
          0.323184243048099,
          0.23080166432489643,
          -0.07923802781777672,
          0.9947380871888526,
          -0.3019760478032866,
          1.9853065160944643,
          -0.34176863618716397,
          0.10341858192488304,
          3.0214507767041154,
          -0.2662063538271318,
          -0.33365534179287765,
          0.6840884957198853,
          0.5676280389994971,
          0.017000695736443295,
          0.2751161835834443,
          -0.1930046851704059,
          -0.023378838760533874,
          0,
          -0.024585059285384524,
          3.0000294240194187,
          2.5373967171622267,
          0.1810469446152811,
          0,
          1.7468165780956548,
          0.35476678728480865,
          0.8554708080880827,
          -0.14994732766949953,
          0.4853688212455005,
          0.8812805185897417,
          -0.332234785687721,
          0.03308660929990058,
          -0.251515345353906,
          0.1980796947192848,
          1.0072976111330998,
          -0.025161013079890805,
          0.20569492885705565,
          0,
          -0.2694111866552063,
          -0.19992108470774736,
          8.078174117647059,
          -0.23674393546424985,
          0.11333527130006316,
          0.004834877338450755,
          -0.11763712045415964,
          -0.12067023475495363,
          -0.3350919055155197,
          -0.08177054336080375,
          0.3618904690058104,
          0.011143837051000905,
          1.7598451888641653,
          -0.037212364825191344,
          -0.0213539783323339,
          -0.1061679931080445,
          0.02827605122870858,
          0.02857919748425474,
          0.38256868430199864,
          0.9697252297640463,
          -0.12474362918275728,
          1.0998314319315872,
          -0.0007584721337328127,
          0.3056593103448276,
          0.7542099446434101,
          0.3448414927643313,
          0.008532059601358796,
          1.0690235507032089,
          0.09529398601476413,
          0.05948808802250336,
          -0.09828956126555109,
          -0.1247100900877242,
          -0.08605701604941497,
          0.13460437583390933,
          1.9807944587290762,
          -0.525029512998117,
          0.36331550062434004,
          0.35708888716676984,
          -0.022427816612970625,
          -0.05134588868103105,
          -0.20787708922991277,
          0.02399428290196643,
          0.29289628228124925,
          0.18840960830628206,
          -0.14723074018158025,
          -0.059693836202073726,
          1.0938087755402937,
          -0.13570057624246715,
          0.04089319753404819,
          -0.031976057282063396,
          1.09375,
          -0.5205519061475657,
          -0.02134980281828358,
          -0.2709154353583454,
          0.2134168183383483,
          0.8095238095238121,
          -0.4607691135963544,
          -0.6056583448116613,
          1.3739750745914083,
          -0.444725674397909,
          -0.39690009780185337,
          -0.042747127625190944,
          4.750202327519555,
          0.5586536952791699,
          0.04584014577555968,
          -0.09862263148156655,
          -0.06753405797722546,
          0.15927028472536425,
          -0.45162094505337286,
          -0.010529909096308607,
          -0.0353279080963305,
          0,
          -0.3687589814327755,
          0.4014756878874908,
          0.6672996280893927,
          -0.31017629137116576,
          -0.11423537328233459,
          -0.11140968564974192,
          -0.11088461595549391,
          -0.2739675965660094,
          -0.6274616606818756,
          0.6839708234805775,
          -0.03256129038657959,
          0.022574549540259045,
          -0.02982831357201739,
          0.9251446627530883,
          0.2736668913644793,
          0.08174743636993197,
          0.07065624999999999,
          3.465795166872266,
          -0.16659621608716968,
          -0.4930414452540553,
          -0.23280526218870518,
          0.6409795494738355,
          -0.05936164555635071,
          0.2575853638527081,
          0.2290595330715135,
          0.8801833099611163,
          1.127558479576451,
          0.04217396310808228,
          0.6900943069448585,
          0.6530640617611089,
          -0.19502070006743075,
          -0.0345803246605333,
          1.4282495544922724,
          0.15845448765234374,
          0.15579460323586794,
          -0.08302943720754083,
          -0.238145473795264,
          -0.25560573171176243,
          0.5051907579653757,
          0.07201856891655198,
          0.4004906750929716,
          0.9978749715586579,
          0.37351135463427504,
          0.0011867467582177228,
          0.07840394018344707,
          0.00876920013037851,
          -0.5677033329251379,
          -0.22398130790049098,
          0.22061072078115962,
          -0.4385915666921314,
          0.08358008744249204,
          0.4952615074468402,
          0.029617998213173777,
          0.3267967716150491,
          -0.46784789235900825,
          0.011739973997089053,
          -0.18438844735401416,
          0.4,
          0.14523241682429147,
          -0.00678298133025014,
          0.1758808804303544,
          -0.7557748917748918,
          1.3940542536209561,
          -0.02080795249632199,
          -0.13638487687688003,
          0.9846856959253942,
          0.11174904820892592,
          0.05693816393593095,
          -0.044656045292547936,
          -0.4164582272510002,
          -0.018873128918147044,
          0.0020383819441764832,
          0.8151853311664758,
          0.02305785995436224,
          -0.43518799035829814,
          0.28786847487262235,
          -0.3604965133358278,
          0,
          -0.07917467773387732,
          0.13245204199555013,
          0.5967277369007314,
          0.4714076516016305,
          -0.3493063934023806,
          -0.7735879864636209,
          0.966613632009732,
          -0.7336815304624515,
          0.935480299509208,
          0.22957833590160864,
          0.2287711769581633,
          0.2903774976370114,
          -0.061912981418703966,
          -0.1614808132683098,
          -0.10839187575996868,
          -0.08378235978434448,
          -0.4278505476842321,
          0.9583336383101385,
          0.41953496,
          0.0028094958552700934,
          -0.01529985724130025,
          -0.5818084940021089,
          0.1291085123966957,
          -0.3196036486574352,
          -0.16449840966832943,
          0.11929249214855525,
          0.09333474752997238,
          0.06005282072052445,
          0.4270291941847882,
          -0.2709411072619126,
          -0.2481243812830601,
          -0.07225623244206833,
          0.2901438671911199,
          -0.09054754926339915,
          -0.4020989533455129,
          0.2939766237187711,
          -0.38060477449457114,
          -0.35622052552259464,
          -0.3557045914268385,
          0.0671803371739526,
          0.00382672158004905,
          0.24973408891051826,
          0.33050711349198486,
          0.1561845127383685,
          0.09999999637175684,
          -0.3523249781617613,
          -0.3331399658307715,
          -0.3724801315556009,
          0.22650058800470396,
          0.14822205750993026,
          -0.21843015884374575,
          -0.1802724312893578,
          0.19567582756961,
          1.0201339109214613,
          0.056139799460074274,
          0.23682340387731257,
          0.026339819446950002,
          0.0758360017121609,
          2.637348875,
          0.7898174225502574,
          0.06833144829860398,
          -0.6184861680079922,
          0.4982930808761845,
          2.02646417773677,
          -0.04674342164673311,
          0.08284079897592235,
          -0.01086939416505476,
          0.0903014205871272,
          0.9318501763877197,
          -0.27956732821540314,
          -0.2184877326124875,
          0,
          0.6809804485088997,
          -0.28288779809701237,
          -0.16938968876605148,
          -0.3469576250420594,
          0.715370182708419,
          -0.09542670737130027,
          -0.10854820514191371,
          0.5843151214793217,
          1.889933735737459,
          0.6339300716955448,
          0.15843440065711012,
          -0.0028264220435905577,
          0.1913814937787609,
          1.8332841752286473,
          0.12013453745750169,
          0.4455343482252144,
          0.8728078932049237,
          -0.07621843173412798,
          -0.33287501611697956,
          1.3463844766681963,
          0.6414300652809997,
          0.02154584530323213,
          -0.2117170541541295,
          0.1887909995404075,
          0.15500495053403185,
          0.05717276549560361,
          -0.22487601956413875,
          0.06285601240029681,
          -0.20942427685990234,
          0.21592052913002707,
          0.09407730706649117,
          0.3798747565531111,
          0.22651474661210183,
          -0.0386720175118571,
          1.3775286161772882,
          -0.19821507723954512,
          -0.44019973716640803,
          0.09336755299754235,
          0.16838467401719595,
          0.6771456796219464,
          0.2303516292364565,
          -0.2636338553334141,
          -0.25245597322711366,
          0.949194123173375,
          0.009174556631833424,
          0.17305673944698305,
          0.02000000610204531,
          1.0927694608623557,
          0.6782718680571586,
          0.0019167074437092422,
          0.5532474841101694,
          -0.15151307397974723,
          0.43971412419191874,
          0.13342220857887202,
          0.0991649949933521,
          0.05315565182637005,
          0.3142857142857143,
          -0.05790043871853431,
          -0.18263281804458104,
          0.005494716999397535,
          0.19280303030303023,
          -0.2546665598581054,
          1.3802631578947364,
          -0.09541637840990805,
          0.47372685456631447,
          0.4370022659913453,
          -0.2505748622475619,
          -0.04903550912544607,
          0.23368991767533945,
          0.06459825027617572,
          0.17762694292641962,
          0.3252811485320412,
          0.3097352824326879,
          -0.22972891022623593,
          -0.21899475331611037,
          0.25250891239409917,
          -0.29486300422963996,
          -0.3266335694768488,
          -0.30454682933794924,
          -0.24839047009693643,
          0.3193759958147861,
          -0.34903822869837126,
          0.15257870870083423,
          3.0853049834931614,
          -0.18807754697721765,
          -0.16189661516142245,
          -0.4525812382739212,
          -0.053780814072996105,
          -0.635058263054175,
          0.10834078218358811,
          -0.30081345871319687,
          -0.23183630476190248,
          0.4302878175272258,
          0.030054909057168275,
          0.06907154091359356,
          -0.027989706958316624,
          -0.10430239977284612,
          -0.3843698299360181,
          -0.18837735021698643,
          0.062328541473893814,
          -0.5290238979900668,
          -0.21246907020872863,
          -0.4269922673430689,
          0.10727880053801386,
          0.5391039998001298,
          -0.17817907608293865,
          0.464807230961731,
          7.113677001050181,
          0.020000003233728258,
          -0.023115427248312517,
          -0.4654549113393984,
          -0.38555282633660837,
          0.2898921989061911,
          0.3821855271800235,
          0.05884971220725285,
          -0.04939081108323363,
          -0.0865069118834362,
          0.1659256906954589,
          0.1996350753542776,
          -0.15504830206380713,
          -0.5137045047798839,
          0.3333565326340144,
          0.1257823326179933,
          -0.15019002522577818,
          -0.6854644817159166,
          -0.20877217676010315,
          0.1866384471140437,
          1.8530047243569543,
          -0.57831672493764,
          -0.23086239663296626,
          0.1024366369875213,
          0.34679054766696515,
          0.6291562016147207,
          -0.6755892935308068,
          0,
          -0.000042992561352758606,
          -0.2909842493485923,
          0.15214232755383905,
          0.04472109740383457,
          0.5541898362221683,
          1.1189516512549538,
          -0.03930190260361284,
          0.19602168087941751,
          0.9646344886666666,
          -0.11534085347932135,
          -0.07312576188537225,
          0.007744891576658994,
          1.5066125401953294,
          0.04051194297187079,
          0.09341259910883844,
          0.17399178855614036,
          -0.0474732224258093,
          0.2235043149525408,
          0.762725392458487,
          0.007672481203223696,
          0.14921657543569644,
          -0.34292904688909986,
          0.9507866608264277,
          -0.15449527892113596,
          0.17825027970329888,
          -0.12581704811138775,
          -0.20997986517772016,
          1.0638342865997525,
          0.2496028942412363,
          0.3105040122335067,
          0.25336034272460123,
          0.18660509962915742,
          -0.14482588125704077,
          0.43641262342663206,
          0.3109478609872858,
          0.11677436548057425,
          -0.1400488612748954,
          -0.2390593986916569,
          0.6461064701683095,
          -0.33384119860433564,
          -0.021962082260666985,
          -0.08031478703088758,
          -0.005146532922921106,
          1.009082819397173,
          0,
          -0.12305647879627221,
          0.26482199346950935,
          0.08124574023923492,
          1.5306880712370856,
          -0.33034193487383456,
          0.13034216482492345,
          -0.3814966525292094,
          -0.2213719399724369,
          0.051341186998667354,
          -0.4418107514521511,
          -0.01801615562119219,
          -0.04271594042899872,
          -0.36497673941050685,
          0.33499959047142386,
          -0.28944323599109845,
          -0.23443008581696503,
          1.6268933601207431,
          -0.00535931756105614,
          -0.16552189649279092,
          0.12230038513562352,
          1.235912980119617,
          0.34130984890263905,
          0.2003785146125184,
          -0.046288670600181284,
          -0.36197842543648534,
          -0.5578347779639354,
          0.3085000723368866,
          -0.365594938938989,
          0.41501971465411475,
          -0.27158842267241423,
          1.0443699178122234,
          -0.38963756148427614,
          0.31471889605237413,
          -0.18534169519835175,
          -0.2405560052290684,
          -0.3683619496805131,
          -1.0651167941423673e-8,
          -0.004557083436201161,
          -0.26801171642594523,
          -0.14000024994906551,
          0.36361675471690086,
          0.11002185872402122,
          0.5702246311036436,
          0.023922731312934545,
          0.04606486435979008,
          0.061299340746494485,
          0.049800000003267286,
          0.6443337788814036,
          0.0029226012968938016,
          0.16737686157103665,
          0.3369728906733576,
          -0.27756262179494245,
          -0.24498074782138074,
          0.10581468273279958,
          -0.6629424614833686,
          0.0320118290194673,
          -0.4286110847195774,
          0.9597439168997073,
          0.24085027601494352,
          2.6216968412141552,
          -0.2559302322022379,
          0.26362271398023723
         ],
         "yaxis": "y"
        }
       ],
       "layout": {
        "barmode": "relative",
        "legend": {
         "tracegroupgap": 0
        },
        "margin": {
         "t": 60
        },
        "template": {
         "data": {
          "bar": [
           {
            "error_x": {
             "color": "#2a3f5f"
            },
            "error_y": {
             "color": "#2a3f5f"
            },
            "marker": {
             "line": {
              "color": "#E5ECF6",
              "width": 0.5
             },
             "pattern": {
              "fillmode": "overlay",
              "size": 10,
              "solidity": 0.2
             }
            },
            "type": "bar"
           }
          ],
          "barpolar": [
           {
            "marker": {
             "line": {
              "color": "#E5ECF6",
              "width": 0.5
             },
             "pattern": {
              "fillmode": "overlay",
              "size": 10,
              "solidity": 0.2
             }
            },
            "type": "barpolar"
           }
          ],
          "carpet": [
           {
            "aaxis": {
             "endlinecolor": "#2a3f5f",
             "gridcolor": "white",
             "linecolor": "white",
             "minorgridcolor": "white",
             "startlinecolor": "#2a3f5f"
            },
            "baxis": {
             "endlinecolor": "#2a3f5f",
             "gridcolor": "white",
             "linecolor": "white",
             "minorgridcolor": "white",
             "startlinecolor": "#2a3f5f"
            },
            "type": "carpet"
           }
          ],
          "choropleth": [
           {
            "colorbar": {
             "outlinewidth": 0,
             "ticks": ""
            },
            "type": "choropleth"
           }
          ],
          "contour": [
           {
            "colorbar": {
             "outlinewidth": 0,
             "ticks": ""
            },
            "colorscale": [
             [
              0,
              "#0d0887"
             ],
             [
              0.1111111111111111,
              "#46039f"
             ],
             [
              0.2222222222222222,
              "#7201a8"
             ],
             [
              0.3333333333333333,
              "#9c179e"
             ],
             [
              0.4444444444444444,
              "#bd3786"
             ],
             [
              0.5555555555555556,
              "#d8576b"
             ],
             [
              0.6666666666666666,
              "#ed7953"
             ],
             [
              0.7777777777777778,
              "#fb9f3a"
             ],
             [
              0.8888888888888888,
              "#fdca26"
             ],
             [
              1,
              "#f0f921"
             ]
            ],
            "type": "contour"
           }
          ],
          "contourcarpet": [
           {
            "colorbar": {
             "outlinewidth": 0,
             "ticks": ""
            },
            "type": "contourcarpet"
           }
          ],
          "heatmap": [
           {
            "colorbar": {
             "outlinewidth": 0,
             "ticks": ""
            },
            "colorscale": [
             [
              0,
              "#0d0887"
             ],
             [
              0.1111111111111111,
              "#46039f"
             ],
             [
              0.2222222222222222,
              "#7201a8"
             ],
             [
              0.3333333333333333,
              "#9c179e"
             ],
             [
              0.4444444444444444,
              "#bd3786"
             ],
             [
              0.5555555555555556,
              "#d8576b"
             ],
             [
              0.6666666666666666,
              "#ed7953"
             ],
             [
              0.7777777777777778,
              "#fb9f3a"
             ],
             [
              0.8888888888888888,
              "#fdca26"
             ],
             [
              1,
              "#f0f921"
             ]
            ],
            "type": "heatmap"
           }
          ],
          "heatmapgl": [
           {
            "colorbar": {
             "outlinewidth": 0,
             "ticks": ""
            },
            "colorscale": [
             [
              0,
              "#0d0887"
             ],
             [
              0.1111111111111111,
              "#46039f"
             ],
             [
              0.2222222222222222,
              "#7201a8"
             ],
             [
              0.3333333333333333,
              "#9c179e"
             ],
             [
              0.4444444444444444,
              "#bd3786"
             ],
             [
              0.5555555555555556,
              "#d8576b"
             ],
             [
              0.6666666666666666,
              "#ed7953"
             ],
             [
              0.7777777777777778,
              "#fb9f3a"
             ],
             [
              0.8888888888888888,
              "#fdca26"
             ],
             [
              1,
              "#f0f921"
             ]
            ],
            "type": "heatmapgl"
           }
          ],
          "histogram": [
           {
            "marker": {
             "pattern": {
              "fillmode": "overlay",
              "size": 10,
              "solidity": 0.2
             }
            },
            "type": "histogram"
           }
          ],
          "histogram2d": [
           {
            "colorbar": {
             "outlinewidth": 0,
             "ticks": ""
            },
            "colorscale": [
             [
              0,
              "#0d0887"
             ],
             [
              0.1111111111111111,
              "#46039f"
             ],
             [
              0.2222222222222222,
              "#7201a8"
             ],
             [
              0.3333333333333333,
              "#9c179e"
             ],
             [
              0.4444444444444444,
              "#bd3786"
             ],
             [
              0.5555555555555556,
              "#d8576b"
             ],
             [
              0.6666666666666666,
              "#ed7953"
             ],
             [
              0.7777777777777778,
              "#fb9f3a"
             ],
             [
              0.8888888888888888,
              "#fdca26"
             ],
             [
              1,
              "#f0f921"
             ]
            ],
            "type": "histogram2d"
           }
          ],
          "histogram2dcontour": [
           {
            "colorbar": {
             "outlinewidth": 0,
             "ticks": ""
            },
            "colorscale": [
             [
              0,
              "#0d0887"
             ],
             [
              0.1111111111111111,
              "#46039f"
             ],
             [
              0.2222222222222222,
              "#7201a8"
             ],
             [
              0.3333333333333333,
              "#9c179e"
             ],
             [
              0.4444444444444444,
              "#bd3786"
             ],
             [
              0.5555555555555556,
              "#d8576b"
             ],
             [
              0.6666666666666666,
              "#ed7953"
             ],
             [
              0.7777777777777778,
              "#fb9f3a"
             ],
             [
              0.8888888888888888,
              "#fdca26"
             ],
             [
              1,
              "#f0f921"
             ]
            ],
            "type": "histogram2dcontour"
           }
          ],
          "mesh3d": [
           {
            "colorbar": {
             "outlinewidth": 0,
             "ticks": ""
            },
            "type": "mesh3d"
           }
          ],
          "parcoords": [
           {
            "line": {
             "colorbar": {
              "outlinewidth": 0,
              "ticks": ""
             }
            },
            "type": "parcoords"
           }
          ],
          "pie": [
           {
            "automargin": true,
            "type": "pie"
           }
          ],
          "scatter": [
           {
            "fillpattern": {
             "fillmode": "overlay",
             "size": 10,
             "solidity": 0.2
            },
            "type": "scatter"
           }
          ],
          "scatter3d": [
           {
            "line": {
             "colorbar": {
              "outlinewidth": 0,
              "ticks": ""
             }
            },
            "marker": {
             "colorbar": {
              "outlinewidth": 0,
              "ticks": ""
             }
            },
            "type": "scatter3d"
           }
          ],
          "scattercarpet": [
           {
            "marker": {
             "colorbar": {
              "outlinewidth": 0,
              "ticks": ""
             }
            },
            "type": "scattercarpet"
           }
          ],
          "scattergeo": [
           {
            "marker": {
             "colorbar": {
              "outlinewidth": 0,
              "ticks": ""
             }
            },
            "type": "scattergeo"
           }
          ],
          "scattergl": [
           {
            "marker": {
             "colorbar": {
              "outlinewidth": 0,
              "ticks": ""
             }
            },
            "type": "scattergl"
           }
          ],
          "scattermapbox": [
           {
            "marker": {
             "colorbar": {
              "outlinewidth": 0,
              "ticks": ""
             }
            },
            "type": "scattermapbox"
           }
          ],
          "scatterpolar": [
           {
            "marker": {
             "colorbar": {
              "outlinewidth": 0,
              "ticks": ""
             }
            },
            "type": "scatterpolar"
           }
          ],
          "scatterpolargl": [
           {
            "marker": {
             "colorbar": {
              "outlinewidth": 0,
              "ticks": ""
             }
            },
            "type": "scatterpolargl"
           }
          ],
          "scatterternary": [
           {
            "marker": {
             "colorbar": {
              "outlinewidth": 0,
              "ticks": ""
             }
            },
            "type": "scatterternary"
           }
          ],
          "surface": [
           {
            "colorbar": {
             "outlinewidth": 0,
             "ticks": ""
            },
            "colorscale": [
             [
              0,
              "#0d0887"
             ],
             [
              0.1111111111111111,
              "#46039f"
             ],
             [
              0.2222222222222222,
              "#7201a8"
             ],
             [
              0.3333333333333333,
              "#9c179e"
             ],
             [
              0.4444444444444444,
              "#bd3786"
             ],
             [
              0.5555555555555556,
              "#d8576b"
             ],
             [
              0.6666666666666666,
              "#ed7953"
             ],
             [
              0.7777777777777778,
              "#fb9f3a"
             ],
             [
              0.8888888888888888,
              "#fdca26"
             ],
             [
              1,
              "#f0f921"
             ]
            ],
            "type": "surface"
           }
          ],
          "table": [
           {
            "cells": {
             "fill": {
              "color": "#EBF0F8"
             },
             "line": {
              "color": "white"
             }
            },
            "header": {
             "fill": {
              "color": "#C8D4E3"
             },
             "line": {
              "color": "white"
             }
            },
            "type": "table"
           }
          ]
         },
         "layout": {
          "annotationdefaults": {
           "arrowcolor": "#2a3f5f",
           "arrowhead": 0,
           "arrowwidth": 1
          },
          "autotypenumbers": "strict",
          "coloraxis": {
           "colorbar": {
            "outlinewidth": 0,
            "ticks": ""
           }
          },
          "colorscale": {
           "diverging": [
            [
             0,
             "#8e0152"
            ],
            [
             0.1,
             "#c51b7d"
            ],
            [
             0.2,
             "#de77ae"
            ],
            [
             0.3,
             "#f1b6da"
            ],
            [
             0.4,
             "#fde0ef"
            ],
            [
             0.5,
             "#f7f7f7"
            ],
            [
             0.6,
             "#e6f5d0"
            ],
            [
             0.7,
             "#b8e186"
            ],
            [
             0.8,
             "#7fbc41"
            ],
            [
             0.9,
             "#4d9221"
            ],
            [
             1,
             "#276419"
            ]
           ],
           "sequential": [
            [
             0,
             "#0d0887"
            ],
            [
             0.1111111111111111,
             "#46039f"
            ],
            [
             0.2222222222222222,
             "#7201a8"
            ],
            [
             0.3333333333333333,
             "#9c179e"
            ],
            [
             0.4444444444444444,
             "#bd3786"
            ],
            [
             0.5555555555555556,
             "#d8576b"
            ],
            [
             0.6666666666666666,
             "#ed7953"
            ],
            [
             0.7777777777777778,
             "#fb9f3a"
            ],
            [
             0.8888888888888888,
             "#fdca26"
            ],
            [
             1,
             "#f0f921"
            ]
           ],
           "sequentialminus": [
            [
             0,
             "#0d0887"
            ],
            [
             0.1111111111111111,
             "#46039f"
            ],
            [
             0.2222222222222222,
             "#7201a8"
            ],
            [
             0.3333333333333333,
             "#9c179e"
            ],
            [
             0.4444444444444444,
             "#bd3786"
            ],
            [
             0.5555555555555556,
             "#d8576b"
            ],
            [
             0.6666666666666666,
             "#ed7953"
            ],
            [
             0.7777777777777778,
             "#fb9f3a"
            ],
            [
             0.8888888888888888,
             "#fdca26"
            ],
            [
             1,
             "#f0f921"
            ]
           ]
          },
          "colorway": [
           "#636efa",
           "#EF553B",
           "#00cc96",
           "#ab63fa",
           "#FFA15A",
           "#19d3f3",
           "#FF6692",
           "#B6E880",
           "#FF97FF",
           "#FECB52"
          ],
          "font": {
           "color": "#2a3f5f"
          },
          "geo": {
           "bgcolor": "white",
           "lakecolor": "white",
           "landcolor": "#E5ECF6",
           "showlakes": true,
           "showland": true,
           "subunitcolor": "white"
          },
          "hoverlabel": {
           "align": "left"
          },
          "hovermode": "closest",
          "mapbox": {
           "style": "light"
          },
          "paper_bgcolor": "white",
          "plot_bgcolor": "#E5ECF6",
          "polar": {
           "angularaxis": {
            "gridcolor": "white",
            "linecolor": "white",
            "ticks": ""
           },
           "bgcolor": "#E5ECF6",
           "radialaxis": {
            "gridcolor": "white",
            "linecolor": "white",
            "ticks": ""
           }
          },
          "scene": {
           "xaxis": {
            "backgroundcolor": "#E5ECF6",
            "gridcolor": "white",
            "gridwidth": 2,
            "linecolor": "white",
            "showbackground": true,
            "ticks": "",
            "zerolinecolor": "white"
           },
           "yaxis": {
            "backgroundcolor": "#E5ECF6",
            "gridcolor": "white",
            "gridwidth": 2,
            "linecolor": "white",
            "showbackground": true,
            "ticks": "",
            "zerolinecolor": "white"
           },
           "zaxis": {
            "backgroundcolor": "#E5ECF6",
            "gridcolor": "white",
            "gridwidth": 2,
            "linecolor": "white",
            "showbackground": true,
            "ticks": "",
            "zerolinecolor": "white"
           }
          },
          "shapedefaults": {
           "line": {
            "color": "#2a3f5f"
           }
          },
          "ternary": {
           "aaxis": {
            "gridcolor": "white",
            "linecolor": "white",
            "ticks": ""
           },
           "baxis": {
            "gridcolor": "white",
            "linecolor": "white",
            "ticks": ""
           },
           "bgcolor": "#E5ECF6",
           "caxis": {
            "gridcolor": "white",
            "linecolor": "white",
            "ticks": ""
           }
          },
          "title": {
           "x": 0.05
          },
          "xaxis": {
           "automargin": true,
           "gridcolor": "white",
           "linecolor": "white",
           "ticks": "",
           "title": {
            "standoff": 15
           },
           "zerolinecolor": "white",
           "zerolinewidth": 2
          },
          "yaxis": {
           "automargin": true,
           "gridcolor": "white",
           "linecolor": "white",
           "ticks": "",
           "title": {
            "standoff": 15
           },
           "zerolinecolor": "white",
           "zerolinewidth": 2
          }
         }
        },
        "xaxis": {
         "anchor": "y",
         "domain": [
          0,
          1
         ],
         "title": {
          "text": "Year"
         }
        },
        "yaxis": {
         "anchor": "x",
         "domain": [
          0,
          1
         ],
         "title": {
          "text": "avg of total_immunization in USD_prev_1_year_pct_change"
         }
        }
       }
      },
      "text/html": [
       "<div>                            <div id=\"654db654-f7a8-419e-be99-7055b47ed517\" class=\"plotly-graph-div\" style=\"height:525px; width:100%;\"></div>            <script type=\"text/javascript\">                require([\"plotly\"], function(Plotly) {                    window.PLOTLYENV=window.PLOTLYENV || {};                                    if (document.getElementById(\"654db654-f7a8-419e-be99-7055b47ed517\")) {                    Plotly.newPlot(                        \"654db654-f7a8-419e-be99-7055b47ed517\",                        [{\"alignmentgroup\":\"True\",\"bingroup\":\"x\",\"histfunc\":\"avg\",\"hovertemplate\":\"Year=%{x}<br>avg of total_immunization in USD_prev_1_year_pct_change=%{y}<extra></extra>\",\"legendgroup\":\"\",\"marker\":{\"color\":\"#636efa\",\"pattern\":{\"shape\":\"\"}},\"name\":\"\",\"offsetgroup\":\"\",\"orientation\":\"v\",\"showlegend\":false,\"x\":[\"2008-01-01T00:00:00\",\"2008-01-01T00:00:00\",\"2008-01-01T00:00:00\",\"2008-01-01T00:00:00\",\"2008-01-01T00:00:00\",\"2008-01-01T00:00:00\",\"2008-01-01T00:00:00\",\"2008-01-01T00:00:00\",\"2008-01-01T00:00:00\",\"2008-01-01T00:00:00\",\"2008-01-01T00:00:00\",\"2008-01-01T00:00:00\",\"2008-01-01T00:00:00\",\"2008-01-01T00:00:00\",\"2008-01-01T00:00:00\",\"2008-01-01T00:00:00\",\"2008-01-01T00:00:00\",\"2008-01-01T00:00:00\",\"2008-01-01T00:00:00\",\"2008-01-01T00:00:00\",\"2008-01-01T00:00:00\",\"2008-01-01T00:00:00\",\"2008-01-01T00:00:00\",\"2008-01-01T00:00:00\",\"2008-01-01T00:00:00\",\"2008-01-01T00:00:00\",\"2008-01-01T00:00:00\",\"2008-01-01T00:00:00\",\"2009-01-01T00:00:00\",\"2009-01-01T00:00:00\",\"2009-01-01T00:00:00\",\"2009-01-01T00:00:00\",\"2009-01-01T00:00:00\",\"2009-01-01T00:00:00\",\"2009-01-01T00:00:00\",\"2009-01-01T00:00:00\",\"2009-01-01T00:00:00\",\"2009-01-01T00:00:00\",\"2009-01-01T00:00:00\",\"2009-01-01T00:00:00\",\"2009-01-01T00:00:00\",\"2009-01-01T00:00:00\",\"2009-01-01T00:00:00\",\"2009-01-01T00:00:00\",\"2009-01-01T00:00:00\",\"2009-01-01T00:00:00\",\"2009-01-01T00:00:00\",\"2009-01-01T00:00:00\",\"2009-01-01T00:00:00\",\"2009-01-01T00:00:00\",\"2009-01-01T00:00:00\",\"2009-01-01T00:00:00\",\"2009-01-01T00:00:00\",\"2009-01-01T00:00:00\",\"2009-01-01T00:00:00\",\"2009-01-01T00:00:00\",\"2009-01-01T00:00:00\",\"2009-01-01T00:00:00\",\"2009-01-01T00:00:00\",\"2009-01-01T00:00:00\",\"2009-01-01T00:00:00\",\"2009-01-01T00:00:00\",\"2009-01-01T00:00:00\",\"2009-01-01T00:00:00\",\"2009-01-01T00:00:00\",\"2009-01-01T00:00:00\",\"2009-01-01T00:00:00\",\"2009-01-01T00:00:00\",\"2009-01-01T00:00:00\",\"2009-01-01T00:00:00\",\"2010-01-01T00:00:00\",\"2010-01-01T00:00:00\",\"2010-01-01T00:00:00\",\"2010-01-01T00:00:00\",\"2010-01-01T00:00:00\",\"2010-01-01T00:00:00\",\"2010-01-01T00:00:00\",\"2010-01-01T00:00:00\",\"2010-01-01T00:00:00\",\"2010-01-01T00:00:00\",\"2010-01-01T00:00:00\",\"2010-01-01T00:00:00\",\"2010-01-01T00:00:00\",\"2010-01-01T00:00:00\",\"2010-01-01T00:00:00\",\"2010-01-01T00:00:00\",\"2010-01-01T00:00:00\",\"2010-01-01T00:00:00\",\"2010-01-01T00:00:00\",\"2010-01-01T00:00:00\",\"2010-01-01T00:00:00\",\"2010-01-01T00:00:00\",\"2010-01-01T00:00:00\",\"2010-01-01T00:00:00\",\"2010-01-01T00:00:00\",\"2010-01-01T00:00:00\",\"2010-01-01T00:00:00\",\"2010-01-01T00:00:00\",\"2010-01-01T00:00:00\",\"2010-01-01T00:00:00\",\"2010-01-01T00:00:00\",\"2010-01-01T00:00:00\",\"2010-01-01T00:00:00\",\"2010-01-01T00:00:00\",\"2010-01-01T00:00:00\",\"2010-01-01T00:00:00\",\"2010-01-01T00:00:00\",\"2010-01-01T00:00:00\",\"2010-01-01T00:00:00\",\"2010-01-01T00:00:00\",\"2010-01-01T00:00:00\",\"2010-01-01T00:00:00\",\"2010-01-01T00:00:00\",\"2010-01-01T00:00:00\",\"2010-01-01T00:00:00\",\"2010-01-01T00:00:00\",\"2011-01-01T00:00:00\",\"2011-01-01T00:00:00\",\"2011-01-01T00:00:00\",\"2011-01-01T00:00:00\",\"2011-01-01T00:00:00\",\"2011-01-01T00:00:00\",\"2011-01-01T00:00:00\",\"2011-01-01T00:00:00\",\"2011-01-01T00:00:00\",\"2011-01-01T00:00:00\",\"2011-01-01T00:00:00\",\"2011-01-01T00:00:00\",\"2011-01-01T00:00:00\",\"2011-01-01T00:00:00\",\"2011-01-01T00:00:00\",\"2011-01-01T00:00:00\",\"2011-01-01T00:00:00\",\"2011-01-01T00:00:00\",\"2011-01-01T00:00:00\",\"2011-01-01T00:00:00\",\"2011-01-01T00:00:00\",\"2011-01-01T00:00:00\",\"2011-01-01T00:00:00\",\"2011-01-01T00:00:00\",\"2011-01-01T00:00:00\",\"2011-01-01T00:00:00\",\"2011-01-01T00:00:00\",\"2011-01-01T00:00:00\",\"2011-01-01T00:00:00\",\"2011-01-01T00:00:00\",\"2011-01-01T00:00:00\",\"2011-01-01T00:00:00\",\"2011-01-01T00:00:00\",\"2011-01-01T00:00:00\",\"2011-01-01T00:00:00\",\"2011-01-01T00:00:00\",\"2011-01-01T00:00:00\",\"2011-01-01T00:00:00\",\"2011-01-01T00:00:00\",\"2011-01-01T00:00:00\",\"2011-01-01T00:00:00\",\"2011-01-01T00:00:00\",\"2011-01-01T00:00:00\",\"2011-01-01T00:00:00\",\"2011-01-01T00:00:00\",\"2011-01-01T00:00:00\",\"2011-01-01T00:00:00\",\"2011-01-01T00:00:00\",\"2011-01-01T00:00:00\",\"2012-01-01T00:00:00\",\"2012-01-01T00:00:00\",\"2012-01-01T00:00:00\",\"2012-01-01T00:00:00\",\"2012-01-01T00:00:00\",\"2012-01-01T00:00:00\",\"2012-01-01T00:00:00\",\"2012-01-01T00:00:00\",\"2012-01-01T00:00:00\",\"2012-01-01T00:00:00\",\"2012-01-01T00:00:00\",\"2012-01-01T00:00:00\",\"2012-01-01T00:00:00\",\"2012-01-01T00:00:00\",\"2012-01-01T00:00:00\",\"2012-01-01T00:00:00\",\"2012-01-01T00:00:00\",\"2012-01-01T00:00:00\",\"2012-01-01T00:00:00\",\"2012-01-01T00:00:00\",\"2012-01-01T00:00:00\",\"2012-01-01T00:00:00\",\"2012-01-01T00:00:00\",\"2012-01-01T00:00:00\",\"2012-01-01T00:00:00\",\"2012-01-01T00:00:00\",\"2012-01-01T00:00:00\",\"2012-01-01T00:00:00\",\"2012-01-01T00:00:00\",\"2012-01-01T00:00:00\",\"2012-01-01T00:00:00\",\"2012-01-01T00:00:00\",\"2012-01-01T00:00:00\",\"2012-01-01T00:00:00\",\"2012-01-01T00:00:00\",\"2012-01-01T00:00:00\",\"2012-01-01T00:00:00\",\"2012-01-01T00:00:00\",\"2012-01-01T00:00:00\",\"2012-01-01T00:00:00\",\"2012-01-01T00:00:00\",\"2012-01-01T00:00:00\",\"2012-01-01T00:00:00\",\"2012-01-01T00:00:00\",\"2012-01-01T00:00:00\",\"2012-01-01T00:00:00\",\"2012-01-01T00:00:00\",\"2012-01-01T00:00:00\",\"2012-01-01T00:00:00\",\"2012-01-01T00:00:00\",\"2012-01-01T00:00:00\",\"2012-01-01T00:00:00\",\"2012-01-01T00:00:00\",\"2012-01-01T00:00:00\",\"2012-01-01T00:00:00\",\"2012-01-01T00:00:00\",\"2012-01-01T00:00:00\",\"2012-01-01T00:00:00\",\"2012-01-01T00:00:00\",\"2013-01-01T00:00:00\",\"2013-01-01T00:00:00\",\"2013-01-01T00:00:00\",\"2013-01-01T00:00:00\",\"2013-01-01T00:00:00\",\"2013-01-01T00:00:00\",\"2013-01-01T00:00:00\",\"2013-01-01T00:00:00\",\"2013-01-01T00:00:00\",\"2013-01-01T00:00:00\",\"2013-01-01T00:00:00\",\"2013-01-01T00:00:00\",\"2013-01-01T00:00:00\",\"2013-01-01T00:00:00\",\"2013-01-01T00:00:00\",\"2013-01-01T00:00:00\",\"2013-01-01T00:00:00\",\"2013-01-01T00:00:00\",\"2013-01-01T00:00:00\",\"2013-01-01T00:00:00\",\"2013-01-01T00:00:00\",\"2013-01-01T00:00:00\",\"2013-01-01T00:00:00\",\"2013-01-01T00:00:00\",\"2013-01-01T00:00:00\",\"2013-01-01T00:00:00\",\"2013-01-01T00:00:00\",\"2013-01-01T00:00:00\",\"2013-01-01T00:00:00\",\"2013-01-01T00:00:00\",\"2013-01-01T00:00:00\",\"2013-01-01T00:00:00\",\"2013-01-01T00:00:00\",\"2013-01-01T00:00:00\",\"2013-01-01T00:00:00\",\"2013-01-01T00:00:00\",\"2013-01-01T00:00:00\",\"2013-01-01T00:00:00\",\"2013-01-01T00:00:00\",\"2013-01-01T00:00:00\",\"2013-01-01T00:00:00\",\"2013-01-01T00:00:00\",\"2013-01-01T00:00:00\",\"2013-01-01T00:00:00\",\"2013-01-01T00:00:00\",\"2013-01-01T00:00:00\",\"2013-01-01T00:00:00\",\"2013-01-01T00:00:00\",\"2013-01-01T00:00:00\",\"2013-01-01T00:00:00\",\"2013-01-01T00:00:00\",\"2013-01-01T00:00:00\",\"2013-01-01T00:00:00\",\"2013-01-01T00:00:00\",\"2013-01-01T00:00:00\",\"2013-01-01T00:00:00\",\"2013-01-01T00:00:00\",\"2013-01-01T00:00:00\",\"2013-01-01T00:00:00\",\"2013-01-01T00:00:00\",\"2013-01-01T00:00:00\",\"2013-01-01T00:00:00\",\"2013-01-01T00:00:00\",\"2013-01-01T00:00:00\",\"2013-01-01T00:00:00\",\"2013-01-01T00:00:00\",\"2013-01-01T00:00:00\",\"2014-01-01T00:00:00\",\"2014-01-01T00:00:00\",\"2014-01-01T00:00:00\",\"2014-01-01T00:00:00\",\"2014-01-01T00:00:00\",\"2014-01-01T00:00:00\",\"2014-01-01T00:00:00\",\"2014-01-01T00:00:00\",\"2014-01-01T00:00:00\",\"2014-01-01T00:00:00\",\"2014-01-01T00:00:00\",\"2014-01-01T00:00:00\",\"2014-01-01T00:00:00\",\"2014-01-01T00:00:00\",\"2014-01-01T00:00:00\",\"2014-01-01T00:00:00\",\"2014-01-01T00:00:00\",\"2014-01-01T00:00:00\",\"2014-01-01T00:00:00\",\"2014-01-01T00:00:00\",\"2014-01-01T00:00:00\",\"2014-01-01T00:00:00\",\"2014-01-01T00:00:00\",\"2014-01-01T00:00:00\",\"2014-01-01T00:00:00\",\"2014-01-01T00:00:00\",\"2014-01-01T00:00:00\",\"2014-01-01T00:00:00\",\"2014-01-01T00:00:00\",\"2014-01-01T00:00:00\",\"2014-01-01T00:00:00\",\"2014-01-01T00:00:00\",\"2014-01-01T00:00:00\",\"2014-01-01T00:00:00\",\"2014-01-01T00:00:00\",\"2014-01-01T00:00:00\",\"2014-01-01T00:00:00\",\"2014-01-01T00:00:00\",\"2014-01-01T00:00:00\",\"2014-01-01T00:00:00\",\"2014-01-01T00:00:00\",\"2014-01-01T00:00:00\",\"2014-01-01T00:00:00\",\"2014-01-01T00:00:00\",\"2014-01-01T00:00:00\",\"2014-01-01T00:00:00\",\"2014-01-01T00:00:00\",\"2014-01-01T00:00:00\",\"2014-01-01T00:00:00\",\"2014-01-01T00:00:00\",\"2014-01-01T00:00:00\",\"2014-01-01T00:00:00\",\"2014-01-01T00:00:00\",\"2014-01-01T00:00:00\",\"2014-01-01T00:00:00\",\"2014-01-01T00:00:00\",\"2014-01-01T00:00:00\",\"2014-01-01T00:00:00\",\"2014-01-01T00:00:00\",\"2014-01-01T00:00:00\",\"2014-01-01T00:00:00\",\"2014-01-01T00:00:00\",\"2014-01-01T00:00:00\",\"2014-01-01T00:00:00\",\"2014-01-01T00:00:00\",\"2014-01-01T00:00:00\",\"2014-01-01T00:00:00\",\"2014-01-01T00:00:00\",\"2014-01-01T00:00:00\",\"2014-01-01T00:00:00\",\"2014-01-01T00:00:00\",\"2014-01-01T00:00:00\",\"2014-01-01T00:00:00\",\"2015-01-01T00:00:00\",\"2015-01-01T00:00:00\",\"2015-01-01T00:00:00\",\"2015-01-01T00:00:00\",\"2015-01-01T00:00:00\",\"2015-01-01T00:00:00\",\"2015-01-01T00:00:00\",\"2015-01-01T00:00:00\",\"2015-01-01T00:00:00\",\"2015-01-01T00:00:00\",\"2015-01-01T00:00:00\",\"2015-01-01T00:00:00\",\"2015-01-01T00:00:00\",\"2015-01-01T00:00:00\",\"2015-01-01T00:00:00\",\"2015-01-01T00:00:00\",\"2015-01-01T00:00:00\",\"2015-01-01T00:00:00\",\"2015-01-01T00:00:00\",\"2015-01-01T00:00:00\",\"2015-01-01T00:00:00\",\"2015-01-01T00:00:00\",\"2015-01-01T00:00:00\",\"2015-01-01T00:00:00\",\"2015-01-01T00:00:00\",\"2015-01-01T00:00:00\",\"2015-01-01T00:00:00\",\"2015-01-01T00:00:00\",\"2015-01-01T00:00:00\",\"2015-01-01T00:00:00\",\"2015-01-01T00:00:00\",\"2015-01-01T00:00:00\",\"2015-01-01T00:00:00\",\"2015-01-01T00:00:00\",\"2015-01-01T00:00:00\",\"2015-01-01T00:00:00\",\"2015-01-01T00:00:00\",\"2015-01-01T00:00:00\",\"2015-01-01T00:00:00\",\"2015-01-01T00:00:00\",\"2015-01-01T00:00:00\",\"2015-01-01T00:00:00\",\"2015-01-01T00:00:00\",\"2015-01-01T00:00:00\",\"2015-01-01T00:00:00\",\"2015-01-01T00:00:00\",\"2015-01-01T00:00:00\",\"2015-01-01T00:00:00\",\"2015-01-01T00:00:00\",\"2015-01-01T00:00:00\",\"2015-01-01T00:00:00\",\"2015-01-01T00:00:00\",\"2015-01-01T00:00:00\",\"2015-01-01T00:00:00\",\"2015-01-01T00:00:00\",\"2015-01-01T00:00:00\",\"2015-01-01T00:00:00\",\"2015-01-01T00:00:00\",\"2015-01-01T00:00:00\",\"2015-01-01T00:00:00\",\"2015-01-01T00:00:00\",\"2015-01-01T00:00:00\",\"2015-01-01T00:00:00\",\"2015-01-01T00:00:00\",\"2015-01-01T00:00:00\",\"2015-01-01T00:00:00\",\"2015-01-01T00:00:00\",\"2015-01-01T00:00:00\",\"2015-01-01T00:00:00\",\"2015-01-01T00:00:00\",\"2015-01-01T00:00:00\",\"2015-01-01T00:00:00\",\"2015-01-01T00:00:00\",\"2015-01-01T00:00:00\",\"2015-01-01T00:00:00\",\"2015-01-01T00:00:00\",\"2015-01-01T00:00:00\",\"2016-01-01T00:00:00\",\"2016-01-01T00:00:00\",\"2016-01-01T00:00:00\",\"2016-01-01T00:00:00\",\"2016-01-01T00:00:00\",\"2016-01-01T00:00:00\",\"2016-01-01T00:00:00\",\"2016-01-01T00:00:00\",\"2016-01-01T00:00:00\",\"2016-01-01T00:00:00\",\"2016-01-01T00:00:00\",\"2016-01-01T00:00:00\",\"2016-01-01T00:00:00\",\"2016-01-01T00:00:00\",\"2016-01-01T00:00:00\",\"2016-01-01T00:00:00\",\"2016-01-01T00:00:00\",\"2016-01-01T00:00:00\",\"2016-01-01T00:00:00\",\"2016-01-01T00:00:00\",\"2016-01-01T00:00:00\",\"2016-01-01T00:00:00\",\"2016-01-01T00:00:00\",\"2016-01-01T00:00:00\",\"2016-01-01T00:00:00\",\"2016-01-01T00:00:00\",\"2016-01-01T00:00:00\",\"2016-01-01T00:00:00\",\"2016-01-01T00:00:00\",\"2016-01-01T00:00:00\",\"2016-01-01T00:00:00\",\"2016-01-01T00:00:00\",\"2016-01-01T00:00:00\",\"2016-01-01T00:00:00\",\"2016-01-01T00:00:00\",\"2016-01-01T00:00:00\",\"2016-01-01T00:00:00\",\"2016-01-01T00:00:00\",\"2016-01-01T00:00:00\",\"2016-01-01T00:00:00\",\"2016-01-01T00:00:00\",\"2016-01-01T00:00:00\",\"2016-01-01T00:00:00\",\"2016-01-01T00:00:00\",\"2016-01-01T00:00:00\",\"2016-01-01T00:00:00\",\"2016-01-01T00:00:00\",\"2016-01-01T00:00:00\",\"2016-01-01T00:00:00\",\"2016-01-01T00:00:00\",\"2016-01-01T00:00:00\",\"2016-01-01T00:00:00\",\"2016-01-01T00:00:00\",\"2016-01-01T00:00:00\",\"2016-01-01T00:00:00\",\"2016-01-01T00:00:00\",\"2016-01-01T00:00:00\",\"2016-01-01T00:00:00\",\"2016-01-01T00:00:00\",\"2016-01-01T00:00:00\",\"2016-01-01T00:00:00\",\"2016-01-01T00:00:00\",\"2016-01-01T00:00:00\",\"2016-01-01T00:00:00\",\"2016-01-01T00:00:00\",\"2016-01-01T00:00:00\",\"2016-01-01T00:00:00\",\"2016-01-01T00:00:00\",\"2016-01-01T00:00:00\",\"2016-01-01T00:00:00\",\"2016-01-01T00:00:00\",\"2016-01-01T00:00:00\",\"2016-01-01T00:00:00\",\"2016-01-01T00:00:00\",\"2016-01-01T00:00:00\",\"2016-01-01T00:00:00\",\"2017-01-01T00:00:00\",\"2017-01-01T00:00:00\",\"2017-01-01T00:00:00\",\"2017-01-01T00:00:00\",\"2017-01-01T00:00:00\",\"2017-01-01T00:00:00\",\"2017-01-01T00:00:00\",\"2017-01-01T00:00:00\",\"2017-01-01T00:00:00\",\"2017-01-01T00:00:00\",\"2017-01-01T00:00:00\",\"2017-01-01T00:00:00\",\"2017-01-01T00:00:00\",\"2017-01-01T00:00:00\",\"2017-01-01T00:00:00\",\"2017-01-01T00:00:00\",\"2017-01-01T00:00:00\",\"2017-01-01T00:00:00\",\"2017-01-01T00:00:00\",\"2017-01-01T00:00:00\",\"2017-01-01T00:00:00\",\"2017-01-01T00:00:00\",\"2017-01-01T00:00:00\",\"2017-01-01T00:00:00\",\"2017-01-01T00:00:00\",\"2017-01-01T00:00:00\",\"2017-01-01T00:00:00\",\"2017-01-01T00:00:00\",\"2017-01-01T00:00:00\",\"2017-01-01T00:00:00\",\"2017-01-01T00:00:00\",\"2017-01-01T00:00:00\",\"2017-01-01T00:00:00\",\"2017-01-01T00:00:00\",\"2017-01-01T00:00:00\",\"2017-01-01T00:00:00\",\"2017-01-01T00:00:00\",\"2017-01-01T00:00:00\",\"2017-01-01T00:00:00\",\"2017-01-01T00:00:00\",\"2017-01-01T00:00:00\",\"2017-01-01T00:00:00\",\"2017-01-01T00:00:00\",\"2017-01-01T00:00:00\",\"2017-01-01T00:00:00\",\"2017-01-01T00:00:00\",\"2017-01-01T00:00:00\",\"2017-01-01T00:00:00\",\"2017-01-01T00:00:00\",\"2017-01-01T00:00:00\",\"2017-01-01T00:00:00\",\"2017-01-01T00:00:00\",\"2017-01-01T00:00:00\",\"2017-01-01T00:00:00\",\"2017-01-01T00:00:00\",\"2017-01-01T00:00:00\",\"2017-01-01T00:00:00\",\"2017-01-01T00:00:00\",\"2017-01-01T00:00:00\",\"2017-01-01T00:00:00\",\"2017-01-01T00:00:00\",\"2017-01-01T00:00:00\",\"2017-01-01T00:00:00\",\"2017-01-01T00:00:00\",\"2017-01-01T00:00:00\",\"2017-01-01T00:00:00\",\"2017-01-01T00:00:00\",\"2017-01-01T00:00:00\",\"2017-01-01T00:00:00\",\"2017-01-01T00:00:00\",\"2017-01-01T00:00:00\",\"2018-01-01T00:00:00\",\"2018-01-01T00:00:00\",\"2018-01-01T00:00:00\",\"2018-01-01T00:00:00\",\"2018-01-01T00:00:00\",\"2018-01-01T00:00:00\",\"2018-01-01T00:00:00\",\"2018-01-01T00:00:00\",\"2018-01-01T00:00:00\",\"2018-01-01T00:00:00\",\"2018-01-01T00:00:00\",\"2018-01-01T00:00:00\",\"2018-01-01T00:00:00\",\"2018-01-01T00:00:00\",\"2018-01-01T00:00:00\",\"2018-01-01T00:00:00\",\"2018-01-01T00:00:00\",\"2018-01-01T00:00:00\",\"2018-01-01T00:00:00\",\"2018-01-01T00:00:00\",\"2018-01-01T00:00:00\",\"2018-01-01T00:00:00\",\"2018-01-01T00:00:00\",\"2018-01-01T00:00:00\",\"2018-01-01T00:00:00\",\"2018-01-01T00:00:00\",\"2018-01-01T00:00:00\",\"2018-01-01T00:00:00\",\"2018-01-01T00:00:00\",\"2018-01-01T00:00:00\",\"2018-01-01T00:00:00\",\"2018-01-01T00:00:00\",\"2018-01-01T00:00:00\",\"2018-01-01T00:00:00\",\"2018-01-01T00:00:00\",\"2018-01-01T00:00:00\",\"2018-01-01T00:00:00\",\"2018-01-01T00:00:00\",\"2018-01-01T00:00:00\",\"2018-01-01T00:00:00\",\"2018-01-01T00:00:00\",\"2018-01-01T00:00:00\",\"2018-01-01T00:00:00\",\"2018-01-01T00:00:00\",\"2018-01-01T00:00:00\",\"2018-01-01T00:00:00\",\"2018-01-01T00:00:00\",\"2018-01-01T00:00:00\",\"2018-01-01T00:00:00\",\"2019-01-01T00:00:00\",\"2019-01-01T00:00:00\",\"2019-01-01T00:00:00\",\"2019-01-01T00:00:00\",\"2019-01-01T00:00:00\",\"2019-01-01T00:00:00\",\"2019-01-01T00:00:00\",\"2019-01-01T00:00:00\",\"2019-01-01T00:00:00\",\"2019-01-01T00:00:00\",\"2019-01-01T00:00:00\",\"2019-01-01T00:00:00\",\"2019-01-01T00:00:00\",\"2019-01-01T00:00:00\",\"2019-01-01T00:00:00\",\"2019-01-01T00:00:00\",\"2019-01-01T00:00:00\",\"2019-01-01T00:00:00\",\"2019-01-01T00:00:00\",\"2019-01-01T00:00:00\",\"2019-01-01T00:00:00\",\"2019-01-01T00:00:00\",\"2019-01-01T00:00:00\",\"2019-01-01T00:00:00\",\"2019-01-01T00:00:00\",\"2019-01-01T00:00:00\",\"2019-01-01T00:00:00\",\"2019-01-01T00:00:00\",\"2019-01-01T00:00:00\",\"2019-01-01T00:00:00\",\"2019-01-01T00:00:00\",\"2019-01-01T00:00:00\",\"2019-01-01T00:00:00\",\"2019-01-01T00:00:00\",\"2019-01-01T00:00:00\",\"2019-01-01T00:00:00\",\"2019-01-01T00:00:00\",\"2019-01-01T00:00:00\",\"2019-01-01T00:00:00\",\"2019-01-01T00:00:00\",\"2019-01-01T00:00:00\",\"2019-01-01T00:00:00\",\"2019-01-01T00:00:00\",\"2019-01-01T00:00:00\",\"2019-01-01T00:00:00\",\"2020-01-01T00:00:00\",\"2020-01-01T00:00:00\",\"2020-01-01T00:00:00\",\"2020-01-01T00:00:00\",\"2020-01-01T00:00:00\",\"2020-01-01T00:00:00\",\"2020-01-01T00:00:00\",\"2020-01-01T00:00:00\",\"2020-01-01T00:00:00\",\"2020-01-01T00:00:00\",\"2020-01-01T00:00:00\",\"2020-01-01T00:00:00\",\"2020-01-01T00:00:00\",\"2020-01-01T00:00:00\",\"2020-01-01T00:00:00\",\"2020-01-01T00:00:00\",\"2020-01-01T00:00:00\",\"2020-01-01T00:00:00\",\"2020-01-01T00:00:00\",\"2020-01-01T00:00:00\",\"2020-01-01T00:00:00\",\"2020-01-01T00:00:00\",\"2020-01-01T00:00:00\",\"2020-01-01T00:00:00\",\"2020-01-01T00:00:00\",\"2020-01-01T00:00:00\",\"2020-01-01T00:00:00\",\"2020-01-01T00:00:00\",\"2021-01-01T00:00:00\",\"2021-01-01T00:00:00\",\"2021-01-01T00:00:00\",\"2021-01-01T00:00:00\",\"2021-01-01T00:00:00\",\"2021-01-01T00:00:00\",\"2021-01-01T00:00:00\",\"2021-01-01T00:00:00\",\"2021-01-01T00:00:00\",\"2021-01-01T00:00:00\",\"2021-01-01T00:00:00\",\"2021-01-01T00:00:00\",\"2021-01-01T00:00:00\",\"2021-01-01T00:00:00\",\"2021-01-01T00:00:00\",\"2021-01-01T00:00:00\",\"2021-01-01T00:00:00\",\"2021-01-01T00:00:00\",\"2021-01-01T00:00:00\",\"2021-01-01T00:00:00\",\"2021-01-01T00:00:00\",\"2021-01-01T00:00:00\",\"2021-01-01T00:00:00\",\"2021-01-01T00:00:00\",\"2021-01-01T00:00:00\",\"2021-01-01T00:00:00\"],\"xaxis\":\"x\",\"y\":[-0.7993556818181818,0.24178473995783045,-0.3713444678892708,0.6411988680816045,0.12664167338072244,-0.22989796945904664,0.08384273592477924,-0.11145740169504897,-0.31077577298069836,-0.2718060044807011,-0.11276762801037034,0.34127224722565747,0.06666666666666667,0.05337840078053821,0.1,0.006862167181199391,-0.3528506201457208,-0.3551180549616124,0.2770789021775117,0.17331779859199253,-0.012492890146895074,0.6867822247962383,0.45941209304497377,-0.22177578775621623,-0.07436202348844922,0.007260273972604285,-0.25515250407932727,0.06800205208712157,0.3217856435679721,0.7757251381215478,0.24378109452736313,0.3325723775092181,-0.16229002433301573,0.938657621578888,-0.6924981689309132,0.056203172833430896,-0.3022763867376027,-0.05162861737900636,0.5455768668967402,0.016102247377360192,0.14730149357703493,-0.2054151708308287,0.03716147472369228,0.02937322114528751,0.268551327823807,-0.13359273736744662,0.05067352884868985,0.36363636363636365,0.241419528081116,0.23636363636363636,-0.5506714177592211,0.2280772839347813,0.19152706969008162,0.6411042644476863,-0.18078933147080398,2.9093071059564526,-0.21841279266906985,-0.172345126299374,0.03978464923982811,0.3273664793662504,5.1225,0.15787384017386555,-0.07148775894538464,0.9224755666825957,-0.08033596867827007,-0.16466729929447502,-0.02299628613466233,0.026695786433705883,0.0,0.16595770360991485,2.2445080662038195,-0.38529462162650363,0.12376737190082647,-0.14705882352941177,0.07913745961343151,-0.2716847985397257,0.05321246354776123,0.10357370992799912,-0.34335617840942656,0.46754632893011694,1.2196453686008957,0.5131750706848643,-0.11290830935511277,2.479095328290741,0.6857238229626598,1.0125454850305797,2.0105658260122286,0.02656494199226569,0.9590149075223305,0.06803060457403466,0.21377282761998775,0.08588139001526847,0.23529411764705468,-0.5888322717622081,-0.35527068884758917,5.682599987673714,5.6046738799436876e-05,0.6671082230462813,-0.04775678193006296,-0.4994373245107565,0.06372998930089525,-0.11371946912308613,0.49448264279863124,0.24662855696231545,0.139240506329114,1.6119914905276072,-0.034534410165042946,-0.3117042161974132,-0.46531165715407663,0.23184664999999915,-0.07606915996594668,0.0,1.0297682326656197,-0.4423060676997501,1.071442674811833,0.08421146804574746,-0.060183745874116686,0.08546152197149816,-0.049433615609924625,0.7780358377484544,-0.16225678819613348,-0.3730305822955849,0.9326781806127595,0.13711636084795686,0.04681944894323746,0.023302762001909644,-0.14941775300390903,-0.10941967635453763,1.060179570756515,-0.2016584,-0.06212323983648627,-0.5076106607293787,-0.28412885572587115,0.029638029959064578,-0.039029594082093666,0.055343222947722794,0.09875099332241431,0.4815252905413314,0.04893255768642039,-0.6160143885644146,0.6256520004087778,-0.030735801548074274,-0.28204642730099666,2.7642234750000023,2.965677250699293,-0.4121243197891956,0.6789597820234151,-0.010673758910112017,0.010162850891688481,0.7916525799999999,-0.28214305554000085,0.9343882449794648,0.8790499257520777,0.21466915675173526,0.20780369061540968,-0.10193678045841238,-0.1526881720430108,0.2695610794927674,3.131027798394411,0.041769397927191525,1.189444359815403,1.0778916325667167,3.6656486991161574,-0.34121425827729146,0.5131426804106939,-0.09636223941138623,-0.10081273329112092,-0.03473529913812123,-0.1598876851543045,0.30573616268455256,0.07714399813795528,-0.28134060981319636,-0.4594885878145779,0.1416950920049978,2.316766628456081,0.12058252397820417,0.023644500772306367,-0.18559048799048414,1.0602292284158203,-0.07520978999420111,-0.2525966328198355,-0.12137777618672194,0.28349097641382665,0.96089809342807,-0.040040959020474845,9.856395174667515,0.5358211582467876,-0.13681763786448112,0.3974051041652011,-0.022844754918756427,0.47058823529411764,-0.004581295665847685,-0.7992614793792626,-0.03503898662755875,-0.037852795326273725,-0.22108561846211855,1.3452493903399028,-0.013313627789847895,-0.2155442245928517,-0.4008285742996022,-0.011690980959372889,0.03324723303679836,1.5544967324733192,0.3572051180762558,0.4830406964085908,2.9642820017746883,0.46781616268138165,-0.27533669426878093,0.17771956779873901,-0.33034872301153634,0.7545181000149325,-0.14045532535092797,0.0382887591349363,0.46539455015817077,0.13867359752544986,-0.5936826086956523,0.001901558806212662,-0.5529180316728938,0.10335213209339213,0.25428504933904306,0.4022353278215212,0.35603351491310603,0.029419997399933496,-0.19267526210071773,0.01697845368060739,-0.29490481634014704,0.07161902054999622,0.06615106995661758,0.07992037237624046,-0.28753029130995905,0.6985000080262295,-0.5075543872844849,-0.5171526830435287,-0.030897317911954245,0.19440054018176414,0.323184243048099,0.23080166432489643,-0.07923802781777672,0.9947380871888526,-0.3019760478032866,1.9853065160944643,-0.34176863618716397,0.10341858192488304,3.0214507767041154,-0.2662063538271318,-0.33365534179287765,0.6840884957198853,0.5676280389994971,0.017000695736443295,0.2751161835834443,-0.1930046851704059,-0.023378838760533874,0.0,-0.024585059285384524,3.0000294240194187,2.5373967171622267,0.1810469446152811,0.0,1.7468165780956548,0.35476678728480865,0.8554708080880827,-0.14994732766949953,0.4853688212455005,0.8812805185897417,-0.332234785687721,0.03308660929990058,-0.251515345353906,0.1980796947192848,1.0072976111330998,-0.025161013079890805,0.20569492885705565,0.0,-0.2694111866552063,-0.19992108470774736,8.078174117647059,-0.23674393546424985,0.11333527130006316,0.004834877338450755,-0.11763712045415964,-0.12067023475495363,-0.3350919055155197,-0.08177054336080375,0.3618904690058104,0.011143837051000905,1.7598451888641653,-0.037212364825191344,-0.0213539783323339,-0.1061679931080445,0.02827605122870858,0.02857919748425474,0.38256868430199864,0.9697252297640463,-0.12474362918275728,1.0998314319315872,-0.0007584721337328127,0.3056593103448276,0.7542099446434101,0.3448414927643313,0.008532059601358796,1.0690235507032089,0.09529398601476413,0.05948808802250336,-0.09828956126555109,-0.1247100900877242,-0.08605701604941497,0.13460437583390933,1.9807944587290762,-0.525029512998117,0.36331550062434004,0.35708888716676984,-0.022427816612970625,-0.05134588868103105,-0.20787708922991277,0.02399428290196643,0.29289628228124925,0.18840960830628206,-0.14723074018158025,-0.059693836202073726,1.0938087755402937,-0.13570057624246715,0.04089319753404819,-0.031976057282063396,1.09375,-0.5205519061475657,-0.02134980281828358,-0.2709154353583454,0.2134168183383483,0.8095238095238121,-0.4607691135963544,-0.6056583448116613,1.3739750745914083,-0.444725674397909,-0.39690009780185337,-0.042747127625190944,4.750202327519555,0.5586536952791699,0.04584014577555968,-0.09862263148156655,-0.06753405797722546,0.15927028472536425,-0.45162094505337286,-0.010529909096308607,-0.0353279080963305,0.0,-0.3687589814327755,0.4014756878874908,0.6672996280893927,-0.31017629137116576,-0.11423537328233459,-0.11140968564974192,-0.11088461595549391,-0.2739675965660094,-0.6274616606818756,0.6839708234805775,-0.03256129038657959,0.022574549540259045,-0.02982831357201739,0.9251446627530883,0.2736668913644793,0.08174743636993197,0.07065624999999999,3.465795166872266,-0.16659621608716968,-0.4930414452540553,-0.23280526218870518,0.6409795494738355,-0.05936164555635071,0.2575853638527081,0.2290595330715135,0.8801833099611163,1.127558479576451,0.04217396310808228,0.6900943069448585,0.6530640617611089,-0.19502070006743075,-0.0345803246605333,1.4282495544922724,0.15845448765234374,0.15579460323586794,-0.08302943720754083,-0.238145473795264,-0.25560573171176243,0.5051907579653757,0.07201856891655198,0.4004906750929716,0.9978749715586579,0.37351135463427504,0.0011867467582177228,0.07840394018344707,0.00876920013037851,-0.5677033329251379,-0.22398130790049098,0.22061072078115962,-0.4385915666921314,0.08358008744249204,0.4952615074468402,0.029617998213173777,0.3267967716150491,-0.46784789235900825,0.011739973997089053,-0.18438844735401416,0.4,0.14523241682429147,-0.00678298133025014,0.1758808804303544,-0.7557748917748918,1.3940542536209561,-0.02080795249632199,-0.13638487687688003,0.9846856959253942,0.11174904820892592,0.05693816393593095,-0.044656045292547936,-0.4164582272510002,-0.018873128918147044,0.0020383819441764832,0.8151853311664758,0.02305785995436224,-0.43518799035829814,0.28786847487262235,-0.3604965133358278,0.0,-0.07917467773387732,0.13245204199555013,0.5967277369007314,0.4714076516016305,-0.3493063934023806,-0.7735879864636209,0.966613632009732,-0.7336815304624515,0.935480299509208,0.22957833590160864,0.2287711769581633,0.2903774976370114,-0.061912981418703966,-0.1614808132683098,-0.10839187575996868,-0.08378235978434448,-0.4278505476842321,0.9583336383101385,0.41953496,0.0028094958552700934,-0.01529985724130025,-0.5818084940021089,0.1291085123966957,-0.3196036486574352,-0.16449840966832943,0.11929249214855525,0.09333474752997238,0.06005282072052445,0.4270291941847882,-0.2709411072619126,-0.2481243812830601,-0.07225623244206833,0.2901438671911199,-0.09054754926339915,-0.4020989533455129,0.2939766237187711,-0.38060477449457114,-0.35622052552259464,-0.3557045914268385,0.0671803371739526,0.00382672158004905,0.24973408891051826,0.33050711349198486,0.1561845127383685,0.09999999637175684,-0.3523249781617613,-0.3331399658307715,-0.3724801315556009,0.22650058800470396,0.14822205750993026,-0.21843015884374575,-0.1802724312893578,0.19567582756961,1.0201339109214613,0.056139799460074274,0.23682340387731257,0.026339819446950002,0.0758360017121609,2.637348875,0.7898174225502574,0.06833144829860398,-0.6184861680079922,0.4982930808761845,2.02646417773677,-0.04674342164673311,0.08284079897592235,-0.01086939416505476,0.0903014205871272,0.9318501763877197,-0.27956732821540314,-0.2184877326124875,0.0,0.6809804485088997,-0.28288779809701237,-0.16938968876605148,-0.3469576250420594,0.715370182708419,-0.09542670737130027,-0.10854820514191371,0.5843151214793217,1.889933735737459,0.6339300716955448,0.15843440065711012,-0.0028264220435905577,0.1913814937787609,1.8332841752286473,0.12013453745750169,0.4455343482252144,0.8728078932049237,-0.07621843173412798,-0.33287501611697956,1.3463844766681963,0.6414300652809997,0.02154584530323213,-0.2117170541541295,0.1887909995404075,0.15500495053403185,0.05717276549560361,-0.22487601956413875,0.06285601240029681,-0.20942427685990234,0.21592052913002707,0.09407730706649117,0.3798747565531111,0.22651474661210183,-0.0386720175118571,1.3775286161772882,-0.19821507723954512,-0.44019973716640803,0.09336755299754235,0.16838467401719595,0.6771456796219464,0.2303516292364565,-0.2636338553334141,-0.25245597322711366,0.949194123173375,0.009174556631833424,0.17305673944698305,0.02000000610204531,1.0927694608623557,0.6782718680571586,0.0019167074437092422,0.5532474841101694,-0.15151307397974723,0.43971412419191874,0.13342220857887202,0.0991649949933521,0.05315565182637005,0.3142857142857143,-0.05790043871853431,-0.18263281804458104,0.005494716999397535,0.19280303030303023,-0.2546665598581054,1.3802631578947364,-0.09541637840990805,0.47372685456631447,0.4370022659913453,-0.2505748622475619,-0.04903550912544607,0.23368991767533945,0.06459825027617572,0.17762694292641962,0.3252811485320412,0.3097352824326879,-0.22972891022623593,-0.21899475331611037,0.25250891239409917,-0.29486300422963996,-0.3266335694768488,-0.30454682933794924,-0.24839047009693643,0.3193759958147861,-0.34903822869837126,0.15257870870083423,3.0853049834931614,-0.18807754697721765,-0.16189661516142245,-0.4525812382739212,-0.053780814072996105,-0.635058263054175,0.10834078218358811,-0.30081345871319687,-0.23183630476190248,0.4302878175272258,0.030054909057168275,0.06907154091359356,-0.027989706958316624,-0.10430239977284612,-0.3843698299360181,-0.18837735021698643,0.062328541473893814,-0.5290238979900668,-0.21246907020872863,-0.4269922673430689,0.10727880053801386,0.5391039998001298,-0.17817907608293865,0.464807230961731,7.113677001050181,0.020000003233728258,-0.023115427248312517,-0.4654549113393984,-0.38555282633660837,0.2898921989061911,0.3821855271800235,0.05884971220725285,-0.04939081108323363,-0.0865069118834362,0.1659256906954589,0.1996350753542776,-0.15504830206380713,-0.5137045047798839,0.3333565326340144,0.1257823326179933,-0.15019002522577818,-0.6854644817159166,-0.20877217676010315,0.1866384471140437,1.8530047243569543,-0.57831672493764,-0.23086239663296626,0.1024366369875213,0.34679054766696515,0.6291562016147207,-0.6755892935308068,0.0,-4.2992561352758606e-05,-0.2909842493485923,0.15214232755383905,0.04472109740383457,0.5541898362221683,1.1189516512549538,-0.03930190260361284,0.19602168087941751,0.9646344886666666,-0.11534085347932135,-0.07312576188537225,0.007744891576658994,1.5066125401953294,0.04051194297187079,0.09341259910883844,0.17399178855614036,-0.0474732224258093,0.2235043149525408,0.762725392458487,0.007672481203223696,0.14921657543569644,-0.34292904688909986,0.9507866608264277,-0.15449527892113596,0.17825027970329888,-0.12581704811138775,-0.20997986517772016,1.0638342865997525,0.2496028942412363,0.3105040122335067,0.25336034272460123,0.18660509962915742,-0.14482588125704077,0.43641262342663206,0.3109478609872858,0.11677436548057425,-0.1400488612748954,-0.2390593986916569,0.6461064701683095,-0.33384119860433564,-0.021962082260666985,-0.08031478703088758,-0.005146532922921106,1.009082819397173,0.0,-0.12305647879627221,0.26482199346950935,0.08124574023923492,1.5306880712370856,-0.33034193487383456,0.13034216482492345,-0.3814966525292094,-0.2213719399724369,0.051341186998667354,-0.4418107514521511,-0.01801615562119219,-0.04271594042899872,-0.36497673941050685,0.33499959047142386,-0.28944323599109845,-0.23443008581696503,1.6268933601207431,-0.00535931756105614,-0.16552189649279092,0.12230038513562352,1.235912980119617,0.34130984890263905,0.2003785146125184,-0.046288670600181284,-0.36197842543648534,-0.5578347779639354,0.3085000723368866,-0.365594938938989,0.41501971465411475,-0.27158842267241423,1.0443699178122234,-0.38963756148427614,0.31471889605237413,-0.18534169519835175,-0.2405560052290684,-0.3683619496805131,-1.0651167941423673e-08,-0.004557083436201161,-0.26801171642594523,-0.14000024994906551,0.36361675471690086,0.11002185872402122,0.5702246311036436,0.023922731312934545,0.04606486435979008,0.061299340746494485,0.049800000003267286,0.6443337788814036,0.0029226012968938016,0.16737686157103665,0.3369728906733576,-0.27756262179494245,-0.24498074782138074,0.10581468273279958,-0.6629424614833686,0.0320118290194673,-0.4286110847195774,0.9597439168997073,0.24085027601494352,2.6216968412141552,-0.2559302322022379,0.26362271398023723],\"yaxis\":\"y\",\"type\":\"histogram\"}],                        {\"template\":{\"data\":{\"histogram2dcontour\":[{\"type\":\"histogram2dcontour\",\"colorbar\":{\"outlinewidth\":0,\"ticks\":\"\"},\"colorscale\":[[0.0,\"#0d0887\"],[0.1111111111111111,\"#46039f\"],[0.2222222222222222,\"#7201a8\"],[0.3333333333333333,\"#9c179e\"],[0.4444444444444444,\"#bd3786\"],[0.5555555555555556,\"#d8576b\"],[0.6666666666666666,\"#ed7953\"],[0.7777777777777778,\"#fb9f3a\"],[0.8888888888888888,\"#fdca26\"],[1.0,\"#f0f921\"]]}],\"choropleth\":[{\"type\":\"choropleth\",\"colorbar\":{\"outlinewidth\":0,\"ticks\":\"\"}}],\"histogram2d\":[{\"type\":\"histogram2d\",\"colorbar\":{\"outlinewidth\":0,\"ticks\":\"\"},\"colorscale\":[[0.0,\"#0d0887\"],[0.1111111111111111,\"#46039f\"],[0.2222222222222222,\"#7201a8\"],[0.3333333333333333,\"#9c179e\"],[0.4444444444444444,\"#bd3786\"],[0.5555555555555556,\"#d8576b\"],[0.6666666666666666,\"#ed7953\"],[0.7777777777777778,\"#fb9f3a\"],[0.8888888888888888,\"#fdca26\"],[1.0,\"#f0f921\"]]}],\"heatmap\":[{\"type\":\"heatmap\",\"colorbar\":{\"outlinewidth\":0,\"ticks\":\"\"},\"colorscale\":[[0.0,\"#0d0887\"],[0.1111111111111111,\"#46039f\"],[0.2222222222222222,\"#7201a8\"],[0.3333333333333333,\"#9c179e\"],[0.4444444444444444,\"#bd3786\"],[0.5555555555555556,\"#d8576b\"],[0.6666666666666666,\"#ed7953\"],[0.7777777777777778,\"#fb9f3a\"],[0.8888888888888888,\"#fdca26\"],[1.0,\"#f0f921\"]]}],\"heatmapgl\":[{\"type\":\"heatmapgl\",\"colorbar\":{\"outlinewidth\":0,\"ticks\":\"\"},\"colorscale\":[[0.0,\"#0d0887\"],[0.1111111111111111,\"#46039f\"],[0.2222222222222222,\"#7201a8\"],[0.3333333333333333,\"#9c179e\"],[0.4444444444444444,\"#bd3786\"],[0.5555555555555556,\"#d8576b\"],[0.6666666666666666,\"#ed7953\"],[0.7777777777777778,\"#fb9f3a\"],[0.8888888888888888,\"#fdca26\"],[1.0,\"#f0f921\"]]}],\"contourcarpet\":[{\"type\":\"contourcarpet\",\"colorbar\":{\"outlinewidth\":0,\"ticks\":\"\"}}],\"contour\":[{\"type\":\"contour\",\"colorbar\":{\"outlinewidth\":0,\"ticks\":\"\"},\"colorscale\":[[0.0,\"#0d0887\"],[0.1111111111111111,\"#46039f\"],[0.2222222222222222,\"#7201a8\"],[0.3333333333333333,\"#9c179e\"],[0.4444444444444444,\"#bd3786\"],[0.5555555555555556,\"#d8576b\"],[0.6666666666666666,\"#ed7953\"],[0.7777777777777778,\"#fb9f3a\"],[0.8888888888888888,\"#fdca26\"],[1.0,\"#f0f921\"]]}],\"surface\":[{\"type\":\"surface\",\"colorbar\":{\"outlinewidth\":0,\"ticks\":\"\"},\"colorscale\":[[0.0,\"#0d0887\"],[0.1111111111111111,\"#46039f\"],[0.2222222222222222,\"#7201a8\"],[0.3333333333333333,\"#9c179e\"],[0.4444444444444444,\"#bd3786\"],[0.5555555555555556,\"#d8576b\"],[0.6666666666666666,\"#ed7953\"],[0.7777777777777778,\"#fb9f3a\"],[0.8888888888888888,\"#fdca26\"],[1.0,\"#f0f921\"]]}],\"mesh3d\":[{\"type\":\"mesh3d\",\"colorbar\":{\"outlinewidth\":0,\"ticks\":\"\"}}],\"scatter\":[{\"fillpattern\":{\"fillmode\":\"overlay\",\"size\":10,\"solidity\":0.2},\"type\":\"scatter\"}],\"parcoords\":[{\"type\":\"parcoords\",\"line\":{\"colorbar\":{\"outlinewidth\":0,\"ticks\":\"\"}}}],\"scatterpolargl\":[{\"type\":\"scatterpolargl\",\"marker\":{\"colorbar\":{\"outlinewidth\":0,\"ticks\":\"\"}}}],\"bar\":[{\"error_x\":{\"color\":\"#2a3f5f\"},\"error_y\":{\"color\":\"#2a3f5f\"},\"marker\":{\"line\":{\"color\":\"#E5ECF6\",\"width\":0.5},\"pattern\":{\"fillmode\":\"overlay\",\"size\":10,\"solidity\":0.2}},\"type\":\"bar\"}],\"scattergeo\":[{\"type\":\"scattergeo\",\"marker\":{\"colorbar\":{\"outlinewidth\":0,\"ticks\":\"\"}}}],\"scatterpolar\":[{\"type\":\"scatterpolar\",\"marker\":{\"colorbar\":{\"outlinewidth\":0,\"ticks\":\"\"}}}],\"histogram\":[{\"marker\":{\"pattern\":{\"fillmode\":\"overlay\",\"size\":10,\"solidity\":0.2}},\"type\":\"histogram\"}],\"scattergl\":[{\"type\":\"scattergl\",\"marker\":{\"colorbar\":{\"outlinewidth\":0,\"ticks\":\"\"}}}],\"scatter3d\":[{\"type\":\"scatter3d\",\"line\":{\"colorbar\":{\"outlinewidth\":0,\"ticks\":\"\"}},\"marker\":{\"colorbar\":{\"outlinewidth\":0,\"ticks\":\"\"}}}],\"scattermapbox\":[{\"type\":\"scattermapbox\",\"marker\":{\"colorbar\":{\"outlinewidth\":0,\"ticks\":\"\"}}}],\"scatterternary\":[{\"type\":\"scatterternary\",\"marker\":{\"colorbar\":{\"outlinewidth\":0,\"ticks\":\"\"}}}],\"scattercarpet\":[{\"type\":\"scattercarpet\",\"marker\":{\"colorbar\":{\"outlinewidth\":0,\"ticks\":\"\"}}}],\"carpet\":[{\"aaxis\":{\"endlinecolor\":\"#2a3f5f\",\"gridcolor\":\"white\",\"linecolor\":\"white\",\"minorgridcolor\":\"white\",\"startlinecolor\":\"#2a3f5f\"},\"baxis\":{\"endlinecolor\":\"#2a3f5f\",\"gridcolor\":\"white\",\"linecolor\":\"white\",\"minorgridcolor\":\"white\",\"startlinecolor\":\"#2a3f5f\"},\"type\":\"carpet\"}],\"table\":[{\"cells\":{\"fill\":{\"color\":\"#EBF0F8\"},\"line\":{\"color\":\"white\"}},\"header\":{\"fill\":{\"color\":\"#C8D4E3\"},\"line\":{\"color\":\"white\"}},\"type\":\"table\"}],\"barpolar\":[{\"marker\":{\"line\":{\"color\":\"#E5ECF6\",\"width\":0.5},\"pattern\":{\"fillmode\":\"overlay\",\"size\":10,\"solidity\":0.2}},\"type\":\"barpolar\"}],\"pie\":[{\"automargin\":true,\"type\":\"pie\"}]},\"layout\":{\"autotypenumbers\":\"strict\",\"colorway\":[\"#636efa\",\"#EF553B\",\"#00cc96\",\"#ab63fa\",\"#FFA15A\",\"#19d3f3\",\"#FF6692\",\"#B6E880\",\"#FF97FF\",\"#FECB52\"],\"font\":{\"color\":\"#2a3f5f\"},\"hovermode\":\"closest\",\"hoverlabel\":{\"align\":\"left\"},\"paper_bgcolor\":\"white\",\"plot_bgcolor\":\"#E5ECF6\",\"polar\":{\"bgcolor\":\"#E5ECF6\",\"angularaxis\":{\"gridcolor\":\"white\",\"linecolor\":\"white\",\"ticks\":\"\"},\"radialaxis\":{\"gridcolor\":\"white\",\"linecolor\":\"white\",\"ticks\":\"\"}},\"ternary\":{\"bgcolor\":\"#E5ECF6\",\"aaxis\":{\"gridcolor\":\"white\",\"linecolor\":\"white\",\"ticks\":\"\"},\"baxis\":{\"gridcolor\":\"white\",\"linecolor\":\"white\",\"ticks\":\"\"},\"caxis\":{\"gridcolor\":\"white\",\"linecolor\":\"white\",\"ticks\":\"\"}},\"coloraxis\":{\"colorbar\":{\"outlinewidth\":0,\"ticks\":\"\"}},\"colorscale\":{\"sequential\":[[0.0,\"#0d0887\"],[0.1111111111111111,\"#46039f\"],[0.2222222222222222,\"#7201a8\"],[0.3333333333333333,\"#9c179e\"],[0.4444444444444444,\"#bd3786\"],[0.5555555555555556,\"#d8576b\"],[0.6666666666666666,\"#ed7953\"],[0.7777777777777778,\"#fb9f3a\"],[0.8888888888888888,\"#fdca26\"],[1.0,\"#f0f921\"]],\"sequentialminus\":[[0.0,\"#0d0887\"],[0.1111111111111111,\"#46039f\"],[0.2222222222222222,\"#7201a8\"],[0.3333333333333333,\"#9c179e\"],[0.4444444444444444,\"#bd3786\"],[0.5555555555555556,\"#d8576b\"],[0.6666666666666666,\"#ed7953\"],[0.7777777777777778,\"#fb9f3a\"],[0.8888888888888888,\"#fdca26\"],[1.0,\"#f0f921\"]],\"diverging\":[[0,\"#8e0152\"],[0.1,\"#c51b7d\"],[0.2,\"#de77ae\"],[0.3,\"#f1b6da\"],[0.4,\"#fde0ef\"],[0.5,\"#f7f7f7\"],[0.6,\"#e6f5d0\"],[0.7,\"#b8e186\"],[0.8,\"#7fbc41\"],[0.9,\"#4d9221\"],[1,\"#276419\"]]},\"xaxis\":{\"gridcolor\":\"white\",\"linecolor\":\"white\",\"ticks\":\"\",\"title\":{\"standoff\":15},\"zerolinecolor\":\"white\",\"automargin\":true,\"zerolinewidth\":2},\"yaxis\":{\"gridcolor\":\"white\",\"linecolor\":\"white\",\"ticks\":\"\",\"title\":{\"standoff\":15},\"zerolinecolor\":\"white\",\"automargin\":true,\"zerolinewidth\":2},\"scene\":{\"xaxis\":{\"backgroundcolor\":\"#E5ECF6\",\"gridcolor\":\"white\",\"linecolor\":\"white\",\"showbackground\":true,\"ticks\":\"\",\"zerolinecolor\":\"white\",\"gridwidth\":2},\"yaxis\":{\"backgroundcolor\":\"#E5ECF6\",\"gridcolor\":\"white\",\"linecolor\":\"white\",\"showbackground\":true,\"ticks\":\"\",\"zerolinecolor\":\"white\",\"gridwidth\":2},\"zaxis\":{\"backgroundcolor\":\"#E5ECF6\",\"gridcolor\":\"white\",\"linecolor\":\"white\",\"showbackground\":true,\"ticks\":\"\",\"zerolinecolor\":\"white\",\"gridwidth\":2}},\"shapedefaults\":{\"line\":{\"color\":\"#2a3f5f\"}},\"annotationdefaults\":{\"arrowcolor\":\"#2a3f5f\",\"arrowhead\":0,\"arrowwidth\":1},\"geo\":{\"bgcolor\":\"white\",\"landcolor\":\"#E5ECF6\",\"subunitcolor\":\"white\",\"showland\":true,\"showlakes\":true,\"lakecolor\":\"white\"},\"title\":{\"x\":0.05},\"mapbox\":{\"style\":\"light\"}}},\"xaxis\":{\"anchor\":\"y\",\"domain\":[0.0,1.0],\"title\":{\"text\":\"Year\"}},\"yaxis\":{\"anchor\":\"x\",\"domain\":[0.0,1.0],\"title\":{\"text\":\"avg of total_immunization in USD_prev_1_year_pct_change\"}},\"legend\":{\"tracegroupgap\":0},\"margin\":{\"t\":60},\"barmode\":\"relative\"},                        {\"responsive\": true}                    ).then(function(){\n",
       "                            \n",
       "var gd = document.getElementById('654db654-f7a8-419e-be99-7055b47ed517');\n",
       "var x = new MutationObserver(function (mutations, observer) {{\n",
       "        var display = window.getComputedStyle(gd).display;\n",
       "        if (!display || display === 'none') {{\n",
       "            console.log([gd, 'removed!']);\n",
       "            Plotly.purge(gd);\n",
       "            observer.disconnect();\n",
       "        }}\n",
       "}});\n",
       "\n",
       "// Listen for the removal of the full notebook cells\n",
       "var notebookContainer = gd.closest('#notebook-container');\n",
       "if (notebookContainer) {{\n",
       "    x.observe(notebookContainer, {childList: true});\n",
       "}}\n",
       "\n",
       "// Listen for the clearing of the current output cell\n",
       "var outputEl = gd.closest('.output');\n",
       "if (outputEl) {{\n",
       "    x.observe(outputEl, {childList: true});\n",
       "}}\n",
       "\n",
       "                        })                };                });            </script>        </div>"
      ]
     },
     "metadata": {},
     "output_type": "display_data"
    }
   ],
   "source": [
    "fig = px.histogram(merged_df.dropna(subset=['total_immunization in USD_prev_1_year_pct_change']), x='Year', histfunc='avg', y='total_immunization in USD_prev_1_year_pct_change')\n",
    "fig"
   ]
  },
  {
   "cell_type": "code",
   "execution_count": 90,
   "metadata": {},
   "outputs": [
    {
     "data": {
      "application/vnd.plotly.v1+json": {
       "config": {
        "plotlyServerURL": "https://plot.ly"
       },
       "data": [
        {
         "alignmentgroup": "True",
         "bingroup": "x",
         "histfunc": "avg",
         "hovertemplate": "Year=%{x}<br>avg of total_vaccine_delivery_cost in USD_prev_1_year_pct_change=%{y}<extra></extra>",
         "legendgroup": "",
         "marker": {
          "color": "#636efa",
          "pattern": {
           "shape": ""
          }
         },
         "name": "",
         "offsetgroup": "",
         "orientation": "v",
         "showlegend": false,
         "type": "histogram",
         "x": [
          "2007-01-01T00:00:00",
          "2007-01-01T00:00:00",
          "2007-01-01T00:00:00",
          "2007-01-01T00:00:00",
          "2007-01-01T00:00:00",
          "2007-01-01T00:00:00",
          "2007-01-01T00:00:00",
          "2007-01-01T00:00:00",
          "2007-01-01T00:00:00",
          "2007-01-01T00:00:00",
          "2007-01-01T00:00:00",
          "2007-01-01T00:00:00",
          "2007-01-01T00:00:00",
          "2007-01-01T00:00:00",
          "2007-01-01T00:00:00",
          "2007-01-01T00:00:00",
          "2007-01-01T00:00:00",
          "2007-01-01T00:00:00",
          "2007-01-01T00:00:00",
          "2007-01-01T00:00:00",
          "2007-01-01T00:00:00",
          "2007-01-01T00:00:00",
          "2007-01-01T00:00:00",
          "2007-01-01T00:00:00",
          "2007-01-01T00:00:00",
          "2007-01-01T00:00:00",
          "2007-01-01T00:00:00",
          "2007-01-01T00:00:00",
          "2007-01-01T00:00:00",
          "2007-01-01T00:00:00",
          "2007-01-01T00:00:00",
          "2007-01-01T00:00:00",
          "2007-01-01T00:00:00",
          "2007-01-01T00:00:00",
          "2007-01-01T00:00:00",
          "2007-01-01T00:00:00",
          "2007-01-01T00:00:00",
          "2007-01-01T00:00:00",
          "2007-01-01T00:00:00",
          "2007-01-01T00:00:00",
          "2008-01-01T00:00:00",
          "2008-01-01T00:00:00",
          "2008-01-01T00:00:00",
          "2008-01-01T00:00:00",
          "2008-01-01T00:00:00",
          "2008-01-01T00:00:00",
          "2008-01-01T00:00:00",
          "2008-01-01T00:00:00",
          "2008-01-01T00:00:00",
          "2008-01-01T00:00:00",
          "2008-01-01T00:00:00",
          "2008-01-01T00:00:00",
          "2008-01-01T00:00:00",
          "2008-01-01T00:00:00",
          "2008-01-01T00:00:00",
          "2008-01-01T00:00:00",
          "2008-01-01T00:00:00",
          "2008-01-01T00:00:00",
          "2008-01-01T00:00:00",
          "2008-01-01T00:00:00",
          "2008-01-01T00:00:00",
          "2008-01-01T00:00:00",
          "2008-01-01T00:00:00",
          "2008-01-01T00:00:00",
          "2008-01-01T00:00:00",
          "2008-01-01T00:00:00",
          "2008-01-01T00:00:00",
          "2008-01-01T00:00:00",
          "2008-01-01T00:00:00",
          "2008-01-01T00:00:00",
          "2008-01-01T00:00:00",
          "2008-01-01T00:00:00",
          "2008-01-01T00:00:00",
          "2008-01-01T00:00:00",
          "2008-01-01T00:00:00",
          "2008-01-01T00:00:00",
          "2008-01-01T00:00:00",
          "2008-01-01T00:00:00",
          "2008-01-01T00:00:00",
          "2008-01-01T00:00:00",
          "2008-01-01T00:00:00",
          "2008-01-01T00:00:00",
          "2008-01-01T00:00:00",
          "2008-01-01T00:00:00",
          "2008-01-01T00:00:00",
          "2008-01-01T00:00:00",
          "2008-01-01T00:00:00",
          "2008-01-01T00:00:00",
          "2008-01-01T00:00:00",
          "2008-01-01T00:00:00",
          "2008-01-01T00:00:00",
          "2009-01-01T00:00:00",
          "2009-01-01T00:00:00",
          "2009-01-01T00:00:00",
          "2009-01-01T00:00:00",
          "2009-01-01T00:00:00",
          "2009-01-01T00:00:00",
          "2009-01-01T00:00:00",
          "2009-01-01T00:00:00",
          "2009-01-01T00:00:00",
          "2009-01-01T00:00:00",
          "2009-01-01T00:00:00",
          "2009-01-01T00:00:00",
          "2009-01-01T00:00:00",
          "2009-01-01T00:00:00",
          "2009-01-01T00:00:00",
          "2009-01-01T00:00:00",
          "2009-01-01T00:00:00",
          "2009-01-01T00:00:00",
          "2009-01-01T00:00:00",
          "2009-01-01T00:00:00",
          "2009-01-01T00:00:00",
          "2009-01-01T00:00:00",
          "2009-01-01T00:00:00",
          "2009-01-01T00:00:00",
          "2009-01-01T00:00:00",
          "2009-01-01T00:00:00",
          "2009-01-01T00:00:00",
          "2009-01-01T00:00:00",
          "2009-01-01T00:00:00",
          "2009-01-01T00:00:00",
          "2009-01-01T00:00:00",
          "2009-01-01T00:00:00",
          "2009-01-01T00:00:00",
          "2009-01-01T00:00:00",
          "2009-01-01T00:00:00",
          "2009-01-01T00:00:00",
          "2009-01-01T00:00:00",
          "2009-01-01T00:00:00",
          "2009-01-01T00:00:00",
          "2009-01-01T00:00:00",
          "2009-01-01T00:00:00",
          "2009-01-01T00:00:00",
          "2009-01-01T00:00:00",
          "2009-01-01T00:00:00",
          "2009-01-01T00:00:00",
          "2009-01-01T00:00:00",
          "2009-01-01T00:00:00",
          "2009-01-01T00:00:00",
          "2009-01-01T00:00:00",
          "2009-01-01T00:00:00",
          "2009-01-01T00:00:00",
          "2009-01-01T00:00:00",
          "2009-01-01T00:00:00",
          "2009-01-01T00:00:00",
          "2010-01-01T00:00:00",
          "2010-01-01T00:00:00",
          "2010-01-01T00:00:00",
          "2010-01-01T00:00:00",
          "2010-01-01T00:00:00",
          "2010-01-01T00:00:00",
          "2010-01-01T00:00:00",
          "2010-01-01T00:00:00",
          "2010-01-01T00:00:00",
          "2010-01-01T00:00:00",
          "2010-01-01T00:00:00",
          "2010-01-01T00:00:00",
          "2010-01-01T00:00:00",
          "2010-01-01T00:00:00",
          "2010-01-01T00:00:00",
          "2010-01-01T00:00:00",
          "2010-01-01T00:00:00",
          "2010-01-01T00:00:00",
          "2010-01-01T00:00:00",
          "2010-01-01T00:00:00",
          "2010-01-01T00:00:00",
          "2010-01-01T00:00:00",
          "2010-01-01T00:00:00",
          "2010-01-01T00:00:00",
          "2010-01-01T00:00:00",
          "2010-01-01T00:00:00",
          "2010-01-01T00:00:00",
          "2010-01-01T00:00:00",
          "2010-01-01T00:00:00",
          "2010-01-01T00:00:00",
          "2010-01-01T00:00:00",
          "2010-01-01T00:00:00",
          "2010-01-01T00:00:00",
          "2010-01-01T00:00:00",
          "2010-01-01T00:00:00",
          "2010-01-01T00:00:00",
          "2010-01-01T00:00:00",
          "2010-01-01T00:00:00",
          "2010-01-01T00:00:00",
          "2010-01-01T00:00:00",
          "2010-01-01T00:00:00",
          "2010-01-01T00:00:00",
          "2010-01-01T00:00:00",
          "2010-01-01T00:00:00",
          "2010-01-01T00:00:00",
          "2010-01-01T00:00:00",
          "2010-01-01T00:00:00",
          "2010-01-01T00:00:00",
          "2010-01-01T00:00:00",
          "2010-01-01T00:00:00",
          "2010-01-01T00:00:00",
          "2010-01-01T00:00:00",
          "2010-01-01T00:00:00",
          "2010-01-01T00:00:00",
          "2010-01-01T00:00:00",
          "2010-01-01T00:00:00",
          "2010-01-01T00:00:00",
          "2011-01-01T00:00:00",
          "2011-01-01T00:00:00",
          "2011-01-01T00:00:00",
          "2011-01-01T00:00:00",
          "2011-01-01T00:00:00",
          "2011-01-01T00:00:00",
          "2011-01-01T00:00:00",
          "2011-01-01T00:00:00",
          "2011-01-01T00:00:00",
          "2011-01-01T00:00:00",
          "2011-01-01T00:00:00",
          "2011-01-01T00:00:00",
          "2011-01-01T00:00:00",
          "2011-01-01T00:00:00",
          "2011-01-01T00:00:00",
          "2011-01-01T00:00:00",
          "2011-01-01T00:00:00",
          "2011-01-01T00:00:00",
          "2011-01-01T00:00:00",
          "2011-01-01T00:00:00",
          "2011-01-01T00:00:00",
          "2011-01-01T00:00:00",
          "2011-01-01T00:00:00",
          "2011-01-01T00:00:00",
          "2011-01-01T00:00:00",
          "2011-01-01T00:00:00",
          "2011-01-01T00:00:00",
          "2011-01-01T00:00:00",
          "2011-01-01T00:00:00",
          "2011-01-01T00:00:00",
          "2011-01-01T00:00:00",
          "2011-01-01T00:00:00",
          "2011-01-01T00:00:00",
          "2011-01-01T00:00:00",
          "2011-01-01T00:00:00",
          "2011-01-01T00:00:00",
          "2011-01-01T00:00:00",
          "2011-01-01T00:00:00",
          "2011-01-01T00:00:00",
          "2011-01-01T00:00:00",
          "2011-01-01T00:00:00",
          "2011-01-01T00:00:00",
          "2011-01-01T00:00:00",
          "2011-01-01T00:00:00",
          "2011-01-01T00:00:00",
          "2011-01-01T00:00:00",
          "2011-01-01T00:00:00",
          "2011-01-01T00:00:00",
          "2011-01-01T00:00:00",
          "2011-01-01T00:00:00",
          "2011-01-01T00:00:00",
          "2011-01-01T00:00:00",
          "2011-01-01T00:00:00",
          "2011-01-01T00:00:00",
          "2011-01-01T00:00:00",
          "2011-01-01T00:00:00",
          "2011-01-01T00:00:00",
          "2011-01-01T00:00:00",
          "2011-01-01T00:00:00",
          "2011-01-01T00:00:00",
          "2011-01-01T00:00:00",
          "2011-01-01T00:00:00",
          "2011-01-01T00:00:00",
          "2012-01-01T00:00:00",
          "2012-01-01T00:00:00",
          "2012-01-01T00:00:00",
          "2012-01-01T00:00:00",
          "2012-01-01T00:00:00",
          "2012-01-01T00:00:00",
          "2012-01-01T00:00:00",
          "2012-01-01T00:00:00",
          "2012-01-01T00:00:00",
          "2012-01-01T00:00:00",
          "2012-01-01T00:00:00",
          "2012-01-01T00:00:00",
          "2012-01-01T00:00:00",
          "2012-01-01T00:00:00",
          "2012-01-01T00:00:00",
          "2012-01-01T00:00:00",
          "2012-01-01T00:00:00",
          "2012-01-01T00:00:00",
          "2012-01-01T00:00:00",
          "2012-01-01T00:00:00",
          "2012-01-01T00:00:00",
          "2012-01-01T00:00:00",
          "2012-01-01T00:00:00",
          "2012-01-01T00:00:00",
          "2012-01-01T00:00:00",
          "2012-01-01T00:00:00",
          "2012-01-01T00:00:00",
          "2012-01-01T00:00:00",
          "2012-01-01T00:00:00",
          "2012-01-01T00:00:00",
          "2012-01-01T00:00:00",
          "2012-01-01T00:00:00",
          "2012-01-01T00:00:00",
          "2012-01-01T00:00:00",
          "2012-01-01T00:00:00",
          "2012-01-01T00:00:00",
          "2012-01-01T00:00:00",
          "2012-01-01T00:00:00",
          "2012-01-01T00:00:00",
          "2012-01-01T00:00:00",
          "2012-01-01T00:00:00",
          "2012-01-01T00:00:00",
          "2012-01-01T00:00:00",
          "2012-01-01T00:00:00",
          "2012-01-01T00:00:00",
          "2012-01-01T00:00:00",
          "2012-01-01T00:00:00",
          "2012-01-01T00:00:00",
          "2012-01-01T00:00:00",
          "2012-01-01T00:00:00",
          "2012-01-01T00:00:00",
          "2012-01-01T00:00:00",
          "2012-01-01T00:00:00",
          "2012-01-01T00:00:00",
          "2012-01-01T00:00:00",
          "2012-01-01T00:00:00",
          "2012-01-01T00:00:00",
          "2012-01-01T00:00:00",
          "2012-01-01T00:00:00",
          "2012-01-01T00:00:00",
          "2012-01-01T00:00:00",
          "2012-01-01T00:00:00",
          "2012-01-01T00:00:00",
          "2012-01-01T00:00:00",
          "2012-01-01T00:00:00",
          "2012-01-01T00:00:00",
          "2012-01-01T00:00:00",
          "2013-01-01T00:00:00",
          "2013-01-01T00:00:00",
          "2013-01-01T00:00:00",
          "2013-01-01T00:00:00",
          "2013-01-01T00:00:00",
          "2013-01-01T00:00:00",
          "2013-01-01T00:00:00",
          "2013-01-01T00:00:00",
          "2013-01-01T00:00:00",
          "2013-01-01T00:00:00",
          "2013-01-01T00:00:00",
          "2013-01-01T00:00:00",
          "2013-01-01T00:00:00",
          "2013-01-01T00:00:00",
          "2013-01-01T00:00:00",
          "2013-01-01T00:00:00",
          "2013-01-01T00:00:00",
          "2013-01-01T00:00:00",
          "2013-01-01T00:00:00",
          "2013-01-01T00:00:00",
          "2013-01-01T00:00:00",
          "2013-01-01T00:00:00",
          "2013-01-01T00:00:00",
          "2013-01-01T00:00:00",
          "2013-01-01T00:00:00",
          "2013-01-01T00:00:00",
          "2013-01-01T00:00:00",
          "2013-01-01T00:00:00",
          "2013-01-01T00:00:00",
          "2013-01-01T00:00:00",
          "2013-01-01T00:00:00",
          "2013-01-01T00:00:00",
          "2013-01-01T00:00:00",
          "2013-01-01T00:00:00",
          "2013-01-01T00:00:00",
          "2013-01-01T00:00:00",
          "2013-01-01T00:00:00",
          "2013-01-01T00:00:00",
          "2013-01-01T00:00:00",
          "2013-01-01T00:00:00",
          "2013-01-01T00:00:00",
          "2013-01-01T00:00:00",
          "2013-01-01T00:00:00",
          "2013-01-01T00:00:00",
          "2013-01-01T00:00:00",
          "2013-01-01T00:00:00",
          "2013-01-01T00:00:00",
          "2013-01-01T00:00:00",
          "2013-01-01T00:00:00",
          "2013-01-01T00:00:00",
          "2013-01-01T00:00:00",
          "2013-01-01T00:00:00",
          "2013-01-01T00:00:00",
          "2013-01-01T00:00:00",
          "2013-01-01T00:00:00",
          "2013-01-01T00:00:00",
          "2013-01-01T00:00:00",
          "2013-01-01T00:00:00",
          "2013-01-01T00:00:00",
          "2013-01-01T00:00:00",
          "2013-01-01T00:00:00",
          "2013-01-01T00:00:00",
          "2013-01-01T00:00:00",
          "2013-01-01T00:00:00",
          "2013-01-01T00:00:00",
          "2013-01-01T00:00:00",
          "2013-01-01T00:00:00",
          "2013-01-01T00:00:00",
          "2013-01-01T00:00:00",
          "2013-01-01T00:00:00",
          "2013-01-01T00:00:00",
          "2013-01-01T00:00:00",
          "2013-01-01T00:00:00",
          "2013-01-01T00:00:00",
          "2013-01-01T00:00:00",
          "2013-01-01T00:00:00",
          "2014-01-01T00:00:00",
          "2014-01-01T00:00:00",
          "2014-01-01T00:00:00",
          "2014-01-01T00:00:00",
          "2014-01-01T00:00:00",
          "2014-01-01T00:00:00",
          "2014-01-01T00:00:00",
          "2014-01-01T00:00:00",
          "2014-01-01T00:00:00",
          "2014-01-01T00:00:00",
          "2014-01-01T00:00:00",
          "2014-01-01T00:00:00",
          "2014-01-01T00:00:00",
          "2014-01-01T00:00:00",
          "2014-01-01T00:00:00",
          "2014-01-01T00:00:00",
          "2014-01-01T00:00:00",
          "2014-01-01T00:00:00",
          "2014-01-01T00:00:00",
          "2014-01-01T00:00:00",
          "2014-01-01T00:00:00",
          "2014-01-01T00:00:00",
          "2014-01-01T00:00:00",
          "2014-01-01T00:00:00",
          "2014-01-01T00:00:00",
          "2014-01-01T00:00:00",
          "2014-01-01T00:00:00",
          "2014-01-01T00:00:00",
          "2014-01-01T00:00:00",
          "2014-01-01T00:00:00",
          "2014-01-01T00:00:00",
          "2014-01-01T00:00:00",
          "2014-01-01T00:00:00",
          "2014-01-01T00:00:00",
          "2014-01-01T00:00:00",
          "2014-01-01T00:00:00",
          "2014-01-01T00:00:00",
          "2014-01-01T00:00:00",
          "2014-01-01T00:00:00",
          "2014-01-01T00:00:00",
          "2014-01-01T00:00:00",
          "2014-01-01T00:00:00",
          "2014-01-01T00:00:00",
          "2014-01-01T00:00:00",
          "2014-01-01T00:00:00",
          "2014-01-01T00:00:00",
          "2014-01-01T00:00:00",
          "2014-01-01T00:00:00",
          "2014-01-01T00:00:00",
          "2014-01-01T00:00:00",
          "2014-01-01T00:00:00",
          "2014-01-01T00:00:00",
          "2014-01-01T00:00:00",
          "2014-01-01T00:00:00",
          "2014-01-01T00:00:00",
          "2014-01-01T00:00:00",
          "2014-01-01T00:00:00",
          "2014-01-01T00:00:00",
          "2014-01-01T00:00:00",
          "2014-01-01T00:00:00",
          "2014-01-01T00:00:00",
          "2014-01-01T00:00:00",
          "2014-01-01T00:00:00",
          "2014-01-01T00:00:00",
          "2014-01-01T00:00:00",
          "2014-01-01T00:00:00",
          "2014-01-01T00:00:00",
          "2014-01-01T00:00:00",
          "2014-01-01T00:00:00",
          "2014-01-01T00:00:00",
          "2014-01-01T00:00:00",
          "2014-01-01T00:00:00",
          "2014-01-01T00:00:00",
          "2014-01-01T00:00:00",
          "2014-01-01T00:00:00",
          "2014-01-01T00:00:00",
          "2014-01-01T00:00:00",
          "2014-01-01T00:00:00",
          "2014-01-01T00:00:00",
          "2015-01-01T00:00:00",
          "2015-01-01T00:00:00",
          "2015-01-01T00:00:00",
          "2015-01-01T00:00:00",
          "2015-01-01T00:00:00",
          "2015-01-01T00:00:00",
          "2015-01-01T00:00:00",
          "2015-01-01T00:00:00",
          "2015-01-01T00:00:00",
          "2015-01-01T00:00:00",
          "2015-01-01T00:00:00",
          "2015-01-01T00:00:00",
          "2015-01-01T00:00:00",
          "2015-01-01T00:00:00",
          "2015-01-01T00:00:00",
          "2015-01-01T00:00:00",
          "2015-01-01T00:00:00",
          "2015-01-01T00:00:00",
          "2015-01-01T00:00:00",
          "2015-01-01T00:00:00",
          "2015-01-01T00:00:00",
          "2015-01-01T00:00:00",
          "2015-01-01T00:00:00",
          "2015-01-01T00:00:00",
          "2015-01-01T00:00:00",
          "2015-01-01T00:00:00",
          "2015-01-01T00:00:00",
          "2015-01-01T00:00:00",
          "2015-01-01T00:00:00",
          "2015-01-01T00:00:00",
          "2015-01-01T00:00:00",
          "2015-01-01T00:00:00",
          "2015-01-01T00:00:00",
          "2015-01-01T00:00:00",
          "2015-01-01T00:00:00",
          "2015-01-01T00:00:00",
          "2015-01-01T00:00:00",
          "2015-01-01T00:00:00",
          "2015-01-01T00:00:00",
          "2015-01-01T00:00:00",
          "2015-01-01T00:00:00",
          "2015-01-01T00:00:00",
          "2015-01-01T00:00:00",
          "2015-01-01T00:00:00",
          "2015-01-01T00:00:00",
          "2015-01-01T00:00:00",
          "2015-01-01T00:00:00",
          "2015-01-01T00:00:00",
          "2015-01-01T00:00:00",
          "2015-01-01T00:00:00",
          "2015-01-01T00:00:00",
          "2015-01-01T00:00:00",
          "2015-01-01T00:00:00",
          "2015-01-01T00:00:00",
          "2015-01-01T00:00:00",
          "2015-01-01T00:00:00",
          "2015-01-01T00:00:00",
          "2015-01-01T00:00:00",
          "2015-01-01T00:00:00",
          "2015-01-01T00:00:00",
          "2015-01-01T00:00:00",
          "2015-01-01T00:00:00",
          "2015-01-01T00:00:00",
          "2015-01-01T00:00:00",
          "2015-01-01T00:00:00",
          "2015-01-01T00:00:00",
          "2015-01-01T00:00:00",
          "2015-01-01T00:00:00",
          "2015-01-01T00:00:00",
          "2015-01-01T00:00:00",
          "2015-01-01T00:00:00",
          "2015-01-01T00:00:00",
          "2015-01-01T00:00:00",
          "2015-01-01T00:00:00",
          "2015-01-01T00:00:00",
          "2015-01-01T00:00:00",
          "2015-01-01T00:00:00",
          "2015-01-01T00:00:00",
          "2016-01-01T00:00:00",
          "2016-01-01T00:00:00",
          "2016-01-01T00:00:00",
          "2016-01-01T00:00:00",
          "2016-01-01T00:00:00",
          "2016-01-01T00:00:00",
          "2016-01-01T00:00:00",
          "2016-01-01T00:00:00",
          "2016-01-01T00:00:00",
          "2016-01-01T00:00:00",
          "2016-01-01T00:00:00",
          "2016-01-01T00:00:00",
          "2016-01-01T00:00:00",
          "2016-01-01T00:00:00",
          "2016-01-01T00:00:00",
          "2016-01-01T00:00:00",
          "2016-01-01T00:00:00",
          "2016-01-01T00:00:00",
          "2016-01-01T00:00:00",
          "2016-01-01T00:00:00",
          "2016-01-01T00:00:00",
          "2016-01-01T00:00:00",
          "2016-01-01T00:00:00",
          "2016-01-01T00:00:00",
          "2016-01-01T00:00:00",
          "2016-01-01T00:00:00",
          "2016-01-01T00:00:00",
          "2016-01-01T00:00:00",
          "2016-01-01T00:00:00",
          "2016-01-01T00:00:00",
          "2016-01-01T00:00:00",
          "2016-01-01T00:00:00",
          "2016-01-01T00:00:00",
          "2016-01-01T00:00:00",
          "2016-01-01T00:00:00",
          "2016-01-01T00:00:00",
          "2016-01-01T00:00:00",
          "2016-01-01T00:00:00",
          "2016-01-01T00:00:00",
          "2016-01-01T00:00:00",
          "2016-01-01T00:00:00",
          "2016-01-01T00:00:00",
          "2016-01-01T00:00:00",
          "2016-01-01T00:00:00",
          "2016-01-01T00:00:00",
          "2016-01-01T00:00:00",
          "2016-01-01T00:00:00",
          "2016-01-01T00:00:00",
          "2016-01-01T00:00:00",
          "2016-01-01T00:00:00",
          "2016-01-01T00:00:00",
          "2016-01-01T00:00:00",
          "2016-01-01T00:00:00",
          "2016-01-01T00:00:00",
          "2016-01-01T00:00:00",
          "2016-01-01T00:00:00",
          "2016-01-01T00:00:00",
          "2016-01-01T00:00:00",
          "2016-01-01T00:00:00",
          "2016-01-01T00:00:00",
          "2016-01-01T00:00:00",
          "2016-01-01T00:00:00",
          "2016-01-01T00:00:00",
          "2016-01-01T00:00:00",
          "2016-01-01T00:00:00",
          "2016-01-01T00:00:00",
          "2016-01-01T00:00:00",
          "2016-01-01T00:00:00",
          "2016-01-01T00:00:00",
          "2016-01-01T00:00:00",
          "2016-01-01T00:00:00",
          "2016-01-01T00:00:00",
          "2016-01-01T00:00:00",
          "2016-01-01T00:00:00",
          "2016-01-01T00:00:00",
          "2016-01-01T00:00:00",
          "2016-01-01T00:00:00",
          "2016-01-01T00:00:00",
          "2017-01-01T00:00:00",
          "2017-01-01T00:00:00",
          "2017-01-01T00:00:00",
          "2017-01-01T00:00:00",
          "2017-01-01T00:00:00",
          "2017-01-01T00:00:00",
          "2017-01-01T00:00:00",
          "2017-01-01T00:00:00",
          "2017-01-01T00:00:00",
          "2017-01-01T00:00:00",
          "2017-01-01T00:00:00",
          "2017-01-01T00:00:00",
          "2017-01-01T00:00:00",
          "2017-01-01T00:00:00",
          "2017-01-01T00:00:00",
          "2017-01-01T00:00:00",
          "2017-01-01T00:00:00",
          "2017-01-01T00:00:00",
          "2017-01-01T00:00:00",
          "2017-01-01T00:00:00",
          "2017-01-01T00:00:00",
          "2017-01-01T00:00:00",
          "2017-01-01T00:00:00",
          "2017-01-01T00:00:00",
          "2017-01-01T00:00:00",
          "2017-01-01T00:00:00",
          "2017-01-01T00:00:00",
          "2017-01-01T00:00:00",
          "2017-01-01T00:00:00",
          "2017-01-01T00:00:00",
          "2017-01-01T00:00:00",
          "2017-01-01T00:00:00",
          "2017-01-01T00:00:00",
          "2017-01-01T00:00:00",
          "2017-01-01T00:00:00",
          "2017-01-01T00:00:00",
          "2017-01-01T00:00:00",
          "2017-01-01T00:00:00",
          "2017-01-01T00:00:00",
          "2017-01-01T00:00:00",
          "2017-01-01T00:00:00",
          "2017-01-01T00:00:00",
          "2017-01-01T00:00:00",
          "2017-01-01T00:00:00",
          "2017-01-01T00:00:00",
          "2017-01-01T00:00:00",
          "2017-01-01T00:00:00",
          "2017-01-01T00:00:00",
          "2017-01-01T00:00:00",
          "2017-01-01T00:00:00",
          "2017-01-01T00:00:00",
          "2017-01-01T00:00:00",
          "2017-01-01T00:00:00",
          "2017-01-01T00:00:00",
          "2017-01-01T00:00:00",
          "2017-01-01T00:00:00",
          "2017-01-01T00:00:00",
          "2017-01-01T00:00:00",
          "2017-01-01T00:00:00",
          "2017-01-01T00:00:00",
          "2017-01-01T00:00:00",
          "2017-01-01T00:00:00",
          "2017-01-01T00:00:00",
          "2017-01-01T00:00:00",
          "2017-01-01T00:00:00",
          "2017-01-01T00:00:00",
          "2017-01-01T00:00:00",
          "2017-01-01T00:00:00",
          "2017-01-01T00:00:00",
          "2017-01-01T00:00:00",
          "2017-01-01T00:00:00",
          "2017-01-01T00:00:00",
          "2017-01-01T00:00:00",
          "2017-01-01T00:00:00",
          "2017-01-01T00:00:00",
          "2017-01-01T00:00:00",
          "2017-01-01T00:00:00",
          "2017-01-01T00:00:00",
          "2018-01-01T00:00:00",
          "2018-01-01T00:00:00",
          "2018-01-01T00:00:00",
          "2018-01-01T00:00:00",
          "2018-01-01T00:00:00",
          "2018-01-01T00:00:00",
          "2018-01-01T00:00:00",
          "2018-01-01T00:00:00",
          "2018-01-01T00:00:00",
          "2018-01-01T00:00:00",
          "2018-01-01T00:00:00",
          "2018-01-01T00:00:00",
          "2018-01-01T00:00:00",
          "2018-01-01T00:00:00",
          "2018-01-01T00:00:00",
          "2018-01-01T00:00:00",
          "2018-01-01T00:00:00",
          "2018-01-01T00:00:00",
          "2018-01-01T00:00:00",
          "2018-01-01T00:00:00",
          "2018-01-01T00:00:00",
          "2018-01-01T00:00:00",
          "2018-01-01T00:00:00",
          "2018-01-01T00:00:00",
          "2018-01-01T00:00:00",
          "2018-01-01T00:00:00",
          "2018-01-01T00:00:00",
          "2018-01-01T00:00:00",
          "2018-01-01T00:00:00",
          "2018-01-01T00:00:00",
          "2018-01-01T00:00:00",
          "2018-01-01T00:00:00",
          "2018-01-01T00:00:00",
          "2018-01-01T00:00:00",
          "2018-01-01T00:00:00",
          "2018-01-01T00:00:00",
          "2018-01-01T00:00:00",
          "2018-01-01T00:00:00",
          "2018-01-01T00:00:00",
          "2018-01-01T00:00:00",
          "2018-01-01T00:00:00",
          "2018-01-01T00:00:00",
          "2018-01-01T00:00:00",
          "2018-01-01T00:00:00",
          "2018-01-01T00:00:00",
          "2018-01-01T00:00:00",
          "2018-01-01T00:00:00",
          "2018-01-01T00:00:00",
          "2018-01-01T00:00:00",
          "2018-01-01T00:00:00",
          "2018-01-01T00:00:00",
          "2018-01-01T00:00:00",
          "2019-01-01T00:00:00",
          "2019-01-01T00:00:00",
          "2019-01-01T00:00:00",
          "2019-01-01T00:00:00",
          "2019-01-01T00:00:00",
          "2019-01-01T00:00:00",
          "2019-01-01T00:00:00",
          "2019-01-01T00:00:00",
          "2019-01-01T00:00:00",
          "2019-01-01T00:00:00",
          "2019-01-01T00:00:00",
          "2019-01-01T00:00:00",
          "2019-01-01T00:00:00",
          "2019-01-01T00:00:00",
          "2019-01-01T00:00:00",
          "2019-01-01T00:00:00",
          "2019-01-01T00:00:00",
          "2019-01-01T00:00:00",
          "2019-01-01T00:00:00",
          "2019-01-01T00:00:00",
          "2019-01-01T00:00:00",
          "2019-01-01T00:00:00",
          "2019-01-01T00:00:00",
          "2019-01-01T00:00:00",
          "2019-01-01T00:00:00",
          "2019-01-01T00:00:00",
          "2019-01-01T00:00:00",
          "2019-01-01T00:00:00",
          "2019-01-01T00:00:00",
          "2019-01-01T00:00:00",
          "2019-01-01T00:00:00",
          "2019-01-01T00:00:00",
          "2019-01-01T00:00:00",
          "2019-01-01T00:00:00",
          "2019-01-01T00:00:00",
          "2019-01-01T00:00:00",
          "2019-01-01T00:00:00",
          "2019-01-01T00:00:00",
          "2019-01-01T00:00:00",
          "2019-01-01T00:00:00",
          "2019-01-01T00:00:00",
          "2019-01-01T00:00:00",
          "2019-01-01T00:00:00",
          "2019-01-01T00:00:00",
          "2019-01-01T00:00:00",
          "2019-01-01T00:00:00",
          "2019-01-01T00:00:00",
          "2019-01-01T00:00:00",
          "2020-01-01T00:00:00",
          "2020-01-01T00:00:00",
          "2020-01-01T00:00:00",
          "2020-01-01T00:00:00",
          "2020-01-01T00:00:00",
          "2020-01-01T00:00:00",
          "2020-01-01T00:00:00",
          "2020-01-01T00:00:00",
          "2020-01-01T00:00:00",
          "2020-01-01T00:00:00",
          "2020-01-01T00:00:00",
          "2020-01-01T00:00:00",
          "2020-01-01T00:00:00",
          "2020-01-01T00:00:00",
          "2020-01-01T00:00:00",
          "2020-01-01T00:00:00",
          "2020-01-01T00:00:00",
          "2020-01-01T00:00:00",
          "2020-01-01T00:00:00",
          "2020-01-01T00:00:00",
          "2020-01-01T00:00:00",
          "2020-01-01T00:00:00",
          "2020-01-01T00:00:00",
          "2020-01-01T00:00:00",
          "2020-01-01T00:00:00",
          "2020-01-01T00:00:00",
          "2020-01-01T00:00:00",
          "2020-01-01T00:00:00",
          "2021-01-01T00:00:00",
          "2021-01-01T00:00:00",
          "2021-01-01T00:00:00",
          "2021-01-01T00:00:00",
          "2021-01-01T00:00:00",
          "2021-01-01T00:00:00",
          "2021-01-01T00:00:00",
          "2021-01-01T00:00:00",
          "2021-01-01T00:00:00",
          "2021-01-01T00:00:00",
          "2021-01-01T00:00:00",
          "2021-01-01T00:00:00",
          "2021-01-01T00:00:00",
          "2021-01-01T00:00:00",
          "2021-01-01T00:00:00",
          "2021-01-01T00:00:00",
          "2021-01-01T00:00:00",
          "2021-01-01T00:00:00",
          "2021-01-01T00:00:00",
          "2021-01-01T00:00:00",
          "2021-01-01T00:00:00",
          "2021-01-01T00:00:00",
          "2021-01-01T00:00:00",
          "2021-01-01T00:00:00",
          "2021-01-01T00:00:00",
          "2021-01-01T00:00:00"
         ],
         "xaxis": "x",
         "y": [
          null,
          null,
          null,
          null,
          null,
          null,
          null,
          null,
          null,
          null,
          null,
          null,
          null,
          null,
          null,
          null,
          null,
          null,
          null,
          null,
          null,
          null,
          null,
          null,
          null,
          null,
          null,
          null,
          null,
          null,
          null,
          null,
          null,
          null,
          null,
          null,
          null,
          null,
          null,
          null,
          -0.9460793876356433,
          0.8104404136632797,
          0.7035960103077827,
          0.818382981291768,
          null,
          null,
          null,
          -0.354418894540467,
          null,
          null,
          null,
          -0.46324506336129306,
          null,
          null,
          0.24328276728246087,
          -0.5215539855281053,
          -0.10828100867335586,
          -0.7353563695840895,
          null,
          -0.3432640564477683,
          0.3084150248374904,
          -0.41747572815533984,
          0.026643364801167056,
          0,
          -0.06946612809409691,
          -0.5368077444355939,
          null,
          -0.48515872815316197,
          null,
          null,
          -0.7561920701370827,
          null,
          0.10985329754593678,
          null,
          0.6912100574004291,
          null,
          null,
          -0.060748250095852864,
          0.10419956214237572,
          null,
          -0.3853000256369582,
          null,
          0.7278241958274878,
          null,
          null,
          null,
          null,
          0.14180221703387277,
          null,
          -0.8691537761601462,
          0.13114025785034158,
          null,
          2.0932994844365007,
          -0.2524518515336253,
          0.06526668766579365,
          -0.34119662067634515,
          0.07612374964071775,
          4.938477426856477,
          -0.8494055228353286,
          -0.2744960250100461,
          null,
          -0.4153570212548712,
          -0.06970613282626559,
          0.5455768668967282,
          -0.043761006842468815,
          2.4835325900657486,
          -0.8411102337714292,
          0.14305140328287522,
          -0.26173419850955454,
          0.3273325345227375,
          -0.25348095189414976,
          0.025951918372674087,
          0,
          0.23507285192931687,
          0.2000000000000124,
          null,
          null,
          -0.5512771668707019,
          null,
          0.5016941040337584,
          0,
          null,
          null,
          -0.565771825601741,
          -0.4327246489831481,
          null,
          5.301366162632752,
          2.2156529031872316,
          null,
          -0.4034489017004669,
          -0.5010259964297793,
          0.25399581772265584,
          32.52250000000034,
          -0.2128489218227694,
          null,
          null,
          -0.08616763453347859,
          null,
          -0.9130543381424463,
          0.421237413844013,
          -0.5,
          -0.7612978700329264,
          0.09850351965158416,
          -0.14093349045554723,
          0.40557191186808106,
          null,
          null,
          null,
          0.24528450410391467,
          -0.7712565611530123,
          0.3137197126288052,
          -0.39353711609828707,
          -0.16552222486103663,
          0.26583581797752465,
          null,
          -0.3783521999501754,
          0.3752323131622483,
          0.4918452476402539,
          0.11222529277955494,
          -0.48810935531743216,
          null,
          0.9946021798627886,
          null,
          0.19185402552598196,
          null,
          2.022029309184106,
          4.933,
          -0.13558648585108338,
          5.364107077819909,
          -0.17230125469987456,
          124.74569836276615,
          0.017769037194205115,
          0.31678516997437645,
          -0.10489803610906695,
          -0.31824833333335656,
          -0.8959549792531121,
          null,
          -0.9145129447480799,
          -0.8182755070474887,
          -0.7362848694064268,
          null,
          3.8362610105135304,
          -0.04775678193005062,
          -0.9200760144192212,
          null,
          0.2770366252995532,
          -0.2744942891974285,
          null,
          -0.8261420585081677,
          0.29470647917229914,
          0.3043478260869565,
          5.212898392733491,
          -0.036779103305438716,
          -0.31170571914129264,
          -0.7183874816555408,
          0.23145418554333239,
          0.09252959737282099,
          0,
          4.211257063732723,
          -0.46716680100026886,
          -0.4107991582885161,
          -0.5560535096210679,
          null,
          null,
          -0.2210953972225662,
          0.1335941835926493,
          -0.06127498426914654,
          2.1752075766154455,
          0.24620386942857506,
          -0.6677854096969632,
          -0.8102482753305313,
          -0.2743225338460405,
          0.046819448943211106,
          0.32291671874820815,
          -0.6955117996480317,
          0.5689643921967878,
          2.1676987923271303,
          -0.08087196467991176,
          null,
          -0.33071129700161606,
          null,
          null,
          -0.9604898225201961,
          0.27365582336086286,
          -0.2473361237994081,
          -0.7221856811902531,
          0.06776517529078308,
          -0.5815007318876468,
          1.3409804991519505,
          0.07925501920412173,
          null,
          -0.711590175472069,
          null,
          null,
          0.11547163280497752,
          -0.037749432116023184,
          -0.9999988922056166,
          3.788604833333341,
          null,
          5.453891916192412,
          -0.6255049515428409,
          0.1484453735951115,
          0.17479511231107533,
          4.539161324647149,
          null,
          2.7111439512036877,
          1.784823353965675,
          0.8069815479927499,
          0.13167425758427687,
          -0.6719756841134176,
          null,
          -0.40971833715441175,
          -0.11316114984792389,
          -0.2679245283018869,
          0.10480065291432933,
          10.601556050113425,
          0.04176939792719122,
          null,
          0.372712537535087,
          51.92236915838142,
          10.701456424307088,
          -0.15980986882422685,
          -0.07717792769189535,
          null,
          null,
          3.9352388505795375,
          -0.21853319890531758,
          null,
          -0.032102618259782646,
          -0.9997607619230583,
          1.2007591327552953,
          0.7479340908938233,
          -0.05423488525806933,
          -0.486408981890229,
          -0.2105452100429303,
          -0.25586536780183655,
          null,
          -0.3780226707326725,
          0.02364450077229334,
          -0.9059672549393339,
          0.9835825974624798,
          0.3180890686034705,
          -0.4043975838507079,
          0.29562884799180333,
          0.12277847639881949,
          1.5025107927223875,
          2.2957033255407824,
          130.71041328935067,
          0.1973374268851072,
          -0.039673115300249084,
          null,
          0.5138555295122986,
          0.016122534719279664,
          0,
          0.05134385409041708,
          -0.9570720497925294,
          -0.11648842636113291,
          -0.09205805017650386,
          -0.3266969204664907,
          null,
          12.610735840415785,
          24.82000992727991,
          null,
          -0.17989610779051013,
          -0.006671197906650424,
          0.18108969561505892,
          0.029144578347046632,
          16.402726476582036,
          0.2786525402819607,
          null,
          0.4465910445151055,
          0.6687492341959016,
          -0.13204003027812583,
          -0.41582100930237653,
          0.18812914789011975,
          0.1978294266316469,
          null,
          0.5351237744951697,
          -0.1711631665418563,
          0.056472584999848564,
          0.4653977499606774,
          0.24993870377038366,
          -0.847017408829691,
          0.2984777151115924,
          -0.9262514224501732,
          12.211734547319834,
          -0.8175372023294302,
          null,
          2.0827923041636307,
          0.06951283487533971,
          0.02941999663303941,
          -0.3321429435790678,
          -0.6849720297710753,
          -0.7664284053836662,
          -0.3688646678229628,
          -0.4466911289751689,
          -0.13395485770363103,
          -0.525031550794194,
          -0.34386037005260645,
          -0.9418091120613669,
          0.40029295946125903,
          -0.015740566633533695,
          -0.14242123259563444,
          null,
          0.7239851801228079,
          0.06073407028460089,
          -0.16954046163524042,
          12.95228986257875,
          -0.3306185690109279,
          0.21497337056326088,
          -0.9000968693570164,
          null,
          null,
          1.498552258125038,
          9.706294902386627,
          -0.25628800669896185,
          null,
          -0.3367669488715489,
          4.544319015146944,
          6.345172772640193,
          -0.11011501819968603,
          3.0390237497025545,
          -0.506070658136974,
          -0.08370617959801077,
          0,
          -0.17303321278429748,
          4.872366413302557,
          -0.06272016527836022,
          0.3339546794083145,
          null,
          null,
          -0.23004749999999996,
          3688539.171069002,
          0.6770814099344199,
          0.4169827842996623,
          null,
          -0.5572599489942129,
          null,
          -0.78057341232464,
          0.07613703645795339,
          0.0023679689564022155,
          0.033086609299904694,
          -0.20924751397250307,
          0.3354318850479449,
          -0.3707276478460024,
          2.1036222334644314,
          0.5291874081619978,
          0.24320580879929538,
          -0.28989409385330955,
          0.3834148166546082,
          19.332553401856526,
          -0.2335876932329421,
          null,
          0.4031018575979477,
          0.049206240548630584,
          -0.39799915713088985,
          -0.05598722115541183,
          -0.3350919055155042,
          0.46960408970855466,
          0.7842934859484733,
          -0.370508807277689,
          0.4807197088763682,
          -0.8837466665649447,
          1.2721477023512013,
          0.04074394372805171,
          0.6259106447950836,
          0.028579196760568384,
          0.12106033570943621,
          -0.9898927916209792,
          null,
          3.1587081767466656,
          -0.6353974180923858,
          -0.0007584721337313457,
          -0.8869120158725289,
          -0.8427904708862277,
          -0.08933756468847188,
          0.008532059601341938,
          0.10257784900695058,
          3.5475592024085483,
          -0.028796976035228707,
          -0.33744216613766137,
          0.03189579099616466,
          0.027097172046770077,
          0.003590246406656177,
          199542.12865515222,
          -0.21078723249479342,
          -0.5000000000000023,
          0.4735425136233888,
          1.1722636931847468,
          0.8914822437572147,
          null,
          -0.6258048369440107,
          -0.00025917747436731927,
          0.663378216237835,
          -0.6618810126460265,
          -0.11901597510957988,
          0.4512843220926557,
          1.2244715558944488,
          -0.11402131913189638,
          -0.761742283868171,
          -0.0030796576289955106,
          3,
          -0.5320614632086939,
          -0.6359828876165301,
          0.829430770541244,
          0.5801150128530845,
          -0.7555317063153302,
          0.07737744053867134,
          -0.850853867305,
          null,
          -0.09763632351604991,
          -0.8412498322790846,
          -0.38457903797821963,
          -0.24444900628147254,
          15.383773401624868,
          -0.4281255746389893,
          0.14530889376982886,
          0.006118425865829822,
          -0.1940270994571181,
          0.15881683025196633,
          -0.05731285272692858,
          -0.1823037803961452,
          null,
          -0.19324313134944088,
          0,
          -0.40824064599939336,
          0.16861329310770665,
          2.3345774135577573,
          -0.39974417882901064,
          -0.32381180546597116,
          -0.1414058885633281,
          -0.11088461595548721,
          null,
          0.13656555752252783,
          -0.9261774283879426,
          -0.10409067439505965,
          -0.28778561844093703,
          0.3307250767585912,
          null,
          -0.11314850103504469,
          0.9744609705698796,
          -0.1973672565410935,
          0.999527079735496,
          -0.02552565180824234,
          7.637954048661938,
          0.08482743726393296,
          -0.7651940777589548,
          0.7040243114247524,
          0.5536828316575251,
          -0.8949523841520963,
          22900.898591785466,
          0.6266892211550474,
          0.451501194254125,
          1.8255245699711677,
          -0.3429574571283965,
          2.346058415551431,
          -0.2187576545612861,
          0.35821856334681695,
          6.798986000000495,
          11.127935627469858,
          -0.0026628622462325697,
          0.13799635743167274,
          0.9919193886595083,
          -0.09473584140925079,
          0.16009851314836646,
          0.829835314585308,
          -0.491702010569647,
          13.99099690880989,
          1.238630467576818,
          -0.9686784504075464,
          0.034845096867799,
          -0.2012151007080749,
          0.02693440324719535,
          0.07526430494017183,
          -0.9540061893897037,
          -0.035548330353356895,
          -0.13574877291068113,
          0.1310965703659151,
          0.6248125126373096,
          0.055979634465706245,
          0.5098061475548106,
          -0.5282441396866071,
          0.1388742823954406,
          -0.14244420703305977,
          -0.5,
          0.32481525497199015,
          -0.9407950797821308,
          0.08471612979032708,
          8082.333333401951,
          1.2667570431173494,
          0,
          -0.21477505079263942,
          -0.9999999989372017,
          0.392447030564853,
          5.9905695479172465,
          -0.32353740292020516,
          -0.9839966452837644,
          null,
          -0.06075253048661237,
          0.2061573115994729,
          0.17711629315281963,
          -0.15688617810531166,
          -0.8656230884496694,
          -0.7111822547608142,
          -0.002488428212652995,
          0.012387503536649873,
          -0.2718597481431481,
          0.4864000069107892,
          0.28007864622945516,
          -0.5424179657691051,
          -0.38326577770716147,
          -0.9392285223367698,
          -0.3094929468694763,
          -0.8020267762345812,
          -0.22532363666396438,
          -0.39492213896435885,
          0.45223481677078653,
          -0.42880994749445284,
          -0.463570232059977,
          3.5956069318612554,
          0.13617379208585467,
          -0.4703244292927113,
          0.3242536645886347,
          0.9204647507519569,
          0.3313488692368993,
          115.91251422779276,
          0.05641482160224064,
          -0.6891149618299162,
          -0.3811469273742944,
          -0.4584821154392833,
          -0.7641011237672658,
          0.29827172812713,
          0.6473051775801557,
          0.03395367086644559,
          0.04774875610051578,
          null,
          0.35756615384615387,
          -0.02856053858273497,
          -0.4849137855815528,
          0.2901438671911317,
          0.007463766862740339,
          -0.6690202465536202,
          1.1519770054487222,
          0.06779816564623271,
          -0.7932012653718531,
          -0.41779462867034395,
          -0.9673499026047594,
          0.0019312393653510968,
          0.36650682656550904,
          -0.5616266181069633,
          -0.8697052425814606,
          0.09999999731991796,
          -0.708295211368845,
          -0.35507957444246824,
          -0.9288719559485032,
          0.3498213022398722,
          0.14214154043439922,
          0.4561591864625848,
          -0.2881062617456868,
          0.30110697285860283,
          1.8609128820637952,
          0.010637864648225099,
          -0.009894937230043884,
          -0.09778700125640087,
          0.4613387923764853,
          4.147191222835175,
          0.5128524515909862,
          0.10809692684040412,
          -0.26391698739949593,
          -0.2654099018928921,
          0.33312224709602817,
          -0.4782783324856039,
          -0.23506098825737842,
          0.058955633268786244,
          -0.027212219136803297,
          0.9814197361149297,
          -0.9045980213143424,
          -0.8252417846353162,
          0.14202311682175173,
          0.7911531959621991,
          0.28254618752669797,
          -0.343349331363063,
          0.15098632486777536,
          null,
          0.7336064540879905,
          -0.7026209392405779,
          -0.6005304498710619,
          0.24337572294072543,
          9.785913533834586,
          14.021125245529685,
          -0.309745508478626,
          -0.29770254358869747,
          0.124296377883573,
          5.983439823557826,
          -0.10433795389207305,
          -0.5337218337218337,
          17.975332068311197,
          5.37305473442718,
          -0.6735339179434999,
          1.0378490033825207,
          -0.010339281701717863,
          0.7320821545759237,
          -0.18987867593709293,
          0.4299897915000421,
          0.1684460692304171,
          -0.30794621876654926,
          -0.8990245388990623,
          0.2967907322023032,
          -0.5398043520807744,
          null,
          9.44622866581024,
          0.5482401849732583,
          -0.11730283937804908,
          0.2808573586480066,
          0.035916824196597384,
          -0.6355386283496278,
          -0.22374203608720583,
          -0.6891505329204678,
          0.09023625538077026,
          0.16838467401719684,
          -0.7115967524157869,
          -0.5840003519478687,
          -0.7248190491617896,
          -0.24919374167931713,
          0.5734788931351911,
          -0.002763308293401496,
          0.20071076216086486,
          0.020000014618629124,
          6.1892363002029835,
          0.4563132693139657,
          0.0011285940683722275,
          null,
          -0.03824427213080233,
          -0.9700681768270671,
          0.20521311594566582,
          0.43865969909742064,
          null,
          0.09379514728452189,
          0.01052589163767811,
          0,
          0.11138597227723414,
          17.415250598936545,
          -0.12205210893376517,
          -0.0015094339622640652,
          -0.2350042779089639,
          89.44999999999509,
          -0.06437125748502992,
          -0.277424244681376,
          177620310.3252183,
          3.1793916608682227,
          -0.9167308207923078,
          -0.11570321042867152,
          null,
          null,
          0.06894983892780085,
          0.12119398609075359,
          1.2149692324113714,
          0.3097352824326765,
          -0.22756969018222967,
          -0.26686760991984915,
          -0.5922893428102246,
          null,
          -0.5510420689001968,
          -0.6905369253095858,
          -0.4054663112666259,
          -0.11368871196252094,
          7.242460330772585,
          -0.37033321864758045,
          0.15257880650035455,
          2.0940919991279703,
          null,
          -0.07853845850878327,
          0.02100256410256411,
          0.21100000000000005,
          0.13863308998383952,
          -0.6458893347004079,
          0.10834078218266131,
          -0.8217176108683735,
          0.17885616449532232,
          0.09273088811251413,
          0.03146228268463201,
          0.2831399393521298,
          -0.06676643317607361,
          0.32240798909006674,
          0.5679272421446852,
          -0.7600945990675183,
          0.663010644514478,
          -0.6851853569866196,
          0.0313868613138686,
          -0.9643,
          0.7139550811596928,
          0.23792930343563262,
          -0.24399422220545786,
          0.9108310065676188,
          494.98234,
          null,
          0.02000000955465942,
          -0.5981064232705502,
          -0.20533951105423384,
          0.1552931294178724,
          0.17033330960410895,
          0.2898419138955056,
          0.039647334181347846,
          0.022622134046014618,
          -0.06456523430603574,
          null,
          0.4977324263038548,
          0.27936735999999995,
          0.5963689076000672,
          3.4398946376251223,
          0.8188961647240834,
          0.9410429442467766,
          -0.9597915633135495,
          -0.911321949751448,
          -0.054949461015752696,
          0.417623020063306,
          3.4333894799752174,
          -0.6902553554087026,
          -0.39930741463938463,
          0.5066496580468794,
          0.14268362588904665,
          0.34357238822219804,
          null,
          -0.7882497921452025,
          -0.7740176383139419,
          2.6243373093316866,
          -0.8151082072925974,
          -0.08060955672026744,
          0.04472109740377047,
          3.627830546760725,
          5.445299333333335,
          -0.6568165703104725,
          -0.2685008999868295,
          1.377861524395602,
          1.5263080243949023,
          -0.24044528582195498,
          -0.6732133402120439,
          0.027399770694894417,
          0.021731491880228906,
          2.586754721036333,
          2.2634057750474477,
          30.266114450828145,
          1.9581390128588467,
          0.03199733785860749,
          0.006584256600251343,
          10.043750523057627,
          null,
          -0.23283822162532739,
          0.10798036506339918,
          null,
          -0.3086714684033841,
          0.1946394753232335,
          -0.790198197185925,
          -0.07416176886197326,
          0.7440906041683282,
          0.21897916586058383,
          0.9365519290906547,
          0.7926492456621532,
          36.802920076790954,
          -0.7907487061637213,
          2.2853718942445402,
          0.1753661227627504,
          -0.07344007615486665,
          -0.29652754309055557,
          null,
          0.8742929599231117,
          0.8431846979250578,
          0.44981257157135873,
          0.2586866994976816,
          0.7519997209215515,
          1.721397874729474,
          -0.8219803373123222,
          0,
          -0.11306996794662887,
          0.260224732893142,
          0.08172240387005487,
          3.1524627431169483,
          -0.9670238694173711,
          0.007567119900617847,
          0.10897580252596735,
          0.03950520494812641,
          0.027206858571903508,
          0.025890086773559452,
          -0.0700848316740635,
          -0.3605982179189743,
          0.40137394995543946,
          -0.2539545437402428,
          0.2781869256937531,
          -0.08783009818760117,
          2.1729664685596894,
          -0.00683041842874294,
          -0.9825169458428812,
          -0.17367366365895695,
          18.182722572617234,
          1.131228160879837,
          2.0918948897811465,
          -0.9058096677924612,
          -0.5493009885455938,
          -0.9294386863387213,
          0.589672778878441,
          -0.6192994851154892,
          0.5549257963187416,
          -0.8794884813268724,
          1.4276955797704263,
          -0.5642863503189615,
          -0.0732421146637686,
          0.27297764127006285,
          -0.5364359718194941,
          -0.47023709513437195,
          1.0527615168305306e-8,
          34.425056218251825,
          -0.40718137024119,
          -0.17862735375655348,
          0.5424546896564058,
          -0.013778768577494552,
          0.5505123374492725,
          0.06726333792429808,
          0.07117223075158634,
          0.469356539414345,
          0.10772292296280138,
          17.978295627766233,
          -0.5871581019688753,
          -0.4217266860095845,
          0.281189244219089,
          -0.4839227493362322,
          -0.3622952091759177,
          0.9803887449645957,
          -0.8137870154775511,
          -0.7652555555555556,
          -0.18992203841034472,
          6.516876832777634,
          0.3029813602021539,
          2.948821514966774,
          -0.34584707873422227,
          0.21288496999840606
         ],
         "yaxis": "y"
        }
       ],
       "layout": {
        "barmode": "relative",
        "legend": {
         "tracegroupgap": 0
        },
        "margin": {
         "t": 60
        },
        "template": {
         "data": {
          "bar": [
           {
            "error_x": {
             "color": "#2a3f5f"
            },
            "error_y": {
             "color": "#2a3f5f"
            },
            "marker": {
             "line": {
              "color": "#E5ECF6",
              "width": 0.5
             },
             "pattern": {
              "fillmode": "overlay",
              "size": 10,
              "solidity": 0.2
             }
            },
            "type": "bar"
           }
          ],
          "barpolar": [
           {
            "marker": {
             "line": {
              "color": "#E5ECF6",
              "width": 0.5
             },
             "pattern": {
              "fillmode": "overlay",
              "size": 10,
              "solidity": 0.2
             }
            },
            "type": "barpolar"
           }
          ],
          "carpet": [
           {
            "aaxis": {
             "endlinecolor": "#2a3f5f",
             "gridcolor": "white",
             "linecolor": "white",
             "minorgridcolor": "white",
             "startlinecolor": "#2a3f5f"
            },
            "baxis": {
             "endlinecolor": "#2a3f5f",
             "gridcolor": "white",
             "linecolor": "white",
             "minorgridcolor": "white",
             "startlinecolor": "#2a3f5f"
            },
            "type": "carpet"
           }
          ],
          "choropleth": [
           {
            "colorbar": {
             "outlinewidth": 0,
             "ticks": ""
            },
            "type": "choropleth"
           }
          ],
          "contour": [
           {
            "colorbar": {
             "outlinewidth": 0,
             "ticks": ""
            },
            "colorscale": [
             [
              0,
              "#0d0887"
             ],
             [
              0.1111111111111111,
              "#46039f"
             ],
             [
              0.2222222222222222,
              "#7201a8"
             ],
             [
              0.3333333333333333,
              "#9c179e"
             ],
             [
              0.4444444444444444,
              "#bd3786"
             ],
             [
              0.5555555555555556,
              "#d8576b"
             ],
             [
              0.6666666666666666,
              "#ed7953"
             ],
             [
              0.7777777777777778,
              "#fb9f3a"
             ],
             [
              0.8888888888888888,
              "#fdca26"
             ],
             [
              1,
              "#f0f921"
             ]
            ],
            "type": "contour"
           }
          ],
          "contourcarpet": [
           {
            "colorbar": {
             "outlinewidth": 0,
             "ticks": ""
            },
            "type": "contourcarpet"
           }
          ],
          "heatmap": [
           {
            "colorbar": {
             "outlinewidth": 0,
             "ticks": ""
            },
            "colorscale": [
             [
              0,
              "#0d0887"
             ],
             [
              0.1111111111111111,
              "#46039f"
             ],
             [
              0.2222222222222222,
              "#7201a8"
             ],
             [
              0.3333333333333333,
              "#9c179e"
             ],
             [
              0.4444444444444444,
              "#bd3786"
             ],
             [
              0.5555555555555556,
              "#d8576b"
             ],
             [
              0.6666666666666666,
              "#ed7953"
             ],
             [
              0.7777777777777778,
              "#fb9f3a"
             ],
             [
              0.8888888888888888,
              "#fdca26"
             ],
             [
              1,
              "#f0f921"
             ]
            ],
            "type": "heatmap"
           }
          ],
          "heatmapgl": [
           {
            "colorbar": {
             "outlinewidth": 0,
             "ticks": ""
            },
            "colorscale": [
             [
              0,
              "#0d0887"
             ],
             [
              0.1111111111111111,
              "#46039f"
             ],
             [
              0.2222222222222222,
              "#7201a8"
             ],
             [
              0.3333333333333333,
              "#9c179e"
             ],
             [
              0.4444444444444444,
              "#bd3786"
             ],
             [
              0.5555555555555556,
              "#d8576b"
             ],
             [
              0.6666666666666666,
              "#ed7953"
             ],
             [
              0.7777777777777778,
              "#fb9f3a"
             ],
             [
              0.8888888888888888,
              "#fdca26"
             ],
             [
              1,
              "#f0f921"
             ]
            ],
            "type": "heatmapgl"
           }
          ],
          "histogram": [
           {
            "marker": {
             "pattern": {
              "fillmode": "overlay",
              "size": 10,
              "solidity": 0.2
             }
            },
            "type": "histogram"
           }
          ],
          "histogram2d": [
           {
            "colorbar": {
             "outlinewidth": 0,
             "ticks": ""
            },
            "colorscale": [
             [
              0,
              "#0d0887"
             ],
             [
              0.1111111111111111,
              "#46039f"
             ],
             [
              0.2222222222222222,
              "#7201a8"
             ],
             [
              0.3333333333333333,
              "#9c179e"
             ],
             [
              0.4444444444444444,
              "#bd3786"
             ],
             [
              0.5555555555555556,
              "#d8576b"
             ],
             [
              0.6666666666666666,
              "#ed7953"
             ],
             [
              0.7777777777777778,
              "#fb9f3a"
             ],
             [
              0.8888888888888888,
              "#fdca26"
             ],
             [
              1,
              "#f0f921"
             ]
            ],
            "type": "histogram2d"
           }
          ],
          "histogram2dcontour": [
           {
            "colorbar": {
             "outlinewidth": 0,
             "ticks": ""
            },
            "colorscale": [
             [
              0,
              "#0d0887"
             ],
             [
              0.1111111111111111,
              "#46039f"
             ],
             [
              0.2222222222222222,
              "#7201a8"
             ],
             [
              0.3333333333333333,
              "#9c179e"
             ],
             [
              0.4444444444444444,
              "#bd3786"
             ],
             [
              0.5555555555555556,
              "#d8576b"
             ],
             [
              0.6666666666666666,
              "#ed7953"
             ],
             [
              0.7777777777777778,
              "#fb9f3a"
             ],
             [
              0.8888888888888888,
              "#fdca26"
             ],
             [
              1,
              "#f0f921"
             ]
            ],
            "type": "histogram2dcontour"
           }
          ],
          "mesh3d": [
           {
            "colorbar": {
             "outlinewidth": 0,
             "ticks": ""
            },
            "type": "mesh3d"
           }
          ],
          "parcoords": [
           {
            "line": {
             "colorbar": {
              "outlinewidth": 0,
              "ticks": ""
             }
            },
            "type": "parcoords"
           }
          ],
          "pie": [
           {
            "automargin": true,
            "type": "pie"
           }
          ],
          "scatter": [
           {
            "fillpattern": {
             "fillmode": "overlay",
             "size": 10,
             "solidity": 0.2
            },
            "type": "scatter"
           }
          ],
          "scatter3d": [
           {
            "line": {
             "colorbar": {
              "outlinewidth": 0,
              "ticks": ""
             }
            },
            "marker": {
             "colorbar": {
              "outlinewidth": 0,
              "ticks": ""
             }
            },
            "type": "scatter3d"
           }
          ],
          "scattercarpet": [
           {
            "marker": {
             "colorbar": {
              "outlinewidth": 0,
              "ticks": ""
             }
            },
            "type": "scattercarpet"
           }
          ],
          "scattergeo": [
           {
            "marker": {
             "colorbar": {
              "outlinewidth": 0,
              "ticks": ""
             }
            },
            "type": "scattergeo"
           }
          ],
          "scattergl": [
           {
            "marker": {
             "colorbar": {
              "outlinewidth": 0,
              "ticks": ""
             }
            },
            "type": "scattergl"
           }
          ],
          "scattermapbox": [
           {
            "marker": {
             "colorbar": {
              "outlinewidth": 0,
              "ticks": ""
             }
            },
            "type": "scattermapbox"
           }
          ],
          "scatterpolar": [
           {
            "marker": {
             "colorbar": {
              "outlinewidth": 0,
              "ticks": ""
             }
            },
            "type": "scatterpolar"
           }
          ],
          "scatterpolargl": [
           {
            "marker": {
             "colorbar": {
              "outlinewidth": 0,
              "ticks": ""
             }
            },
            "type": "scatterpolargl"
           }
          ],
          "scatterternary": [
           {
            "marker": {
             "colorbar": {
              "outlinewidth": 0,
              "ticks": ""
             }
            },
            "type": "scatterternary"
           }
          ],
          "surface": [
           {
            "colorbar": {
             "outlinewidth": 0,
             "ticks": ""
            },
            "colorscale": [
             [
              0,
              "#0d0887"
             ],
             [
              0.1111111111111111,
              "#46039f"
             ],
             [
              0.2222222222222222,
              "#7201a8"
             ],
             [
              0.3333333333333333,
              "#9c179e"
             ],
             [
              0.4444444444444444,
              "#bd3786"
             ],
             [
              0.5555555555555556,
              "#d8576b"
             ],
             [
              0.6666666666666666,
              "#ed7953"
             ],
             [
              0.7777777777777778,
              "#fb9f3a"
             ],
             [
              0.8888888888888888,
              "#fdca26"
             ],
             [
              1,
              "#f0f921"
             ]
            ],
            "type": "surface"
           }
          ],
          "table": [
           {
            "cells": {
             "fill": {
              "color": "#EBF0F8"
             },
             "line": {
              "color": "white"
             }
            },
            "header": {
             "fill": {
              "color": "#C8D4E3"
             },
             "line": {
              "color": "white"
             }
            },
            "type": "table"
           }
          ]
         },
         "layout": {
          "annotationdefaults": {
           "arrowcolor": "#2a3f5f",
           "arrowhead": 0,
           "arrowwidth": 1
          },
          "autotypenumbers": "strict",
          "coloraxis": {
           "colorbar": {
            "outlinewidth": 0,
            "ticks": ""
           }
          },
          "colorscale": {
           "diverging": [
            [
             0,
             "#8e0152"
            ],
            [
             0.1,
             "#c51b7d"
            ],
            [
             0.2,
             "#de77ae"
            ],
            [
             0.3,
             "#f1b6da"
            ],
            [
             0.4,
             "#fde0ef"
            ],
            [
             0.5,
             "#f7f7f7"
            ],
            [
             0.6,
             "#e6f5d0"
            ],
            [
             0.7,
             "#b8e186"
            ],
            [
             0.8,
             "#7fbc41"
            ],
            [
             0.9,
             "#4d9221"
            ],
            [
             1,
             "#276419"
            ]
           ],
           "sequential": [
            [
             0,
             "#0d0887"
            ],
            [
             0.1111111111111111,
             "#46039f"
            ],
            [
             0.2222222222222222,
             "#7201a8"
            ],
            [
             0.3333333333333333,
             "#9c179e"
            ],
            [
             0.4444444444444444,
             "#bd3786"
            ],
            [
             0.5555555555555556,
             "#d8576b"
            ],
            [
             0.6666666666666666,
             "#ed7953"
            ],
            [
             0.7777777777777778,
             "#fb9f3a"
            ],
            [
             0.8888888888888888,
             "#fdca26"
            ],
            [
             1,
             "#f0f921"
            ]
           ],
           "sequentialminus": [
            [
             0,
             "#0d0887"
            ],
            [
             0.1111111111111111,
             "#46039f"
            ],
            [
             0.2222222222222222,
             "#7201a8"
            ],
            [
             0.3333333333333333,
             "#9c179e"
            ],
            [
             0.4444444444444444,
             "#bd3786"
            ],
            [
             0.5555555555555556,
             "#d8576b"
            ],
            [
             0.6666666666666666,
             "#ed7953"
            ],
            [
             0.7777777777777778,
             "#fb9f3a"
            ],
            [
             0.8888888888888888,
             "#fdca26"
            ],
            [
             1,
             "#f0f921"
            ]
           ]
          },
          "colorway": [
           "#636efa",
           "#EF553B",
           "#00cc96",
           "#ab63fa",
           "#FFA15A",
           "#19d3f3",
           "#FF6692",
           "#B6E880",
           "#FF97FF",
           "#FECB52"
          ],
          "font": {
           "color": "#2a3f5f"
          },
          "geo": {
           "bgcolor": "white",
           "lakecolor": "white",
           "landcolor": "#E5ECF6",
           "showlakes": true,
           "showland": true,
           "subunitcolor": "white"
          },
          "hoverlabel": {
           "align": "left"
          },
          "hovermode": "closest",
          "mapbox": {
           "style": "light"
          },
          "paper_bgcolor": "white",
          "plot_bgcolor": "#E5ECF6",
          "polar": {
           "angularaxis": {
            "gridcolor": "white",
            "linecolor": "white",
            "ticks": ""
           },
           "bgcolor": "#E5ECF6",
           "radialaxis": {
            "gridcolor": "white",
            "linecolor": "white",
            "ticks": ""
           }
          },
          "scene": {
           "xaxis": {
            "backgroundcolor": "#E5ECF6",
            "gridcolor": "white",
            "gridwidth": 2,
            "linecolor": "white",
            "showbackground": true,
            "ticks": "",
            "zerolinecolor": "white"
           },
           "yaxis": {
            "backgroundcolor": "#E5ECF6",
            "gridcolor": "white",
            "gridwidth": 2,
            "linecolor": "white",
            "showbackground": true,
            "ticks": "",
            "zerolinecolor": "white"
           },
           "zaxis": {
            "backgroundcolor": "#E5ECF6",
            "gridcolor": "white",
            "gridwidth": 2,
            "linecolor": "white",
            "showbackground": true,
            "ticks": "",
            "zerolinecolor": "white"
           }
          },
          "shapedefaults": {
           "line": {
            "color": "#2a3f5f"
           }
          },
          "ternary": {
           "aaxis": {
            "gridcolor": "white",
            "linecolor": "white",
            "ticks": ""
           },
           "baxis": {
            "gridcolor": "white",
            "linecolor": "white",
            "ticks": ""
           },
           "bgcolor": "#E5ECF6",
           "caxis": {
            "gridcolor": "white",
            "linecolor": "white",
            "ticks": ""
           }
          },
          "title": {
           "x": 0.05
          },
          "xaxis": {
           "automargin": true,
           "gridcolor": "white",
           "linecolor": "white",
           "ticks": "",
           "title": {
            "standoff": 15
           },
           "zerolinecolor": "white",
           "zerolinewidth": 2
          },
          "yaxis": {
           "automargin": true,
           "gridcolor": "white",
           "linecolor": "white",
           "ticks": "",
           "title": {
            "standoff": 15
           },
           "zerolinecolor": "white",
           "zerolinewidth": 2
          }
         }
        },
        "xaxis": {
         "anchor": "y",
         "domain": [
          0,
          1
         ],
         "title": {
          "text": "Year"
         }
        },
        "yaxis": {
         "anchor": "x",
         "domain": [
          0,
          1
         ],
         "title": {
          "text": "avg of total_vaccine_delivery_cost in USD_prev_1_year_pct_change"
         }
        }
       }
      },
      "text/html": [
       "<div>                            <div id=\"43c1a765-9ed7-46ca-9e03-8da6f5489341\" class=\"plotly-graph-div\" style=\"height:525px; width:100%;\"></div>            <script type=\"text/javascript\">                require([\"plotly\"], function(Plotly) {                    window.PLOTLYENV=window.PLOTLYENV || {};                                    if (document.getElementById(\"43c1a765-9ed7-46ca-9e03-8da6f5489341\")) {                    Plotly.newPlot(                        \"43c1a765-9ed7-46ca-9e03-8da6f5489341\",                        [{\"alignmentgroup\":\"True\",\"bingroup\":\"x\",\"histfunc\":\"avg\",\"hovertemplate\":\"Year=%{x}<br>avg of total_vaccine_delivery_cost in USD_prev_1_year_pct_change=%{y}<extra></extra>\",\"legendgroup\":\"\",\"marker\":{\"color\":\"#636efa\",\"pattern\":{\"shape\":\"\"}},\"name\":\"\",\"offsetgroup\":\"\",\"orientation\":\"v\",\"showlegend\":false,\"x\":[\"2007-01-01T00:00:00\",\"2007-01-01T00:00:00\",\"2007-01-01T00:00:00\",\"2007-01-01T00:00:00\",\"2007-01-01T00:00:00\",\"2007-01-01T00:00:00\",\"2007-01-01T00:00:00\",\"2007-01-01T00:00:00\",\"2007-01-01T00:00:00\",\"2007-01-01T00:00:00\",\"2007-01-01T00:00:00\",\"2007-01-01T00:00:00\",\"2007-01-01T00:00:00\",\"2007-01-01T00:00:00\",\"2007-01-01T00:00:00\",\"2007-01-01T00:00:00\",\"2007-01-01T00:00:00\",\"2007-01-01T00:00:00\",\"2007-01-01T00:00:00\",\"2007-01-01T00:00:00\",\"2007-01-01T00:00:00\",\"2007-01-01T00:00:00\",\"2007-01-01T00:00:00\",\"2007-01-01T00:00:00\",\"2007-01-01T00:00:00\",\"2007-01-01T00:00:00\",\"2007-01-01T00:00:00\",\"2007-01-01T00:00:00\",\"2007-01-01T00:00:00\",\"2007-01-01T00:00:00\",\"2007-01-01T00:00:00\",\"2007-01-01T00:00:00\",\"2007-01-01T00:00:00\",\"2007-01-01T00:00:00\",\"2007-01-01T00:00:00\",\"2007-01-01T00:00:00\",\"2007-01-01T00:00:00\",\"2007-01-01T00:00:00\",\"2007-01-01T00:00:00\",\"2007-01-01T00:00:00\",\"2008-01-01T00:00:00\",\"2008-01-01T00:00:00\",\"2008-01-01T00:00:00\",\"2008-01-01T00:00:00\",\"2008-01-01T00:00:00\",\"2008-01-01T00:00:00\",\"2008-01-01T00:00:00\",\"2008-01-01T00:00:00\",\"2008-01-01T00:00:00\",\"2008-01-01T00:00:00\",\"2008-01-01T00:00:00\",\"2008-01-01T00:00:00\",\"2008-01-01T00:00:00\",\"2008-01-01T00:00:00\",\"2008-01-01T00:00:00\",\"2008-01-01T00:00:00\",\"2008-01-01T00:00:00\",\"2008-01-01T00:00:00\",\"2008-01-01T00:00:00\",\"2008-01-01T00:00:00\",\"2008-01-01T00:00:00\",\"2008-01-01T00:00:00\",\"2008-01-01T00:00:00\",\"2008-01-01T00:00:00\",\"2008-01-01T00:00:00\",\"2008-01-01T00:00:00\",\"2008-01-01T00:00:00\",\"2008-01-01T00:00:00\",\"2008-01-01T00:00:00\",\"2008-01-01T00:00:00\",\"2008-01-01T00:00:00\",\"2008-01-01T00:00:00\",\"2008-01-01T00:00:00\",\"2008-01-01T00:00:00\",\"2008-01-01T00:00:00\",\"2008-01-01T00:00:00\",\"2008-01-01T00:00:00\",\"2008-01-01T00:00:00\",\"2008-01-01T00:00:00\",\"2008-01-01T00:00:00\",\"2008-01-01T00:00:00\",\"2008-01-01T00:00:00\",\"2008-01-01T00:00:00\",\"2008-01-01T00:00:00\",\"2008-01-01T00:00:00\",\"2008-01-01T00:00:00\",\"2008-01-01T00:00:00\",\"2008-01-01T00:00:00\",\"2008-01-01T00:00:00\",\"2008-01-01T00:00:00\",\"2008-01-01T00:00:00\",\"2009-01-01T00:00:00\",\"2009-01-01T00:00:00\",\"2009-01-01T00:00:00\",\"2009-01-01T00:00:00\",\"2009-01-01T00:00:00\",\"2009-01-01T00:00:00\",\"2009-01-01T00:00:00\",\"2009-01-01T00:00:00\",\"2009-01-01T00:00:00\",\"2009-01-01T00:00:00\",\"2009-01-01T00:00:00\",\"2009-01-01T00:00:00\",\"2009-01-01T00:00:00\",\"2009-01-01T00:00:00\",\"2009-01-01T00:00:00\",\"2009-01-01T00:00:00\",\"2009-01-01T00:00:00\",\"2009-01-01T00:00:00\",\"2009-01-01T00:00:00\",\"2009-01-01T00:00:00\",\"2009-01-01T00:00:00\",\"2009-01-01T00:00:00\",\"2009-01-01T00:00:00\",\"2009-01-01T00:00:00\",\"2009-01-01T00:00:00\",\"2009-01-01T00:00:00\",\"2009-01-01T00:00:00\",\"2009-01-01T00:00:00\",\"2009-01-01T00:00:00\",\"2009-01-01T00:00:00\",\"2009-01-01T00:00:00\",\"2009-01-01T00:00:00\",\"2009-01-01T00:00:00\",\"2009-01-01T00:00:00\",\"2009-01-01T00:00:00\",\"2009-01-01T00:00:00\",\"2009-01-01T00:00:00\",\"2009-01-01T00:00:00\",\"2009-01-01T00:00:00\",\"2009-01-01T00:00:00\",\"2009-01-01T00:00:00\",\"2009-01-01T00:00:00\",\"2009-01-01T00:00:00\",\"2009-01-01T00:00:00\",\"2009-01-01T00:00:00\",\"2009-01-01T00:00:00\",\"2009-01-01T00:00:00\",\"2009-01-01T00:00:00\",\"2009-01-01T00:00:00\",\"2009-01-01T00:00:00\",\"2009-01-01T00:00:00\",\"2009-01-01T00:00:00\",\"2009-01-01T00:00:00\",\"2009-01-01T00:00:00\",\"2010-01-01T00:00:00\",\"2010-01-01T00:00:00\",\"2010-01-01T00:00:00\",\"2010-01-01T00:00:00\",\"2010-01-01T00:00:00\",\"2010-01-01T00:00:00\",\"2010-01-01T00:00:00\",\"2010-01-01T00:00:00\",\"2010-01-01T00:00:00\",\"2010-01-01T00:00:00\",\"2010-01-01T00:00:00\",\"2010-01-01T00:00:00\",\"2010-01-01T00:00:00\",\"2010-01-01T00:00:00\",\"2010-01-01T00:00:00\",\"2010-01-01T00:00:00\",\"2010-01-01T00:00:00\",\"2010-01-01T00:00:00\",\"2010-01-01T00:00:00\",\"2010-01-01T00:00:00\",\"2010-01-01T00:00:00\",\"2010-01-01T00:00:00\",\"2010-01-01T00:00:00\",\"2010-01-01T00:00:00\",\"2010-01-01T00:00:00\",\"2010-01-01T00:00:00\",\"2010-01-01T00:00:00\",\"2010-01-01T00:00:00\",\"2010-01-01T00:00:00\",\"2010-01-01T00:00:00\",\"2010-01-01T00:00:00\",\"2010-01-01T00:00:00\",\"2010-01-01T00:00:00\",\"2010-01-01T00:00:00\",\"2010-01-01T00:00:00\",\"2010-01-01T00:00:00\",\"2010-01-01T00:00:00\",\"2010-01-01T00:00:00\",\"2010-01-01T00:00:00\",\"2010-01-01T00:00:00\",\"2010-01-01T00:00:00\",\"2010-01-01T00:00:00\",\"2010-01-01T00:00:00\",\"2010-01-01T00:00:00\",\"2010-01-01T00:00:00\",\"2010-01-01T00:00:00\",\"2010-01-01T00:00:00\",\"2010-01-01T00:00:00\",\"2010-01-01T00:00:00\",\"2010-01-01T00:00:00\",\"2010-01-01T00:00:00\",\"2010-01-01T00:00:00\",\"2010-01-01T00:00:00\",\"2010-01-01T00:00:00\",\"2010-01-01T00:00:00\",\"2010-01-01T00:00:00\",\"2010-01-01T00:00:00\",\"2011-01-01T00:00:00\",\"2011-01-01T00:00:00\",\"2011-01-01T00:00:00\",\"2011-01-01T00:00:00\",\"2011-01-01T00:00:00\",\"2011-01-01T00:00:00\",\"2011-01-01T00:00:00\",\"2011-01-01T00:00:00\",\"2011-01-01T00:00:00\",\"2011-01-01T00:00:00\",\"2011-01-01T00:00:00\",\"2011-01-01T00:00:00\",\"2011-01-01T00:00:00\",\"2011-01-01T00:00:00\",\"2011-01-01T00:00:00\",\"2011-01-01T00:00:00\",\"2011-01-01T00:00:00\",\"2011-01-01T00:00:00\",\"2011-01-01T00:00:00\",\"2011-01-01T00:00:00\",\"2011-01-01T00:00:00\",\"2011-01-01T00:00:00\",\"2011-01-01T00:00:00\",\"2011-01-01T00:00:00\",\"2011-01-01T00:00:00\",\"2011-01-01T00:00:00\",\"2011-01-01T00:00:00\",\"2011-01-01T00:00:00\",\"2011-01-01T00:00:00\",\"2011-01-01T00:00:00\",\"2011-01-01T00:00:00\",\"2011-01-01T00:00:00\",\"2011-01-01T00:00:00\",\"2011-01-01T00:00:00\",\"2011-01-01T00:00:00\",\"2011-01-01T00:00:00\",\"2011-01-01T00:00:00\",\"2011-01-01T00:00:00\",\"2011-01-01T00:00:00\",\"2011-01-01T00:00:00\",\"2011-01-01T00:00:00\",\"2011-01-01T00:00:00\",\"2011-01-01T00:00:00\",\"2011-01-01T00:00:00\",\"2011-01-01T00:00:00\",\"2011-01-01T00:00:00\",\"2011-01-01T00:00:00\",\"2011-01-01T00:00:00\",\"2011-01-01T00:00:00\",\"2011-01-01T00:00:00\",\"2011-01-01T00:00:00\",\"2011-01-01T00:00:00\",\"2011-01-01T00:00:00\",\"2011-01-01T00:00:00\",\"2011-01-01T00:00:00\",\"2011-01-01T00:00:00\",\"2011-01-01T00:00:00\",\"2011-01-01T00:00:00\",\"2011-01-01T00:00:00\",\"2011-01-01T00:00:00\",\"2011-01-01T00:00:00\",\"2011-01-01T00:00:00\",\"2011-01-01T00:00:00\",\"2012-01-01T00:00:00\",\"2012-01-01T00:00:00\",\"2012-01-01T00:00:00\",\"2012-01-01T00:00:00\",\"2012-01-01T00:00:00\",\"2012-01-01T00:00:00\",\"2012-01-01T00:00:00\",\"2012-01-01T00:00:00\",\"2012-01-01T00:00:00\",\"2012-01-01T00:00:00\",\"2012-01-01T00:00:00\",\"2012-01-01T00:00:00\",\"2012-01-01T00:00:00\",\"2012-01-01T00:00:00\",\"2012-01-01T00:00:00\",\"2012-01-01T00:00:00\",\"2012-01-01T00:00:00\",\"2012-01-01T00:00:00\",\"2012-01-01T00:00:00\",\"2012-01-01T00:00:00\",\"2012-01-01T00:00:00\",\"2012-01-01T00:00:00\",\"2012-01-01T00:00:00\",\"2012-01-01T00:00:00\",\"2012-01-01T00:00:00\",\"2012-01-01T00:00:00\",\"2012-01-01T00:00:00\",\"2012-01-01T00:00:00\",\"2012-01-01T00:00:00\",\"2012-01-01T00:00:00\",\"2012-01-01T00:00:00\",\"2012-01-01T00:00:00\",\"2012-01-01T00:00:00\",\"2012-01-01T00:00:00\",\"2012-01-01T00:00:00\",\"2012-01-01T00:00:00\",\"2012-01-01T00:00:00\",\"2012-01-01T00:00:00\",\"2012-01-01T00:00:00\",\"2012-01-01T00:00:00\",\"2012-01-01T00:00:00\",\"2012-01-01T00:00:00\",\"2012-01-01T00:00:00\",\"2012-01-01T00:00:00\",\"2012-01-01T00:00:00\",\"2012-01-01T00:00:00\",\"2012-01-01T00:00:00\",\"2012-01-01T00:00:00\",\"2012-01-01T00:00:00\",\"2012-01-01T00:00:00\",\"2012-01-01T00:00:00\",\"2012-01-01T00:00:00\",\"2012-01-01T00:00:00\",\"2012-01-01T00:00:00\",\"2012-01-01T00:00:00\",\"2012-01-01T00:00:00\",\"2012-01-01T00:00:00\",\"2012-01-01T00:00:00\",\"2012-01-01T00:00:00\",\"2012-01-01T00:00:00\",\"2012-01-01T00:00:00\",\"2012-01-01T00:00:00\",\"2012-01-01T00:00:00\",\"2012-01-01T00:00:00\",\"2012-01-01T00:00:00\",\"2012-01-01T00:00:00\",\"2012-01-01T00:00:00\",\"2013-01-01T00:00:00\",\"2013-01-01T00:00:00\",\"2013-01-01T00:00:00\",\"2013-01-01T00:00:00\",\"2013-01-01T00:00:00\",\"2013-01-01T00:00:00\",\"2013-01-01T00:00:00\",\"2013-01-01T00:00:00\",\"2013-01-01T00:00:00\",\"2013-01-01T00:00:00\",\"2013-01-01T00:00:00\",\"2013-01-01T00:00:00\",\"2013-01-01T00:00:00\",\"2013-01-01T00:00:00\",\"2013-01-01T00:00:00\",\"2013-01-01T00:00:00\",\"2013-01-01T00:00:00\",\"2013-01-01T00:00:00\",\"2013-01-01T00:00:00\",\"2013-01-01T00:00:00\",\"2013-01-01T00:00:00\",\"2013-01-01T00:00:00\",\"2013-01-01T00:00:00\",\"2013-01-01T00:00:00\",\"2013-01-01T00:00:00\",\"2013-01-01T00:00:00\",\"2013-01-01T00:00:00\",\"2013-01-01T00:00:00\",\"2013-01-01T00:00:00\",\"2013-01-01T00:00:00\",\"2013-01-01T00:00:00\",\"2013-01-01T00:00:00\",\"2013-01-01T00:00:00\",\"2013-01-01T00:00:00\",\"2013-01-01T00:00:00\",\"2013-01-01T00:00:00\",\"2013-01-01T00:00:00\",\"2013-01-01T00:00:00\",\"2013-01-01T00:00:00\",\"2013-01-01T00:00:00\",\"2013-01-01T00:00:00\",\"2013-01-01T00:00:00\",\"2013-01-01T00:00:00\",\"2013-01-01T00:00:00\",\"2013-01-01T00:00:00\",\"2013-01-01T00:00:00\",\"2013-01-01T00:00:00\",\"2013-01-01T00:00:00\",\"2013-01-01T00:00:00\",\"2013-01-01T00:00:00\",\"2013-01-01T00:00:00\",\"2013-01-01T00:00:00\",\"2013-01-01T00:00:00\",\"2013-01-01T00:00:00\",\"2013-01-01T00:00:00\",\"2013-01-01T00:00:00\",\"2013-01-01T00:00:00\",\"2013-01-01T00:00:00\",\"2013-01-01T00:00:00\",\"2013-01-01T00:00:00\",\"2013-01-01T00:00:00\",\"2013-01-01T00:00:00\",\"2013-01-01T00:00:00\",\"2013-01-01T00:00:00\",\"2013-01-01T00:00:00\",\"2013-01-01T00:00:00\",\"2013-01-01T00:00:00\",\"2013-01-01T00:00:00\",\"2013-01-01T00:00:00\",\"2013-01-01T00:00:00\",\"2013-01-01T00:00:00\",\"2013-01-01T00:00:00\",\"2013-01-01T00:00:00\",\"2013-01-01T00:00:00\",\"2013-01-01T00:00:00\",\"2013-01-01T00:00:00\",\"2014-01-01T00:00:00\",\"2014-01-01T00:00:00\",\"2014-01-01T00:00:00\",\"2014-01-01T00:00:00\",\"2014-01-01T00:00:00\",\"2014-01-01T00:00:00\",\"2014-01-01T00:00:00\",\"2014-01-01T00:00:00\",\"2014-01-01T00:00:00\",\"2014-01-01T00:00:00\",\"2014-01-01T00:00:00\",\"2014-01-01T00:00:00\",\"2014-01-01T00:00:00\",\"2014-01-01T00:00:00\",\"2014-01-01T00:00:00\",\"2014-01-01T00:00:00\",\"2014-01-01T00:00:00\",\"2014-01-01T00:00:00\",\"2014-01-01T00:00:00\",\"2014-01-01T00:00:00\",\"2014-01-01T00:00:00\",\"2014-01-01T00:00:00\",\"2014-01-01T00:00:00\",\"2014-01-01T00:00:00\",\"2014-01-01T00:00:00\",\"2014-01-01T00:00:00\",\"2014-01-01T00:00:00\",\"2014-01-01T00:00:00\",\"2014-01-01T00:00:00\",\"2014-01-01T00:00:00\",\"2014-01-01T00:00:00\",\"2014-01-01T00:00:00\",\"2014-01-01T00:00:00\",\"2014-01-01T00:00:00\",\"2014-01-01T00:00:00\",\"2014-01-01T00:00:00\",\"2014-01-01T00:00:00\",\"2014-01-01T00:00:00\",\"2014-01-01T00:00:00\",\"2014-01-01T00:00:00\",\"2014-01-01T00:00:00\",\"2014-01-01T00:00:00\",\"2014-01-01T00:00:00\",\"2014-01-01T00:00:00\",\"2014-01-01T00:00:00\",\"2014-01-01T00:00:00\",\"2014-01-01T00:00:00\",\"2014-01-01T00:00:00\",\"2014-01-01T00:00:00\",\"2014-01-01T00:00:00\",\"2014-01-01T00:00:00\",\"2014-01-01T00:00:00\",\"2014-01-01T00:00:00\",\"2014-01-01T00:00:00\",\"2014-01-01T00:00:00\",\"2014-01-01T00:00:00\",\"2014-01-01T00:00:00\",\"2014-01-01T00:00:00\",\"2014-01-01T00:00:00\",\"2014-01-01T00:00:00\",\"2014-01-01T00:00:00\",\"2014-01-01T00:00:00\",\"2014-01-01T00:00:00\",\"2014-01-01T00:00:00\",\"2014-01-01T00:00:00\",\"2014-01-01T00:00:00\",\"2014-01-01T00:00:00\",\"2014-01-01T00:00:00\",\"2014-01-01T00:00:00\",\"2014-01-01T00:00:00\",\"2014-01-01T00:00:00\",\"2014-01-01T00:00:00\",\"2014-01-01T00:00:00\",\"2014-01-01T00:00:00\",\"2014-01-01T00:00:00\",\"2014-01-01T00:00:00\",\"2014-01-01T00:00:00\",\"2014-01-01T00:00:00\",\"2014-01-01T00:00:00\",\"2015-01-01T00:00:00\",\"2015-01-01T00:00:00\",\"2015-01-01T00:00:00\",\"2015-01-01T00:00:00\",\"2015-01-01T00:00:00\",\"2015-01-01T00:00:00\",\"2015-01-01T00:00:00\",\"2015-01-01T00:00:00\",\"2015-01-01T00:00:00\",\"2015-01-01T00:00:00\",\"2015-01-01T00:00:00\",\"2015-01-01T00:00:00\",\"2015-01-01T00:00:00\",\"2015-01-01T00:00:00\",\"2015-01-01T00:00:00\",\"2015-01-01T00:00:00\",\"2015-01-01T00:00:00\",\"2015-01-01T00:00:00\",\"2015-01-01T00:00:00\",\"2015-01-01T00:00:00\",\"2015-01-01T00:00:00\",\"2015-01-01T00:00:00\",\"2015-01-01T00:00:00\",\"2015-01-01T00:00:00\",\"2015-01-01T00:00:00\",\"2015-01-01T00:00:00\",\"2015-01-01T00:00:00\",\"2015-01-01T00:00:00\",\"2015-01-01T00:00:00\",\"2015-01-01T00:00:00\",\"2015-01-01T00:00:00\",\"2015-01-01T00:00:00\",\"2015-01-01T00:00:00\",\"2015-01-01T00:00:00\",\"2015-01-01T00:00:00\",\"2015-01-01T00:00:00\",\"2015-01-01T00:00:00\",\"2015-01-01T00:00:00\",\"2015-01-01T00:00:00\",\"2015-01-01T00:00:00\",\"2015-01-01T00:00:00\",\"2015-01-01T00:00:00\",\"2015-01-01T00:00:00\",\"2015-01-01T00:00:00\",\"2015-01-01T00:00:00\",\"2015-01-01T00:00:00\",\"2015-01-01T00:00:00\",\"2015-01-01T00:00:00\",\"2015-01-01T00:00:00\",\"2015-01-01T00:00:00\",\"2015-01-01T00:00:00\",\"2015-01-01T00:00:00\",\"2015-01-01T00:00:00\",\"2015-01-01T00:00:00\",\"2015-01-01T00:00:00\",\"2015-01-01T00:00:00\",\"2015-01-01T00:00:00\",\"2015-01-01T00:00:00\",\"2015-01-01T00:00:00\",\"2015-01-01T00:00:00\",\"2015-01-01T00:00:00\",\"2015-01-01T00:00:00\",\"2015-01-01T00:00:00\",\"2015-01-01T00:00:00\",\"2015-01-01T00:00:00\",\"2015-01-01T00:00:00\",\"2015-01-01T00:00:00\",\"2015-01-01T00:00:00\",\"2015-01-01T00:00:00\",\"2015-01-01T00:00:00\",\"2015-01-01T00:00:00\",\"2015-01-01T00:00:00\",\"2015-01-01T00:00:00\",\"2015-01-01T00:00:00\",\"2015-01-01T00:00:00\",\"2015-01-01T00:00:00\",\"2015-01-01T00:00:00\",\"2015-01-01T00:00:00\",\"2016-01-01T00:00:00\",\"2016-01-01T00:00:00\",\"2016-01-01T00:00:00\",\"2016-01-01T00:00:00\",\"2016-01-01T00:00:00\",\"2016-01-01T00:00:00\",\"2016-01-01T00:00:00\",\"2016-01-01T00:00:00\",\"2016-01-01T00:00:00\",\"2016-01-01T00:00:00\",\"2016-01-01T00:00:00\",\"2016-01-01T00:00:00\",\"2016-01-01T00:00:00\",\"2016-01-01T00:00:00\",\"2016-01-01T00:00:00\",\"2016-01-01T00:00:00\",\"2016-01-01T00:00:00\",\"2016-01-01T00:00:00\",\"2016-01-01T00:00:00\",\"2016-01-01T00:00:00\",\"2016-01-01T00:00:00\",\"2016-01-01T00:00:00\",\"2016-01-01T00:00:00\",\"2016-01-01T00:00:00\",\"2016-01-01T00:00:00\",\"2016-01-01T00:00:00\",\"2016-01-01T00:00:00\",\"2016-01-01T00:00:00\",\"2016-01-01T00:00:00\",\"2016-01-01T00:00:00\",\"2016-01-01T00:00:00\",\"2016-01-01T00:00:00\",\"2016-01-01T00:00:00\",\"2016-01-01T00:00:00\",\"2016-01-01T00:00:00\",\"2016-01-01T00:00:00\",\"2016-01-01T00:00:00\",\"2016-01-01T00:00:00\",\"2016-01-01T00:00:00\",\"2016-01-01T00:00:00\",\"2016-01-01T00:00:00\",\"2016-01-01T00:00:00\",\"2016-01-01T00:00:00\",\"2016-01-01T00:00:00\",\"2016-01-01T00:00:00\",\"2016-01-01T00:00:00\",\"2016-01-01T00:00:00\",\"2016-01-01T00:00:00\",\"2016-01-01T00:00:00\",\"2016-01-01T00:00:00\",\"2016-01-01T00:00:00\",\"2016-01-01T00:00:00\",\"2016-01-01T00:00:00\",\"2016-01-01T00:00:00\",\"2016-01-01T00:00:00\",\"2016-01-01T00:00:00\",\"2016-01-01T00:00:00\",\"2016-01-01T00:00:00\",\"2016-01-01T00:00:00\",\"2016-01-01T00:00:00\",\"2016-01-01T00:00:00\",\"2016-01-01T00:00:00\",\"2016-01-01T00:00:00\",\"2016-01-01T00:00:00\",\"2016-01-01T00:00:00\",\"2016-01-01T00:00:00\",\"2016-01-01T00:00:00\",\"2016-01-01T00:00:00\",\"2016-01-01T00:00:00\",\"2016-01-01T00:00:00\",\"2016-01-01T00:00:00\",\"2016-01-01T00:00:00\",\"2016-01-01T00:00:00\",\"2016-01-01T00:00:00\",\"2016-01-01T00:00:00\",\"2016-01-01T00:00:00\",\"2016-01-01T00:00:00\",\"2016-01-01T00:00:00\",\"2017-01-01T00:00:00\",\"2017-01-01T00:00:00\",\"2017-01-01T00:00:00\",\"2017-01-01T00:00:00\",\"2017-01-01T00:00:00\",\"2017-01-01T00:00:00\",\"2017-01-01T00:00:00\",\"2017-01-01T00:00:00\",\"2017-01-01T00:00:00\",\"2017-01-01T00:00:00\",\"2017-01-01T00:00:00\",\"2017-01-01T00:00:00\",\"2017-01-01T00:00:00\",\"2017-01-01T00:00:00\",\"2017-01-01T00:00:00\",\"2017-01-01T00:00:00\",\"2017-01-01T00:00:00\",\"2017-01-01T00:00:00\",\"2017-01-01T00:00:00\",\"2017-01-01T00:00:00\",\"2017-01-01T00:00:00\",\"2017-01-01T00:00:00\",\"2017-01-01T00:00:00\",\"2017-01-01T00:00:00\",\"2017-01-01T00:00:00\",\"2017-01-01T00:00:00\",\"2017-01-01T00:00:00\",\"2017-01-01T00:00:00\",\"2017-01-01T00:00:00\",\"2017-01-01T00:00:00\",\"2017-01-01T00:00:00\",\"2017-01-01T00:00:00\",\"2017-01-01T00:00:00\",\"2017-01-01T00:00:00\",\"2017-01-01T00:00:00\",\"2017-01-01T00:00:00\",\"2017-01-01T00:00:00\",\"2017-01-01T00:00:00\",\"2017-01-01T00:00:00\",\"2017-01-01T00:00:00\",\"2017-01-01T00:00:00\",\"2017-01-01T00:00:00\",\"2017-01-01T00:00:00\",\"2017-01-01T00:00:00\",\"2017-01-01T00:00:00\",\"2017-01-01T00:00:00\",\"2017-01-01T00:00:00\",\"2017-01-01T00:00:00\",\"2017-01-01T00:00:00\",\"2017-01-01T00:00:00\",\"2017-01-01T00:00:00\",\"2017-01-01T00:00:00\",\"2017-01-01T00:00:00\",\"2017-01-01T00:00:00\",\"2017-01-01T00:00:00\",\"2017-01-01T00:00:00\",\"2017-01-01T00:00:00\",\"2017-01-01T00:00:00\",\"2017-01-01T00:00:00\",\"2017-01-01T00:00:00\",\"2017-01-01T00:00:00\",\"2017-01-01T00:00:00\",\"2017-01-01T00:00:00\",\"2017-01-01T00:00:00\",\"2017-01-01T00:00:00\",\"2017-01-01T00:00:00\",\"2017-01-01T00:00:00\",\"2017-01-01T00:00:00\",\"2017-01-01T00:00:00\",\"2017-01-01T00:00:00\",\"2017-01-01T00:00:00\",\"2017-01-01T00:00:00\",\"2017-01-01T00:00:00\",\"2017-01-01T00:00:00\",\"2017-01-01T00:00:00\",\"2017-01-01T00:00:00\",\"2017-01-01T00:00:00\",\"2017-01-01T00:00:00\",\"2018-01-01T00:00:00\",\"2018-01-01T00:00:00\",\"2018-01-01T00:00:00\",\"2018-01-01T00:00:00\",\"2018-01-01T00:00:00\",\"2018-01-01T00:00:00\",\"2018-01-01T00:00:00\",\"2018-01-01T00:00:00\",\"2018-01-01T00:00:00\",\"2018-01-01T00:00:00\",\"2018-01-01T00:00:00\",\"2018-01-01T00:00:00\",\"2018-01-01T00:00:00\",\"2018-01-01T00:00:00\",\"2018-01-01T00:00:00\",\"2018-01-01T00:00:00\",\"2018-01-01T00:00:00\",\"2018-01-01T00:00:00\",\"2018-01-01T00:00:00\",\"2018-01-01T00:00:00\",\"2018-01-01T00:00:00\",\"2018-01-01T00:00:00\",\"2018-01-01T00:00:00\",\"2018-01-01T00:00:00\",\"2018-01-01T00:00:00\",\"2018-01-01T00:00:00\",\"2018-01-01T00:00:00\",\"2018-01-01T00:00:00\",\"2018-01-01T00:00:00\",\"2018-01-01T00:00:00\",\"2018-01-01T00:00:00\",\"2018-01-01T00:00:00\",\"2018-01-01T00:00:00\",\"2018-01-01T00:00:00\",\"2018-01-01T00:00:00\",\"2018-01-01T00:00:00\",\"2018-01-01T00:00:00\",\"2018-01-01T00:00:00\",\"2018-01-01T00:00:00\",\"2018-01-01T00:00:00\",\"2018-01-01T00:00:00\",\"2018-01-01T00:00:00\",\"2018-01-01T00:00:00\",\"2018-01-01T00:00:00\",\"2018-01-01T00:00:00\",\"2018-01-01T00:00:00\",\"2018-01-01T00:00:00\",\"2018-01-01T00:00:00\",\"2018-01-01T00:00:00\",\"2018-01-01T00:00:00\",\"2018-01-01T00:00:00\",\"2018-01-01T00:00:00\",\"2019-01-01T00:00:00\",\"2019-01-01T00:00:00\",\"2019-01-01T00:00:00\",\"2019-01-01T00:00:00\",\"2019-01-01T00:00:00\",\"2019-01-01T00:00:00\",\"2019-01-01T00:00:00\",\"2019-01-01T00:00:00\",\"2019-01-01T00:00:00\",\"2019-01-01T00:00:00\",\"2019-01-01T00:00:00\",\"2019-01-01T00:00:00\",\"2019-01-01T00:00:00\",\"2019-01-01T00:00:00\",\"2019-01-01T00:00:00\",\"2019-01-01T00:00:00\",\"2019-01-01T00:00:00\",\"2019-01-01T00:00:00\",\"2019-01-01T00:00:00\",\"2019-01-01T00:00:00\",\"2019-01-01T00:00:00\",\"2019-01-01T00:00:00\",\"2019-01-01T00:00:00\",\"2019-01-01T00:00:00\",\"2019-01-01T00:00:00\",\"2019-01-01T00:00:00\",\"2019-01-01T00:00:00\",\"2019-01-01T00:00:00\",\"2019-01-01T00:00:00\",\"2019-01-01T00:00:00\",\"2019-01-01T00:00:00\",\"2019-01-01T00:00:00\",\"2019-01-01T00:00:00\",\"2019-01-01T00:00:00\",\"2019-01-01T00:00:00\",\"2019-01-01T00:00:00\",\"2019-01-01T00:00:00\",\"2019-01-01T00:00:00\",\"2019-01-01T00:00:00\",\"2019-01-01T00:00:00\",\"2019-01-01T00:00:00\",\"2019-01-01T00:00:00\",\"2019-01-01T00:00:00\",\"2019-01-01T00:00:00\",\"2019-01-01T00:00:00\",\"2019-01-01T00:00:00\",\"2019-01-01T00:00:00\",\"2019-01-01T00:00:00\",\"2020-01-01T00:00:00\",\"2020-01-01T00:00:00\",\"2020-01-01T00:00:00\",\"2020-01-01T00:00:00\",\"2020-01-01T00:00:00\",\"2020-01-01T00:00:00\",\"2020-01-01T00:00:00\",\"2020-01-01T00:00:00\",\"2020-01-01T00:00:00\",\"2020-01-01T00:00:00\",\"2020-01-01T00:00:00\",\"2020-01-01T00:00:00\",\"2020-01-01T00:00:00\",\"2020-01-01T00:00:00\",\"2020-01-01T00:00:00\",\"2020-01-01T00:00:00\",\"2020-01-01T00:00:00\",\"2020-01-01T00:00:00\",\"2020-01-01T00:00:00\",\"2020-01-01T00:00:00\",\"2020-01-01T00:00:00\",\"2020-01-01T00:00:00\",\"2020-01-01T00:00:00\",\"2020-01-01T00:00:00\",\"2020-01-01T00:00:00\",\"2020-01-01T00:00:00\",\"2020-01-01T00:00:00\",\"2020-01-01T00:00:00\",\"2021-01-01T00:00:00\",\"2021-01-01T00:00:00\",\"2021-01-01T00:00:00\",\"2021-01-01T00:00:00\",\"2021-01-01T00:00:00\",\"2021-01-01T00:00:00\",\"2021-01-01T00:00:00\",\"2021-01-01T00:00:00\",\"2021-01-01T00:00:00\",\"2021-01-01T00:00:00\",\"2021-01-01T00:00:00\",\"2021-01-01T00:00:00\",\"2021-01-01T00:00:00\",\"2021-01-01T00:00:00\",\"2021-01-01T00:00:00\",\"2021-01-01T00:00:00\",\"2021-01-01T00:00:00\",\"2021-01-01T00:00:00\",\"2021-01-01T00:00:00\",\"2021-01-01T00:00:00\",\"2021-01-01T00:00:00\",\"2021-01-01T00:00:00\",\"2021-01-01T00:00:00\",\"2021-01-01T00:00:00\",\"2021-01-01T00:00:00\",\"2021-01-01T00:00:00\"],\"xaxis\":\"x\",\"y\":[null,null,null,null,null,null,null,null,null,null,null,null,null,null,null,null,null,null,null,null,null,null,null,null,null,null,null,null,null,null,null,null,null,null,null,null,null,null,null,null,-0.9460793876356433,0.8104404136632797,0.7035960103077827,0.818382981291768,null,null,null,-0.354418894540467,null,null,null,-0.46324506336129306,null,null,0.24328276728246087,-0.5215539855281053,-0.10828100867335586,-0.7353563695840895,null,-0.3432640564477683,0.3084150248374904,-0.41747572815533984,0.026643364801167056,0.0,-0.06946612809409691,-0.5368077444355939,null,-0.48515872815316197,null,null,-0.7561920701370827,null,0.10985329754593678,null,0.6912100574004291,null,null,-0.060748250095852864,0.10419956214237572,null,-0.3853000256369582,null,0.7278241958274878,null,null,null,null,0.14180221703387277,null,-0.8691537761601462,0.13114025785034158,null,2.0932994844365007,-0.2524518515336253,0.06526668766579365,-0.34119662067634515,0.07612374964071775,4.938477426856477,-0.8494055228353286,-0.2744960250100461,null,-0.4153570212548712,-0.06970613282626559,0.5455768668967282,-0.043761006842468815,2.4835325900657486,-0.8411102337714292,0.14305140328287522,-0.26173419850955454,0.3273325345227375,-0.25348095189414976,0.025951918372674087,0.0,0.23507285192931687,0.2000000000000124,null,null,-0.5512771668707019,null,0.5016941040337584,0.0,null,null,-0.565771825601741,-0.4327246489831481,null,5.301366162632752,2.2156529031872316,null,-0.4034489017004669,-0.5010259964297793,0.25399581772265584,32.52250000000034,-0.2128489218227694,null,null,-0.08616763453347859,null,-0.9130543381424463,0.421237413844013,-0.5,-0.7612978700329264,0.09850351965158416,-0.14093349045554723,0.40557191186808106,null,null,null,0.24528450410391467,-0.7712565611530123,0.3137197126288052,-0.39353711609828707,-0.16552222486103663,0.26583581797752465,null,-0.3783521999501754,0.3752323131622483,0.4918452476402539,0.11222529277955494,-0.48810935531743216,null,0.9946021798627886,null,0.19185402552598196,null,2.022029309184106,4.933,-0.13558648585108338,5.364107077819909,-0.17230125469987456,124.74569836276615,0.017769037194205115,0.31678516997437645,-0.10489803610906695,-0.31824833333335656,-0.8959549792531121,null,-0.9145129447480799,-0.8182755070474887,-0.7362848694064268,null,3.8362610105135304,-0.04775678193005062,-0.9200760144192212,null,0.2770366252995532,-0.2744942891974285,null,-0.8261420585081677,0.29470647917229914,0.3043478260869565,5.212898392733491,-0.036779103305438716,-0.31170571914129264,-0.7183874816555408,0.23145418554333239,0.09252959737282099,0.0,4.211257063732723,-0.46716680100026886,-0.4107991582885161,-0.5560535096210679,null,null,-0.2210953972225662,0.1335941835926493,-0.06127498426914654,2.1752075766154455,0.24620386942857506,-0.6677854096969632,-0.8102482753305313,-0.2743225338460405,0.046819448943211106,0.32291671874820815,-0.6955117996480317,0.5689643921967878,2.1676987923271303,-0.08087196467991176,null,-0.33071129700161606,null,null,-0.9604898225201961,0.27365582336086286,-0.2473361237994081,-0.7221856811902531,0.06776517529078308,-0.5815007318876468,1.3409804991519505,0.07925501920412173,null,-0.711590175472069,null,null,0.11547163280497752,-0.037749432116023184,-0.9999988922056166,3.788604833333341,null,5.453891916192412,-0.6255049515428409,0.1484453735951115,0.17479511231107533,4.539161324647149,null,2.7111439512036877,1.784823353965675,0.8069815479927499,0.13167425758427687,-0.6719756841134176,null,-0.40971833715441175,-0.11316114984792389,-0.2679245283018869,0.10480065291432933,10.601556050113425,0.04176939792719122,null,0.372712537535087,51.92236915838142,10.701456424307088,-0.15980986882422685,-0.07717792769189535,null,null,3.9352388505795375,-0.21853319890531758,null,-0.032102618259782646,-0.9997607619230583,1.2007591327552953,0.7479340908938233,-0.05423488525806933,-0.486408981890229,-0.2105452100429303,-0.25586536780183655,null,-0.3780226707326725,0.02364450077229334,-0.9059672549393339,0.9835825974624798,0.3180890686034705,-0.4043975838507079,0.29562884799180333,0.12277847639881949,1.5025107927223875,2.2957033255407824,130.71041328935067,0.1973374268851072,-0.039673115300249084,null,0.5138555295122986,0.016122534719279664,0.0,0.05134385409041708,-0.9570720497925294,-0.11648842636113291,-0.09205805017650386,-0.3266969204664907,null,12.610735840415785,24.82000992727991,null,-0.17989610779051013,-0.006671197906650424,0.18108969561505892,0.029144578347046632,16.402726476582036,0.2786525402819607,null,0.4465910445151055,0.6687492341959016,-0.13204003027812583,-0.41582100930237653,0.18812914789011975,0.1978294266316469,null,0.5351237744951697,-0.1711631665418563,0.056472584999848564,0.4653977499606774,0.24993870377038366,-0.847017408829691,0.2984777151115924,-0.9262514224501732,12.211734547319834,-0.8175372023294302,null,2.0827923041636307,0.06951283487533971,0.02941999663303941,-0.3321429435790678,-0.6849720297710753,-0.7664284053836662,-0.3688646678229628,-0.4466911289751689,-0.13395485770363103,-0.525031550794194,-0.34386037005260645,-0.9418091120613669,0.40029295946125903,-0.015740566633533695,-0.14242123259563444,null,0.7239851801228079,0.06073407028460089,-0.16954046163524042,12.95228986257875,-0.3306185690109279,0.21497337056326088,-0.9000968693570164,null,null,1.498552258125038,9.706294902386627,-0.25628800669896185,null,-0.3367669488715489,4.544319015146944,6.345172772640193,-0.11011501819968603,3.0390237497025545,-0.506070658136974,-0.08370617959801077,0.0,-0.17303321278429748,4.872366413302557,-0.06272016527836022,0.3339546794083145,null,null,-0.23004749999999996,3688539.171069002,0.6770814099344199,0.4169827842996623,null,-0.5572599489942129,null,-0.78057341232464,0.07613703645795339,0.0023679689564022155,0.033086609299904694,-0.20924751397250307,0.3354318850479449,-0.3707276478460024,2.1036222334644314,0.5291874081619978,0.24320580879929538,-0.28989409385330955,0.3834148166546082,19.332553401856526,-0.2335876932329421,null,0.4031018575979477,0.049206240548630584,-0.39799915713088985,-0.05598722115541183,-0.3350919055155042,0.46960408970855466,0.7842934859484733,-0.370508807277689,0.4807197088763682,-0.8837466665649447,1.2721477023512013,0.04074394372805171,0.6259106447950836,0.028579196760568384,0.12106033570943621,-0.9898927916209792,null,3.1587081767466656,-0.6353974180923858,-0.0007584721337313457,-0.8869120158725289,-0.8427904708862277,-0.08933756468847188,0.008532059601341938,0.10257784900695058,3.5475592024085483,-0.028796976035228707,-0.33744216613766137,0.03189579099616466,0.027097172046770077,0.003590246406656177,199542.12865515222,-0.21078723249479342,-0.5000000000000023,0.4735425136233888,1.1722636931847468,0.8914822437572147,null,-0.6258048369440107,-0.00025917747436731927,0.663378216237835,-0.6618810126460265,-0.11901597510957988,0.4512843220926557,1.2244715558944488,-0.11402131913189638,-0.761742283868171,-0.0030796576289955106,3.0,-0.5320614632086939,-0.6359828876165301,0.829430770541244,0.5801150128530845,-0.7555317063153302,0.07737744053867134,-0.850853867305,null,-0.09763632351604991,-0.8412498322790846,-0.38457903797821963,-0.24444900628147254,15.383773401624868,-0.4281255746389893,0.14530889376982886,0.006118425865829822,-0.1940270994571181,0.15881683025196633,-0.05731285272692858,-0.1823037803961452,null,-0.19324313134944088,0.0,-0.40824064599939336,0.16861329310770665,2.3345774135577573,-0.39974417882901064,-0.32381180546597116,-0.1414058885633281,-0.11088461595548721,null,0.13656555752252783,-0.9261774283879426,-0.10409067439505965,-0.28778561844093703,0.3307250767585912,null,-0.11314850103504469,0.9744609705698796,-0.1973672565410935,0.999527079735496,-0.02552565180824234,7.637954048661938,0.08482743726393296,-0.7651940777589548,0.7040243114247524,0.5536828316575251,-0.8949523841520963,22900.898591785466,0.6266892211550474,0.451501194254125,1.8255245699711677,-0.3429574571283965,2.346058415551431,-0.2187576545612861,0.35821856334681695,6.798986000000495,11.127935627469858,-0.0026628622462325697,0.13799635743167274,0.9919193886595083,-0.09473584140925079,0.16009851314836646,0.829835314585308,-0.491702010569647,13.99099690880989,1.238630467576818,-0.9686784504075464,0.034845096867799,-0.2012151007080749,0.02693440324719535,0.07526430494017183,-0.9540061893897037,-0.035548330353356895,-0.13574877291068113,0.1310965703659151,0.6248125126373096,0.055979634465706245,0.5098061475548106,-0.5282441396866071,0.1388742823954406,-0.14244420703305977,-0.5,0.32481525497199015,-0.9407950797821308,0.08471612979032708,8082.333333401951,1.2667570431173494,0.0,-0.21477505079263942,-0.9999999989372017,0.392447030564853,5.9905695479172465,-0.32353740292020516,-0.9839966452837644,null,-0.06075253048661237,0.2061573115994729,0.17711629315281963,-0.15688617810531166,-0.8656230884496694,-0.7111822547608142,-0.002488428212652995,0.012387503536649873,-0.2718597481431481,0.4864000069107892,0.28007864622945516,-0.5424179657691051,-0.38326577770716147,-0.9392285223367698,-0.3094929468694763,-0.8020267762345812,-0.22532363666396438,-0.39492213896435885,0.45223481677078653,-0.42880994749445284,-0.463570232059977,3.5956069318612554,0.13617379208585467,-0.4703244292927113,0.3242536645886347,0.9204647507519569,0.3313488692368993,115.91251422779276,0.05641482160224064,-0.6891149618299162,-0.3811469273742944,-0.4584821154392833,-0.7641011237672658,0.29827172812713,0.6473051775801557,0.03395367086644559,0.04774875610051578,null,0.35756615384615387,-0.02856053858273497,-0.4849137855815528,0.2901438671911317,0.007463766862740339,-0.6690202465536202,1.1519770054487222,0.06779816564623271,-0.7932012653718531,-0.41779462867034395,-0.9673499026047594,0.0019312393653510968,0.36650682656550904,-0.5616266181069633,-0.8697052425814606,0.09999999731991796,-0.708295211368845,-0.35507957444246824,-0.9288719559485032,0.3498213022398722,0.14214154043439922,0.4561591864625848,-0.2881062617456868,0.30110697285860283,1.8609128820637952,0.010637864648225099,-0.009894937230043884,-0.09778700125640087,0.4613387923764853,4.147191222835175,0.5128524515909862,0.10809692684040412,-0.26391698739949593,-0.2654099018928921,0.33312224709602817,-0.4782783324856039,-0.23506098825737842,0.058955633268786244,-0.027212219136803297,0.9814197361149297,-0.9045980213143424,-0.8252417846353162,0.14202311682175173,0.7911531959621991,0.28254618752669797,-0.343349331363063,0.15098632486777536,null,0.7336064540879905,-0.7026209392405779,-0.6005304498710619,0.24337572294072543,9.785913533834586,14.021125245529685,-0.309745508478626,-0.29770254358869747,0.124296377883573,5.983439823557826,-0.10433795389207305,-0.5337218337218337,17.975332068311197,5.37305473442718,-0.6735339179434999,1.0378490033825207,-0.010339281701717863,0.7320821545759237,-0.18987867593709293,0.4299897915000421,0.1684460692304171,-0.30794621876654926,-0.8990245388990623,0.2967907322023032,-0.5398043520807744,null,9.44622866581024,0.5482401849732583,-0.11730283937804908,0.2808573586480066,0.035916824196597384,-0.6355386283496278,-0.22374203608720583,-0.6891505329204678,0.09023625538077026,0.16838467401719684,-0.7115967524157869,-0.5840003519478687,-0.7248190491617896,-0.24919374167931713,0.5734788931351911,-0.002763308293401496,0.20071076216086486,0.020000014618629124,6.1892363002029835,0.4563132693139657,0.0011285940683722275,null,-0.03824427213080233,-0.9700681768270671,0.20521311594566582,0.43865969909742064,null,0.09379514728452189,0.01052589163767811,0.0,0.11138597227723414,17.415250598936545,-0.12205210893376517,-0.0015094339622640652,-0.2350042779089639,89.44999999999509,-0.06437125748502992,-0.277424244681376,177620310.3252183,3.1793916608682227,-0.9167308207923078,-0.11570321042867152,null,null,0.06894983892780085,0.12119398609075359,1.2149692324113714,0.3097352824326765,-0.22756969018222967,-0.26686760991984915,-0.5922893428102246,null,-0.5510420689001968,-0.6905369253095858,-0.4054663112666259,-0.11368871196252094,7.242460330772585,-0.37033321864758045,0.15257880650035455,2.0940919991279703,null,-0.07853845850878327,0.02100256410256411,0.21100000000000005,0.13863308998383952,-0.6458893347004079,0.10834078218266131,-0.8217176108683735,0.17885616449532232,0.09273088811251413,0.03146228268463201,0.2831399393521298,-0.06676643317607361,0.32240798909006674,0.5679272421446852,-0.7600945990675183,0.663010644514478,-0.6851853569866196,0.0313868613138686,-0.9643,0.7139550811596928,0.23792930343563262,-0.24399422220545786,0.9108310065676188,494.98234,null,0.02000000955465942,-0.5981064232705502,-0.20533951105423384,0.1552931294178724,0.17033330960410895,0.2898419138955056,0.039647334181347846,0.022622134046014618,-0.06456523430603574,null,0.4977324263038548,0.27936735999999995,0.5963689076000672,3.4398946376251223,0.8188961647240834,0.9410429442467766,-0.9597915633135495,-0.911321949751448,-0.054949461015752696,0.417623020063306,3.4333894799752174,-0.6902553554087026,-0.39930741463938463,0.5066496580468794,0.14268362588904665,0.34357238822219804,null,-0.7882497921452025,-0.7740176383139419,2.6243373093316866,-0.8151082072925974,-0.08060955672026744,0.04472109740377047,3.627830546760725,5.445299333333335,-0.6568165703104725,-0.2685008999868295,1.377861524395602,1.5263080243949023,-0.24044528582195498,-0.6732133402120439,0.027399770694894417,0.021731491880228906,2.586754721036333,2.2634057750474477,30.266114450828145,1.9581390128588467,0.03199733785860749,0.006584256600251343,10.043750523057627,null,-0.23283822162532739,0.10798036506339918,null,-0.3086714684033841,0.1946394753232335,-0.790198197185925,-0.07416176886197326,0.7440906041683282,0.21897916586058383,0.9365519290906547,0.7926492456621532,36.802920076790954,-0.7907487061637213,2.2853718942445402,0.1753661227627504,-0.07344007615486665,-0.29652754309055557,null,0.8742929599231117,0.8431846979250578,0.44981257157135873,0.2586866994976816,0.7519997209215515,1.721397874729474,-0.8219803373123222,0.0,-0.11306996794662887,0.260224732893142,0.08172240387005487,3.1524627431169483,-0.9670238694173711,0.007567119900617847,0.10897580252596735,0.03950520494812641,0.027206858571903508,0.025890086773559452,-0.0700848316740635,-0.3605982179189743,0.40137394995543946,-0.2539545437402428,0.2781869256937531,-0.08783009818760117,2.1729664685596894,-0.00683041842874294,-0.9825169458428812,-0.17367366365895695,18.182722572617234,1.131228160879837,2.0918948897811465,-0.9058096677924612,-0.5493009885455938,-0.9294386863387213,0.589672778878441,-0.6192994851154892,0.5549257963187416,-0.8794884813268724,1.4276955797704263,-0.5642863503189615,-0.0732421146637686,0.27297764127006285,-0.5364359718194941,-0.47023709513437195,1.0527615168305306e-08,34.425056218251825,-0.40718137024119,-0.17862735375655348,0.5424546896564058,-0.013778768577494552,0.5505123374492725,0.06726333792429808,0.07117223075158634,0.469356539414345,0.10772292296280138,17.978295627766233,-0.5871581019688753,-0.4217266860095845,0.281189244219089,-0.4839227493362322,-0.3622952091759177,0.9803887449645957,-0.8137870154775511,-0.7652555555555556,-0.18992203841034472,6.516876832777634,0.3029813602021539,2.948821514966774,-0.34584707873422227,0.21288496999840606],\"yaxis\":\"y\",\"type\":\"histogram\"}],                        {\"template\":{\"data\":{\"histogram2dcontour\":[{\"type\":\"histogram2dcontour\",\"colorbar\":{\"outlinewidth\":0,\"ticks\":\"\"},\"colorscale\":[[0.0,\"#0d0887\"],[0.1111111111111111,\"#46039f\"],[0.2222222222222222,\"#7201a8\"],[0.3333333333333333,\"#9c179e\"],[0.4444444444444444,\"#bd3786\"],[0.5555555555555556,\"#d8576b\"],[0.6666666666666666,\"#ed7953\"],[0.7777777777777778,\"#fb9f3a\"],[0.8888888888888888,\"#fdca26\"],[1.0,\"#f0f921\"]]}],\"choropleth\":[{\"type\":\"choropleth\",\"colorbar\":{\"outlinewidth\":0,\"ticks\":\"\"}}],\"histogram2d\":[{\"type\":\"histogram2d\",\"colorbar\":{\"outlinewidth\":0,\"ticks\":\"\"},\"colorscale\":[[0.0,\"#0d0887\"],[0.1111111111111111,\"#46039f\"],[0.2222222222222222,\"#7201a8\"],[0.3333333333333333,\"#9c179e\"],[0.4444444444444444,\"#bd3786\"],[0.5555555555555556,\"#d8576b\"],[0.6666666666666666,\"#ed7953\"],[0.7777777777777778,\"#fb9f3a\"],[0.8888888888888888,\"#fdca26\"],[1.0,\"#f0f921\"]]}],\"heatmap\":[{\"type\":\"heatmap\",\"colorbar\":{\"outlinewidth\":0,\"ticks\":\"\"},\"colorscale\":[[0.0,\"#0d0887\"],[0.1111111111111111,\"#46039f\"],[0.2222222222222222,\"#7201a8\"],[0.3333333333333333,\"#9c179e\"],[0.4444444444444444,\"#bd3786\"],[0.5555555555555556,\"#d8576b\"],[0.6666666666666666,\"#ed7953\"],[0.7777777777777778,\"#fb9f3a\"],[0.8888888888888888,\"#fdca26\"],[1.0,\"#f0f921\"]]}],\"heatmapgl\":[{\"type\":\"heatmapgl\",\"colorbar\":{\"outlinewidth\":0,\"ticks\":\"\"},\"colorscale\":[[0.0,\"#0d0887\"],[0.1111111111111111,\"#46039f\"],[0.2222222222222222,\"#7201a8\"],[0.3333333333333333,\"#9c179e\"],[0.4444444444444444,\"#bd3786\"],[0.5555555555555556,\"#d8576b\"],[0.6666666666666666,\"#ed7953\"],[0.7777777777777778,\"#fb9f3a\"],[0.8888888888888888,\"#fdca26\"],[1.0,\"#f0f921\"]]}],\"contourcarpet\":[{\"type\":\"contourcarpet\",\"colorbar\":{\"outlinewidth\":0,\"ticks\":\"\"}}],\"contour\":[{\"type\":\"contour\",\"colorbar\":{\"outlinewidth\":0,\"ticks\":\"\"},\"colorscale\":[[0.0,\"#0d0887\"],[0.1111111111111111,\"#46039f\"],[0.2222222222222222,\"#7201a8\"],[0.3333333333333333,\"#9c179e\"],[0.4444444444444444,\"#bd3786\"],[0.5555555555555556,\"#d8576b\"],[0.6666666666666666,\"#ed7953\"],[0.7777777777777778,\"#fb9f3a\"],[0.8888888888888888,\"#fdca26\"],[1.0,\"#f0f921\"]]}],\"surface\":[{\"type\":\"surface\",\"colorbar\":{\"outlinewidth\":0,\"ticks\":\"\"},\"colorscale\":[[0.0,\"#0d0887\"],[0.1111111111111111,\"#46039f\"],[0.2222222222222222,\"#7201a8\"],[0.3333333333333333,\"#9c179e\"],[0.4444444444444444,\"#bd3786\"],[0.5555555555555556,\"#d8576b\"],[0.6666666666666666,\"#ed7953\"],[0.7777777777777778,\"#fb9f3a\"],[0.8888888888888888,\"#fdca26\"],[1.0,\"#f0f921\"]]}],\"mesh3d\":[{\"type\":\"mesh3d\",\"colorbar\":{\"outlinewidth\":0,\"ticks\":\"\"}}],\"scatter\":[{\"fillpattern\":{\"fillmode\":\"overlay\",\"size\":10,\"solidity\":0.2},\"type\":\"scatter\"}],\"parcoords\":[{\"type\":\"parcoords\",\"line\":{\"colorbar\":{\"outlinewidth\":0,\"ticks\":\"\"}}}],\"scatterpolargl\":[{\"type\":\"scatterpolargl\",\"marker\":{\"colorbar\":{\"outlinewidth\":0,\"ticks\":\"\"}}}],\"bar\":[{\"error_x\":{\"color\":\"#2a3f5f\"},\"error_y\":{\"color\":\"#2a3f5f\"},\"marker\":{\"line\":{\"color\":\"#E5ECF6\",\"width\":0.5},\"pattern\":{\"fillmode\":\"overlay\",\"size\":10,\"solidity\":0.2}},\"type\":\"bar\"}],\"scattergeo\":[{\"type\":\"scattergeo\",\"marker\":{\"colorbar\":{\"outlinewidth\":0,\"ticks\":\"\"}}}],\"scatterpolar\":[{\"type\":\"scatterpolar\",\"marker\":{\"colorbar\":{\"outlinewidth\":0,\"ticks\":\"\"}}}],\"histogram\":[{\"marker\":{\"pattern\":{\"fillmode\":\"overlay\",\"size\":10,\"solidity\":0.2}},\"type\":\"histogram\"}],\"scattergl\":[{\"type\":\"scattergl\",\"marker\":{\"colorbar\":{\"outlinewidth\":0,\"ticks\":\"\"}}}],\"scatter3d\":[{\"type\":\"scatter3d\",\"line\":{\"colorbar\":{\"outlinewidth\":0,\"ticks\":\"\"}},\"marker\":{\"colorbar\":{\"outlinewidth\":0,\"ticks\":\"\"}}}],\"scattermapbox\":[{\"type\":\"scattermapbox\",\"marker\":{\"colorbar\":{\"outlinewidth\":0,\"ticks\":\"\"}}}],\"scatterternary\":[{\"type\":\"scatterternary\",\"marker\":{\"colorbar\":{\"outlinewidth\":0,\"ticks\":\"\"}}}],\"scattercarpet\":[{\"type\":\"scattercarpet\",\"marker\":{\"colorbar\":{\"outlinewidth\":0,\"ticks\":\"\"}}}],\"carpet\":[{\"aaxis\":{\"endlinecolor\":\"#2a3f5f\",\"gridcolor\":\"white\",\"linecolor\":\"white\",\"minorgridcolor\":\"white\",\"startlinecolor\":\"#2a3f5f\"},\"baxis\":{\"endlinecolor\":\"#2a3f5f\",\"gridcolor\":\"white\",\"linecolor\":\"white\",\"minorgridcolor\":\"white\",\"startlinecolor\":\"#2a3f5f\"},\"type\":\"carpet\"}],\"table\":[{\"cells\":{\"fill\":{\"color\":\"#EBF0F8\"},\"line\":{\"color\":\"white\"}},\"header\":{\"fill\":{\"color\":\"#C8D4E3\"},\"line\":{\"color\":\"white\"}},\"type\":\"table\"}],\"barpolar\":[{\"marker\":{\"line\":{\"color\":\"#E5ECF6\",\"width\":0.5},\"pattern\":{\"fillmode\":\"overlay\",\"size\":10,\"solidity\":0.2}},\"type\":\"barpolar\"}],\"pie\":[{\"automargin\":true,\"type\":\"pie\"}]},\"layout\":{\"autotypenumbers\":\"strict\",\"colorway\":[\"#636efa\",\"#EF553B\",\"#00cc96\",\"#ab63fa\",\"#FFA15A\",\"#19d3f3\",\"#FF6692\",\"#B6E880\",\"#FF97FF\",\"#FECB52\"],\"font\":{\"color\":\"#2a3f5f\"},\"hovermode\":\"closest\",\"hoverlabel\":{\"align\":\"left\"},\"paper_bgcolor\":\"white\",\"plot_bgcolor\":\"#E5ECF6\",\"polar\":{\"bgcolor\":\"#E5ECF6\",\"angularaxis\":{\"gridcolor\":\"white\",\"linecolor\":\"white\",\"ticks\":\"\"},\"radialaxis\":{\"gridcolor\":\"white\",\"linecolor\":\"white\",\"ticks\":\"\"}},\"ternary\":{\"bgcolor\":\"#E5ECF6\",\"aaxis\":{\"gridcolor\":\"white\",\"linecolor\":\"white\",\"ticks\":\"\"},\"baxis\":{\"gridcolor\":\"white\",\"linecolor\":\"white\",\"ticks\":\"\"},\"caxis\":{\"gridcolor\":\"white\",\"linecolor\":\"white\",\"ticks\":\"\"}},\"coloraxis\":{\"colorbar\":{\"outlinewidth\":0,\"ticks\":\"\"}},\"colorscale\":{\"sequential\":[[0.0,\"#0d0887\"],[0.1111111111111111,\"#46039f\"],[0.2222222222222222,\"#7201a8\"],[0.3333333333333333,\"#9c179e\"],[0.4444444444444444,\"#bd3786\"],[0.5555555555555556,\"#d8576b\"],[0.6666666666666666,\"#ed7953\"],[0.7777777777777778,\"#fb9f3a\"],[0.8888888888888888,\"#fdca26\"],[1.0,\"#f0f921\"]],\"sequentialminus\":[[0.0,\"#0d0887\"],[0.1111111111111111,\"#46039f\"],[0.2222222222222222,\"#7201a8\"],[0.3333333333333333,\"#9c179e\"],[0.4444444444444444,\"#bd3786\"],[0.5555555555555556,\"#d8576b\"],[0.6666666666666666,\"#ed7953\"],[0.7777777777777778,\"#fb9f3a\"],[0.8888888888888888,\"#fdca26\"],[1.0,\"#f0f921\"]],\"diverging\":[[0,\"#8e0152\"],[0.1,\"#c51b7d\"],[0.2,\"#de77ae\"],[0.3,\"#f1b6da\"],[0.4,\"#fde0ef\"],[0.5,\"#f7f7f7\"],[0.6,\"#e6f5d0\"],[0.7,\"#b8e186\"],[0.8,\"#7fbc41\"],[0.9,\"#4d9221\"],[1,\"#276419\"]]},\"xaxis\":{\"gridcolor\":\"white\",\"linecolor\":\"white\",\"ticks\":\"\",\"title\":{\"standoff\":15},\"zerolinecolor\":\"white\",\"automargin\":true,\"zerolinewidth\":2},\"yaxis\":{\"gridcolor\":\"white\",\"linecolor\":\"white\",\"ticks\":\"\",\"title\":{\"standoff\":15},\"zerolinecolor\":\"white\",\"automargin\":true,\"zerolinewidth\":2},\"scene\":{\"xaxis\":{\"backgroundcolor\":\"#E5ECF6\",\"gridcolor\":\"white\",\"linecolor\":\"white\",\"showbackground\":true,\"ticks\":\"\",\"zerolinecolor\":\"white\",\"gridwidth\":2},\"yaxis\":{\"backgroundcolor\":\"#E5ECF6\",\"gridcolor\":\"white\",\"linecolor\":\"white\",\"showbackground\":true,\"ticks\":\"\",\"zerolinecolor\":\"white\",\"gridwidth\":2},\"zaxis\":{\"backgroundcolor\":\"#E5ECF6\",\"gridcolor\":\"white\",\"linecolor\":\"white\",\"showbackground\":true,\"ticks\":\"\",\"zerolinecolor\":\"white\",\"gridwidth\":2}},\"shapedefaults\":{\"line\":{\"color\":\"#2a3f5f\"}},\"annotationdefaults\":{\"arrowcolor\":\"#2a3f5f\",\"arrowhead\":0,\"arrowwidth\":1},\"geo\":{\"bgcolor\":\"white\",\"landcolor\":\"#E5ECF6\",\"subunitcolor\":\"white\",\"showland\":true,\"showlakes\":true,\"lakecolor\":\"white\"},\"title\":{\"x\":0.05},\"mapbox\":{\"style\":\"light\"}}},\"xaxis\":{\"anchor\":\"y\",\"domain\":[0.0,1.0],\"title\":{\"text\":\"Year\"}},\"yaxis\":{\"anchor\":\"x\",\"domain\":[0.0,1.0],\"title\":{\"text\":\"avg of total_vaccine_delivery_cost in USD_prev_1_year_pct_change\"}},\"legend\":{\"tracegroupgap\":0},\"margin\":{\"t\":60},\"barmode\":\"relative\"},                        {\"responsive\": true}                    ).then(function(){\n",
       "                            \n",
       "var gd = document.getElementById('43c1a765-9ed7-46ca-9e03-8da6f5489341');\n",
       "var x = new MutationObserver(function (mutations, observer) {{\n",
       "        var display = window.getComputedStyle(gd).display;\n",
       "        if (!display || display === 'none') {{\n",
       "            console.log([gd, 'removed!']);\n",
       "            Plotly.purge(gd);\n",
       "            observer.disconnect();\n",
       "        }}\n",
       "}});\n",
       "\n",
       "// Listen for the removal of the full notebook cells\n",
       "var notebookContainer = gd.closest('#notebook-container');\n",
       "if (notebookContainer) {{\n",
       "    x.observe(notebookContainer, {childList: true});\n",
       "}}\n",
       "\n",
       "// Listen for the clearing of the current output cell\n",
       "var outputEl = gd.closest('.output');\n",
       "if (outputEl) {{\n",
       "    x.observe(outputEl, {childList: true});\n",
       "}}\n",
       "\n",
       "                        })                };                });            </script>        </div>"
      ]
     },
     "metadata": {},
     "output_type": "display_data"
    }
   ],
   "source": [
    "\n",
    "fig = px.histogram(merged_df, x='Year', histfunc='avg', y='total_vaccine_delivery_cost in USD_prev_1_year_pct_change')\n",
    "fig"
   ]
  },
  {
   "cell_type": "code",
   "execution_count": 91,
   "metadata": {},
   "outputs": [
    {
     "data": {
      "application/vnd.jupyter.widget-view+json": {
       "model_id": "b285a3cedb214494a8f108a0dc67a877"
      },
      "text/plain": [
       "           Country Region              Gavi / Income status       Year  \\\n",
       "196         Angola   AFRO  non-Gavi middle income countries 2007-01-01   \n",
       "197        Albania   EURO  non-Gavi middle income countries 2007-01-01   \n",
       "209   Burkina Faso   AFRO         Gavi low income countries 2007-01-01   \n",
       "210     Bangladesh  SEARO  Gavi low-middle income countries 2007-01-01   \n",
       "213        Bahamas   AMRO             High income countries 2007-01-01   \n",
       "...            ...    ...                               ...        ...   \n",
       "3092    Seychelles   AFRO             High income countries 2021-01-01   \n",
       "3095          Togo   AFRO         Gavi low income countries 2021-01-01   \n",
       "3102       Tunisia   EMRO  non-Gavi middle income countries 2021-01-01   \n",
       "3118        Zambia   AFRO  Gavi low-middle income countries 2021-01-01   \n",
       "3119      Zimbabwe   AFRO  Gavi low-middle income countries 2021-01-01   \n",
       "\n",
       "      total_vaccine in USD  total_immunization in USD  \\\n",
       "196           9.944444e+06               1.500000e+07   \n",
       "197           5.156250e+05               4.168421e+06   \n",
       "209           1.081955e+07               1.390947e+07   \n",
       "210           2.140513e+07               2.743679e+07   \n",
       "213           8.205570e+05               1.087082e+06   \n",
       "...                    ...                        ...   \n",
       "3092          5.109751e+05               5.310828e+05   \n",
       "3095          5.666908e+06               7.710388e+06   \n",
       "3102          1.785785e+07               1.912830e+07   \n",
       "3118          1.473568e+07               2.163591e+07   \n",
       "3119          1.398228e+07               2.079328e+07   \n",
       "\n",
       "      total_immunization in USD per surviving infant  \\\n",
       "196                                              NaN   \n",
       "197                                              NaN   \n",
       "209                                              NaN   \n",
       "210                                              NaN   \n",
       "213                                              NaN   \n",
       "...                                              ...   \n",
       "3092                                      326.820162   \n",
       "3095                                       29.060821   \n",
       "3102                                       98.094860   \n",
       "3118                                       33.322826   \n",
       "3119                                       43.907515   \n",
       "\n",
       "      total_vaccine in USD per surviving infant  BCG_COVERAGE  \\\n",
       "196                                         NaN          75.0   \n",
       "197                                         NaN          98.0   \n",
       "209                                         NaN          99.0   \n",
       "210                                         NaN          98.0   \n",
       "213                                         NaN           NaN   \n",
       "...                                         ...           ...   \n",
       "3092                                 314.446226          99.0   \n",
       "3095                                  21.358847          98.0   \n",
       "3102                                  91.579656          85.0   \n",
       "3118                                  22.695349          92.0   \n",
       "3119                                  29.525274          88.0   \n",
       "\n",
       "      DTPCV1_COVERAGE  ...  \\\n",
       "196              69.0  ...   \n",
       "197              98.0  ...   \n",
       "209              92.0  ...   \n",
       "210              98.0  ...   \n",
       "213              98.0  ...   \n",
       "...               ...  ...   \n",
       "3092             99.0  ...   \n",
       "3095             88.0  ...   \n",
       "3102             99.0  ...   \n",
       "3118             94.0  ...   \n",
       "3119             93.0  ...   \n",
       "\n",
       "      total_vaccine_delivery_cost in USD_prev_1_year_million  \\\n",
       "196                                                 NaN        \n",
       "197                                                 NaN        \n",
       "209                                                 NaN        \n",
       "210                                                 NaN        \n",
       "213                                                 NaN        \n",
       "...                                                 ...        \n",
       "3092                                           0.002675        \n",
       "3095                                           1.568311        \n",
       "3102                                           0.321729        \n",
       "3118                                          10.548343        \n",
       "3119                                           5.615535        \n",
       "\n",
       "      total_vaccine_delivery_cost in USD_prev_1_year_pct_change  \\\n",
       "196                                                 NaN           \n",
       "197                                                 NaN           \n",
       "209                                                 NaN           \n",
       "210                                                 NaN           \n",
       "213                                                 NaN           \n",
       "...                                                 ...           \n",
       "3092                                           6.516877           \n",
       "3095                                           0.302981           \n",
       "3102                                           2.948822           \n",
       "3118                                          -0.345847           \n",
       "3119                                           0.212885           \n",
       "\n",
       "      total_vaccine_delivery_cost in USD_prev_2_year_million  \\\n",
       "196                                                 NaN        \n",
       "197                                                 NaN        \n",
       "209                                                 NaN        \n",
       "210                                                 NaN        \n",
       "213                                                 NaN        \n",
       "...                                                 ...        \n",
       "3092                                           0.015026        \n",
       "3095                                           1.232002        \n",
       "3102                                           0.282558        \n",
       "3118                                          22.754879        \n",
       "3119                                          10.600091        \n",
       "\n",
       "      total_vaccine_delivery_cost in USD_prev_2_year_pct_change  \\\n",
       "196                                                 NaN           \n",
       "197                                                 NaN           \n",
       "209                                                 NaN           \n",
       "210                                                 NaN           \n",
       "213                                                 NaN           \n",
       "...                                                 ...           \n",
       "3092                                          -0.821980           \n",
       "3095                                           0.272978           \n",
       "3102                                           0.138633           \n",
       "3118                                          -0.536436           \n",
       "3119                                          -0.470237           \n",
       "\n",
       "      total_vaccine_delivery_cost in USD_prev_3_year_million  \\\n",
       "196                                                 NaN        \n",
       "197                                                 NaN        \n",
       "209                                                 NaN        \n",
       "210                                                 NaN        \n",
       "213                                                 NaN        \n",
       "...                                                 ...        \n",
       "3092                                           0.070963        \n",
       "3095                                           0.977605        \n",
       "3102                                           0.526737        \n",
       "3118                                          22.060796        \n",
       "3119                                          10.197247        \n",
       "\n",
       "      total_vaccine_delivery_cost in USD_prev_3_year_pct_change  \\\n",
       "196                                                 NaN           \n",
       "197                                                 NaN           \n",
       "209                                                 NaN           \n",
       "210                                                 NaN           \n",
       "213                                                 NaN           \n",
       "...                                                 ...           \n",
       "3092                                          -0.962304           \n",
       "3095                                           0.604238           \n",
       "3102                                          -0.389203           \n",
       "3118                                          -0.521851           \n",
       "3119                                          -0.449309           \n",
       "\n",
       "      total_vaccine_delivery_cost in USD_prev_4_year_million  \\\n",
       "196                                                 NaN        \n",
       "197                                                 NaN        \n",
       "209                                                 NaN        \n",
       "210                                                 NaN        \n",
       "213                                                 NaN        \n",
       "...                                                 ...        \n",
       "3092                                           0.022935        \n",
       "3095                                           5.287444        \n",
       "3102                                           0.593941        \n",
       "3118                                          12.736576        \n",
       "3119                                          13.940204        \n",
       "\n",
       "      total_vaccine_delivery_cost in USD_prev_4_year_pct_change  \\\n",
       "196                                                 NaN           \n",
       "197                                                 NaN           \n",
       "209                                                 NaN           \n",
       "210                                                 NaN           \n",
       "213                                                 NaN           \n",
       "...                                                 ...           \n",
       "3092                                          -0.883366           \n",
       "3095                                          -0.703390           \n",
       "3102                                          -0.458314           \n",
       "3118                                          -0.171807           \n",
       "3119                                          -0.597170           \n",
       "\n",
       "      total_vaccine_delivery_cost in USD_prev_5_year_million  \\\n",
       "196                                                 NaN        \n",
       "197                                                 NaN        \n",
       "209                                                 NaN        \n",
       "210                                                 NaN        \n",
       "213                                                 NaN        \n",
       "...                                                 ...        \n",
       "3092                                           0.115849        \n",
       "3095                                           5.738106        \n",
       "3102                                           0.943525        \n",
       "3118                                           6.632028        \n",
       "3119                                          17.207551        \n",
       "\n",
       "      total_vaccine_delivery_cost in USD_prev_5_year_pct_change  \n",
       "196                                                 NaN          \n",
       "197                                                 NaN          \n",
       "209                                                 NaN          \n",
       "210                                                 NaN          \n",
       "213                                                 NaN          \n",
       "...                                                 ...          \n",
       "3092                                          -0.976910          \n",
       "3095                                          -0.726685          \n",
       "3102                                          -0.659013          \n",
       "3118                                           0.590516          \n",
       "3119                                          -0.673659          \n",
       "\n",
       "[875 rows x 64 columns]"
      ]
     },
     "metadata": {},
     "output_type": "display_data"
    }
   ],
   "source": [
    "merged_df"
   ]
  },
  {
   "cell_type": "markdown",
   "metadata": {},
   "source": [
    "##### Immunization & vaccine expenditure percentage change is below 100% per year on average. However the Average vaccine delivery percentage change is over 100%. This shows us that there are data inaccuracy on the immunization and vaccine expenditure. We will exclude the data for vaccine delivery cost changes over 100%"
   ]
  },
  {
   "cell_type": "code",
   "execution_count": 78,
   "metadata": {},
   "outputs": [],
   "source": [
    "# Step: Keep rows where total_vaccine_delivery_cost in USD_prev_1_year_pct_change >= 1\n",
    "merged_df = merged_df.loc[merged_df['total_vaccine_delivery_cost in USD_prev_1_year_pct_change'] <= 1]"
   ]
  },
  {
   "cell_type": "code",
   "execution_count": 79,
   "metadata": {},
   "outputs": [
    {
     "data": {
      "application/vnd.jupyter.widget-view+json": {
       "model_id": "dd3742e43e724fd2b2dcb11719bbf554"
      },
      "text/plain": [
       "           Country Region              Gavi / Income status       Year  \\\n",
       "196         Angola   AFRO  non-Gavi middle income countries 2007-01-01   \n",
       "197        Albania   EURO  non-Gavi middle income countries 2007-01-01   \n",
       "209   Burkina Faso   AFRO         Gavi low income countries 2007-01-01   \n",
       "210     Bangladesh  SEARO  Gavi low-middle income countries 2007-01-01   \n",
       "213        Bahamas   AMRO             High income countries 2007-01-01   \n",
       "...            ...    ...                               ...        ...   \n",
       "3092    Seychelles   AFRO             High income countries 2021-01-01   \n",
       "3095          Togo   AFRO         Gavi low income countries 2021-01-01   \n",
       "3102       Tunisia   EMRO  non-Gavi middle income countries 2021-01-01   \n",
       "3118        Zambia   AFRO  Gavi low-middle income countries 2021-01-01   \n",
       "3119      Zimbabwe   AFRO  Gavi low-middle income countries 2021-01-01   \n",
       "\n",
       "      total_vaccine in USD  total_immunization in USD  \\\n",
       "196           9.944444e+06               1.500000e+07   \n",
       "197           5.156250e+05               4.168421e+06   \n",
       "209           1.081955e+07               1.390947e+07   \n",
       "210           2.140513e+07               2.743679e+07   \n",
       "213           8.205570e+05               1.087082e+06   \n",
       "...                    ...                        ...   \n",
       "3092          5.109751e+05               5.310828e+05   \n",
       "3095          5.666908e+06               7.710388e+06   \n",
       "3102          1.785785e+07               1.912830e+07   \n",
       "3118          1.473568e+07               2.163591e+07   \n",
       "3119          1.398228e+07               2.079328e+07   \n",
       "\n",
       "      total_immunization in USD per surviving infant  \\\n",
       "196                                              NaN   \n",
       "197                                              NaN   \n",
       "209                                              NaN   \n",
       "210                                              NaN   \n",
       "213                                              NaN   \n",
       "...                                              ...   \n",
       "3092                                      326.820162   \n",
       "3095                                       29.060821   \n",
       "3102                                       98.094860   \n",
       "3118                                       33.322826   \n",
       "3119                                       43.907515   \n",
       "\n",
       "      total_vaccine in USD per surviving infant  BCG_COVERAGE  \\\n",
       "196                                         NaN          75.0   \n",
       "197                                         NaN          98.0   \n",
       "209                                         NaN          99.0   \n",
       "210                                         NaN          98.0   \n",
       "213                                         NaN           NaN   \n",
       "...                                         ...           ...   \n",
       "3092                                 314.446226          99.0   \n",
       "3095                                  21.358847          98.0   \n",
       "3102                                  91.579656          85.0   \n",
       "3118                                  22.695349          92.0   \n",
       "3119                                  29.525274          88.0   \n",
       "\n",
       "      DTPCV1_COVERAGE  ...  \\\n",
       "196              69.0  ...   \n",
       "197              98.0  ...   \n",
       "209              92.0  ...   \n",
       "210              98.0  ...   \n",
       "213              98.0  ...   \n",
       "...               ...  ...   \n",
       "3092             99.0  ...   \n",
       "3095             88.0  ...   \n",
       "3102             99.0  ...   \n",
       "3118             94.0  ...   \n",
       "3119             93.0  ...   \n",
       "\n",
       "      total_vaccine_delivery_cost in USD_prev_1_year_million  \\\n",
       "196                                           12.119403        \n",
       "197                                            3.320724        \n",
       "209                                            1.764329        \n",
       "210                                           10.423259        \n",
       "213                                            0.266525        \n",
       "...                                                 ...        \n",
       "3092                                           0.188578        \n",
       "3095                                           1.568311        \n",
       "3102                                           0.755282        \n",
       "3118                                          10.548343        \n",
       "3119                                           5.615535        \n",
       "\n",
       "      total_vaccine_delivery_cost in USD_prev_1_year_pct_change  \\\n",
       "196                                           -0.582854           \n",
       "197                                            0.100000           \n",
       "209                                            0.751327           \n",
       "210                                           -0.421327           \n",
       "213                                            0.000000           \n",
       "...                                                 ...           \n",
       "3092                                          -0.893373           \n",
       "3095                                           0.302981           \n",
       "3102                                           0.682090           \n",
       "3118                                          -0.345847           \n",
       "3119                                           0.212885           \n",
       "\n",
       "      total_vaccine_delivery_cost in USD_prev_2_year_million  \\\n",
       "196                                                 NaN        \n",
       "197                                                 NaN        \n",
       "209                                                 NaN        \n",
       "210                                                 NaN        \n",
       "213                                                 NaN        \n",
       "...                                                 ...        \n",
       "3092                                           0.002675        \n",
       "3095                                           1.232002        \n",
       "3102                                                NaN        \n",
       "3118                                           7.620371        \n",
       "3119                                          10.600091        \n",
       "\n",
       "      total_vaccine_delivery_cost in USD_prev_2_year_pct_change  \\\n",
       "196                                                 NaN           \n",
       "197                                                 NaN           \n",
       "209                                                 NaN           \n",
       "210                                                 NaN           \n",
       "213                                                 NaN           \n",
       "...                                                 ...           \n",
       "3092                                          69.496617           \n",
       "3095                                           0.272978           \n",
       "3102                                                NaN           \n",
       "3118                                           0.384230           \n",
       "3119                                          -0.470237           \n",
       "\n",
       "      total_vaccine_delivery_cost in USD_prev_3_year_million  \\\n",
       "196                                                 NaN        \n",
       "197                                                 NaN        \n",
       "209                                                 NaN        \n",
       "210                                                 NaN        \n",
       "213                                                 NaN        \n",
       "...                                                 ...        \n",
       "3092                                           0.015026        \n",
       "3095                                           0.977605        \n",
       "3102                                                NaN        \n",
       "3118                                                NaN        \n",
       "3119                                          10.197247        \n",
       "\n",
       "      total_vaccine_delivery_cost in USD_prev_3_year_pct_change  \\\n",
       "196                                                 NaN           \n",
       "197                                                 NaN           \n",
       "209                                                 NaN           \n",
       "210                                                 NaN           \n",
       "213                                                 NaN           \n",
       "...                                                 ...           \n",
       "3092                                          11.549784           \n",
       "3095                                           0.604238           \n",
       "3102                                                NaN           \n",
       "3118                                                NaN           \n",
       "3119                                          -0.449309           \n",
       "\n",
       "      total_vaccine_delivery_cost in USD_prev_4_year_million  \\\n",
       "196                                                 NaN        \n",
       "197                                                 NaN        \n",
       "209                                                 NaN        \n",
       "210                                                 NaN        \n",
       "213                                                 NaN        \n",
       "...                                                 ...        \n",
       "3092                                           0.070963        \n",
       "3095                                           5.287444        \n",
       "3102                                           0.321729        \n",
       "3118                                          22.754879        \n",
       "3119                                          28.220689        \n",
       "\n",
       "      total_vaccine_delivery_cost in USD_prev_4_year_pct_change  \\\n",
       "196                                                 NaN           \n",
       "197                                                 NaN           \n",
       "209                                                 NaN           \n",
       "210                                                 NaN           \n",
       "213                                                 NaN           \n",
       "...                                                 ...           \n",
       "3092                                           1.657419           \n",
       "3095                                          -0.703390           \n",
       "3102                                           1.347569           \n",
       "3118                                          -0.536436           \n",
       "3119                                          -0.801014           \n",
       "\n",
       "      total_vaccine_delivery_cost in USD_prev_5_year_million  \\\n",
       "196                                                 NaN        \n",
       "197                                                 NaN        \n",
       "209                                                 NaN        \n",
       "210                                                 NaN        \n",
       "213                                                 NaN        \n",
       "...                                                 ...        \n",
       "3092                                           0.054018        \n",
       "3095                                           5.738106        \n",
       "3102                                           0.600224        \n",
       "3118                                          22.060796        \n",
       "3119                                          13.940204        \n",
       "\n",
       "      total_vaccine_delivery_cost in USD_prev_5_year_pct_change  \n",
       "196                                                 NaN          \n",
       "197                                                 NaN          \n",
       "209                                                 NaN          \n",
       "210                                                 NaN          \n",
       "213                                                 NaN          \n",
       "...                                                 ...          \n",
       "3092                                           2.491030          \n",
       "3095                                          -0.726685          \n",
       "3102                                           0.258334          \n",
       "3118                                          -0.521851          \n",
       "3119                                          -0.597170          \n",
       "\n",
       "[875 rows x 64 columns]"
      ]
     },
     "metadata": {},
     "output_type": "display_data"
    }
   ],
   "source": [
    "merged_df"
   ]
  },
  {
   "cell_type": "markdown",
   "metadata": {},
   "source": [
    "### Feature Engineering"
   ]
  },
  {
   "cell_type": "markdown",
   "metadata": {},
   "source": [
    "##### Create a population difference data"
   ]
  },
  {
   "cell_type": "code",
   "execution_count": 31,
   "metadata": {
    "scrolled": true
   },
   "outputs": [],
   "source": [
    "# sort the dataframe by country and year\n",
    "merged_df = merged_df.sort_values(['Country', 'Year'])\n",
    "\n",
    "# create new columns for the population percentage difference\n",
    "merged_df['Population_Diff_Percent_0-1'] = None\n",
    "merged_df['Population_Diff_Percent_1-5'] = None\n",
    "merged_df['Population_Diff_Percent_6-10'] = None\n",
    "merged_df['Population_Diff_Percent_11-15'] = None\n",
    "merged_df['Population_Diff_Percent_16-20'] = None\n",
    "merged_df['Population_Diff_Percent'] = None\n",
    "\n",
    "# iterate over each country group\n",
    "for country, group_df in grouped_df:\n",
    "    # calculate the population difference percentage for each row\n",
    "    group_df['Population_Diff_Percent_0-1'] = group_df['total_population_0-1'].pct_change()\n",
    "    group_df['Population_Diff_Percent_1-5'] = group_df['total_population_1-5'].pct_change()\n",
    "    group_df['Population_Diff_Percent_6-10'] = group_df['total_population_6-10'].pct_change()\n",
    "    group_df['Population_Diff_Percent_11-15'] = group_df['total_population_11-15'].pct_change()\n",
    "    group_df['Population_Diff_Percent_16-20'] = group_df['total_population_16-20'].pct_change()\n",
    "    group_df['Population_Diff_Percent'] = group_df['total_population'].pct_change()\n",
    "    # update the merged_df with the new column values\n",
    "    merged_df.update(group_df)"
   ]
  },
  {
   "cell_type": "code",
   "execution_count": 32,
   "metadata": {},
   "outputs": [],
   "source": [
    "# calculate the average coverage for different vaccines\n",
    "merged_df['Avg_Vaccine_Coverage'] = merged_df[['BCG_COVERAGE', 'DTPCV1_COVERAGE', 'DTPCV3_COVERAGE', 'HEPB3_COVERAGE', \n",
    "                                                'HEPB_BD_COVERAGE', 'HIB3_COVERAGE', 'MCV1_COVERAGE', 'MCV2_COVERAGE',\n",
    "                                                'PCV3_COVERAGE', 'POL3_COVERAGE', 'RCV1_COVERAGE', 'ROTAC_COVERAGE']].mean(axis=1)\n",
    "\n",
    "\n"
   ]
  },
  {
   "cell_type": "markdown",
   "metadata": {},
   "source": [
    "#### Trea "
   ]
  },
  {
   "cell_type": "code",
   "execution_count": 33,
   "metadata": {},
   "outputs": [],
   "source": [
    "#get the next year cost\n",
    "# Create new columns for the next year's values of 'total_vaccine in USD', 'total_immunization in USD', and 'total_vaccine_delivery_cost in USD'\n",
    "merged_df['Next Year Vaccine USD Mil'] = grouped_df['total_vaccine in USD'].shift(-1) / 1000000\n",
    "merged_df['Next Year Immunization USD Mil'] = grouped_df['total_immunization in USD'].shift(-1) / 1000000\n",
    "merged_df['Next Year Vaccine Delivery Cost USD Mil'] = grouped_df['total_vaccine_delivery_cost in USD'].shift(-1) / 1000000"
   ]
  },
  {
   "cell_type": "code",
   "execution_count": 34,
   "metadata": {},
   "outputs": [],
   "source": [
    "#get the next year cost\n",
    "# Create new columns for the next year's values of 'total_vaccine in USD', 'total_immunization in USD', and 'total_vaccine_delivery_cost in USD'\n",
    "merged_df['Next Year Vaccine USD Mil'] = grouped_df['total_vaccine in USD'].shift(-1) \n",
    "merged_df['Next Year Immunization USD Mil'] = grouped_df['total_immunization in USD'].shift(-1) \n",
    "merged_df['Next Year Vaccine Delivery Cost USD Mil'] = grouped_df['total_vaccine_delivery_cost in USD'].shift(-1) "
   ]
  },
  {
   "cell_type": "code",
   "execution_count": 35,
   "metadata": {},
   "outputs": [],
   "source": [
    "# Define a function to create the previous year columns for GDP in million\n",
    "def create_prev_year_gdp_cols_million():\n",
    "    return [f\"GDP_prev_{i}_year\" for i in range(1, 6)]\n",
    "\n",
    "# Create new columns for GDP, for the value for previous year up until last 5 years\n",
    "prev_gdp_cols = create_prev_year_gdp_cols_million()\n",
    "for i, prev_gdp_col in enumerate(prev_gdp_cols):\n",
    "    merged_df[prev_gdp_col] = grouped_df['GDP_Million'].apply(lambda x: x.shift(i+1))\n",
    "\n",
    "    # Calculate the percentage change between the current year and the previous year\n",
    "    curr_col = \"GDP_Million\"\n",
    "    pct_col = f\"GDP_prev_{i+1}_year_pct_change\"\n",
    "    if curr_col in merged_df.columns and prev_gdp_col in merged_df.columns:\n",
    "        merged_df[pct_col] = (merged_df[curr_col] - merged_df[prev_gdp_col]) / merged_df[prev_gdp_col]\n",
    "    else:\n",
    "        merged_df[pct_col] = float('nan')\n"
   ]
  },
  {
   "cell_type": "code",
   "execution_count": 36,
   "metadata": {},
   "outputs": [],
   "source": [
    "# sort the dataframe by country and year\n",
    "merged_df.sort_values(['Country', 'Year'], inplace=True)\n",
    "\n",
    "# group the dataframe by country and calculate the percentage change in immunization USD between consecutive years\n",
    "merged_df['current_Immunization_cost_pct_change_from_last_year'] = merged_df.groupby('Country')['Immunization USD Mil'].pct_change() * 100\n",
    "\n"
   ]
  },
  {
   "cell_type": "code",
   "execution_count": 37,
   "metadata": {},
   "outputs": [
    {
     "name": "stdout",
     "output_type": "stream",
     "text": [
      "Next Year Immunization USD Mil: 0.577892897203423\n",
      "total_vaccine in USD_prev_1_year_million: 0.4874875482571598\n",
      "total_vaccine in USD_prev_4_year_million: 0.39060218843691163\n",
      "total_immunization in USD_prev_3_year_million: 0.46250811712730977\n",
      "total_population_0-1: 0.06443259564310377\n",
      "total_vaccine_delivery_cost in USD: 0.006312388754726284\n",
      "Country: 0.5910994939569542\n",
      "total_immunization in USD_prev_5_year_million: 0.3153876700763317\n",
      "Vaccine USD Mil: 0.6517618565402876\n",
      "land_area: 0.5988807818572437\n",
      "GDP_Million: 0.20329257240928422\n",
      "Next Year Vaccine USD Mil: 0.47225407542578635\n",
      "total_vaccine in USD_prev_3_year_million: 0.42586721656765925\n",
      "total_population: 0.06563707099780713\n",
      "GDP_prev_4_year: 0.1508824937428267\n",
      "total_immunization in USD_prev_1_year_million: 0.5414474947259531\n",
      "total_vaccine in USD: 0.6517618565402876\n",
      "total_immunization in USD_prev_2_year_million: 0.4576625648585899\n",
      "total_vaccine in USD_prev_2_year_million: 0.43808608810107175\n",
      "GDP_prev_5_year: 0.14550833682791597\n",
      "total_immunization in USD_prev_4_year_million: 0.3847226985580179\n",
      "total_population_16-20: 0.17077439184900245\n",
      "total_population_1-5: 0.12507781356388858\n",
      "GDP_prev_1_year: 0.20582531995228825\n",
      "Vaccine Delivery Cost USD Mil: 0.008315578119186151\n",
      "GDP_prev_2_year: 0.3375430322341777\n",
      "total_vaccine_delivery_cost in USD_prev_1_year_million: 0.04038494045449714\n",
      "GDP_prev_3_year: 0.3123542514891251\n",
      "total_vaccine in USD_prev_5_year_million: 0.2637576862784541\n"
     ]
    }
   ],
   "source": [
    "import ppscore as pps\n",
    "\n",
    "# Compute the PPS matrix for all pairs of columns in merged_df\n",
    "pps_matrix = pps.matrix(merged_df)\n",
    "\n",
    "# Find the columns that have a PPS score of at least 0.5 with respect to the target column\n",
    "target_column = 'Immunization USD Mil'\n",
    "high_pps_cols = set()\n",
    "for col in merged_df.columns:\n",
    "    pps_score = pps.score(merged_df, col, target_column)['ppscore']\n",
    "    if (pps_score > 0.0) & (pps_score < 0.9):\n",
    "        high_pps_cols.add(col)\n",
    "\n",
    "# Print the high-PPS columns and their corresponding PPS scores\n",
    "for col in high_pps_cols:\n",
    "    pps_score = pps.score(merged_df, col, target_column)['ppscore']\n",
    "    print(f'{col}: {pps_score}')\n",
    "    \n",
    "# Create a new DataFrame with only the high-PPS columns and the target column\n",
    "#new_df = merged_df[high_pps_cols + [target_column]]\n"
   ]
  },
  {
   "cell_type": "code",
   "execution_count": 38,
   "metadata": {},
   "outputs": [
    {
     "data": {
      "text/plain": [
       "{'Country',\n",
       " 'GDP_Million',\n",
       " 'GDP_prev_1_year',\n",
       " 'GDP_prev_2_year',\n",
       " 'GDP_prev_3_year',\n",
       " 'GDP_prev_4_year',\n",
       " 'GDP_prev_5_year',\n",
       " 'Next Year Immunization USD Mil',\n",
       " 'Next Year Vaccine USD Mil',\n",
       " 'Vaccine Delivery Cost USD Mil',\n",
       " 'Vaccine USD Mil',\n",
       " 'land_area',\n",
       " 'total_immunization in USD_prev_1_year_million',\n",
       " 'total_immunization in USD_prev_2_year_million',\n",
       " 'total_immunization in USD_prev_3_year_million',\n",
       " 'total_immunization in USD_prev_4_year_million',\n",
       " 'total_immunization in USD_prev_5_year_million',\n",
       " 'total_population',\n",
       " 'total_population_0-1',\n",
       " 'total_population_1-5',\n",
       " 'total_population_16-20',\n",
       " 'total_vaccine in USD',\n",
       " 'total_vaccine in USD_prev_1_year_million',\n",
       " 'total_vaccine in USD_prev_2_year_million',\n",
       " 'total_vaccine in USD_prev_3_year_million',\n",
       " 'total_vaccine in USD_prev_4_year_million',\n",
       " 'total_vaccine in USD_prev_5_year_million',\n",
       " 'total_vaccine_delivery_cost in USD',\n",
       " 'total_vaccine_delivery_cost in USD_prev_1_year_million'}"
      ]
     },
     "execution_count": 38,
     "metadata": {},
     "output_type": "execute_result"
    }
   ],
   "source": [
    "high_pps_cols"
   ]
  },
  {
   "cell_type": "markdown",
   "metadata": {},
   "source": [
    "##### Extrapolate the data"
   ]
  },
  {
   "cell_type": "code",
   "execution_count": 39,
   "metadata": {},
   "outputs": [],
   "source": [
    "# Specify columns to interpolate missing values\n",
    "cols_to_interpolate = ['total_vaccine in USD', 'total_immunization in USD',\n",
    "       'total_immunization in USD per surviving infant',\n",
    "       'total_vaccine in USD per surviving infant', 'BCG_COVERAGE',\n",
    "       'DTPCV1_COVERAGE', 'DTPCV3_COVERAGE', 'HEPB3_COVERAGE',\n",
    "       'HEPB_BD_COVERAGE', 'HIB3_COVERAGE', 'IPV1_COVERAGE', 'MCV1_COVERAGE',\n",
    "       'MCV2_COVERAGE', 'MCV2X2_COVERAGE', 'PCV3_COVERAGE', 'POL3_COVERAGE',\n",
    "       'RCV1_COVERAGE', 'ROTAC_COVERAGE', 'GDP_Million', 'total_population','total_population_0-1',\n",
    "       'total_population_1-5', 'total_population_6-10',\n",
    "       'total_population_11-15', 'total_population_16-20', 'land_area',\n",
    "       'total_vaccine_delivery_cost in USD', 'Vaccine USD Mil',\n",
    "       'Immunization USD Mil', 'Vaccine Delivery Cost USD Mil',\n",
    "       'total_vaccine in USD_prev_1_year_million',\n",
    "       'total_vaccine in USD_prev_1_year_pct_change',\n",
    "       'total_vaccine in USD_prev_2_year_million',\n",
    "       'total_vaccine in USD_prev_2_year_pct_change',\n",
    "       'total_vaccine in USD_prev_3_year_million',\n",
    "       'total_vaccine in USD_prev_3_year_pct_change',\n",
    "       'total_vaccine in USD_prev_4_year_million',\n",
    "       'total_vaccine in USD_prev_4_year_pct_change',\n",
    "       'total_vaccine in USD_prev_5_year_million',\n",
    "       'total_vaccine in USD_prev_5_year_pct_change',\n",
    "       'total_immunization in USD_prev_1_year_million',\n",
    "       'total_immunization in USD_prev_1_year_pct_change',\n",
    "       'total_immunization in USD_prev_2_year_million',\n",
    "       'total_immunization in USD_prev_2_year_pct_change',\n",
    "       'total_immunization in USD_prev_3_year_million',\n",
    "       'total_immunization in USD_prev_3_year_pct_change',\n",
    "       'total_immunization in USD_prev_4_year_million',\n",
    "       'total_immunization in USD_prev_4_year_pct_change',\n",
    "       'total_immunization in USD_prev_5_year_million',\n",
    "       'total_immunization in USD_prev_5_year_pct_change',\n",
    "       'total_vaccine_delivery_cost in USD_prev_1_year_million',\n",
    "       'total_vaccine_delivery_cost in USD_prev_1_year_pct_change',\n",
    "       'total_vaccine_delivery_cost in USD_prev_2_year_million',\n",
    "       'total_vaccine_delivery_cost in USD_prev_2_year_pct_change',\n",
    "       'total_vaccine_delivery_cost in USD_prev_3_year_million',\n",
    "       'total_vaccine_delivery_cost in USD_prev_3_year_pct_change',\n",
    "       'total_vaccine_delivery_cost in USD_prev_4_year_million',\n",
    "       'total_vaccine_delivery_cost in USD_prev_4_year_pct_change',\n",
    "       'total_vaccine_delivery_cost in USD_prev_5_year_million',\n",
    "       'total_vaccine_delivery_cost in USD_prev_5_year_pct_change']\n",
    "for j in cols_to_interpolate:\n",
    "    # Group the data by country and year\n",
    "    grouped = merged_df.groupby(['Country'])\n",
    "\n",
    "    # Loop through each group\n",
    "    for name, group in grouped:\n",
    "        # Create a new dataframe with the year as the index\n",
    "        ts = pd.DataFrame(group[j].values, index=group['Year'], columns=[j])\n",
    "        # Convert the column to numeric dtype\n",
    "        ts[j] = pd.to_numeric(ts[j], errors='coerce')\n",
    "        # Interpolate missing values using time series method\n",
    "        ts = ts.interpolate(method='time')\n",
    "        # Update the merged_df with the interpolated values\n",
    "        merged_df.loc[group.index,j] = ts[j].values"
   ]
  },
  {
   "cell_type": "code",
   "execution_count": 40,
   "metadata": {},
   "outputs": [
    {
     "data": {
      "application/vnd.jupyter.widget-view+json": {
       "model_id": "90e1dc9a7d694dd9b2294b82e9732fe3"
      },
      "text/plain": [
       "          Country Region              Gavi / Income status       Year  \\\n",
       "780   Afghanistan   EMRO         Gavi low income countries 2010-01-01   \n",
       "1170  Afghanistan   EMRO         Gavi low income countries 2012-01-01   \n",
       "1560  Afghanistan   EMRO         Gavi low income countries 2014-01-01   \n",
       "1950  Afghanistan   EMRO         Gavi low income countries 2016-01-01   \n",
       "2145  Afghanistan   EMRO         Gavi low income countries 2017-01-01   \n",
       "...           ...    ...                               ...        ...   \n",
       "2144     Zimbabwe   AFRO  Gavi low-middle income countries 2016-01-01   \n",
       "2534     Zimbabwe   AFRO  Gavi low-middle income countries 2018-01-01   \n",
       "2729     Zimbabwe   AFRO  Gavi low-middle income countries 2019-01-01   \n",
       "2924     Zimbabwe   AFRO  Gavi low-middle income countries 2020-01-01   \n",
       "3119     Zimbabwe   AFRO  Gavi low-middle income countries 2021-01-01   \n",
       "\n",
       "      total_vaccine in USD  total_immunization in USD  \\\n",
       "780            23204631.00               2.518116e+07   \n",
       "1170           13000000.00               2.275465e+07   \n",
       "1560           44721812.00               4.482040e+07   \n",
       "1950           33419658.00               4.494633e+07   \n",
       "2145           36948770.00               5.343179e+07   \n",
       "...                    ...                        ...   \n",
       "2144           14034676.00               2.797488e+07   \n",
       "2534           23261316.32               3.345856e+07   \n",
       "2729           15451685.00               2.605178e+07   \n",
       "2924           10839758.00               1.645529e+07   \n",
       "3119           13982284.00               2.079328e+07   \n",
       "\n",
       "      total_immunization in USD per surviving infant  \\\n",
       "780                                        22.893942   \n",
       "1170                                       20.502066   \n",
       "1560                                       40.018575   \n",
       "1950                                       39.688021   \n",
       "2145                                       46.904387   \n",
       "...                                              ...   \n",
       "2144                                       63.643495   \n",
       "2534                                       78.624651   \n",
       "2729                                       62.012683   \n",
       "2924                                       39.521222   \n",
       "3119                                       43.907515   \n",
       "\n",
       "      total_vaccine in USD per surviving infant  BCG_COVERAGE  \\\n",
       "780                                   21.096941          68.0   \n",
       "1170                                  11.713073          78.0   \n",
       "1560                                  39.930546          74.0   \n",
       "1950                                  29.509866          78.0   \n",
       "2145                                  32.434987          84.0   \n",
       "...                                         ...           ...   \n",
       "2144                                  31.929210          95.0   \n",
       "2534                                  54.662027          95.0   \n",
       "2729                                  36.780619          95.0   \n",
       "2924                                  26.034205          88.0   \n",
       "3119                                  29.525274          88.0   \n",
       "\n",
       "      DTPCV1_COVERAGE  ...  GDP_prev_1_year_pct_change  GDP_prev_2_year  \\\n",
       "780              72.0  ...                    0.286225     10249.767311   \n",
       "1170             78.0  ...                    0.110672     15633.856787   \n",
       "1560             73.0  ...                   -0.000676     20203.572960   \n",
       "1950             73.0  ...                   -0.098939     20550.582747   \n",
       "2145             75.0  ...                    0.048658     19998.156214   \n",
       "...               ...  ...                         ...              ...   \n",
       "2144             94.0  ...                    0.029332     19495.519630   \n",
       "2534             94.0  ...                    0.942353     20548.678070   \n",
       "2729             94.0  ...                   -0.360810     17584.890937   \n",
       "2924             93.0  ...                   -0.014773     34156.069918   \n",
       "3119             93.0  ...                    0.318998     21832.234926   \n",
       "\n",
       "      GDP_prev_2_year_pct_change  GDP_prev_3_year  GDP_prev_3_year_pct_change  \\\n",
       "780                     0.525289      9715.761650                    0.609123   \n",
       "1170                    0.292296     12154.835708                    0.662184   \n",
       "1560                    0.017176     18190.410821                    0.129748   \n",
       "1950                   -0.123161     20564.485419                   -0.123754   \n",
       "2145                   -0.055095     20550.582747                   -0.080496   \n",
       "...                          ...              ...                         ...   \n",
       "2144                    0.054021     19091.019990                    0.076353   \n",
       "2534                    0.662203     19963.120610                    0.710958   \n",
       "2729                    0.241534     20548.678070                    0.062464   \n",
       "2924                   -0.370253     17584.890937                    0.223192   \n",
       "3119                    0.299511     34156.069918                   -0.169365   \n",
       "\n",
       "      GDP_prev_4_year  GDP_prev_4_year_pct_change  GDP_prev_5_year  \\\n",
       "780       6971.379033                    1.242577              NaN   \n",
       "1170     10249.767311                    0.971125      9715.761650   \n",
       "1560     15633.856787                    0.314492     12154.835708   \n",
       "1950     20203.572960                   -0.108100     18190.410821   \n",
       "2145     20564.485419                   -0.081117     20203.572960   \n",
       "...               ...                         ...              ...   \n",
       "2144     17114.849880                    0.200634     14101.920310   \n",
       "2534     19495.519630                    0.751996     19091.019990   \n",
       "2729     19963.120610                    0.093628     19495.519630   \n",
       "2924     20548.678070                    0.046768     19963.120610   \n",
       "3119     17584.890937                    0.613387     20548.678070   \n",
       "\n",
       "      GDP_prev_5_year_pct_change  \\\n",
       "780                          NaN   \n",
       "1170                    1.079464   \n",
       "1560                    0.690733   \n",
       "1950                   -0.009392   \n",
       "2145                   -0.064702   \n",
       "...                          ...   \n",
       "2144                    0.457155   \n",
       "2534                    0.789117   \n",
       "2729                    0.119859   \n",
       "2924                    0.077472   \n",
       "3119                    0.380684   \n",
       "\n",
       "      current_Immunization_cost_pct_change_from_last_year  \n",
       "780                                                 NaN    \n",
       "1170                                          -9.636224    \n",
       "1560                                          96.972523    \n",
       "1950                                           0.280950    \n",
       "2145                                          18.879100    \n",
       "...                                                 ...    \n",
       "2144                                         -21.171705    \n",
       "2534                                          19.602168    \n",
       "2729                                         -22.137194    \n",
       "2924                                         -36.836195    \n",
       "3119                                          26.362271    \n",
       "\n",
       "[875 rows x 85 columns]"
      ]
     },
     "metadata": {},
     "output_type": "display_data"
    }
   ],
   "source": [
    "merged_df"
   ]
  },
  {
   "cell_type": "code",
   "execution_count": 41,
   "metadata": {},
   "outputs": [],
   "source": [
    "merged_df.to_csv('immunization_prediction_data.csv')"
   ]
  },
  {
   "cell_type": "markdown",
   "metadata": {},
   "source": [
    "### Data Selection"
   ]
  },
  {
   "cell_type": "code",
   "execution_count": 42,
   "metadata": {},
   "outputs": [],
   "source": [
    "merged_df = merged_df[merged_df['Year'] >= '2006']"
   ]
  },
  {
   "cell_type": "code",
   "execution_count": 43,
   "metadata": {
    "scrolled": true
   },
   "outputs": [],
   "source": [
    "selected_column = ['Country',\n",
    " 'GDP_Million',\n",
    " 'GDP_prev_1_year',\n",
    " 'GDP_prev_2_year',\n",
    " 'GDP_prev_3_year',\n",
    " 'land_area',\n",
    " 'total_immunization in USD_prev_1_year_million',\n",
    " 'total_immunization in USD_prev_2_year_million',\n",
    " 'total_immunization in USD_prev_3_year_million',\n",
    " 'total_population',\n",
    " 'total_population_0-1',\n",
    " 'total_population_1-5',\n",
    " 'total_population_16-20',\n",
    " 'total_vaccine in USD_prev_1_year_million',\n",
    " 'total_vaccine in USD_prev_2_year_million',\n",
    " 'total_vaccine in USD_prev_3_year_million',\n",
    " 'total_vaccine_delivery_cost in USD_prev_1_year_million',\n",
    "\n",
    "       \n",
    "       'Vaccine USD Mil',\n",
    "       'Immunization USD Mil'\n",
    "       ]\n",
    "\n",
    "\n",
    "selected_data_df = merged_df[selected_column]\n",
    "#selected_data_df['Year'] = selected_data_df['Year'].dt.year.astype(float)\n",
    "selected_data_df = selected_data_df.dropna(axis = 0)"
   ]
  },
  {
   "cell_type": "code",
   "execution_count": 44,
   "metadata": {
    "scrolled": false
   },
   "outputs": [
    {
     "data": {
      "application/vnd.jupyter.widget-view+json": {
       "model_id": "86ada97ffd82408487e09898403b7971"
      },
      "text/plain": [
       "          Country   GDP_Million  GDP_prev_1_year  GDP_prev_2_year  \\\n",
       "1170  Afghanistan  20203.572960     18190.410821     15633.856787   \n",
       "1560  Afghanistan  20550.582747     20564.485419     20203.572960   \n",
       "1950  Afghanistan  18019.558182     19998.156214     20550.582747   \n",
       "2145  Afghanistan  18896.352022     18019.558182     19998.156214   \n",
       "2340  Afghanistan  18418.848300     18896.352022     18019.558182   \n",
       "...           ...           ...              ...              ...   \n",
       "2144     Zimbabwe  20548.678070     19963.120610     19495.519630   \n",
       "2534     Zimbabwe  34156.069918     17584.890937     20548.678070   \n",
       "2729     Zimbabwe  21832.234926     34156.069918     17584.890937   \n",
       "2924     Zimbabwe  21509.698406     21832.234926     34156.069918   \n",
       "3119     Zimbabwe  28371.238666     21509.698406     21832.234926   \n",
       "\n",
       "      GDP_prev_3_year  land_area  \\\n",
       "1170     12154.835708    65223.0   \n",
       "1560     18190.410821    65223.0   \n",
       "1950     20564.485419    65223.0   \n",
       "2145     20550.582747    65223.0   \n",
       "2340     19998.156214    65223.0   \n",
       "...               ...        ...   \n",
       "2144     19091.019990    38685.0   \n",
       "2534     19963.120610    38685.0   \n",
       "2729     20548.678070    38685.0   \n",
       "2924     17584.890937    38685.0   \n",
       "3119     34156.069918    38685.0   \n",
       "\n",
       "      total_immunization in USD_prev_1_year_million  \\\n",
       "1170                                      24.859004   \n",
       "1560                                      34.712358   \n",
       "1950                                      44.883366   \n",
       "2145                                      44.946327   \n",
       "2340                                      53.431789   \n",
       "...                                             ...   \n",
       "2144                                      35.488374   \n",
       "2534                                      38.008257   \n",
       "2729                                      33.458563   \n",
       "2924                                      26.051776   \n",
       "3119                                      16.455293   \n",
       "\n",
       "      total_immunization in USD_prev_2_year_million  \\\n",
       "1170                                      25.181161   \n",
       "1560                                      22.754648   \n",
       "1950                                      44.820404   \n",
       "2145                                      44.883366   \n",
       "2340                                      44.946327   \n",
       "...                                             ...   \n",
       "2144                                      44.912774   \n",
       "2534                                      27.974880   \n",
       "2729                                      38.008257   \n",
       "2924                                      33.458563   \n",
       "3119                                      26.051776   \n",
       "\n",
       "      total_immunization in USD_prev_3_year_million  total_population  \\\n",
       "1170                                      22.311597      30466.478516   \n",
       "1560                                      24.859004      32716.210938   \n",
       "1950                                      34.712358      34636.207031   \n",
       "2145                                      44.820404      35643.417969   \n",
       "2340                                      44.883366      36686.785156   \n",
       "...                                             ...               ...   \n",
       "2144                                      25.000000      14452.704102   \n",
       "2534                                      35.488374      15052.183594   \n",
       "2729                                      27.974880      15354.607422   \n",
       "2924                                      38.008257      15669.666016   \n",
       "3119                                      33.458563      15993.524414   \n",
       "\n",
       "      total_population_0-1  total_population_1-5  total_population_16-20  \\\n",
       "1170           1135.474487           5198.313477             3406.458984   \n",
       "1560           1207.414551           5400.783691             3731.791016   \n",
       "1950           1256.663452           5700.000488             3965.908936   \n",
       "2145           1268.641479           5856.194336             4084.579102   \n",
       "2340           1290.265991           5994.655273             4205.649414   \n",
       "...                    ...                   ...                     ...   \n",
       "2144            464.629486           2261.139404             1557.808472   \n",
       "2534            466.523499           2269.031982             1673.385986   \n",
       "2729            468.843994           2265.596924             1714.402466   \n",
       "2924            470.339996           2265.618408             1745.237549   \n",
       "3119            472.443512           2274.131592             1767.578491   \n",
       "\n",
       "      total_vaccine in USD_prev_1_year_million  \\\n",
       "1170                                 18.102315   \n",
       "1560                                 13.200000   \n",
       "1950                                 29.313173   \n",
       "2145                                 33.419658   \n",
       "2340                                 36.948770   \n",
       "...                                        ...   \n",
       "2144                                 18.280823   \n",
       "2534                                  9.787568   \n",
       "2729                                 23.261316   \n",
       "2924                                 15.451685   \n",
       "3119                                 10.839758   \n",
       "\n",
       "      total_vaccine in USD_prev_2_year_million  \\\n",
       "1170                                 23.204631   \n",
       "1560                                 13.000000   \n",
       "1950                                 44.721812   \n",
       "2145                                 29.313173   \n",
       "2340                                 33.419658   \n",
       "...                                        ...   \n",
       "2144                                 15.469622   \n",
       "2534                                 14.034676   \n",
       "2729                                  9.787568   \n",
       "2924                                 23.261316   \n",
       "3119                                 15.451685   \n",
       "\n",
       "      total_vaccine in USD_prev_3_year_million  \\\n",
       "1170                                 14.933333   \n",
       "1560                                 18.102315   \n",
       "1950                                 13.200000   \n",
       "2145                                 44.721812   \n",
       "2340                                 29.313173   \n",
       "...                                        ...   \n",
       "2144                                 12.075100   \n",
       "2534                                 18.280823   \n",
       "2729                                 14.034676   \n",
       "2924                                  9.787568   \n",
       "3119                                 23.261316   \n",
       "\n",
       "      total_vaccine_delivery_cost in USD_prev_1_year_million  Vaccine USD Mil  \\\n",
       "1170                                           6.756689             13.000000   \n",
       "1560                                          21.512358             44.721812   \n",
       "1950                                          15.570193             33.419658   \n",
       "2145                                          11.526669             36.948770   \n",
       "2340                                          16.483019             35.972385   \n",
       "...                                                 ...                   ...   \n",
       "2144                                          17.207551             14.034676   \n",
       "2534                                          28.220689             23.261316   \n",
       "2729                                          10.197247             15.451685   \n",
       "2924                                          10.600091             10.839758   \n",
       "3119                                           5.615535             13.982284   \n",
       "\n",
       "      Immunization USD Mil  \n",
       "1170             22.754648  \n",
       "1560             44.820404  \n",
       "1950             44.946327  \n",
       "2145             53.431789  \n",
       "2340             57.122405  \n",
       "...                    ...  \n",
       "2144             27.974880  \n",
       "2534             33.458563  \n",
       "2729             26.051776  \n",
       "2924             16.455293  \n",
       "3119             20.793282  \n",
       "\n",
       "[586 rows x 19 columns]"
      ]
     },
     "metadata": {},
     "output_type": "display_data"
    }
   ],
   "source": [
    "selected_data_df"
   ]
  },
  {
   "cell_type": "markdown",
   "metadata": {},
   "source": [
    "### ML"
   ]
  },
  {
   "cell_type": "code",
   "execution_count": 49,
   "metadata": {},
   "outputs": [
    {
     "name": "stdout",
     "output_type": "stream",
     "text": [
      "linear regression mean squared error (Vaccine USD Mil): 2.036564661251389\n",
      "neural network mean squared error (Vaccine USD Mil): 0.6623461383734005\n",
      "Best model (Vaccine USD Mil): MLPRegressor\n",
      "Best model parameters (Vaccine USD Mil): {'activation': 'relu', 'alpha': 0.0001, 'batch_size': 'auto', 'beta_1': 0.9, 'beta_2': 0.999, 'early_stopping': False, 'epsilon': 1e-08, 'hidden_layer_sizes': (150, 150), 'learning_rate': 'constant', 'learning_rate_init': 0.01, 'max_fun': 15000, 'max_iter': 500, 'momentum': 0.9, 'n_iter_no_change': 10, 'nesterovs_momentum': True, 'power_t': 0.5, 'random_state': None, 'shuffle': True, 'solver': 'lbfgs', 'tol': 0.0001, 'validation_fraction': 0.1, 'verbose': False, 'warm_start': False}\n",
      "linear regression mean squared error (Immunization USD Mil): 1.8685765506429917\n",
      "neural network mean squared error (Immunization USD Mil): 0.4400624326478139\n",
      "Best model (Immunization USD Mil): MLPRegressor\n",
      "Best model parameters (Immunization USD Mil): {'activation': 'relu', 'alpha': 0.0001, 'batch_size': 'auto', 'beta_1': 0.9, 'beta_2': 0.999, 'early_stopping': False, 'epsilon': 1e-08, 'hidden_layer_sizes': (150, 150), 'learning_rate': 'constant', 'learning_rate_init': 0.001, 'max_fun': 15000, 'max_iter': 500, 'momentum': 0.9, 'n_iter_no_change': 10, 'nesterovs_momentum': True, 'power_t': 0.5, 'random_state': None, 'shuffle': True, 'solver': 'lbfgs', 'tol': 0.0001, 'validation_fraction': 0.1, 'verbose': False, 'warm_start': False}\n",
      "Mean absolute percentage error (Vaccine USD Mil): 82.32372182112533\n",
      "R^2 score (Vaccine USD Mil): 0.7253203854059513\n",
      "Mean absolute percentage error (Immunization USD Mil): 52.89880995543511\n",
      "R^2 score (Immunization USD Mil): 0.7635226627694948\n"
     ]
    }
   ],
   "source": [
    "# Import required libraries\n",
    "from sklearn.model_selection import train_test_split, cross_val_score, GridSearchCV\n",
    "from sklearn.metrics import mean_squared_error, r2_score\n",
    "from sklearn.preprocessing import LabelEncoder, StandardScaler, OneHotEncoder\n",
    "from sklearn.compose import ColumnTransformer\n",
    "from sklearn.pipeline import Pipeline\n",
    "from sklearn.linear_model import LinearRegression\n",
    "from sklearn.ensemble import RandomForestRegressor, GradientBoostingRegressor\n",
    "from sklearn.neural_network import MLPRegressor\n",
    "\n",
    "import pandas as pd\n",
    "import numpy as np\n",
    "\n",
    "def mean_absolute_percentage_error(y_true, y_pred):\n",
    "    return np.mean(np.abs((y_true - y_pred) / y_true)) * 100\n",
    "\n",
    "#merged_df = merged_df.dropna(axis=0)\n",
    "# Split the data into training and testing sets\n",
    "target_column = [ 'Vaccine USD Mil',\n",
    "       'Immunization USD Mil']\n",
    "X_col = [x for x in selected_column if x not in target_column]\n",
    "X = selected_data_df[X_col]\n",
    "\n",
    "y1 = selected_data_df[target_column[0]]\n",
    "y2 = selected_data_df[target_column[1]]\n",
    "#y3 = merged_df['total_vaccine_delivery_cost in USD']\n",
    "\n",
    "# Label encode categorical columns\n",
    "label_encoder = LabelEncoder()\n",
    "X['Country'] = label_encoder.fit_transform(X['Country'])\n",
    "#X['Region'] = label_encoder.fit_transform(X['Region'])\n",
    "#X['Year'] = label_encoder.fit_transform(X['Year'])\n",
    "#X['Gavi / Income status'] = label_encoder.fit_transform(X['Gavi / Income status'])\n",
    "\n",
    "# One-hot encode categorical columns (alternative to label encoding)\n",
    "# ct = ColumnTransformer([('encoder', OneHotEncoder(), [0, 1, 2])], remainder='passthrough')\n",
    "# X = ct.fit_transform(X)\n",
    "\n",
    "\n",
    "\n",
    "# Split data into training and testing sets\n",
    "X1_train, X1_test, y1_train, y1_test = train_test_split(X, y1, test_size=0.2, random_state=42)\n",
    "\n",
    "# Split data into training and testing sets\n",
    "X2_train, X2_test, y2_train, y2_test = train_test_split(X, y2, test_size=0.2, random_state=42)\n",
    "\n",
    "# Define the models and their hyperparameters\n",
    "models = [\n",
    "    {\n",
    "        'name': 'linear regression',\n",
    "        'model': LinearRegression(),\n",
    "        'params': {}\n",
    "    },\n",
    "#     {\n",
    "#         'name': 'random forest',\n",
    "#         'model': RandomForestRegressor(),\n",
    "#         'params': {\n",
    "#             'model__n_estimators': [10, 50, 100, 200],\n",
    "#             'model__max_depth': [None, 5, 10, 20]\n",
    "#         }\n",
    "#     },\n",
    "#     {\n",
    "#         'name': 'gradient boosting',\n",
    "#         'model': GradientBoostingRegressor(),\n",
    "#         'params': {\n",
    "#             'model__n_estimators': [10, 50, 100, 200],\n",
    "#             'model__max_depth': [3, 5, 10],\n",
    "#             'model__learning_rate': [0.1, 0.01, 0.001]\n",
    "#         }\n",
    "#     },\n",
    "    {\n",
    "        'name': 'neural network',\n",
    "        'model': MLPRegressor(activation='relu'),\n",
    "        'params': {\n",
    "            'model__hidden_layer_sizes': [(50,), (100,), (50, 50),(150, 150)],\n",
    "            'model__learning_rate_init': [0.1, 0.01, 0.001],\n",
    "            'model__max_iter': [500],\n",
    "            'model__solver': ['adam','lbfgs'],\n",
    "       \n",
    "        }\n",
    "    }\n",
    "]\n",
    "\n",
    "\n",
    "\n",
    "# Evaluate each model using cross-validation and select the best one for y1\n",
    "best_model_y1 = None\n",
    "best_score_y1 = None\n",
    "for model in models:\n",
    "    pipeline = Pipeline([('scaler', StandardScaler()), ('model', model['model'])])\n",
    "    clf = GridSearchCV(pipeline, model['params'], cv=5, scoring='neg_mean_absolute_percentage_error')\n",
    "    clf.fit(X1_train, y1_train)\n",
    "    score = -clf.best_score_\n",
    "    print(model['name'], f'mean absolute percentage error ({target_column[0]}):', score)\n",
    "    if best_score_y1 is None or score < best_score_y1:\n",
    "        best_score_y1 = score\n",
    "        best_model_y1 = clf.best_estimator_\n",
    "\n",
    "# Get the name and parameters of the best model for y1\n",
    "best_model_name_y1 = best_model_y1.named_steps['model'].__class__.__name__\n",
    "best_model_params_y1 = best_model_y1.named_steps['model'].get_params()\n",
    "print(f'Best model ({target_column[0]}):', best_model_name_y1)\n",
    "print(f'Best model parameters ({target_column[0]}):', best_model_params_y1)\n",
    "\n",
    "\n",
    "# Evaluate each model using cross-validation and select the best one for y2\n",
    "best_model_y2 = None\n",
    "best_score_y2 = None\n",
    "for model in models:\n",
    "    pipeline = Pipeline([('scaler', StandardScaler()), ('model', model['model'])])\n",
    "    clf = GridSearchCV(pipeline, model['params'], cv=5, scoring='neg_mean_absolute_percentage_error')\n",
    "    clf.fit(X2_train, y2_train)\n",
    "    score = -clf.best_score_\n",
    "    print(model['name'], f'mean absolute percentage error ({target_column[1]}):', score)\n",
    "    if best_score_y2 is None or score < best_score_y2:\n",
    "        best_score_y2 = score\n",
    "        best_model_y2 = clf.best_estimator_\n",
    "\n",
    "# Get the name and parameters of the best model for y2\n",
    "best_model_name_y2 = best_model_y2.named_steps['model'].__class__.__name__\n",
    "best_model_params_y2 = best_model_y2.named_steps['model'].get_params()\n",
    "print(f'Best model ({target_column[1]}):', best_model_name_y2)\n",
    "print(f'Best model parameters ({target_column[1]}):', best_model_params_y2)\n",
    "\n",
    "\n",
    "# # Evaluate each model using cross-validation and select the best one for y3\n",
    "# best_model_y3 = None\n",
    "# best_score_y3 = None\n",
    "# for model in models:\n",
    "#     pipeline = Pipeline([('scaler', StandardScaler()), ('model', model['model'])])\n",
    "#     clf = GridSearchCV(pipeline, model['params'], cv=5, scoring='neg_mean_squared_error')\n",
    "#     clf.fit(X, y3)\n",
    "#     score = -clf.best_score_\n",
    "#     print(model['name'], 'mean squared error (total_vaccine_delivery_cost in USD):', score)\n",
    "#     if best_score_y3 is None or score < best_score_y3:\n",
    "#         best_score_y3 = score\n",
    "#         best_model_y3 = clf.best_estimator_\n",
    "\n",
    "# # Get the name and parameters of the best model for y3\n",
    "# best_model_name_y3 = best_model_y3.named_steps['model'].__class__.__name__\n",
    "# best_model_params_y3 = best_model_y3.named_steps['model'].get_params()\n",
    "# print('Best model (total_vaccine_delivery_cost in USD):', best_model_name_y3)\n",
    "# print('Best model parameters (total_vaccine_delivery_cost in USD):', best_model_params_y3)\n",
    "\n",
    "\n",
    "# Train the best models on the full dataset\n",
    "best_model_y1.fit(X1_train, y1_train)\n",
    "best_model_y2.fit(X2_train, y2_train)\n",
    "#best_model_y3.fit(X, y3)\n",
    "\n",
    "# Make predictions on the testing set and evaluate performance\n",
    "y1_pred = best_model_y1.predict(X1_test)\n",
    "print(f'Mean absolute percentage error ({target_column[0]}):', mean_absolute_percentage_error(y1_test, y1_pred))\n",
    "print(f'R^2 score ({target_column[0]}):', r2_score(y1_test, y1_pred))\n",
    "\n",
    "y2_pred = best_model_y2.predict(X2_test)\n",
    "print(f'Mean absolute percentage error ({target_column[1]}):', mean_absolute_percentage_error(y2_test, y2_pred))\n",
    "print(f'R^2 score ({target_column[1]}):', r2_score(y2_test, y2_pred))\n",
    "\n",
    "\n",
    "# y2_pred = best_model_y2.predict(X2_test)\n",
    "# print(f'Mean squared error ({target_column[1]}):', mean_squared_error(y2_test, y2_pred))\n",
    "# print(f'R^2 score ({target_column[1]}):', r2_score(y2_test, y2_pred))\n",
    "\n",
    "# y3_pred = best_model_y3.predict(X)\n",
    "# print('Mean squared error (total_vaccine_delivery_cost in USD):', mean_squared_error(y3, y3_pred))\n",
    "# print('R^2 score (total_vaccine_delivery_cost in USD):', r2_score(y3, y3_pred))\n",
    "\n"
   ]
  },
  {
   "cell_type": "markdown",
   "metadata": {},
   "source": [
    "##### Test the delivery cost"
   ]
  },
  {
   "cell_type": "code",
   "execution_count": 66,
   "metadata": {},
   "outputs": [
    {
     "name": "stdout",
     "output_type": "stream",
     "text": [
      "Results for y1 (Vaccine USD Mil):\n",
      "      y1_actual  y1_prediction     y1_mape\n",
      "2709   0.598164      -1.668359  378.913331\n",
      "663   44.854592     -74.818628  266.802603\n",
      "1689  58.469041      68.893721   17.829400\n",
      "1474  29.839815      15.825783   46.964206\n",
      "1726   1.247649       1.676708   34.389375\n",
      "Results for y2 (Immunization USD Mil):\n",
      "       y2_actual  y2_prediction    y2_mape\n",
      "2709    3.228500       1.637936  49.266359\n",
      "663    72.313362      36.964826  48.882441\n",
      "1689  106.307348     115.032806   8.207765\n",
      "1474   37.136162      18.482759  50.229754\n",
      "1726    1.892629       2.710066  43.190552\n"
     ]
    }
   ],
   "source": [
    "# Train the best models on the full dataset\n",
    "best_model_y1.fit(X1_train, y1_train)\n",
    "best_model_y2.fit(X2_train, y2_train)\n",
    "\n",
    "# Make predictions on the testing set and evaluate performance\n",
    "y1_pred = best_model_y1.predict(X1_test)\n",
    "y2_pred = best_model_y2.predict(X2_test)\n",
    "\n",
    "# Create a dataframe to show the prediction, actual value, and the MAPE for y1\n",
    "y1_results = pd.DataFrame({'y1_actual': y1_test, 'y1_prediction': y1_pred})\n",
    "y1_results['y1_mape'] = y1_results.apply(lambda x: mean_absolute_percentage_error(x['y1_actual'], x['y1_prediction']), axis=1)\n",
    "print('Results for y1 (Vaccine USD Mil):')\n",
    "print(y1_results.head())\n",
    "\n",
    "# Create a dataframe to show the prediction, actual value, and the MAPE for y2\n",
    "y2_results = pd.DataFrame({'y2_actual': y2_test, 'y2_prediction': y2_pred})\n",
    "y2_results['y2_mape'] = y2_results.apply(lambda x: mean_absolute_percentage_error(x['y2_actual'], x['y2_prediction']), axis=1)\n",
    "print('Results for y2 (Immunization USD Mil):')\n",
    "print(y2_results.head())\n"
   ]
  },
  {
   "cell_type": "code",
   "execution_count": 67,
   "metadata": {
    "scrolled": true
   },
   "outputs": [
    {
     "data": {
      "application/vnd.jupyter.widget-view+json": {
       "model_id": "0ddb022335cb41e5a122fc4a573a3ed8"
      },
      "text/plain": [
       "       y2_actual  y2_prediction    y2_mape\n",
       "2709    3.228500       1.637936  49.266359\n",
       "663    72.313362      36.964826  48.882441\n",
       "1689  106.307348     115.032806   8.207765\n",
       "1474   37.136162      18.482759  50.229754\n",
       "1726    1.892629       2.710066  43.190552\n",
       "...          ...            ...        ...\n",
       "962    42.742304      45.480679   6.406711\n",
       "814    30.765821      27.748847   9.806253\n",
       "1874   23.863989      28.390441  18.967708\n",
       "1899   14.527025      22.491148  54.822810\n",
       "2059   30.895938      19.053826  38.329026\n",
       "\n",
       "[118 rows x 3 columns]"
      ]
     },
     "metadata": {},
     "output_type": "display_data"
    }
   ],
   "source": [
    "y2_results"
   ]
  },
  {
   "cell_type": "code",
   "execution_count": 62,
   "metadata": {},
   "outputs": [],
   "source": [
    "####"
   ]
  }
 ],
 "metadata": {
  "kernelspec": {
   "display_name": "Python 3 (ipykernel)",
   "language": "python",
   "name": "python3"
  },
  "language_info": {
   "codemirror_mode": {
    "name": "ipython",
    "version": 3
   },
   "file_extension": ".py",
   "mimetype": "text/x-python",
   "name": "python",
   "nbconvert_exporter": "python",
   "pygments_lexer": "ipython3",
   "version": "3.7.16"
  },
  "vscode": {
   "interpreter": {
    "hash": "0c4439b51d35f9272108bf59add1fd162c01386f5fe08b715fb4f15958d0f74e"
   }
  }
 },
 "nbformat": 4,
 "nbformat_minor": 2
}
